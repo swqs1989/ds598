{
 "cells": [
  {
   "cell_type": "code",
   "execution_count": 378,
   "metadata": {},
   "outputs": [],
   "source": [
    "import importlib\n",
    "import func\n",
    "importlib.reload(func)\n",
    "import numpy as np\n",
    "import pandas as pd\n",
    "from matplotlib import pyplot as plt\n",
    "%matplotlib inline"
   ]
  },
  {
   "cell_type": "markdown",
   "metadata": {},
   "source": [
    "## BWSC101"
   ]
  },
  {
   "cell_type": "code",
   "execution_count": 379,
   "metadata": {
    "collapsed": true
   },
   "outputs": [],
   "source": [
    "df_101191 = pd.read_excel(\"data/191_BWSC101 Release Log Form.xlsx\")\n",
    "df_101592 = pd.read_excel(\"data/592_BWSC101 Release Log Form.xlsx\")\n",
    "df_101607 = pd.read_excel(\"data/607_BWSC101 Release Log Form.xlsx\")"
   ]
  },
  {
   "cell_type": "code",
   "execution_count": 380,
   "metadata": {},
   "outputs": [
    {
     "name": "stdout",
     "output_type": "stream",
     "text": [
      "(10943, 215)\n",
      "(1535, 223)\n",
      "(7125, 250)\n"
     ]
    }
   ],
   "source": [
    "print(df_101191.shape)\n",
    "print(df_101592.shape)\n",
    "print(df_101607.shape)"
   ]
  },
  {
   "cell_type": "code",
   "execution_count": 381,
   "metadata": {
    "collapsed": true
   },
   "outputs": [],
   "source": [
    "df_101191[\"RTN\"] = df_101191.apply(func.completeRTN, axis=1)\n",
    "df_101592[\"RTN\"] = df_101592.apply(func.completeRTN, axis=1)\n",
    "df_101607[\"RTN\"] = df_101607.apply(func.completeRTN, axis=1)"
   ]
  },
  {
   "cell_type": "code",
   "execution_count": 382,
   "metadata": {},
   "outputs": [
    {
     "name": "stdout",
     "output_type": "stream",
     "text": [
      "(7125, 144)\n",
      "(1535, 144)\n",
      "(10943, 144)\n"
     ]
    }
   ],
   "source": [
    "func.preprocess(df_101607, \"101607proc.xlsx\", \"101607\")\n",
    "print(df_101607.shape)\n",
    "func.preprocess(df_101592, \"101592proc.xlsx\", \"101592\")\n",
    "print(df_101592.shape)\n",
    "func.preprocess(df_101191, \"101191proc.xlsx\", \"101191\")\n",
    "print(df_101191.shape)"
   ]
  },
  {
   "cell_type": "code",
   "execution_count": 383,
   "metadata": {
    "collapsed": true
   },
   "outputs": [],
   "source": [
    "df_101 = df_101191.append(df_101592)\n",
    "df_101 = df_101.append(df_101607)"
   ]
  },
  {
   "cell_type": "code",
   "execution_count": 384,
   "metadata": {},
   "outputs": [
    {
     "data": {
      "text/plain": [
       "(19603, 144)"
      ]
     },
     "execution_count": 384,
     "metadata": {},
     "output_type": "execute_result"
    }
   ],
   "source": [
    "df_101.shape"
   ]
  },
  {
   "cell_type": "code",
   "execution_count": 385,
   "metadata": {},
   "outputs": [],
   "source": [
    "# As asked, we should only keep the data of which A2A or A3A is checked.\n",
    "df_101 = df_101[(df_101[\"A3A\"] == 1) | (df_101[\"A2A\"] == 1)]"
   ]
  },
  {
   "cell_type": "code",
   "execution_count": 386,
   "metadata": {},
   "outputs": [
    {
     "data": {
      "text/plain": [
       "(13982, 144)"
      ]
     },
     "execution_count": 386,
     "metadata": {},
     "output_type": "execute_result"
    }
   ],
   "source": [
    "df_101.shape"
   ]
  },
  {
   "cell_type": "markdown",
   "metadata": {},
   "source": [
    "## TClass"
   ]
  },
  {
   "cell_type": "code",
   "execution_count": 387,
   "metadata": {
    "collapsed": true
   },
   "outputs": [],
   "source": [
    "tclass = pd.read_excel('data/TClass Phase Action Dates All RTNs mgf A 04-10-2018.xlsm', sheetname=\"All\")"
   ]
  },
  {
   "cell_type": "code",
   "execution_count": 388,
   "metadata": {
    "collapsed": true
   },
   "outputs": [],
   "source": [
    "df_tclass = tclass"
   ]
  },
  {
   "cell_type": "code",
   "execution_count": 389,
   "metadata": {},
   "outputs": [],
   "source": [
    "df_tclass = df_tclass.set_index(\"RTN\")"
   ]
  },
  {
   "cell_type": "code",
   "execution_count": 390,
   "metadata": {},
   "outputs": [
    {
     "data": {
      "text/plain": [
       "array(['ADQREG', 'LSPNFA', 'DEPNFA', 'DEPNDS', 'RAO', 'PENNFA', 'PENNDS',\n",
       "       'URAM', 'RAONR', 'TIERII', 'WCSPRM', 'TIERI', 'TIER1D', 'REMOPS',\n",
       "       'TCLASS', 'TMPS', 'ROSTRM', 'PSC', 'PSNC', 'DPS', 'DEPMOU',\n",
       "       'STMRET', 'INVSUB', 'DPSTRM', 'UNCLSS', 'SPECPR'], dtype=object)"
      ]
     },
     "execution_count": 390,
     "metadata": {},
     "output_type": "execute_result"
    }
   ],
   "source": [
    "df_tclass[\"Status\"].unique()"
   ]
  },
  {
   "cell_type": "code",
   "execution_count": 391,
   "metadata": {
    "collapsed": true
   },
   "outputs": [],
   "source": [
    "exclude_status = ['ADQREG', 'DEPMOU', 'DEPNDS', 'DEPNFA', 'DPS', 'DPSTRM', 'INVSUB', 'STMRET', 'URAM', 'UNCLSS']"
   ]
  },
  {
   "cell_type": "code",
   "execution_count": 392,
   "metadata": {},
   "outputs": [],
   "source": [
    "df_tclass = df_tclass[(df_tclass[\"Notification\"] >= \"2006-06-01\") & (df_tclass[\"Notification\"] <= \"2016-12-28\")]"
   ]
  },
  {
   "cell_type": "code",
   "execution_count": 393,
   "metadata": {},
   "outputs": [
    {
     "data": {
      "text/plain": [
       "(14792, 30)"
      ]
     },
     "execution_count": 393,
     "metadata": {},
     "output_type": "execute_result"
    }
   ],
   "source": [
    "df_tclass.shape"
   ]
  },
  {
   "cell_type": "code",
   "execution_count": 394,
   "metadata": {},
   "outputs": [],
   "source": [
    "df_tclass = df_tclass[~df_tclass[\"Status\"].isin(exclude_status)]"
   ]
  },
  {
   "cell_type": "code",
   "execution_count": 395,
   "metadata": {},
   "outputs": [
    {
     "data": {
      "text/plain": [
       "array(['RAO', 'TIERII', 'PSNC', 'RAONR', 'TIER1D', 'TMPS', 'REMOPS',\n",
       "       'TIERI', 'PSC', 'ROSTRM', 'SPECPR', 'TCLASS'], dtype=object)"
      ]
     },
     "execution_count": 395,
     "metadata": {},
     "output_type": "execute_result"
    }
   ],
   "source": [
    "df_tclass[\"Status\"].unique()"
   ]
  },
  {
   "cell_type": "code",
   "execution_count": 396,
   "metadata": {},
   "outputs": [
    {
     "data": {
      "text/plain": [
       "(13843, 30)"
      ]
     },
     "execution_count": 396,
     "metadata": {},
     "output_type": "execute_result"
    }
   ],
   "source": [
    "df_tclass.shape"
   ]
  },
  {
   "cell_type": "code",
   "execution_count": 397,
   "metadata": {},
   "outputs": [],
   "source": [
    "drop_index = df_tclass[(df_tclass[\"Status\"].isin([\"REMOPS\", \"ROSTRM\", \"TCLASS\", \"TIERI\", \"TIERII\"])) & df_tclass[\"Phase1Cs\"].isnull() & df_tclass[\"RaoNr\"].isnull()].index"
   ]
  },
  {
   "cell_type": "code",
   "execution_count": 398,
   "metadata": {
    "collapsed": true
   },
   "outputs": [],
   "source": [
    "df_tclass = df_tclass.drop(drop_index, axis=0)"
   ]
  },
  {
   "cell_type": "code",
   "execution_count": 399,
   "metadata": {},
   "outputs": [],
   "source": [
    "df_tclass[\"length\"] = df_tclass.apply(func.daylength, axis=1)"
   ]
  },
  {
   "cell_type": "code",
   "execution_count": 400,
   "metadata": {},
   "outputs": [],
   "source": [
    "# df_tclass[df_tclass[\"length\"] < 0].to_excel(\"less than zero.xlsx\")"
   ]
  },
  {
   "cell_type": "code",
   "execution_count": 401,
   "metadata": {},
   "outputs": [],
   "source": [
    "df_tclass = df_tclass[df_tclass[\"length\"] >= 0]"
   ]
  },
  {
   "cell_type": "code",
   "execution_count": 402,
   "metadata": {},
   "outputs": [
    {
     "data": {
      "text/plain": [
       "(13796, 31)"
      ]
     },
     "execution_count": 402,
     "metadata": {},
     "output_type": "execute_result"
    }
   ],
   "source": [
    "df_tclass.shape"
   ]
  },
  {
   "cell_type": "code",
   "execution_count": 403,
   "metadata": {
    "collapsed": true
   },
   "outputs": [],
   "source": [
    "df_tclass[\"Tier1D\"] = df_tclass.apply(func.isTier1D, axis=1)"
   ]
  },
  {
   "cell_type": "code",
   "execution_count": 404,
   "metadata": {},
   "outputs": [
    {
     "data": {
      "text/plain": [
       "Tier1D\n",
       "Non-Tier1D    11152\n",
       "Tier1D         2644\n",
       "Name: Tier1D, dtype: int64"
      ]
     },
     "execution_count": 404,
     "metadata": {},
     "output_type": "execute_result"
    }
   ],
   "source": [
    "df_tclass[\"Tier1D\"].groupby(df_tclass[\"Tier1D\"]).count()"
   ]
  },
  {
   "cell_type": "code",
   "execution_count": 405,
   "metadata": {},
   "outputs": [],
   "source": [
    "df_tier = df_101.set_index(\"RTN\").join(df_tclass.loc[:, [\"Tier1D\"]], how='inner')"
   ]
  },
  {
   "cell_type": "code",
   "execution_count": 406,
   "metadata": {},
   "outputs": [],
   "source": [
    "# df_tier.to_excel(\"data/df_tier.xlsx\")"
   ]
  },
  {
   "cell_type": "code",
   "execution_count": 407,
   "metadata": {},
   "outputs": [
    {
     "data": {
      "text/plain": [
       "(10888, 144)"
      ]
     },
     "execution_count": 407,
     "metadata": {},
     "output_type": "execute_result"
    }
   ],
   "source": [
    "df_tier.shape"
   ]
  },
  {
   "cell_type": "markdown",
   "metadata": {},
   "source": [
    "### chemicals"
   ]
  },
  {
   "cell_type": "code",
   "execution_count": 350,
   "metadata": {
    "collapsed": true
   },
   "outputs": [],
   "source": [
    "df_chemicals = pd.read_excel(\"data/Chemical_Class_Features1.xlsx\")"
   ]
  },
  {
   "cell_type": "code",
   "execution_count": 353,
   "metadata": {},
   "outputs": [],
   "source": [
    "df_chemicals = df_chemicals.set_index(\"RTN\")"
   ]
  },
  {
   "cell_type": "code",
   "execution_count": 356,
   "metadata": {},
   "outputs": [
    {
     "data": {
      "text/html": [
       "<div>\n",
       "<style>\n",
       "    .dataframe thead tr:only-child th {\n",
       "        text-align: right;\n",
       "    }\n",
       "\n",
       "    .dataframe thead th {\n",
       "        text-align: left;\n",
       "    }\n",
       "\n",
       "    .dataframe tbody tr th {\n",
       "        vertical-align: top;\n",
       "    }\n",
       "</style>\n",
       "<table border=\"1\" class=\"dataframe\">\n",
       "  <thead>\n",
       "    <tr style=\"text-align: right;\">\n",
       "      <th></th>\n",
       "      <th>CAUSTIC</th>\n",
       "      <th>CVOC</th>\n",
       "      <th>ERROR</th>\n",
       "      <th>METAL</th>\n",
       "      <th>O/HM</th>\n",
       "      <th>OTHER</th>\n",
       "      <th>PAH</th>\n",
       "      <th>PCB</th>\n",
       "      <th>PETROLEUM</th>\n",
       "      <th>UNKNOWN</th>\n",
       "      <th>VOC</th>\n",
       "    </tr>\n",
       "    <tr>\n",
       "      <th>RTN</th>\n",
       "      <th></th>\n",
       "      <th></th>\n",
       "      <th></th>\n",
       "      <th></th>\n",
       "      <th></th>\n",
       "      <th></th>\n",
       "      <th></th>\n",
       "      <th></th>\n",
       "      <th></th>\n",
       "      <th></th>\n",
       "      <th></th>\n",
       "    </tr>\n",
       "  </thead>\n",
       "  <tbody>\n",
       "    <tr>\n",
       "      <th>2-0010055</th>\n",
       "      <td>1</td>\n",
       "      <td>0</td>\n",
       "      <td>0</td>\n",
       "      <td>0</td>\n",
       "      <td>0</td>\n",
       "      <td>0</td>\n",
       "      <td>0</td>\n",
       "      <td>0</td>\n",
       "      <td>0</td>\n",
       "      <td>0</td>\n",
       "      <td>0</td>\n",
       "    </tr>\n",
       "    <tr>\n",
       "      <th>3-0010061</th>\n",
       "      <td>0</td>\n",
       "      <td>0</td>\n",
       "      <td>0</td>\n",
       "      <td>0</td>\n",
       "      <td>0</td>\n",
       "      <td>0</td>\n",
       "      <td>0</td>\n",
       "      <td>0</td>\n",
       "      <td>1</td>\n",
       "      <td>0</td>\n",
       "      <td>0</td>\n",
       "    </tr>\n",
       "    <tr>\n",
       "      <th>3-0010034</th>\n",
       "      <td>0</td>\n",
       "      <td>0</td>\n",
       "      <td>0</td>\n",
       "      <td>0</td>\n",
       "      <td>0</td>\n",
       "      <td>0</td>\n",
       "      <td>0</td>\n",
       "      <td>0</td>\n",
       "      <td>1</td>\n",
       "      <td>0</td>\n",
       "      <td>0</td>\n",
       "    </tr>\n",
       "    <tr>\n",
       "      <th>4-3010035</th>\n",
       "      <td>0</td>\n",
       "      <td>0</td>\n",
       "      <td>0</td>\n",
       "      <td>0</td>\n",
       "      <td>0</td>\n",
       "      <td>0</td>\n",
       "      <td>0</td>\n",
       "      <td>0</td>\n",
       "      <td>1</td>\n",
       "      <td>0</td>\n",
       "      <td>0</td>\n",
       "    </tr>\n",
       "    <tr>\n",
       "      <th>3-0010037</th>\n",
       "      <td>0</td>\n",
       "      <td>0</td>\n",
       "      <td>0</td>\n",
       "      <td>0</td>\n",
       "      <td>0</td>\n",
       "      <td>0</td>\n",
       "      <td>0</td>\n",
       "      <td>0</td>\n",
       "      <td>1</td>\n",
       "      <td>0</td>\n",
       "      <td>0</td>\n",
       "    </tr>\n",
       "  </tbody>\n",
       "</table>\n",
       "</div>"
      ],
      "text/plain": [
       "           CAUSTIC  CVOC  ERROR  METAL  O/HM  OTHER  PAH  PCB  PETROLEUM  \\\n",
       "RTN                                                                        \n",
       "2-0010055        1     0      0      0     0      0    0    0          0   \n",
       "3-0010061        0     0      0      0     0      0    0    0          1   \n",
       "3-0010034        0     0      0      0     0      0    0    0          1   \n",
       "4-3010035        0     0      0      0     0      0    0    0          1   \n",
       "3-0010037        0     0      0      0     0      0    0    0          1   \n",
       "\n",
       "           UNKNOWN  VOC  \n",
       "RTN                      \n",
       "2-0010055        0    0  \n",
       "3-0010061        0    0  \n",
       "3-0010034        0    0  \n",
       "4-3010035        0    0  \n",
       "3-0010037        0    0  "
      ]
     },
     "execution_count": 356,
     "metadata": {},
     "output_type": "execute_result"
    }
   ],
   "source": [
    "df_chemicals.head()"
   ]
  },
  {
   "cell_type": "code",
   "execution_count": 362,
   "metadata": {
    "collapsed": true
   },
   "outputs": [],
   "source": [
    "list_chemicals = df_chemicals.columns.tolist()"
   ]
  },
  {
   "cell_type": "code",
   "execution_count": 364,
   "metadata": {},
   "outputs": [],
   "source": [
    "dict_chemicals = {}\n",
    "for che in list_chemicals:\n",
    "    dict_chemicals[che] = 0.0"
   ]
  },
  {
   "cell_type": "code",
   "execution_count": 369,
   "metadata": {},
   "outputs": [],
   "source": [
    "df_tierc = df_tier.join(df_chemicals, how='left')\n",
    "df_tierc = df_tierc.fillna(dict_chemicals)"
   ]
  },
  {
   "cell_type": "code",
   "execution_count": 372,
   "metadata": {},
   "outputs": [],
   "source": [
    "df_tierc.to_excel(\"data/df_tierc.xlsx\")"
   ]
  },
  {
   "cell_type": "markdown",
   "metadata": {},
   "source": [
    "## IRA"
   ]
  },
  {
   "cell_type": "code",
   "execution_count": 304,
   "metadata": {
    "collapsed": true
   },
   "outputs": [],
   "source": [
    "df_ira = pd.read_csv(\"data/RTN_IRA.csv\")\n",
    "df_ira.drop(\"Unnamed: 0\", axis=1, inplace=True)"
   ]
  },
  {
   "cell_type": "code",
   "execution_count": 306,
   "metadata": {},
   "outputs": [],
   "source": [
    "df_ira = df_101.set_index(\"RTN\").join(df_ira.set_index(\"rtn\"), how='inner')"
   ]
  },
  {
   "cell_type": "code",
   "execution_count": 311,
   "metadata": {},
   "outputs": [
    {
     "data": {
      "text/plain": [
       "IRA\n",
       "IRA_Not_Present    6929\n",
       "IRA_Present        3967\n",
       "Name: IRA, dtype: int64"
      ]
     },
     "execution_count": 311,
     "metadata": {},
     "output_type": "execute_result"
    }
   ],
   "source": [
    "df_ira[\"IRA\"].groupby(df_ira[\"IRA\"]).count()"
   ]
  },
  {
   "cell_type": "code",
   "execution_count": 335,
   "metadata": {},
   "outputs": [],
   "source": [
    "df_ira.to_excel(\"data/df_ira.xlsx\")"
   ]
  },
  {
   "cell_type": "markdown",
   "metadata": {},
   "source": [
    "## Including GIS"
   ]
  },
  {
   "cell_type": "code",
   "execution_count": 336,
   "metadata": {
    "collapsed": true
   },
   "outputs": [],
   "source": [
    "CENSUS_2010_B = pd.read_excel(\"data/Intersect_Release_CENSUS_2010_Blocks.xls\")\n",
    "T_group_quarters_pop                = pd.read_excel(\"data/GIS/TRACT/group_quarters_pop.xlsx\")\n",
    "T_households_by_age_family_children = pd.read_excel(\"data/GIS/TRACT/households_by_age_family_children.xlsx\")\n",
    "T_households_size_by_family = pd.read_excel(\"data/GIS/TRACT/households_size_by_family.xlsx\")\n",
    "T_housing_owner_rental_demographics = pd.read_excel(\"data/GIS/TRACT/housing_owner_rental_demographics.xlsx\")\n",
    "T_housing_residency_characteristics = pd.read_excel(\"data/GIS/TRACT/housing_residency_characteristics.xlsx\")\n",
    "T_pop_by_age_gender = pd.read_excel(\"data/GIS/TRACT/pop_by_age_gender.xlsx\")\n",
    "T_pop_by_race = pd.read_excel(\"data/GIS/TRACT/pop_by_race.xlsx\")"
   ]
  },
  {
   "cell_type": "code",
   "execution_count": 337,
   "metadata": {
    "collapsed": true
   },
   "outputs": [],
   "source": [
    "CENSUS_2010_B = CENSUS_2010_B.loc[:, [\"rtn\", \"GEOID10\"]]\n",
    "gis_block = T_group_quarters_pop.join(T_households_by_age_family_children.set_index(\"LOGRECNO\"), how='inner', on='LOGRECNO', rsuffix='_')\n",
    "gis_block = gis_block.join(T_households_size_by_family.set_index(\"LOGRECNO\"), how='inner', on='LOGRECNO', rsuffix='_')\n",
    "gis_block = gis_block.join(T_housing_owner_rental_demographics.set_index(\"LOGRECNO\"), how='inner', on='LOGRECNO', rsuffix='_')\n",
    "gis_block = gis_block.join(T_housing_residency_characteristics.set_index(\"LOGRECNO\"), how='inner', on='LOGRECNO', rsuffix='_')\n",
    "gis_block = gis_block.join(T_pop_by_age_gender.set_index(\"LOGRECNO\"), how='inner', on='LOGRECNO', rsuffix='_')\n",
    "gis_block = gis_block.join(T_pop_by_race.set_index(\"LOGRECNO\"), how='inner', on='LOGRECNO', rsuffix='_')"
   ]
  },
  {
   "cell_type": "code",
   "execution_count": 338,
   "metadata": {
    "collapsed": true
   },
   "outputs": [],
   "source": [
    "CENSUS_2010_B['GEOID10'] = CENSUS_2010_B['GEOID10'].apply(lambda x : str(x)[:11])\n",
    "gis_block[\"GEOID10\"] = gis_block[\"GEOID10\"].astype(str)\n",
    "gis_block = CENSUS_2010_B.join(gis_block.set_index(\"GEOID10\"), how='inner', on=\"GEOID10\", rsuffix='_')\n",
    "gis_block = gis_block.set_index(\"rtn\")\n",
    "features = gis_block.columns.tolist()\n",
    "features = list(filter(lambda a: a != 'GEOID10_', features))\n",
    "features = list(filter(lambda a: a != 'GEOID10', features))\n",
    "features = list(filter(lambda a: a != 'LOGRECNO', features))\n",
    "gis_block = gis_block.loc[:, features]"
   ]
  },
  {
   "cell_type": "code",
   "execution_count": 340,
   "metadata": {},
   "outputs": [
    {
     "data": {
      "text/html": [
       "<div>\n",
       "<style>\n",
       "    .dataframe thead tr:only-child th {\n",
       "        text-align: right;\n",
       "    }\n",
       "\n",
       "    .dataframe thead th {\n",
       "        text-align: left;\n",
       "    }\n",
       "\n",
       "    .dataframe tbody tr th {\n",
       "        vertical-align: top;\n",
       "    }\n",
       "</style>\n",
       "<table border=\"1\" class=\"dataframe\">\n",
       "  <thead>\n",
       "    <tr style=\"text-align: right;\">\n",
       "      <th></th>\n",
       "      <th>GQ_POP</th>\n",
       "      <th>GQ_I_POP</th>\n",
       "      <th>GQ_I_CRRCT</th>\n",
       "      <th>GQ_I_JUVNL</th>\n",
       "      <th>GQ_I_NRSNG</th>\n",
       "      <th>GQ_I_OTHR</th>\n",
       "      <th>GQ_NI_POP</th>\n",
       "      <th>GQ_NI_UNIV</th>\n",
       "      <th>GQ_NI_MIL</th>\n",
       "      <th>GQ_NI_OTHR</th>\n",
       "      <th>...</th>\n",
       "      <th>NH_OTHER</th>\n",
       "      <th>NH_MULTI</th>\n",
       "      <th>HISP</th>\n",
       "      <th>H_WHITE</th>\n",
       "      <th>H_BLACK</th>\n",
       "      <th>H_NATV</th>\n",
       "      <th>H_ASN</th>\n",
       "      <th>H_ISLND</th>\n",
       "      <th>H_OTHER</th>\n",
       "      <th>H_MULTI</th>\n",
       "    </tr>\n",
       "    <tr>\n",
       "      <th>rtn</th>\n",
       "      <th></th>\n",
       "      <th></th>\n",
       "      <th></th>\n",
       "      <th></th>\n",
       "      <th></th>\n",
       "      <th></th>\n",
       "      <th></th>\n",
       "      <th></th>\n",
       "      <th></th>\n",
       "      <th></th>\n",
       "      <th></th>\n",
       "      <th></th>\n",
       "      <th></th>\n",
       "      <th></th>\n",
       "      <th></th>\n",
       "      <th></th>\n",
       "      <th></th>\n",
       "      <th></th>\n",
       "      <th></th>\n",
       "      <th></th>\n",
       "      <th></th>\n",
       "    </tr>\n",
       "  </thead>\n",
       "  <tbody>\n",
       "    <tr>\n",
       "      <th>4-0022830</th>\n",
       "      <td>4</td>\n",
       "      <td>0</td>\n",
       "      <td>0</td>\n",
       "      <td>0</td>\n",
       "      <td>0</td>\n",
       "      <td>0</td>\n",
       "      <td>4</td>\n",
       "      <td>0</td>\n",
       "      <td>0</td>\n",
       "      <td>4</td>\n",
       "      <td>...</td>\n",
       "      <td>13</td>\n",
       "      <td>36</td>\n",
       "      <td>302</td>\n",
       "      <td>253</td>\n",
       "      <td>6</td>\n",
       "      <td>0</td>\n",
       "      <td>0</td>\n",
       "      <td>0</td>\n",
       "      <td>35</td>\n",
       "      <td>8</td>\n",
       "    </tr>\n",
       "    <tr>\n",
       "      <th>4-0025038</th>\n",
       "      <td>4</td>\n",
       "      <td>0</td>\n",
       "      <td>0</td>\n",
       "      <td>0</td>\n",
       "      <td>0</td>\n",
       "      <td>0</td>\n",
       "      <td>4</td>\n",
       "      <td>0</td>\n",
       "      <td>0</td>\n",
       "      <td>4</td>\n",
       "      <td>...</td>\n",
       "      <td>13</td>\n",
       "      <td>36</td>\n",
       "      <td>302</td>\n",
       "      <td>253</td>\n",
       "      <td>6</td>\n",
       "      <td>0</td>\n",
       "      <td>0</td>\n",
       "      <td>0</td>\n",
       "      <td>35</td>\n",
       "      <td>8</td>\n",
       "    </tr>\n",
       "    <tr>\n",
       "      <th>4-0021874</th>\n",
       "      <td>4</td>\n",
       "      <td>0</td>\n",
       "      <td>0</td>\n",
       "      <td>0</td>\n",
       "      <td>0</td>\n",
       "      <td>0</td>\n",
       "      <td>4</td>\n",
       "      <td>0</td>\n",
       "      <td>0</td>\n",
       "      <td>4</td>\n",
       "      <td>...</td>\n",
       "      <td>13</td>\n",
       "      <td>36</td>\n",
       "      <td>302</td>\n",
       "      <td>253</td>\n",
       "      <td>6</td>\n",
       "      <td>0</td>\n",
       "      <td>0</td>\n",
       "      <td>0</td>\n",
       "      <td>35</td>\n",
       "      <td>8</td>\n",
       "    </tr>\n",
       "    <tr>\n",
       "      <th>4-0025255</th>\n",
       "      <td>4</td>\n",
       "      <td>0</td>\n",
       "      <td>0</td>\n",
       "      <td>0</td>\n",
       "      <td>0</td>\n",
       "      <td>0</td>\n",
       "      <td>4</td>\n",
       "      <td>0</td>\n",
       "      <td>0</td>\n",
       "      <td>4</td>\n",
       "      <td>...</td>\n",
       "      <td>13</td>\n",
       "      <td>36</td>\n",
       "      <td>302</td>\n",
       "      <td>253</td>\n",
       "      <td>6</td>\n",
       "      <td>0</td>\n",
       "      <td>0</td>\n",
       "      <td>0</td>\n",
       "      <td>35</td>\n",
       "      <td>8</td>\n",
       "    </tr>\n",
       "    <tr>\n",
       "      <th>4-0022428</th>\n",
       "      <td>6</td>\n",
       "      <td>0</td>\n",
       "      <td>0</td>\n",
       "      <td>0</td>\n",
       "      <td>0</td>\n",
       "      <td>0</td>\n",
       "      <td>6</td>\n",
       "      <td>0</td>\n",
       "      <td>0</td>\n",
       "      <td>6</td>\n",
       "      <td>...</td>\n",
       "      <td>55</td>\n",
       "      <td>98</td>\n",
       "      <td>602</td>\n",
       "      <td>432</td>\n",
       "      <td>17</td>\n",
       "      <td>0</td>\n",
       "      <td>0</td>\n",
       "      <td>0</td>\n",
       "      <td>136</td>\n",
       "      <td>17</td>\n",
       "    </tr>\n",
       "  </tbody>\n",
       "</table>\n",
       "<p>5 rows × 242 columns</p>\n",
       "</div>"
      ],
      "text/plain": [
       "           GQ_POP  GQ_I_POP  GQ_I_CRRCT  GQ_I_JUVNL  GQ_I_NRSNG  GQ_I_OTHR  \\\n",
       "rtn                                                                          \n",
       "4-0022830       4         0           0           0           0          0   \n",
       "4-0025038       4         0           0           0           0          0   \n",
       "4-0021874       4         0           0           0           0          0   \n",
       "4-0025255       4         0           0           0           0          0   \n",
       "4-0022428       6         0           0           0           0          0   \n",
       "\n",
       "           GQ_NI_POP  GQ_NI_UNIV  GQ_NI_MIL  GQ_NI_OTHR   ...     NH_OTHER  \\\n",
       "rtn                                                       ...                \n",
       "4-0022830          4           0          0           4   ...           13   \n",
       "4-0025038          4           0          0           4   ...           13   \n",
       "4-0021874          4           0          0           4   ...           13   \n",
       "4-0025255          4           0          0           4   ...           13   \n",
       "4-0022428          6           0          0           6   ...           55   \n",
       "\n",
       "           NH_MULTI  HISP  H_WHITE  H_BLACK  H_NATV  H_ASN  H_ISLND  H_OTHER  \\\n",
       "rtn                                                                            \n",
       "4-0022830        36   302      253        6       0      0        0       35   \n",
       "4-0025038        36   302      253        6       0      0        0       35   \n",
       "4-0021874        36   302      253        6       0      0        0       35   \n",
       "4-0025255        36   302      253        6       0      0        0       35   \n",
       "4-0022428        98   602      432       17       0      0        0      136   \n",
       "\n",
       "           H_MULTI  \n",
       "rtn                 \n",
       "4-0022830        8  \n",
       "4-0025038        8  \n",
       "4-0021874        8  \n",
       "4-0025255        8  \n",
       "4-0022428       17  \n",
       "\n",
       "[5 rows x 242 columns]"
      ]
     },
     "execution_count": 340,
     "metadata": {},
     "output_type": "execute_result"
    }
   ],
   "source": [
    "gis_block.head()"
   ]
  },
  {
   "cell_type": "code",
   "execution_count": 341,
   "metadata": {
    "collapsed": true
   },
   "outputs": [],
   "source": [
    "df_tier_gis = df_tier.join(gis_block, how='inner')"
   ]
  },
  {
   "cell_type": "code",
   "execution_count": 343,
   "metadata": {},
   "outputs": [
    {
     "data": {
      "text/plain": [
       "(10888, 144)"
      ]
     },
     "execution_count": 343,
     "metadata": {},
     "output_type": "execute_result"
    }
   ],
   "source": [
    "df_tier.shape"
   ]
  },
  {
   "cell_type": "code",
   "execution_count": 345,
   "metadata": {},
   "outputs": [],
   "source": [
    "df_tier_gis.to_excel(\"df_tier_gis.xlsx\")"
   ]
  },
  {
   "cell_type": "code",
   "execution_count": 374,
   "metadata": {},
   "outputs": [
    {
     "data": {
      "text/plain": [
       "(9591, 386)"
      ]
     },
     "execution_count": 374,
     "metadata": {},
     "output_type": "execute_result"
    }
   ],
   "source": [
    "df_tier_gis.shape"
   ]
  },
  {
   "cell_type": "code",
   "execution_count": 375,
   "metadata": {
    "collapsed": true
   },
   "outputs": [],
   "source": [
    "df_tier_gisc = df_tier_gis.join(df_chemicals, how='left')\n",
    "df_tier_gisc = df_tier_gisc.fillna(dict_chemicals)"
   ]
  },
  {
   "cell_type": "code",
   "execution_count": 376,
   "metadata": {},
   "outputs": [
    {
     "data": {
      "text/plain": [
       "(9591, 397)"
      ]
     },
     "execution_count": 376,
     "metadata": {},
     "output_type": "execute_result"
    }
   ],
   "source": [
    "df_tier_gisc.shape"
   ]
  },
  {
   "cell_type": "code",
   "execution_count": 377,
   "metadata": {
    "collapsed": true
   },
   "outputs": [],
   "source": [
    "df_tier_gisc.to_excel(\"data/df_tier_gisc.xlsx\")"
   ]
  },
  {
   "cell_type": "code",
   "execution_count": 346,
   "metadata": {
    "collapsed": true
   },
   "outputs": [],
   "source": [
    "df_ira_gis = df_ira.join(gis_block, how='inner')"
   ]
  },
  {
   "cell_type": "code",
   "execution_count": 347,
   "metadata": {},
   "outputs": [
    {
     "data": {
      "text/plain": [
       "(10898, 386)"
      ]
     },
     "execution_count": 347,
     "metadata": {},
     "output_type": "execute_result"
    }
   ],
   "source": [
    "df_ira_gis.shape"
   ]
  },
  {
   "cell_type": "code",
   "execution_count": 348,
   "metadata": {
    "collapsed": true
   },
   "outputs": [],
   "source": [
    "df_ira_gis.to_excel(\"df_ira_gis.xlsx\")"
   ]
  },
  {
   "cell_type": "code",
   "execution_count": null,
   "metadata": {
    "collapsed": true
   },
   "outputs": [],
   "source": []
  }
 ],
 "metadata": {
  "kernelspec": {
   "display_name": "Python 3",
   "language": "python",
   "name": "python3"
  },
  "language_info": {
   "codemirror_mode": {
    "name": "ipython",
    "version": 3
   },
   "file_extension": ".py",
   "mimetype": "text/x-python",
   "name": "python",
   "nbconvert_exporter": "python",
   "pygments_lexer": "ipython3",
   "version": "3.6.4"
  }
 },
 "nbformat": 4,
 "nbformat_minor": 2
}
