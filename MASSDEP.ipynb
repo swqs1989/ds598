{
 "cells": [
  {
   "cell_type": "markdown",
   "metadata": {},
   "source": [
    "# 1. Data Preprocessing"
   ]
  },
  {
   "cell_type": "code",
   "execution_count": 263,
   "metadata": {
    "collapsed": true
   },
   "outputs": [],
   "source": [
    "import importlib\n",
    "import func\n",
    "importlib.reload(func)\n",
    "import numpy as np\n",
    "import pandas as pd\n",
    "from matplotlib import pyplot as plt\n",
    "from sklearn.feature_selection import VarianceThreshold\n",
    "pd.options.display.max_rows = 50\n",
    "%matplotlib inline"
   ]
  },
  {
   "cell_type": "code",
   "execution_count": 2,
   "metadata": {
    "collapsed": true
   },
   "outputs": [],
   "source": [
    "df_101191 = pd.read_excel(\"data/191_BWSC101 Release Log Form.xlsx\")\n",
    "df_101592 = pd.read_excel(\"data/592_BWSC101 Release Log Form.xlsx\")\n",
    "df_101607 = pd.read_excel(\"data/607_BWSC101 Release Log Form.xlsx\")\n",
    "df_chemical = pd.read_excel(\"data/Chemical.xlsx\")"
   ]
  },
  {
   "cell_type": "code",
   "execution_count": 3,
   "metadata": {},
   "outputs": [
    {
     "name": "stdout",
     "output_type": "stream",
     "text": [
      "(10943, 215)\n",
      "(1535, 223)\n",
      "(7125, 250)\n",
      "(111892, 4)\n"
     ]
    }
   ],
   "source": [
    "print(df_101191.shape)\n",
    "print(df_101592.shape)\n",
    "print(df_101607.shape)\n",
    "print(df_chemical.shape)"
   ]
  },
  {
   "cell_type": "code",
   "execution_count": 342,
   "metadata": {
    "collapsed": true
   },
   "outputs": [],
   "source": [
    "CENSUS_2010_BG = pd.read_excel(\"data/Intersect_Release_CENSUS_2010_Block_Groups.xls\")\n",
    "CENSUS_2010_B = pd.read_excel(\"data/Intersect_Release_CENSUS_2010_Blocks.xls\")"
   ]
  },
  {
   "cell_type": "code",
   "execution_count": 500,
   "metadata": {
    "collapsed": true
   },
   "outputs": [],
   "source": [
    "B_group_quarters_pop                = pd.read_excel(\"data/GIS/BLKGRP/group_quarters_pop.xlsx\")\n",
    "B_households_by_age_family_children = pd.read_excel(\"data/GIS/BLKGRP/households_by_age_family_children.xlsx\")\n",
    "B_households_size_by_family = pd.read_excel(\"data/GIS/BLKGRP/households_size_by_family.xlsx\")\n",
    "B_housing_owner_rental_demographics = pd.read_excel(\"data/GIS/BLKGRP/housing_owner_rental_demographics.xlsx\")\n",
    "B_housing_residency_characteristics = pd.read_excel(\"data/GIS/BLKGRP/housing_residency_characteristics.xlsx\")\n",
    "B_pop_by_age_gender = pd.read_excel(\"data/GIS/BLKGRP/pop_by_age_gender.xlsx\")\n",
    "B_pop_by_race = pd.read_excel(\"data/GIS/BLKGRP/pop_by_race.xlsx\")"
   ]
  },
  {
   "cell_type": "code",
   "execution_count": 585,
   "metadata": {},
   "outputs": [],
   "source": [
    "df_101_tier.to_excel(\"df_101_tier.xlsx\")"
   ]
  },
  {
   "cell_type": "markdown",
   "metadata": {},
   "source": [
    "## 1.1 Process BWSC101\n",
    "* There are three files of BWSC101"
   ]
  },
  {
   "cell_type": "code",
   "execution_count": 4,
   "metadata": {
    "collapsed": true
   },
   "outputs": [],
   "source": [
    "df_101191[\"RTN\"] = df_101191.apply(func.completeRTN, axis=1)\n",
    "df_101592[\"RTN\"] = df_101592.apply(func.completeRTN, axis=1)\n",
    "df_101607[\"RTN\"] = df_101607.apply(func.completeRTN, axis=1)"
   ]
  },
  {
   "cell_type": "code",
   "execution_count": 5,
   "metadata": {},
   "outputs": [
    {
     "name": "stdout",
     "output_type": "stream",
     "text": [
      "(7125, 144)\n",
      "(1535, 144)\n",
      "(10943, 144)\n"
     ]
    }
   ],
   "source": [
    "func.preprocess(df_101607, \"101607proc.xlsx\", \"101607\")\n",
    "print(df_101607.shape)\n",
    "func.preprocess(df_101592, \"101592proc.xlsx\", \"101592\")\n",
    "print(df_101592.shape)\n",
    "func.preprocess(df_101191, \"101191proc.xlsx\", \"101191\")\n",
    "print(df_101191.shape)"
   ]
  },
  {
   "cell_type": "code",
   "execution_count": 6,
   "metadata": {
    "collapsed": true
   },
   "outputs": [],
   "source": [
    "df_101 = df_101191.append(df_101592)\n",
    "df_101 = df_101.append(df_101607)"
   ]
  },
  {
   "cell_type": "code",
   "execution_count": 7,
   "metadata": {},
   "outputs": [
    {
     "data": {
      "text/plain": [
       "(19603, 144)"
      ]
     },
     "execution_count": 7,
     "metadata": {},
     "output_type": "execute_result"
    }
   ],
   "source": [
    "df_101.shape"
   ]
  },
  {
   "cell_type": "code",
   "execution_count": 8,
   "metadata": {},
   "outputs": [
    {
     "data": {
      "text/plain": [
       "18958"
      ]
     },
     "execution_count": 8,
     "metadata": {},
     "output_type": "execute_result"
    }
   ],
   "source": [
    "len(df_101['RTN'].unique())"
   ]
  },
  {
   "cell_type": "code",
   "execution_count": 9,
   "metadata": {
    "collapsed": true
   },
   "outputs": [],
   "source": [
    "func.prepmissing(df_101191) # it is not processing\n",
    "func.prepmissing(df_101592) # it is not processing\n",
    "func.prepmissing(df_101607) # it is not processing"
   ]
  },
  {
   "cell_type": "markdown",
   "metadata": {},
   "source": [
    "## 1.2 Process Tier 1D"
   ]
  },
  {
   "cell_type": "code",
   "execution_count": 304,
   "metadata": {
    "collapsed": true
   },
   "outputs": [],
   "source": [
    "df_tclass = pd.read_excel('data/TClass Phase Action Dates All RTNs 2-12-2018.xlsx', sheetname=\"All\")"
   ]
  },
  {
   "cell_type": "code",
   "execution_count": 308,
   "metadata": {},
   "outputs": [],
   "source": [
    "df_tclass.drop_duplicates(\"RTN\", inplace=True)"
   ]
  },
  {
   "cell_type": "code",
   "execution_count": 309,
   "metadata": {},
   "outputs": [
    {
     "data": {
      "text/plain": [
       "(49852, 30)"
      ]
     },
     "execution_count": 309,
     "metadata": {},
     "output_type": "execute_result"
    }
   ],
   "source": [
    "df_tclass.shape"
   ]
  },
  {
   "cell_type": "code",
   "execution_count": 310,
   "metadata": {
    "collapsed": true
   },
   "outputs": [],
   "source": [
    "df_tclass[\"Tier1D\"] = df_tclass.apply(func.isTier1D, axis=1)"
   ]
  },
  {
   "cell_type": "code",
   "execution_count": 311,
   "metadata": {},
   "outputs": [
    {
     "data": {
      "text/plain": [
       "Tier1D\n",
       "False    36627\n",
       "True     13225\n",
       "Name: RTN, dtype: int64"
      ]
     },
     "execution_count": 311,
     "metadata": {},
     "output_type": "execute_result"
    }
   ],
   "source": [
    "df_tclass['RTN'].groupby(df_tclass[\"Tier1D\"]).count()"
   ]
  },
  {
   "cell_type": "code",
   "execution_count": 312,
   "metadata": {},
   "outputs": [
    {
     "data": {
      "text/plain": [
       "49852"
      ]
     },
     "execution_count": 312,
     "metadata": {},
     "output_type": "execute_result"
    }
   ],
   "source": [
    "len(df_tclass['RTN'].unique())"
   ]
  },
  {
   "cell_type": "code",
   "execution_count": 313,
   "metadata": {},
   "outputs": [
    {
     "data": {
      "text/plain": [
       "49852"
      ]
     },
     "execution_count": 313,
     "metadata": {},
     "output_type": "execute_result"
    }
   ],
   "source": [
    "len(df_tclass['RTN'])"
   ]
  },
  {
   "cell_type": "code",
   "execution_count": 314,
   "metadata": {},
   "outputs": [
    {
     "data": {
      "text/html": [
       "<div>\n",
       "<style>\n",
       "    .dataframe thead tr:only-child th {\n",
       "        text-align: right;\n",
       "    }\n",
       "\n",
       "    .dataframe thead th {\n",
       "        text-align: left;\n",
       "    }\n",
       "\n",
       "    .dataframe tbody tr th {\n",
       "        vertical-align: top;\n",
       "    }\n",
       "</style>\n",
       "<table border=\"1\" class=\"dataframe\">\n",
       "  <thead>\n",
       "    <tr style=\"text-align: right;\">\n",
       "      <th></th>\n",
       "      <th>RTN</th>\n",
       "      <th>Notification</th>\n",
       "      <th>Phase1Cs</th>\n",
       "      <th>End Date</th>\n",
       "      <th>Tier1D</th>\n",
       "    </tr>\n",
       "  </thead>\n",
       "  <tbody>\n",
       "    <tr>\n",
       "      <th>0</th>\n",
       "      <td>1-0000001</td>\n",
       "      <td>2002-02-02</td>\n",
       "      <td>NaT</td>\n",
       "      <td>1995-10-11</td>\n",
       "      <td>False</td>\n",
       "    </tr>\n",
       "    <tr>\n",
       "      <th>1</th>\n",
       "      <td>1-0000003</td>\n",
       "      <td>1987-01-15</td>\n",
       "      <td>NaT</td>\n",
       "      <td>1996-08-08</td>\n",
       "      <td>True</td>\n",
       "    </tr>\n",
       "    <tr>\n",
       "      <th>2</th>\n",
       "      <td>1-0000004</td>\n",
       "      <td>1986-11-17</td>\n",
       "      <td>NaT</td>\n",
       "      <td>1986-12-31</td>\n",
       "      <td>False</td>\n",
       "    </tr>\n",
       "    <tr>\n",
       "      <th>3</th>\n",
       "      <td>1-0000005</td>\n",
       "      <td>1987-01-15</td>\n",
       "      <td>NaT</td>\n",
       "      <td>1993-07-23</td>\n",
       "      <td>True</td>\n",
       "    </tr>\n",
       "    <tr>\n",
       "      <th>4</th>\n",
       "      <td>1-0000006</td>\n",
       "      <td>1987-04-15</td>\n",
       "      <td>1998-07-31</td>\n",
       "      <td>2005-09-27</td>\n",
       "      <td>True</td>\n",
       "    </tr>\n",
       "  </tbody>\n",
       "</table>\n",
       "</div>"
      ],
      "text/plain": [
       "         RTN Notification   Phase1Cs   End Date  Tier1D\n",
       "0  1-0000001   2002-02-02        NaT 1995-10-11   False\n",
       "1  1-0000003   1987-01-15        NaT 1996-08-08    True\n",
       "2  1-0000004   1986-11-17        NaT 1986-12-31   False\n",
       "3  1-0000005   1987-01-15        NaT 1993-07-23    True\n",
       "4  1-0000006   1987-04-15 1998-07-31 2005-09-27    True"
      ]
     },
     "execution_count": 314,
     "metadata": {},
     "output_type": "execute_result"
    }
   ],
   "source": [
    "df_tclass_tier1D = df_tclass.loc[:,['RTN',\"Notification\",\"Phase1Cs\",\"End Date\",\"Tier1D\"]]\n",
    "df_tclass_tier1D.head()"
   ]
  },
  {
   "cell_type": "code",
   "execution_count": 315,
   "metadata": {},
   "outputs": [
    {
     "data": {
      "text/plain": [
       "(13021, 144)"
      ]
     },
     "execution_count": 315,
     "metadata": {},
     "output_type": "execute_result"
    }
   ],
   "source": [
    "df_101_tier = df_101.set_index(\"RTN\").join(df_tclass_tier1D.set_index(\"RTN\"), how=\"inner\")\n",
    "df_101_tier = df_101_tier.drop([\"Notification\",\"Phase1Cs\",\"End Date\"], axis = 1)\n",
    "df_101_tier['Tier1D'] = df_101_tier['Tier1D'].astype(int)\n",
    "df_101_tier.shape"
   ]
  },
  {
   "cell_type": "code",
   "execution_count": 316,
   "metadata": {
    "collapsed": true
   },
   "outputs": [],
   "source": [
    "X = df_101_tier.iloc[:, :-1]\n",
    "y = df_101_tier.iloc[:, -1]"
   ]
  },
  {
   "cell_type": "code",
   "execution_count": 318,
   "metadata": {},
   "outputs": [
    {
     "data": {
      "text/plain": [
       "Tier1D\n",
       "0    0.914523\n",
       "1    0.085477\n",
       "Name: Tier1D, dtype: float64"
      ]
     },
     "execution_count": 318,
     "metadata": {},
     "output_type": "execute_result"
    }
   ],
   "source": [
    "y.groupby(y).count() / 13021"
   ]
  },
  {
   "cell_type": "code",
   "execution_count": 320,
   "metadata": {},
   "outputs": [
    {
     "data": {
      "image/png": "[encoded data removed]",
      "text/plain": [
       "<matplotlib.figure.Figure at 0x1a16de87f0>"
      ]
     },
     "metadata": {},
     "output_type": "display_data"
    }
   ],
   "source": [
    "plt.pie(y.groupby(y).count() / 13021, labels=[\"Tier 1D\", \"other\"], colors=['grey', 'yellow'],\n",
    "        autopct='%1.1f%%', shadow=True, startangle=140)\n",
    "plt.axis('equal')\n",
    "plt.show()"
   ]
  },
  {
   "cell_type": "code",
   "execution_count": 440,
   "metadata": {},
   "outputs": [
    {
     "data": {
      "image/png": "[encoded data removed]",
      "text/plain": [
       "<matplotlib.figure.Figure at 0x1a16308c50>"
      ]
     },
     "metadata": {},
     "output_type": "display_data"
    }
   ],
   "source": [
    "plt.pie(y.groupby(y).count() / len(y), labels=[\"Tier 1D\", \"other\"], colors=['grey', 'yellow'],\n",
    "        autopct='%1.1f%%', shadow=True, startangle=140)\n",
    "plt.axis('equal')\n",
    "plt.show()"
   ]
  },
  {
   "cell_type": "code",
   "execution_count": null,
   "metadata": {
    "collapsed": true
   },
   "outputs": [],
   "source": []
  },
  {
   "cell_type": "markdown",
   "metadata": {},
   "source": [
    "## 1.3 Process Chemicals"
   ]
  },
  {
   "cell_type": "code",
   "execution_count": 16,
   "metadata": {},
   "outputs": [
    {
     "data": {
      "text/html": [
       "<div>\n",
       "<style>\n",
       "    .dataframe thead tr:only-child th {\n",
       "        text-align: right;\n",
       "    }\n",
       "\n",
       "    .dataframe thead th {\n",
       "        text-align: left;\n",
       "    }\n",
       "\n",
       "    .dataframe tbody tr th {\n",
       "        vertical-align: top;\n",
       "    }\n",
       "</style>\n",
       "<table border=\"1\" class=\"dataframe\">\n",
       "  <thead>\n",
       "    <tr style=\"text-align: right;\">\n",
       "      <th></th>\n",
       "      <th>RTN</th>\n",
       "      <th>Chemical</th>\n",
       "      <th>Amount</th>\n",
       "      <th>Units</th>\n",
       "    </tr>\n",
       "  </thead>\n",
       "  <tbody>\n",
       "    <tr>\n",
       "      <th>0</th>\n",
       "      <td>2-0010055</td>\n",
       "      <td>PHOSPHORIC ACID</td>\n",
       "      <td>96.72</td>\n",
       "      <td>LBS</td>\n",
       "    </tr>\n",
       "    <tr>\n",
       "      <th>1</th>\n",
       "      <td>3-0010061</td>\n",
       "      <td>#2 FUEL OIL</td>\n",
       "      <td>NaN</td>\n",
       "      <td>NaN</td>\n",
       "    </tr>\n",
       "    <tr>\n",
       "      <th>2</th>\n",
       "      <td>3-0010034</td>\n",
       "      <td>DIESEL FUEL</td>\n",
       "      <td>15.00</td>\n",
       "      <td>GAL</td>\n",
       "    </tr>\n",
       "    <tr>\n",
       "      <th>3</th>\n",
       "      <td>4-3010035</td>\n",
       "      <td>#2 FUEL OIL</td>\n",
       "      <td>50.00</td>\n",
       "      <td>PPMV</td>\n",
       "    </tr>\n",
       "    <tr>\n",
       "      <th>4</th>\n",
       "      <td>4-3010035</td>\n",
       "      <td>#2 FUEL OIL</td>\n",
       "      <td>NaN</td>\n",
       "      <td>NaN</td>\n",
       "    </tr>\n",
       "  </tbody>\n",
       "</table>\n",
       "</div>"
      ],
      "text/plain": [
       "         RTN         Chemical  Amount Units\n",
       "0  2-0010055  PHOSPHORIC ACID   96.72   LBS\n",
       "1  3-0010061      #2 FUEL OIL     NaN   NaN\n",
       "2  3-0010034      DIESEL FUEL   15.00   GAL\n",
       "3  4-3010035      #2 FUEL OIL   50.00  PPMV\n",
       "4  4-3010035      #2 FUEL OIL     NaN   NaN"
      ]
     },
     "execution_count": 16,
     "metadata": {},
     "output_type": "execute_result"
    }
   ],
   "source": [
    "df_chemical.head()"
   ]
  },
  {
   "cell_type": "code",
   "execution_count": 261,
   "metadata": {},
   "outputs": [
    {
     "data": {
      "text/plain": [
       "(111892, 4)"
      ]
     },
     "execution_count": 261,
     "metadata": {},
     "output_type": "execute_result"
    }
   ],
   "source": [
    "df_chemical.shape"
   ]
  },
  {
   "cell_type": "code",
   "execution_count": 258,
   "metadata": {},
   "outputs": [
    {
     "data": {
      "text/plain": [
       "Chemical\n",
       "#2 FUEL OIL                                      10109\n",
       "GASOLINE                                          7177\n",
       "DIESEL FUEL                                       7045\n",
       "UNKNOWN                                           5150\n",
       "LEAD                                              3318\n",
       "HYDRAULIC FLUID                                   2870\n",
       "C11 THRU C22 AROMATIC HYDROCARBONS                2656\n",
       "TPH                                               2603\n",
       "PETROLEUM                                         2465\n",
       "FUEL OIL #2                                       2352\n",
       "WASTE OIL                                         1892\n",
       "C9 THRU C18 ALIPHATIC HYDROCARBONS                1885\n",
       "OIL                                               1853\n",
       "HYDRAULIC OIL                                     1816\n",
       "BENZO[A]PYRENE                                    1809\n",
       "ARSENIC                                           1723\n",
       "C9 THRU C10 AROMATIC HYDROCARBONS                 1671\n",
       "NAPHTHALENE                                       1572\n",
       "2-METHYLNAPHTHALENE                               1504\n",
       "C5 THRU C8 ALIPHATIC HYDROCARBONS                 1443\n",
       "BENZO[A]ANTHRACENE                                1347\n",
       "DIESEL                                            1291\n",
       "BENZO[B]FLUORANTHENE                              1249\n",
       "TRANSFORMER OIL                                   1144\n",
       "VOCS                                              1018\n",
       "INDENO(1,2,3-CD)PYRENE                             985\n",
       "C19 THRU C36 ALIPHATIC HYDROCARBONS                980\n",
       "FUEL OIL                                           978\n",
       "MTBE                                               799\n",
       "UNKNOWN CHEMICAL OF UNKNOWN TYPE                   795\n",
       "MODF                                               779\n",
       "BENZENE                                            767\n",
       "C9 THRU C12 ALIPHATIC HYDROCARBONS                 761\n",
       "UNKNOWN CHEMICAL OF TYPE - OIL                     714\n",
       "PHENANTHRENE                                       708\n",
       "MOTOR OIL                                          698\n",
       "CADMIUM                                            689\n",
       "CHRYSENE                                           688\n",
       "PCB                                                673\n",
       "#6 FUEL OIL                                        635\n",
       "CHROMIUM                                           595\n",
       "DIBENZO[A,H]ANTHRACENE                             565\n",
       "JET FUEL                                           539\n",
       "MINERAL OIL                                        528\n",
       "TETRACHLOROETHYLENE                                528\n",
       "NAPL                                               528\n",
       "VINYL CHLORIDE                                     509\n",
       "TRICHLOROETHENE                                    506\n",
       "UNKNOWN CHEMICAL OF TYPE - HAZARDOUS MATERIAL      505\n",
       "NICKEL                                             462\n",
       "Name: Chemical, dtype: int64"
      ]
     },
     "execution_count": 258,
     "metadata": {},
     "output_type": "execute_result"
    }
   ],
   "source": [
    "df_chemical[\"Chemical\"].groupby(df_chemical[\"Chemical\"]).count().sort_values(ascending=False)[:50]"
   ]
  },
  {
   "cell_type": "markdown",
   "metadata": {},
   "source": [
    "## 1.4 Include GIS data"
   ]
  },
  {
   "cell_type": "code",
   "execution_count": 501,
   "metadata": {},
   "outputs": [
    {
     "data": {
      "text/plain": [
       "(13021, 144)"
      ]
     },
     "execution_count": 501,
     "metadata": {},
     "output_type": "execute_result"
    }
   ],
   "source": [
    "df_101_tier.shape"
   ]
  },
  {
   "cell_type": "code",
   "execution_count": 502,
   "metadata": {},
   "outputs": [],
   "source": [
    "df_tiergis = df_101_tier.join(CENSUS_2010_BG[['rtn']].set_index('rtn'), how='inner', rsuffix='_')"
   ]
  },
  {
   "cell_type": "code",
   "execution_count": 503,
   "metadata": {},
   "outputs": [
    {
     "data": {
      "text/plain": [
       "(10996, 144)"
      ]
     },
     "execution_count": 503,
     "metadata": {},
     "output_type": "execute_result"
    }
   ],
   "source": [
    "df_tiergis.shape"
   ]
  },
  {
   "cell_type": "code",
   "execution_count": null,
   "metadata": {
    "collapsed": true
   },
   "outputs": [],
   "source": [
    "# B_group_quarters_pop                = pd.read_excel(\"data/GIS/group_quarters_pop.xlsx\")\n",
    "# B_households_by_age_family_children = pd.read_excel(\"data/GIS/households_by_age_family_children.xlsx\")\n",
    "# B_households_size_by_family = pd.read_excel(\"data/GIS/households_size_by_family.xlsx\")\n",
    "# B_housing_owner_rental_demographics = pd.read_excel(\"data/GIS/housing_owner_rental_demographics.xlsx\")\n",
    "# B_housing_residency_characteristics = pd.read_excel(\"data/GIS/housing_residency_characteristics.xlsx\")\n",
    "# B_pop_by_age_gender = pd.read_excel(\"data/GIS/pop_by_age_gender.xlsx\")\n",
    "# B_pop_by_race = pd.read_excel(\"data/GIS/pop_by_race.xlsx\")"
   ]
  },
  {
   "cell_type": "code",
   "execution_count": 504,
   "metadata": {
    "collapsed": true
   },
   "outputs": [],
   "source": [
    "gis_block = B_group_quarters_pop.join(B_households_by_age_family_children.set_index(\"LOGRECNO\"), how='inner', on='LOGRECNO', rsuffix='_')"
   ]
  },
  {
   "cell_type": "code",
   "execution_count": 505,
   "metadata": {},
   "outputs": [],
   "source": [
    "gis_block = gis_block.join(B_households_size_by_family.set_index(\"LOGRECNO\"), how='inner', on='LOGRECNO', rsuffix='_')"
   ]
  },
  {
   "cell_type": "code",
   "execution_count": 506,
   "metadata": {},
   "outputs": [],
   "source": [
    "gis_block = gis_block.join(B_housing_owner_rental_demographics.set_index(\"LOGRECNO\"), how='inner', on='LOGRECNO', rsuffix='_')\n",
    "gis_block = gis_block.join(B_housing_residency_characteristics.set_index(\"LOGRECNO\"), how='inner', on='LOGRECNO', rsuffix='_')\n",
    "gis_block = gis_block.join(B_pop_by_age_gender.set_index(\"LOGRECNO\"), how='inner', on='LOGRECNO', rsuffix='_')\n",
    "gis_block = gis_block.join(B_pop_by_race.set_index(\"LOGRECNO\"), how='inner', on='LOGRECNO', rsuffix='_')"
   ]
  },
  {
   "cell_type": "code",
   "execution_count": 507,
   "metadata": {},
   "outputs": [],
   "source": [
    "features = gis_block.columns.tolist()"
   ]
  },
  {
   "cell_type": "code",
   "execution_count": 508,
   "metadata": {},
   "outputs": [],
   "source": [
    "features = list(filter(lambda a: a != 'GEOID10_', features))"
   ]
  },
  {
   "cell_type": "code",
   "execution_count": 509,
   "metadata": {
    "collapsed": true
   },
   "outputs": [],
   "source": [
    "features = list(filter(lambda a: a != 'GEOID10', features))"
   ]
  },
  {
   "cell_type": "code",
   "execution_count": 510,
   "metadata": {},
   "outputs": [],
   "source": [
    "gis_block = gis_block.loc[:, features]"
   ]
  },
  {
   "cell_type": "code",
   "execution_count": 511,
   "metadata": {},
   "outputs": [],
   "source": [
    "gis_block = gis_block.set_index(\"LOGRECNO\")"
   ]
  },
  {
   "cell_type": "code",
   "execution_count": 512,
   "metadata": {},
   "outputs": [],
   "source": [
    "selected = [\"LOGSF1\", \"rtn\"]\n",
    "df_gisblock = CENSUS_2010_BG.loc[:, selected].set_index('LOGSF1').join(gis_block, how='inner')"
   ]
  },
  {
   "cell_type": "code",
   "execution_count": 513,
   "metadata": {},
   "outputs": [
    {
     "data": {
      "text/plain": [
       "(11011, 243)"
      ]
     },
     "execution_count": 513,
     "metadata": {},
     "output_type": "execute_result"
    }
   ],
   "source": [
    "df_gisblock.shape"
   ]
  },
  {
   "cell_type": "code",
   "execution_count": 514,
   "metadata": {},
   "outputs": [],
   "source": [
    "df_gisblock = df_gisblock.set_index(\"rtn\")"
   ]
  },
  {
   "cell_type": "code",
   "execution_count": 515,
   "metadata": {},
   "outputs": [],
   "source": [
    "df_101_tiergis = df_101_tier.join(df_gisblock, how='inner')"
   ]
  },
  {
   "cell_type": "code",
   "execution_count": 560,
   "metadata": {},
   "outputs": [],
   "source": [
    "Xgis = df_101_tier[[\"Tier1D\"]].join(df_gisblock, how='inner')"
   ]
  },
  {
   "cell_type": "code",
   "execution_count": 561,
   "metadata": {},
   "outputs": [],
   "source": [
    "Xgis = Xgis.drop(\"Tier1D\", axis=1)"
   ]
  },
  {
   "cell_type": "code",
   "execution_count": 516,
   "metadata": {},
   "outputs": [],
   "source": [
    "X = df_101_tiergis.drop(\"Tier1D\", axis=1)\n",
    "y = df_101_tiergis.loc[:, \"Tier1D\"]"
   ]
  },
  {
   "cell_type": "markdown",
   "metadata": {},
   "source": [
    "# 2. Modeling\n",
    "* The data would be represented as X and y"
   ]
  },
  {
   "cell_type": "code",
   "execution_count": 518,
   "metadata": {
    "collapsed": true
   },
   "outputs": [],
   "source": [
    "importlib.reload(func)\n",
    "from sklearn.ensemble import RandomForestClassifier\n",
    "from collections import Counter\n",
    "from sklearn.linear_model import LogisticRegression\n",
    "from sklearn.linear_model import Lasso\n",
    "from sklearn.linear_model import RidgeClassifier\n",
    "from sklearn.ensemble import RandomForestClassifier\n",
    "from sklearn.tree import DecisionTreeClassifier\n",
    "from sklearn.ensemble import AdaBoostClassifier\n",
    "from sklearn.svm import LinearSVC\n",
    "from sklearn.cluster import KMeans\n",
    "from sklearn.cluster import DBSCAN\n",
    "from sklearn.cluster import AgglomerativeClustering\n",
    "from sklearn.model_selection import train_test_split\n",
    "from sklearn.svm import SVC\n",
    "from sklearn.metrics import confusion_matrix\n",
    "from sklearn.linear_model import SGDClassifier\n",
    "from sklearn.metrics import classification_report\n",
    "from sklearn.metrics import precision_score, recall_score\n",
    "from sklearn.naive_bayes import GaussianNB, BernoulliNB\n",
    "from sklearn import svm\n",
    "from sklearn.svm import NuSVC\n",
    "from sklearn.metrics import roc_auc_score\n",
    "from sklearn.decomposition import PCA\n",
    "from sklearn.metrics import precision_recall_fscore_support\n",
    "from imblearn.over_sampling import SMOTE\n",
    "from imblearn.under_sampling import RandomUnderSampler, ClusterCentroids"
   ]
  },
  {
   "cell_type": "markdown",
   "metadata": {},
   "source": [
    "## 2.1 Feature Selection"
   ]
  },
  {
   "cell_type": "code",
   "execution_count": 562,
   "metadata": {},
   "outputs": [],
   "source": [
    "# Use random forest to extract useful features\n",
    "# Use all the data\n",
    "rfmodel = RandomForestClassifier(n_estimators=200, n_jobs=-1)\n",
    "rfmodel.fit(Xgis, y)\n",
    "feat_import = pd.DataFrame({\"Feature\": Xgis.columns, \"Importance\": rfmodel.feature_importances_})\\\n",
    "        .sort_values(\"Importance\", ascending=False)"
   ]
  },
  {
   "cell_type": "code",
   "execution_count": 563,
   "metadata": {},
   "outputs": [
    {
     "data": {
      "text/plain": [
       "['VAC_OTHER',\n",
       " 'POP_BLACK',\n",
       " 'NH_BLACK',\n",
       " 'VAC_HOUSE',\n",
       " 'RNTR_BLACK',\n",
       " 'HS_RNT_SZ',\n",
       " 'NH_ASN',\n",
       " 'OWN25_34',\n",
       " 'NH_MULTI',\n",
       " 'MED_AGE_M',\n",
       " 'MPOP35_39',\n",
       " 'HS_BLACK',\n",
       " 'HISP',\n",
       " 'NF_HSHLD_3',\n",
       " 'POP_ASN',\n",
       " 'POP_OTHER',\n",
       " 'RNTR_WHITE',\n",
       " 'OWN_BLACK',\n",
       " 'FPOP_17',\n",
       " 'POP_MULTI']"
      ]
     },
     "execution_count": 563,
     "metadata": {},
     "output_type": "execute_result"
    }
   ],
   "source": [
    "feat_import['Feature'][:20].tolist()"
   ]
  },
  {
   "cell_type": "code",
   "execution_count": 564,
   "metadata": {
    "collapsed": true
   },
   "outputs": [],
   "source": [
    "features10 = feat_import['Feature'][:10].tolist()\n",
    "features20 = feat_import['Feature'][:20].tolist()\n",
    "features30 = feat_import['Feature'][:30].tolist()\n",
    "features50 = feat_import['Feature'][:50].tolist()"
   ]
  },
  {
   "cell_type": "code",
   "execution_count": 565,
   "metadata": {},
   "outputs": [],
   "source": [
    "sel = VarianceThreshold(threshold=(.8 * (1 - .8)))\n",
    "Xs = sel.fit_transform(X)"
   ]
  },
  {
   "cell_type": "code",
   "execution_count": 566,
   "metadata": {},
   "outputs": [],
   "source": [
    "Xsf = X.columns[sel.variances_ > .8 * (1 - .8)].tolist()"
   ]
  },
  {
   "cell_type": "code",
   "execution_count": 567,
   "metadata": {
    "collapsed": true
   },
   "outputs": [],
   "source": [
    "Xs = pd.DataFrame(Xs, columns=Xsf)"
   ]
  },
  {
   "cell_type": "code",
   "execution_count": 568,
   "metadata": {},
   "outputs": [
    {
     "data": {
      "text/plain": [
       "(10996, 265)"
      ]
     },
     "execution_count": 568,
     "metadata": {},
     "output_type": "execute_result"
    }
   ],
   "source": [
    "Xs.shape"
   ]
  },
  {
   "cell_type": "markdown",
   "metadata": {},
   "source": [
    "## 2.2 Modeling"
   ]
  },
  {
   "cell_type": "code",
   "execution_count": 571,
   "metadata": {
    "collapsed": true
   },
   "outputs": [],
   "source": [
    "X_train, X_test, y_train, y_test = train_test_split(Xgis, \n",
    "                                                    y, \n",
    "                                                    test_size=0.25,\n",
    "                                                    stratify=y,\n",
    "                                                    random_state=2001)"
   ]
  },
  {
   "cell_type": "code",
   "execution_count": 572,
   "metadata": {},
   "outputs": [
    {
     "data": {
      "text/plain": [
       "(8247, 242)"
      ]
     },
     "execution_count": 572,
     "metadata": {},
     "output_type": "execute_result"
    }
   ],
   "source": [
    "X_train.shape"
   ]
  },
  {
   "cell_type": "code",
   "execution_count": 573,
   "metadata": {},
   "outputs": [
    {
     "name": "stdout",
     "output_type": "stream",
     "text": [
      "(15074, 242)\n",
      "dict_items([(0, 7537), (1, 7537)])\n",
      "(15074, 242)\n",
      "Training size: 15074\n",
      "Test size: 2749\n"
     ]
    }
   ],
   "source": [
    "from imblearn.over_sampling import SMOTE\n",
    "X_train, y_train = SMOTE().fit_sample(X_train, y_train)\n",
    "print(X_train.shape)\n",
    "print(Counter(y_train).items())\n",
    "print(X_train.shape)\n",
    "print(\"Training size: %r\" %X_train.shape[0])\n",
    "print(\"Test size: %r\" %X_test.shape[0])"
   ]
  },
  {
   "cell_type": "code",
   "execution_count": 574,
   "metadata": {},
   "outputs": [
    {
     "name": "stdout",
     "output_type": "stream",
     "text": [
      "Confusion matrix, without normalization\n",
      "[[  12  224]\n",
      " [  66 2447]]\n",
      "             precision    recall  f1-score   support\n",
      "\n",
      "    Tier 1D       0.15      0.05      0.08       236\n",
      "      other       0.92      0.97      0.94      2513\n",
      "\n",
      "avg / total       0.85      0.89      0.87      2749\n",
      "\n"
     ]
    },
    {
     "data": {
      "image/png": "[encoded data removed]",
      "text/plain": [
       "<matplotlib.figure.Figure at 0x1a2a6164e0>"
      ]
     },
     "metadata": {},
     "output_type": "display_data"
    }
   ],
   "source": [
    "svc = LinearSVC(dual=True)\n",
    "svc.fit(X_train, y_train)\n",
    "y_predict = svc.predict(X_test)\n",
    "func.plot_confusion_matrix(confusion_matrix(y_test, y_predict, labels=[True, False]), classes=['Tier 1D','other'])\n",
    "print(classification_report(y_test, y_predict, labels=[True, False], target_names=['Tier 1D','other']))"
   ]
  },
  {
   "cell_type": "code",
   "execution_count": 540,
   "metadata": {},
   "outputs": [
    {
     "name": "stdout",
     "output_type": "stream",
     "text": [
      "Confusion matrix, without normalization\n",
      "[[ 102  134]\n",
      " [1002 1511]]\n",
      "             precision    recall  f1-score   support\n",
      "\n",
      "    Tier 1D       0.09      0.43      0.15       236\n",
      "      other       0.92      0.60      0.73      2513\n",
      "\n",
      "avg / total       0.85      0.59      0.68      2749\n",
      "\n"
     ]
    },
    {
     "data": {
      "image/png": "[encoded data removed]",
      "text/plain": [
       "<matplotlib.figure.Figure at 0x1a203d5860>"
      ]
     },
     "metadata": {},
     "output_type": "display_data"
    }
   ],
   "source": [
    "svc = SVC(kernel='rbf')\n",
    "svc.fit(X_train, y_train)\n",
    "y_predict = svc.predict(X_test)\n",
    "func.plot_confusion_matrix(confusion_matrix(y_test, y_predict, labels=[True, False]), classes=['Tier 1D','other'])\n",
    "print(classification_report(y_test, y_predict, labels=[True, False], target_names=['Tier 1D','other']))"
   ]
  },
  {
   "cell_type": "code",
   "execution_count": 575,
   "metadata": {},
   "outputs": [
    {
     "name": "stdout",
     "output_type": "stream",
     "text": [
      "Confusion matrix, without normalization\n",
      "[[  73  163]\n",
      " [ 499 2014]]\n",
      "             precision    recall  f1-score   support\n",
      "\n",
      "    Tier 1D       0.13      0.31      0.18       236\n",
      "      other       0.93      0.80      0.86      2513\n",
      "\n",
      "avg / total       0.86      0.76      0.80      2749\n",
      "\n"
     ]
    },
    {
     "data": {
      "image/png": "[encoded data removed]",
      "text/plain": [
       "<matplotlib.figure.Figure at 0x1a16902e48>"
      ]
     },
     "metadata": {},
     "output_type": "display_data"
    }
   ],
   "source": [
    "rf = RandomForestClassifier(max_depth=4, n_estimators=500, n_jobs=-1)\n",
    "rf.fit(X_train, y_train)\n",
    "y_predict = rf.predict(X_test)\n",
    "func.plot_confusion_matrix(confusion_matrix(y_test, y_predict, labels=[True, False]), classes=['Tier 1D','other'])\n",
    "print(classification_report(y_test, y_predict, labels=[True, False], target_names=['Tier 1D','other']))"
   ]
  },
  {
   "cell_type": "code",
   "execution_count": 442,
   "metadata": {},
   "outputs": [
    {
     "data": {
      "text/plain": [
       "(15078, 385)"
      ]
     },
     "execution_count": 442,
     "metadata": {},
     "output_type": "execute_result"
    }
   ],
   "source": [
    "X_train.shape"
   ]
  },
  {
   "cell_type": "code",
   "execution_count": 576,
   "metadata": {},
   "outputs": [
    {
     "name": "stdout",
     "output_type": "stream",
     "text": [
      "Confusion matrix, without normalization\n",
      "[[  32  204]\n",
      " [ 203 2310]]\n",
      "             precision    recall  f1-score   support\n",
      "\n",
      "    Tier 1D       0.14      0.14      0.14       236\n",
      "      other       0.92      0.92      0.92      2513\n",
      "\n",
      "avg / total       0.85      0.85      0.85      2749\n",
      "\n"
     ]
    },
    {
     "data": {
      "image/png": "[encoded data removed]",
      "text/plain": [
       "<matplotlib.figure.Figure at 0x1a16c0d860>"
      ]
     },
     "metadata": {},
     "output_type": "display_data"
    }
   ],
   "source": [
    "ab = AdaBoostClassifier()\n",
    "ab.fit(X_train, y_train)\n",
    "y_predict = ab.predict(X_test)\n",
    "func.plot_confusion_matrix(confusion_matrix(y_test, y_predict, labels=[True, False]), classes=['Tier 1D','other'])\n",
    "print(classification_report(y_test, y_predict, labels=[True, False], target_names=['Tier 1D','other']))"
   ]
  },
  {
   "cell_type": "code",
   "execution_count": 577,
   "metadata": {},
   "outputs": [
    {
     "name": "stdout",
     "output_type": "stream",
     "text": [
      "Confusion matrix, without normalization\n",
      "[[ 132  104]\n",
      " [1247 1266]]\n",
      "             precision    recall  f1-score   support\n",
      "\n",
      "    Tier 1D       0.10      0.56      0.16       236\n",
      "      other       0.92      0.50      0.65      2513\n",
      "\n",
      "avg / total       0.85      0.51      0.61      2749\n",
      "\n"
     ]
    },
    {
     "data": {
      "image/png": "[encoded data removed]",
      "text/plain": [
       "<matplotlib.figure.Figure at 0x1a15cba470>"
      ]
     },
     "metadata": {},
     "output_type": "display_data"
    }
   ],
   "source": [
    "bnb = BernoulliNB()\n",
    "bnb.fit(X_train, y_train)\n",
    "y_predict = bnb.predict(X_test)\n",
    "func.plot_confusion_matrix(confusion_matrix(y_test, y_predict, labels=[True, False]), classes=['Tier 1D','other'])\n",
    "print(classification_report(y_test, y_predict, labels=[True, False], target_names=['Tier 1D','other']))"
   ]
  },
  {
   "cell_type": "code",
   "execution_count": 578,
   "metadata": {},
   "outputs": [
    {
     "name": "stdout",
     "output_type": "stream",
     "text": [
      "Confusion matrix, without normalization\n",
      "[[ 174   62]\n",
      " [1736  777]]\n",
      "             precision    recall  f1-score   support\n",
      "\n",
      "    Tier 1D       0.09      0.74      0.16       236\n",
      "      other       0.93      0.31      0.46      2513\n",
      "\n",
      "avg / total       0.85      0.35      0.44      2749\n",
      "\n"
     ]
    },
    {
     "data": {
      "image/png": "[encoded data removed]",
      "text/plain": [
       "<matplotlib.figure.Figure at 0x1a2a2555c0>"
      ]
     },
     "metadata": {},
     "output_type": "display_data"
    }
   ],
   "source": [
    "gnb = GaussianNB()\n",
    "gnb.fit(X_train, y_train)\n",
    "y_predict = gnb.predict(X_test)\n",
    "func.plot_confusion_matrix(confusion_matrix(y_test, y_predict, labels=[True, False]), classes=['Tier 1D','other'])\n",
    "print(classification_report(y_test, y_predict, labels=[True, False], target_names=['Tier 1D','other']))"
   ]
  },
  {
   "cell_type": "code",
   "execution_count": 580,
   "metadata": {},
   "outputs": [
    {
     "name": "stdout",
     "output_type": "stream",
     "text": [
      "Confusion matrix, without normalization\n",
      "[[  70  166]\n",
      " [ 609 1904]]\n",
      "             precision    recall  f1-score   support\n",
      "\n",
      "    Tier 1D       0.92      0.76      0.83      2513\n",
      "      other       0.10      0.30      0.15       236\n",
      "\n",
      "avg / total       0.85      0.72      0.77      2749\n",
      "\n"
     ]
    },
    {
     "data": {
      "image/png": "[encoded data removed]",
      "text/plain": [
       "<matplotlib.figure.Figure at 0x1a1675f7b8>"
      ]
     },
     "metadata": {},
     "output_type": "display_data"
    }
   ],
   "source": [
    "svm = NuSVC()\n",
    "svm.fit(X_train, y_train)\n",
    "y_predict = svm.predict(X_test)\n",
    "func.plot_confusion_matrix(confusion_matrix(y_test, y_predict, labels=[True, False]), classes=['Tier 1D','other'])\n",
    "print(classification_report(y_test, y_predict, target_names=['Tier 1D','other']))"
   ]
  },
  {
   "cell_type": "code",
   "execution_count": 553,
   "metadata": {
    "scrolled": true
   },
   "outputs": [
    {
     "name": "stdout",
     "output_type": "stream",
     "text": [
      "Confusion matrix, without normalization\n",
      "[[  25  211]\n",
      " [  62 2451]]\n",
      "             precision    recall  f1-score   support\n",
      "\n",
      "    Tier 1D       0.29      0.11      0.15       236\n",
      "      other       0.92      0.98      0.95      2513\n",
      "\n",
      "avg / total       0.87      0.90      0.88      2749\n",
      "\n"
     ]
    },
    {
     "data": {
      "image/png": "[encoded data removed]",
      "text/plain": [
       "<matplotlib.figure.Figure at 0x1a16543198>"
      ]
     },
     "metadata": {},
     "output_type": "display_data"
    }
   ],
   "source": [
    "rf = RandomForestClassifier(n_estimators=200, class_weight='balanced', n_jobs=-1)\n",
    "rf.fit(X_train, y_train)\n",
    "y_predict = rf.predict(X_test)\n",
    "func.plot_confusion_matrix(confusion_matrix(y_test, y_predict, labels=[True, False]), classes=['Tier 1D','other'])\n",
    "print(classification_report(y_test, y_predict, labels=[True, False], target_names=['Tier 1D','other']))"
   ]
  },
  {
   "cell_type": "code",
   "execution_count": null,
   "metadata": {
    "collapsed": true
   },
   "outputs": [],
   "source": []
  },
  {
   "cell_type": "code",
   "execution_count": null,
   "metadata": {
    "collapsed": true
   },
   "outputs": [],
   "source": []
  },
  {
   "cell_type": "code",
   "execution_count": null,
   "metadata": {
    "collapsed": true
   },
   "outputs": [],
   "source": []
  },
  {
   "cell_type": "code",
   "execution_count": null,
   "metadata": {
    "collapsed": true
   },
   "outputs": [],
   "source": []
  },
  {
   "cell_type": "code",
   "execution_count": 429,
   "metadata": {
    "collapsed": true
   },
   "outputs": [],
   "source": [
    "clfs = func.Clf(Xs, y)"
   ]
  },
  {
   "cell_type": "code",
   "execution_count": 423,
   "metadata": {
    "collapsed": true
   },
   "outputs": [],
   "source": [
    "clfs.runKfold(RandomForestClassifier, {\"n_estimators\": [200], \n",
    "                                      'max_features': ['sqrt', 'log2', 0.2], \n",
    "                                      'max_depth': [None, 3, 4, 5]}, True)"
   ]
  },
  {
   "cell_type": "code",
   "execution_count": 424,
   "metadata": {},
   "outputs": [
    {
     "data": {
      "text/html": [
       "<div>\n",
       "<style>\n",
       "    .dataframe thead tr:only-child th {\n",
       "        text-align: right;\n",
       "    }\n",
       "\n",
       "    .dataframe thead th {\n",
       "        text-align: left;\n",
       "    }\n",
       "\n",
       "    .dataframe tbody tr th {\n",
       "        vertical-align: top;\n",
       "    }\n",
       "</style>\n",
       "<table border=\"1\" class=\"dataframe\">\n",
       "  <thead>\n",
       "    <tr style=\"text-align: right;\">\n",
       "      <th></th>\n",
       "      <th>clf</th>\n",
       "      <th>params</th>\n",
       "      <th>smote</th>\n",
       "      <th>Trecall</th>\n",
       "      <th>Tprecision</th>\n",
       "      <th>Tf1</th>\n",
       "      <th>Frecall</th>\n",
       "      <th>Fprecision</th>\n",
       "      <th>Ff1</th>\n",
       "    </tr>\n",
       "  </thead>\n",
       "  <tbody>\n",
       "    <tr>\n",
       "      <th>0</th>\n",
       "      <td>RandomForestClassifier</td>\n",
       "      <td>{'max_depth': None, 'max_features': 'sqrt', 'n...</td>\n",
       "      <td>True</td>\n",
       "      <td>0.059206</td>\n",
       "      <td>0.314495</td>\n",
       "      <td>0.098908</td>\n",
       "      <td>0.986072</td>\n",
       "      <td>0.917602</td>\n",
       "      <td>0.950599</td>\n",
       "    </tr>\n",
       "    <tr>\n",
       "      <th>1</th>\n",
       "      <td>RandomForestClassifier</td>\n",
       "      <td>{'max_depth': None, 'max_features': 'log2', 'n...</td>\n",
       "      <td>True</td>\n",
       "      <td>0.077161</td>\n",
       "      <td>0.327611</td>\n",
       "      <td>0.123223</td>\n",
       "      <td>0.983187</td>\n",
       "      <td>0.918832</td>\n",
       "      <td>0.949910</td>\n",
       "    </tr>\n",
       "    <tr>\n",
       "      <th>2</th>\n",
       "      <td>RandomForestClassifier</td>\n",
       "      <td>{'max_depth': None, 'max_features': 0.2, 'n_es...</td>\n",
       "      <td>True</td>\n",
       "      <td>0.053914</td>\n",
       "      <td>0.311090</td>\n",
       "      <td>0.090961</td>\n",
       "      <td>0.987366</td>\n",
       "      <td>0.917280</td>\n",
       "      <td>0.951027</td>\n",
       "    </tr>\n",
       "    <tr>\n",
       "      <th>3</th>\n",
       "      <td>RandomForestClassifier</td>\n",
       "      <td>{'max_depth': 3, 'max_features': 'sqrt', 'n_es...</td>\n",
       "      <td>True</td>\n",
       "      <td>0.503165</td>\n",
       "      <td>0.149082</td>\n",
       "      <td>0.229753</td>\n",
       "      <td>0.729407</td>\n",
       "      <td>0.939826</td>\n",
       "      <td>0.821148</td>\n",
       "    </tr>\n",
       "    <tr>\n",
       "      <th>4</th>\n",
       "      <td>RandomForestClassifier</td>\n",
       "      <td>{'max_depth': 3, 'max_features': 'log2', 'n_es...</td>\n",
       "      <td>True</td>\n",
       "      <td>0.523225</td>\n",
       "      <td>0.155341</td>\n",
       "      <td>0.239249</td>\n",
       "      <td>0.732093</td>\n",
       "      <td>0.942351</td>\n",
       "      <td>0.823795</td>\n",
       "    </tr>\n",
       "    <tr>\n",
       "      <th>5</th>\n",
       "      <td>RandomForestClassifier</td>\n",
       "      <td>{'max_depth': 3, 'max_features': 0.2, 'n_estim...</td>\n",
       "      <td>True</td>\n",
       "      <td>0.512609</td>\n",
       "      <td>0.157779</td>\n",
       "      <td>0.241156</td>\n",
       "      <td>0.741842</td>\n",
       "      <td>0.941777</td>\n",
       "      <td>0.829843</td>\n",
       "    </tr>\n",
       "    <tr>\n",
       "      <th>6</th>\n",
       "      <td>RandomForestClassifier</td>\n",
       "      <td>{'max_depth': 4, 'max_features': 'sqrt', 'n_es...</td>\n",
       "      <td>True</td>\n",
       "      <td>0.467170</td>\n",
       "      <td>0.163633</td>\n",
       "      <td>0.242192</td>\n",
       "      <td>0.775269</td>\n",
       "      <td>0.939298</td>\n",
       "      <td>0.849350</td>\n",
       "    </tr>\n",
       "    <tr>\n",
       "      <th>7</th>\n",
       "      <td>RandomForestClassifier</td>\n",
       "      <td>{'max_depth': 4, 'max_features': 'log2', 'n_es...</td>\n",
       "      <td>True</td>\n",
       "      <td>0.447101</td>\n",
       "      <td>0.160327</td>\n",
       "      <td>0.235517</td>\n",
       "      <td>0.778452</td>\n",
       "      <td>0.937381</td>\n",
       "      <td>0.850349</td>\n",
       "    </tr>\n",
       "    <tr>\n",
       "      <th>8</th>\n",
       "      <td>RandomForestClassifier</td>\n",
       "      <td>{'max_depth': 4, 'max_features': 0.2, 'n_estim...</td>\n",
       "      <td>True</td>\n",
       "      <td>0.439713</td>\n",
       "      <td>0.174844</td>\n",
       "      <td>0.250101</td>\n",
       "      <td>0.803522</td>\n",
       "      <td>0.938373</td>\n",
       "      <td>0.865694</td>\n",
       "    </tr>\n",
       "    <tr>\n",
       "      <th>9</th>\n",
       "      <td>RandomForestClassifier</td>\n",
       "      <td>{'max_depth': 5, 'max_features': 'sqrt', 'n_es...</td>\n",
       "      <td>True</td>\n",
       "      <td>0.383685</td>\n",
       "      <td>0.179393</td>\n",
       "      <td>0.244311</td>\n",
       "      <td>0.834660</td>\n",
       "      <td>0.935039</td>\n",
       "      <td>0.881969</td>\n",
       "    </tr>\n",
       "    <tr>\n",
       "      <th>10</th>\n",
       "      <td>RandomForestClassifier</td>\n",
       "      <td>{'max_depth': 5, 'max_features': 'log2', 'n_es...</td>\n",
       "      <td>True</td>\n",
       "      <td>0.413274</td>\n",
       "      <td>0.172827</td>\n",
       "      <td>0.243307</td>\n",
       "      <td>0.813271</td>\n",
       "      <td>0.936459</td>\n",
       "      <td>0.870406</td>\n",
       "    </tr>\n",
       "    <tr>\n",
       "      <th>11</th>\n",
       "      <td>RandomForestClassifier</td>\n",
       "      <td>{'max_depth': 5, 'max_features': 0.2, 'n_estim...</td>\n",
       "      <td>True</td>\n",
       "      <td>0.324456</td>\n",
       "      <td>0.186077</td>\n",
       "      <td>0.235908</td>\n",
       "      <td>0.865101</td>\n",
       "      <td>0.931543</td>\n",
       "      <td>0.897018</td>\n",
       "    </tr>\n",
       "  </tbody>\n",
       "</table>\n",
       "</div>"
      ],
      "text/plain": [
       "                       clf                                             params  \\\n",
       "0   RandomForestClassifier  {'max_depth': None, 'max_features': 'sqrt', 'n...   \n",
       "1   RandomForestClassifier  {'max_depth': None, 'max_features': 'log2', 'n...   \n",
       "2   RandomForestClassifier  {'max_depth': None, 'max_features': 0.2, 'n_es...   \n",
       "3   RandomForestClassifier  {'max_depth': 3, 'max_features': 'sqrt', 'n_es...   \n",
       "4   RandomForestClassifier  {'max_depth': 3, 'max_features': 'log2', 'n_es...   \n",
       "5   RandomForestClassifier  {'max_depth': 3, 'max_features': 0.2, 'n_estim...   \n",
       "6   RandomForestClassifier  {'max_depth': 4, 'max_features': 'sqrt', 'n_es...   \n",
       "7   RandomForestClassifier  {'max_depth': 4, 'max_features': 'log2', 'n_es...   \n",
       "8   RandomForestClassifier  {'max_depth': 4, 'max_features': 0.2, 'n_estim...   \n",
       "9   RandomForestClassifier  {'max_depth': 5, 'max_features': 'sqrt', 'n_es...   \n",
       "10  RandomForestClassifier  {'max_depth': 5, 'max_features': 'log2', 'n_es...   \n",
       "11  RandomForestClassifier  {'max_depth': 5, 'max_features': 0.2, 'n_estim...   \n",
       "\n",
       "   smote   Trecall  Tprecision       Tf1   Frecall  Fprecision       Ff1  \n",
       "0   True  0.059206    0.314495  0.098908  0.986072    0.917602  0.950599  \n",
       "1   True  0.077161    0.327611  0.123223  0.983187    0.918832  0.949910  \n",
       "2   True  0.053914    0.311090  0.090961  0.987366    0.917280  0.951027  \n",
       "3   True  0.503165    0.149082  0.229753  0.729407    0.939826  0.821148  \n",
       "4   True  0.523225    0.155341  0.239249  0.732093    0.942351  0.823795  \n",
       "5   True  0.512609    0.157779  0.241156  0.741842    0.941777  0.829843  \n",
       "6   True  0.467170    0.163633  0.242192  0.775269    0.939298  0.849350  \n",
       "7   True  0.447101    0.160327  0.235517  0.778452    0.937381  0.850349  \n",
       "8   True  0.439713    0.174844  0.250101  0.803522    0.938373  0.865694  \n",
       "9   True  0.383685    0.179393  0.244311  0.834660    0.935039  0.881969  \n",
       "10  True  0.413274    0.172827  0.243307  0.813271    0.936459  0.870406  \n",
       "11  True  0.324456    0.186077  0.235908  0.865101    0.931543  0.897018  "
      ]
     },
     "execution_count": 424,
     "metadata": {},
     "output_type": "execute_result"
    }
   ],
   "source": [
    "clfs.clf_eval"
   ]
  },
  {
   "cell_type": "code",
   "execution_count": 340,
   "metadata": {},
   "outputs": [],
   "source": [
    "clfs.runKfold(RandomForestClassifier, {\"n_estimators\": [200], \n",
    "                                      'max_features': ['sqrt', 'log2', 0.2], \n",
    "                                      'max_depth': [None, 3, 4, 5]}, True)\n",
    "clfs.runKfold(LinearSVC, {\"dual\": [True], \"penalty\": ['l2'], 'C': [0.01, 0.1, 1, 10, 100]}, True)\n",
    "clfs.runKfold(LogisticRegression, {\"penalty\": ['l1', 'l2'], 'dual': [False], \"C\": [0.01, 0.1, 1, 10, 100]}, True)\n",
    "clfs.runKfold(LinearSVC, {\"dual\": [False], \"penalty\": ['l2'], 'C': [0.01, 0.1, 1, 10, 100]}, True)\n",
    "clfs.runKfold(LinearSVC, {\"dual\": [False], \"penalty\": ['l1'], 'C': [0.01, 0.1, 1, 10, 100]}, True)"
   ]
  },
  {
   "cell_type": "code",
   "execution_count": 341,
   "metadata": {
    "collapsed": true
   },
   "outputs": [],
   "source": [
    "clfs.runKfold(RandomForestClassifier, {\"n_estimators\": [200], \n",
    "                                      'max_features': ['sqrt', 'log2', 0.2], \n",
    "                                      'max_depth': [None, 3, 4, 5]}, False)\n",
    "clfs.runKfold(LinearSVC, {\"dual\": [True], \"penalty\": ['l2'], 'C': [0.01, 0.1, 1, 10, 100]}, False)\n",
    "clfs.runKfold(LogisticRegression, {\"penalty\": ['l1', 'l2'], 'dual': [False], \"C\": [0.01, 0.1, 1, 10, 100]}, False)\n",
    "clfs.runKfold(LinearSVC, {\"dual\": [False], \"penalty\": ['l2'], 'C': [0.01, 0.1, 1, 10, 100]}, False)\n",
    "clfs.runKfold(LinearSVC, {\"dual\": [False], \"penalty\": ['l1'], 'C': [0.01, 0.1, 1, 10, 100]}, False)"
   ]
  },
  {
   "cell_type": "code",
   "execution_count": 335,
   "metadata": {},
   "outputs": [
    {
     "data": {
      "text/html": [
       "<div>\n",
       "<style>\n",
       "    .dataframe thead tr:only-child th {\n",
       "        text-align: right;\n",
       "    }\n",
       "\n",
       "    .dataframe thead th {\n",
       "        text-align: left;\n",
       "    }\n",
       "\n",
       "    .dataframe tbody tr th {\n",
       "        vertical-align: top;\n",
       "    }\n",
       "</style>\n",
       "<table border=\"1\" class=\"dataframe\">\n",
       "  <thead>\n",
       "    <tr style=\"text-align: right;\">\n",
       "      <th></th>\n",
       "      <th>clf</th>\n",
       "      <th>params</th>\n",
       "      <th>smote</th>\n",
       "      <th>Trecall</th>\n",
       "      <th>Tprecision</th>\n",
       "      <th>Tf1</th>\n",
       "      <th>Frecall</th>\n",
       "      <th>Fprecision</th>\n",
       "      <th>Ff1</th>\n",
       "    </tr>\n",
       "  </thead>\n",
       "  <tbody>\n",
       "    <tr>\n",
       "      <th>0</th>\n",
       "      <td>RandomForestClassifier</td>\n",
       "      <td>{'max_depth': None, 'max_features': 'sqrt', 'n...</td>\n",
       "      <td>True</td>\n",
       "      <td>0.232682</td>\n",
       "      <td>0.161381</td>\n",
       "      <td>0.190056</td>\n",
       "      <td>0.886379</td>\n",
       "      <td>0.925151</td>\n",
       "      <td>0.905295</td>\n",
       "    </tr>\n",
       "    <tr>\n",
       "      <th>1</th>\n",
       "      <td>RandomForestClassifier</td>\n",
       "      <td>{'max_depth': None, 'max_features': 'log2', 'n...</td>\n",
       "      <td>True</td>\n",
       "      <td>0.230000</td>\n",
       "      <td>0.165250</td>\n",
       "      <td>0.192231</td>\n",
       "      <td>0.891250</td>\n",
       "      <td>0.925283</td>\n",
       "      <td>0.907939</td>\n",
       "    </tr>\n",
       "    <tr>\n",
       "      <th>2</th>\n",
       "      <td>RandomForestClassifier</td>\n",
       "      <td>{'max_depth': None, 'max_features': 0.2, 'n_es...</td>\n",
       "      <td>True</td>\n",
       "      <td>0.230896</td>\n",
       "      <td>0.170794</td>\n",
       "      <td>0.196287</td>\n",
       "      <td>0.895197</td>\n",
       "      <td>0.925670</td>\n",
       "      <td>0.910173</td>\n",
       "    </tr>\n",
       "    <tr>\n",
       "      <th>3</th>\n",
       "      <td>RandomForestClassifier</td>\n",
       "      <td>{'max_depth': 3, 'max_features': 'sqrt', 'n_es...</td>\n",
       "      <td>True</td>\n",
       "      <td>0.753829</td>\n",
       "      <td>0.142501</td>\n",
       "      <td>0.239686</td>\n",
       "      <td>0.575999</td>\n",
       "      <td>0.961596</td>\n",
       "      <td>0.720425</td>\n",
       "    </tr>\n",
       "    <tr>\n",
       "      <th>4</th>\n",
       "      <td>RandomForestClassifier</td>\n",
       "      <td>{'max_depth': 3, 'max_features': 'log2', 'n_es...</td>\n",
       "      <td>True</td>\n",
       "      <td>0.738548</td>\n",
       "      <td>0.142779</td>\n",
       "      <td>0.239282</td>\n",
       "      <td>0.585573</td>\n",
       "      <td>0.959970</td>\n",
       "      <td>0.727375</td>\n",
       "    </tr>\n",
       "    <tr>\n",
       "      <th>5</th>\n",
       "      <td>RandomForestClassifier</td>\n",
       "      <td>{'max_depth': 3, 'max_features': 0.2, 'n_estim...</td>\n",
       "      <td>True</td>\n",
       "      <td>0.752917</td>\n",
       "      <td>0.140826</td>\n",
       "      <td>0.237259</td>\n",
       "      <td>0.570541</td>\n",
       "      <td>0.961103</td>\n",
       "      <td>0.715977</td>\n",
       "    </tr>\n",
       "    <tr>\n",
       "      <th>6</th>\n",
       "      <td>RandomForestClassifier</td>\n",
       "      <td>{'max_depth': 4, 'max_features': 'sqrt', 'n_es...</td>\n",
       "      <td>True</td>\n",
       "      <td>0.738554</td>\n",
       "      <td>0.145093</td>\n",
       "      <td>0.242535</td>\n",
       "      <td>0.593299</td>\n",
       "      <td>0.960451</td>\n",
       "      <td>0.733486</td>\n",
       "    </tr>\n",
       "    <tr>\n",
       "      <th>7</th>\n",
       "      <td>RandomForestClassifier</td>\n",
       "      <td>{'max_depth': 4, 'max_features': 'log2', 'n_es...</td>\n",
       "      <td>True</td>\n",
       "      <td>0.725968</td>\n",
       "      <td>0.146224</td>\n",
       "      <td>0.243411</td>\n",
       "      <td>0.603796</td>\n",
       "      <td>0.959317</td>\n",
       "      <td>0.741100</td>\n",
       "    </tr>\n",
       "    <tr>\n",
       "      <th>8</th>\n",
       "      <td>RandomForestClassifier</td>\n",
       "      <td>{'max_depth': 4, 'max_features': 0.2, 'n_estim...</td>\n",
       "      <td>True</td>\n",
       "      <td>0.743918</td>\n",
       "      <td>0.144779</td>\n",
       "      <td>0.242371</td>\n",
       "      <td>0.589268</td>\n",
       "      <td>0.961000</td>\n",
       "      <td>0.730511</td>\n",
       "    </tr>\n",
       "    <tr>\n",
       "      <th>9</th>\n",
       "      <td>RandomForestClassifier</td>\n",
       "      <td>{'max_depth': 5, 'max_features': 'sqrt', 'n_es...</td>\n",
       "      <td>True</td>\n",
       "      <td>0.663018</td>\n",
       "      <td>0.153853</td>\n",
       "      <td>0.249376</td>\n",
       "      <td>0.657709</td>\n",
       "      <td>0.954486</td>\n",
       "      <td>0.778129</td>\n",
       "    </tr>\n",
       "    <tr>\n",
       "      <th>10</th>\n",
       "      <td>RandomForestClassifier</td>\n",
       "      <td>{'max_depth': 5, 'max_features': 'log2', 'n_es...</td>\n",
       "      <td>True</td>\n",
       "      <td>0.681919</td>\n",
       "      <td>0.149810</td>\n",
       "      <td>0.245481</td>\n",
       "      <td>0.637219</td>\n",
       "      <td>0.955473</td>\n",
       "      <td>0.764226</td>\n",
       "    </tr>\n",
       "    <tr>\n",
       "      <th>11</th>\n",
       "      <td>RandomForestClassifier</td>\n",
       "      <td>{'max_depth': 5, 'max_features': 0.2, 'n_estim...</td>\n",
       "      <td>True</td>\n",
       "      <td>0.679215</td>\n",
       "      <td>0.151539</td>\n",
       "      <td>0.247608</td>\n",
       "      <td>0.643937</td>\n",
       "      <td>0.955631</td>\n",
       "      <td>0.769049</td>\n",
       "    </tr>\n",
       "    <tr>\n",
       "      <th>12</th>\n",
       "      <td>LinearSVC</td>\n",
       "      <td>{'C': 0.01, 'dual': True, 'penalty': 'l2'}</td>\n",
       "      <td>True</td>\n",
       "      <td>0.734922</td>\n",
       "      <td>0.143764</td>\n",
       "      <td>0.240334</td>\n",
       "      <td>0.589772</td>\n",
       "      <td>0.959778</td>\n",
       "      <td>0.730083</td>\n",
       "    </tr>\n",
       "    <tr>\n",
       "      <th>13</th>\n",
       "      <td>LinearSVC</td>\n",
       "      <td>{'C': 0.1, 'dual': True, 'penalty': 'l2'}</td>\n",
       "      <td>True</td>\n",
       "      <td>0.741220</td>\n",
       "      <td>0.139170</td>\n",
       "      <td>0.233783</td>\n",
       "      <td>0.568021</td>\n",
       "      <td>0.959751</td>\n",
       "      <td>0.711404</td>\n",
       "    </tr>\n",
       "    <tr>\n",
       "      <th>14</th>\n",
       "      <td>LinearSVC</td>\n",
       "      <td>{'C': 1, 'dual': True, 'penalty': 'l2'}</td>\n",
       "      <td>True</td>\n",
       "      <td>0.772621</td>\n",
       "      <td>0.136628</td>\n",
       "      <td>0.231771</td>\n",
       "      <td>0.540225</td>\n",
       "      <td>0.962597</td>\n",
       "      <td>0.690215</td>\n",
       "    </tr>\n",
       "    <tr>\n",
       "      <th>15</th>\n",
       "      <td>LinearSVC</td>\n",
       "      <td>{'C': 10, 'dual': True, 'penalty': 'l2'}</td>\n",
       "      <td>True</td>\n",
       "      <td>0.749226</td>\n",
       "      <td>0.136698</td>\n",
       "      <td>0.229052</td>\n",
       "      <td>0.538629</td>\n",
       "      <td>0.959883</td>\n",
       "      <td>0.679686</td>\n",
       "    </tr>\n",
       "    <tr>\n",
       "      <th>16</th>\n",
       "      <td>LinearSVC</td>\n",
       "      <td>{'C': 100, 'dual': True, 'penalty': 'l2'}</td>\n",
       "      <td>True</td>\n",
       "      <td>0.605690</td>\n",
       "      <td>0.127904</td>\n",
       "      <td>0.194969</td>\n",
       "      <td>0.566006</td>\n",
       "      <td>0.945794</td>\n",
       "      <td>0.662246</td>\n",
       "    </tr>\n",
       "    <tr>\n",
       "      <th>17</th>\n",
       "      <td>LogisticRegression</td>\n",
       "      <td>{'C': 0.01, 'dual': False, 'penalty': 'l1'}</td>\n",
       "      <td>True</td>\n",
       "      <td>0.724114</td>\n",
       "      <td>0.143562</td>\n",
       "      <td>0.239428</td>\n",
       "      <td>0.595146</td>\n",
       "      <td>0.958662</td>\n",
       "      <td>0.733706</td>\n",
       "    </tr>\n",
       "    <tr>\n",
       "      <th>18</th>\n",
       "      <td>LogisticRegression</td>\n",
       "      <td>{'C': 0.01, 'dual': False, 'penalty': 'l2'}</td>\n",
       "      <td>True</td>\n",
       "      <td>0.742135</td>\n",
       "      <td>0.144905</td>\n",
       "      <td>0.242366</td>\n",
       "      <td>0.590191</td>\n",
       "      <td>0.960867</td>\n",
       "      <td>0.730931</td>\n",
       "    </tr>\n",
       "    <tr>\n",
       "      <th>19</th>\n",
       "      <td>LogisticRegression</td>\n",
       "      <td>{'C': 0.1, 'dual': False, 'penalty': 'l1'}</td>\n",
       "      <td>True</td>\n",
       "      <td>0.734013</td>\n",
       "      <td>0.146243</td>\n",
       "      <td>0.243743</td>\n",
       "      <td>0.598757</td>\n",
       "      <td>0.960290</td>\n",
       "      <td>0.737133</td>\n",
       "    </tr>\n",
       "    <tr>\n",
       "      <th>20</th>\n",
       "      <td>LogisticRegression</td>\n",
       "      <td>{'C': 0.1, 'dual': False, 'penalty': 'l2'}</td>\n",
       "      <td>True</td>\n",
       "      <td>0.731334</td>\n",
       "      <td>0.144672</td>\n",
       "      <td>0.241514</td>\n",
       "      <td>0.595818</td>\n",
       "      <td>0.959633</td>\n",
       "      <td>0.735040</td>\n",
       "    </tr>\n",
       "    <tr>\n",
       "      <th>21</th>\n",
       "      <td>LogisticRegression</td>\n",
       "      <td>{'C': 1, 'dual': False, 'penalty': 'l1'}</td>\n",
       "      <td>True</td>\n",
       "      <td>0.723238</td>\n",
       "      <td>0.146714</td>\n",
       "      <td>0.243845</td>\n",
       "      <td>0.606399</td>\n",
       "      <td>0.959181</td>\n",
       "      <td>0.742762</td>\n",
       "    </tr>\n",
       "    <tr>\n",
       "      <th>22</th>\n",
       "      <td>LogisticRegression</td>\n",
       "      <td>{'C': 1, 'dual': False, 'penalty': 'l2'}</td>\n",
       "      <td>True</td>\n",
       "      <td>0.734915</td>\n",
       "      <td>0.143260</td>\n",
       "      <td>0.239713</td>\n",
       "      <td>0.589016</td>\n",
       "      <td>0.959737</td>\n",
       "      <td>0.729777</td>\n",
       "    </tr>\n",
       "    <tr>\n",
       "      <th>23</th>\n",
       "      <td>LogisticRegression</td>\n",
       "      <td>{'C': 10, 'dual': False, 'penalty': 'l1'}</td>\n",
       "      <td>True</td>\n",
       "      <td>0.743924</td>\n",
       "      <td>0.144637</td>\n",
       "      <td>0.242184</td>\n",
       "      <td>0.588764</td>\n",
       "      <td>0.960939</td>\n",
       "      <td>0.730148</td>\n",
       "    </tr>\n",
       "    <tr>\n",
       "      <th>24</th>\n",
       "      <td>LogisticRegression</td>\n",
       "      <td>{'C': 10, 'dual': False, 'penalty': 'l2'}</td>\n",
       "      <td>True</td>\n",
       "      <td>0.737639</td>\n",
       "      <td>0.144351</td>\n",
       "      <td>0.241348</td>\n",
       "      <td>0.590779</td>\n",
       "      <td>0.960237</td>\n",
       "      <td>0.731192</td>\n",
       "    </tr>\n",
       "    <tr>\n",
       "      <th>25</th>\n",
       "      <td>LogisticRegression</td>\n",
       "      <td>{'C': 100, 'dual': False, 'penalty': 'l1'}</td>\n",
       "      <td>True</td>\n",
       "      <td>0.734925</td>\n",
       "      <td>0.145217</td>\n",
       "      <td>0.242453</td>\n",
       "      <td>0.595398</td>\n",
       "      <td>0.960118</td>\n",
       "      <td>0.734816</td>\n",
       "    </tr>\n",
       "    <tr>\n",
       "      <th>26</th>\n",
       "      <td>LogisticRegression</td>\n",
       "      <td>{'C': 100, 'dual': False, 'penalty': 'l2'}</td>\n",
       "      <td>True</td>\n",
       "      <td>0.732250</td>\n",
       "      <td>0.146173</td>\n",
       "      <td>0.243576</td>\n",
       "      <td>0.599681</td>\n",
       "      <td>0.960069</td>\n",
       "      <td>0.737871</td>\n",
       "    </tr>\n",
       "    <tr>\n",
       "      <th>27</th>\n",
       "      <td>LinearSVC</td>\n",
       "      <td>{'C': 0.01, 'dual': False, 'penalty': 'l2'}</td>\n",
       "      <td>True</td>\n",
       "      <td>0.745710</td>\n",
       "      <td>0.143391</td>\n",
       "      <td>0.240415</td>\n",
       "      <td>0.582969</td>\n",
       "      <td>0.960939</td>\n",
       "      <td>0.725299</td>\n",
       "    </tr>\n",
       "    <tr>\n",
       "      <th>28</th>\n",
       "      <td>LinearSVC</td>\n",
       "      <td>{'C': 0.1, 'dual': False, 'penalty': 'l2'}</td>\n",
       "      <td>True</td>\n",
       "      <td>0.765481</td>\n",
       "      <td>0.142106</td>\n",
       "      <td>0.239685</td>\n",
       "      <td>0.568021</td>\n",
       "      <td>0.962903</td>\n",
       "      <td>0.714427</td>\n",
       "    </tr>\n",
       "    <tr>\n",
       "      <th>29</th>\n",
       "      <td>LinearSVC</td>\n",
       "      <td>{'C': 1, 'dual': False, 'penalty': 'l2'}</td>\n",
       "      <td>True</td>\n",
       "      <td>0.756492</td>\n",
       "      <td>0.140152</td>\n",
       "      <td>0.236428</td>\n",
       "      <td>0.565586</td>\n",
       "      <td>0.961344</td>\n",
       "      <td>0.711924</td>\n",
       "    </tr>\n",
       "    <tr>\n",
       "      <th>30</th>\n",
       "      <td>LinearSVC</td>\n",
       "      <td>{'C': 10, 'dual': False, 'penalty': 'l2'}</td>\n",
       "      <td>True</td>\n",
       "      <td>0.752891</td>\n",
       "      <td>0.143707</td>\n",
       "      <td>0.241168</td>\n",
       "      <td>0.579190</td>\n",
       "      <td>0.961745</td>\n",
       "      <td>0.722378</td>\n",
       "    </tr>\n",
       "    <tr>\n",
       "      <th>31</th>\n",
       "      <td>LinearSVC</td>\n",
       "      <td>{'C': 100, 'dual': False, 'penalty': 'l2'}</td>\n",
       "      <td>True</td>\n",
       "      <td>0.749304</td>\n",
       "      <td>0.141705</td>\n",
       "      <td>0.238308</td>\n",
       "      <td>0.575579</td>\n",
       "      <td>0.960912</td>\n",
       "      <td>0.719807</td>\n",
       "    </tr>\n",
       "    <tr>\n",
       "      <th>32</th>\n",
       "      <td>LinearSVC</td>\n",
       "      <td>{'C': 0.01, 'dual': False, 'penalty': 'l1'}</td>\n",
       "      <td>True</td>\n",
       "      <td>0.760982</td>\n",
       "      <td>0.141905</td>\n",
       "      <td>0.239084</td>\n",
       "      <td>0.569197</td>\n",
       "      <td>0.962374</td>\n",
       "      <td>0.714870</td>\n",
       "    </tr>\n",
       "    <tr>\n",
       "      <th>33</th>\n",
       "      <td>LinearSVC</td>\n",
       "      <td>{'C': 0.1, 'dual': False, 'penalty': 'l1'}</td>\n",
       "      <td>True</td>\n",
       "      <td>0.745697</td>\n",
       "      <td>0.144376</td>\n",
       "      <td>0.241796</td>\n",
       "      <td>0.586161</td>\n",
       "      <td>0.961136</td>\n",
       "      <td>0.727793</td>\n",
       "    </tr>\n",
       "    <tr>\n",
       "      <th>34</th>\n",
       "      <td>LinearSVC</td>\n",
       "      <td>{'C': 1, 'dual': False, 'penalty': 'l1'}</td>\n",
       "      <td>True</td>\n",
       "      <td>0.744804</td>\n",
       "      <td>0.144252</td>\n",
       "      <td>0.241606</td>\n",
       "      <td>0.586412</td>\n",
       "      <td>0.960985</td>\n",
       "      <td>0.728061</td>\n",
       "    </tr>\n",
       "    <tr>\n",
       "      <th>35</th>\n",
       "      <td>LinearSVC</td>\n",
       "      <td>{'C': 10, 'dual': False, 'penalty': 'l1'}</td>\n",
       "      <td>True</td>\n",
       "      <td>0.750203</td>\n",
       "      <td>0.142899</td>\n",
       "      <td>0.239937</td>\n",
       "      <td>0.578603</td>\n",
       "      <td>0.961337</td>\n",
       "      <td>0.721950</td>\n",
       "    </tr>\n",
       "    <tr>\n",
       "      <th>36</th>\n",
       "      <td>LinearSVC</td>\n",
       "      <td>{'C': 100, 'dual': False, 'penalty': 'l1'}</td>\n",
       "      <td>True</td>\n",
       "      <td>0.756498</td>\n",
       "      <td>0.142926</td>\n",
       "      <td>0.240397</td>\n",
       "      <td>0.575663</td>\n",
       "      <td>0.961977</td>\n",
       "      <td>0.720169</td>\n",
       "    </tr>\n",
       "  </tbody>\n",
       "</table>\n",
       "</div>"
      ],
      "text/plain": [
       "                       clf                                             params  \\\n",
       "0   RandomForestClassifier  {'max_depth': None, 'max_features': 'sqrt', 'n...   \n",
       "1   RandomForestClassifier  {'max_depth': None, 'max_features': 'log2', 'n...   \n",
       "2   RandomForestClassifier  {'max_depth': None, 'max_features': 0.2, 'n_es...   \n",
       "3   RandomForestClassifier  {'max_depth': 3, 'max_features': 'sqrt', 'n_es...   \n",
       "4   RandomForestClassifier  {'max_depth': 3, 'max_features': 'log2', 'n_es...   \n",
       "5   RandomForestClassifier  {'max_depth': 3, 'max_features': 0.2, 'n_estim...   \n",
       "6   RandomForestClassifier  {'max_depth': 4, 'max_features': 'sqrt', 'n_es...   \n",
       "7   RandomForestClassifier  {'max_depth': 4, 'max_features': 'log2', 'n_es...   \n",
       "8   RandomForestClassifier  {'max_depth': 4, 'max_features': 0.2, 'n_estim...   \n",
       "9   RandomForestClassifier  {'max_depth': 5, 'max_features': 'sqrt', 'n_es...   \n",
       "10  RandomForestClassifier  {'max_depth': 5, 'max_features': 'log2', 'n_es...   \n",
       "11  RandomForestClassifier  {'max_depth': 5, 'max_features': 0.2, 'n_estim...   \n",
       "12               LinearSVC         {'C': 0.01, 'dual': True, 'penalty': 'l2'}   \n",
       "13               LinearSVC          {'C': 0.1, 'dual': True, 'penalty': 'l2'}   \n",
       "14               LinearSVC            {'C': 1, 'dual': True, 'penalty': 'l2'}   \n",
       "15               LinearSVC           {'C': 10, 'dual': True, 'penalty': 'l2'}   \n",
       "16               LinearSVC          {'C': 100, 'dual': True, 'penalty': 'l2'}   \n",
       "17      LogisticRegression        {'C': 0.01, 'dual': False, 'penalty': 'l1'}   \n",
       "18      LogisticRegression        {'C': 0.01, 'dual': False, 'penalty': 'l2'}   \n",
       "19      LogisticRegression         {'C': 0.1, 'dual': False, 'penalty': 'l1'}   \n",
       "20      LogisticRegression         {'C': 0.1, 'dual': False, 'penalty': 'l2'}   \n",
       "21      LogisticRegression           {'C': 1, 'dual': False, 'penalty': 'l1'}   \n",
       "22      LogisticRegression           {'C': 1, 'dual': False, 'penalty': 'l2'}   \n",
       "23      LogisticRegression          {'C': 10, 'dual': False, 'penalty': 'l1'}   \n",
       "24      LogisticRegression          {'C': 10, 'dual': False, 'penalty': 'l2'}   \n",
       "25      LogisticRegression         {'C': 100, 'dual': False, 'penalty': 'l1'}   \n",
       "26      LogisticRegression         {'C': 100, 'dual': False, 'penalty': 'l2'}   \n",
       "27               LinearSVC        {'C': 0.01, 'dual': False, 'penalty': 'l2'}   \n",
       "28               LinearSVC         {'C': 0.1, 'dual': False, 'penalty': 'l2'}   \n",
       "29               LinearSVC           {'C': 1, 'dual': False, 'penalty': 'l2'}   \n",
       "30               LinearSVC          {'C': 10, 'dual': False, 'penalty': 'l2'}   \n",
       "31               LinearSVC         {'C': 100, 'dual': False, 'penalty': 'l2'}   \n",
       "32               LinearSVC        {'C': 0.01, 'dual': False, 'penalty': 'l1'}   \n",
       "33               LinearSVC         {'C': 0.1, 'dual': False, 'penalty': 'l1'}   \n",
       "34               LinearSVC           {'C': 1, 'dual': False, 'penalty': 'l1'}   \n",
       "35               LinearSVC          {'C': 10, 'dual': False, 'penalty': 'l1'}   \n",
       "36               LinearSVC         {'C': 100, 'dual': False, 'penalty': 'l1'}   \n",
       "\n",
       "   smote   Trecall  Tprecision       Tf1   Frecall  Fprecision       Ff1  \n",
       "0   True  0.232682    0.161381  0.190056  0.886379    0.925151  0.905295  \n",
       "1   True  0.230000    0.165250  0.192231  0.891250    0.925283  0.907939  \n",
       "2   True  0.230896    0.170794  0.196287  0.895197    0.925670  0.910173  \n",
       "3   True  0.753829    0.142501  0.239686  0.575999    0.961596  0.720425  \n",
       "4   True  0.738548    0.142779  0.239282  0.585573    0.959970  0.727375  \n",
       "5   True  0.752917    0.140826  0.237259  0.570541    0.961103  0.715977  \n",
       "6   True  0.738554    0.145093  0.242535  0.593299    0.960451  0.733486  \n",
       "7   True  0.725968    0.146224  0.243411  0.603796    0.959317  0.741100  \n",
       "8   True  0.743918    0.144779  0.242371  0.589268    0.961000  0.730511  \n",
       "9   True  0.663018    0.153853  0.249376  0.657709    0.954486  0.778129  \n",
       "10  True  0.681919    0.149810  0.245481  0.637219    0.955473  0.764226  \n",
       "11  True  0.679215    0.151539  0.247608  0.643937    0.955631  0.769049  \n",
       "12  True  0.734922    0.143764  0.240334  0.589772    0.959778  0.730083  \n",
       "13  True  0.741220    0.139170  0.233783  0.568021    0.959751  0.711404  \n",
       "14  True  0.772621    0.136628  0.231771  0.540225    0.962597  0.690215  \n",
       "15  True  0.749226    0.136698  0.229052  0.538629    0.959883  0.679686  \n",
       "16  True  0.605690    0.127904  0.194969  0.566006    0.945794  0.662246  \n",
       "17  True  0.724114    0.143562  0.239428  0.595146    0.958662  0.733706  \n",
       "18  True  0.742135    0.144905  0.242366  0.590191    0.960867  0.730931  \n",
       "19  True  0.734013    0.146243  0.243743  0.598757    0.960290  0.737133  \n",
       "20  True  0.731334    0.144672  0.241514  0.595818    0.959633  0.735040  \n",
       "21  True  0.723238    0.146714  0.243845  0.606399    0.959181  0.742762  \n",
       "22  True  0.734915    0.143260  0.239713  0.589016    0.959737  0.729777  \n",
       "23  True  0.743924    0.144637  0.242184  0.588764    0.960939  0.730148  \n",
       "24  True  0.737639    0.144351  0.241348  0.590779    0.960237  0.731192  \n",
       "25  True  0.734925    0.145217  0.242453  0.595398    0.960118  0.734816  \n",
       "26  True  0.732250    0.146173  0.243576  0.599681    0.960069  0.737871  \n",
       "27  True  0.745710    0.143391  0.240415  0.582969    0.960939  0.725299  \n",
       "28  True  0.765481    0.142106  0.239685  0.568021    0.962903  0.714427  \n",
       "29  True  0.756492    0.140152  0.236428  0.565586    0.961344  0.711924  \n",
       "30  True  0.752891    0.143707  0.241168  0.579190    0.961745  0.722378  \n",
       "31  True  0.749304    0.141705  0.238308  0.575579    0.960912  0.719807  \n",
       "32  True  0.760982    0.141905  0.239084  0.569197    0.962374  0.714870  \n",
       "33  True  0.745697    0.144376  0.241796  0.586161    0.961136  0.727793  \n",
       "34  True  0.744804    0.144252  0.241606  0.586412    0.960985  0.728061  \n",
       "35  True  0.750203    0.142899  0.239937  0.578603    0.961337  0.721950  \n",
       "36  True  0.756498    0.142926  0.240397  0.575663    0.961977  0.720169  "
      ]
     },
     "execution_count": 335,
     "metadata": {},
     "output_type": "execute_result"
    }
   ],
   "source": [
    "clfs.clf_eval"
   ]
  },
  {
   "cell_type": "code",
   "execution_count": 49,
   "metadata": {
    "collapsed": true
   },
   "outputs": [],
   "source": [
    "clf = func.Clf(X, y)"
   ]
  },
  {
   "cell_type": "code",
   "execution_count": 50,
   "metadata": {},
   "outputs": [
    {
     "name": "stderr",
     "output_type": "stream",
     "text": [
      "/Users/youqiao/env/anaconda3/lib/python3.6/site-packages/sklearn/metrics/classification.py:1135: UndefinedMetricWarning: Precision and F-score are ill-defined and being set to 0.0 in labels with no predicted samples.\n",
      "  'precision', 'predicted', average, warn_for)\n",
      "/Users/youqiao/env/anaconda3/lib/python3.6/site-packages/sklearn/metrics/classification.py:1135: UndefinedMetricWarning: Precision and F-score are ill-defined and being set to 0.0 in labels with no predicted samples.\n",
      "  'precision', 'predicted', average, warn_for)\n",
      "/Users/youqiao/env/anaconda3/lib/python3.6/site-packages/sklearn/metrics/classification.py:1135: UndefinedMetricWarning: Precision and F-score are ill-defined and being set to 0.0 in labels with no predicted samples.\n",
      "  'precision', 'predicted', average, warn_for)\n",
      "/Users/youqiao/env/anaconda3/lib/python3.6/site-packages/sklearn/metrics/classification.py:1135: UndefinedMetricWarning: Precision and F-score are ill-defined and being set to 0.0 in labels with no predicted samples.\n",
      "  'precision', 'predicted', average, warn_for)\n",
      "/Users/youqiao/env/anaconda3/lib/python3.6/site-packages/sklearn/metrics/classification.py:1135: UndefinedMetricWarning: Precision and F-score are ill-defined and being set to 0.0 in labels with no predicted samples.\n",
      "  'precision', 'predicted', average, warn_for)\n",
      "/Users/youqiao/env/anaconda3/lib/python3.6/site-packages/sklearn/metrics/classification.py:1135: UndefinedMetricWarning: Precision and F-score are ill-defined and being set to 0.0 in labels with no predicted samples.\n",
      "  'precision', 'predicted', average, warn_for)\n",
      "/Users/youqiao/env/anaconda3/lib/python3.6/site-packages/sklearn/metrics/classification.py:1135: UndefinedMetricWarning: Precision and F-score are ill-defined and being set to 0.0 in labels with no predicted samples.\n",
      "  'precision', 'predicted', average, warn_for)\n",
      "/Users/youqiao/env/anaconda3/lib/python3.6/site-packages/sklearn/metrics/classification.py:1135: UndefinedMetricWarning: Precision and F-score are ill-defined and being set to 0.0 in labels with no predicted samples.\n",
      "  'precision', 'predicted', average, warn_for)\n",
      "/Users/youqiao/env/anaconda3/lib/python3.6/site-packages/sklearn/metrics/classification.py:1135: UndefinedMetricWarning: Precision and F-score are ill-defined and being set to 0.0 in labels with no predicted samples.\n",
      "  'precision', 'predicted', average, warn_for)\n",
      "/Users/youqiao/env/anaconda3/lib/python3.6/site-packages/sklearn/metrics/classification.py:1135: UndefinedMetricWarning: Precision and F-score are ill-defined and being set to 0.0 in labels with no predicted samples.\n",
      "  'precision', 'predicted', average, warn_for)\n",
      "/Users/youqiao/env/anaconda3/lib/python3.6/site-packages/sklearn/metrics/classification.py:1135: UndefinedMetricWarning: Precision and F-score are ill-defined and being set to 0.0 in labels with no predicted samples.\n",
      "  'precision', 'predicted', average, warn_for)\n",
      "/Users/youqiao/env/anaconda3/lib/python3.6/site-packages/sklearn/metrics/classification.py:1135: UndefinedMetricWarning: Precision and F-score are ill-defined and being set to 0.0 in labels with no predicted samples.\n",
      "  'precision', 'predicted', average, warn_for)\n",
      "/Users/youqiao/env/anaconda3/lib/python3.6/site-packages/sklearn/metrics/classification.py:1135: UndefinedMetricWarning: Precision and F-score are ill-defined and being set to 0.0 in labels with no predicted samples.\n",
      "  'precision', 'predicted', average, warn_for)\n",
      "/Users/youqiao/env/anaconda3/lib/python3.6/site-packages/sklearn/metrics/classification.py:1135: UndefinedMetricWarning: Precision and F-score are ill-defined and being set to 0.0 in labels with no predicted samples.\n",
      "  'precision', 'predicted', average, warn_for)\n",
      "/Users/youqiao/env/anaconda3/lib/python3.6/site-packages/sklearn/metrics/classification.py:1135: UndefinedMetricWarning: Precision and F-score are ill-defined and being set to 0.0 in labels with no predicted samples.\n",
      "  'precision', 'predicted', average, warn_for)\n",
      "/Users/youqiao/env/anaconda3/lib/python3.6/site-packages/sklearn/metrics/classification.py:1135: UndefinedMetricWarning: Precision and F-score are ill-defined and being set to 0.0 in labels with no predicted samples.\n",
      "  'precision', 'predicted', average, warn_for)\n",
      "/Users/youqiao/env/anaconda3/lib/python3.6/site-packages/sklearn/metrics/classification.py:1135: UndefinedMetricWarning: Precision and F-score are ill-defined and being set to 0.0 in labels with no predicted samples.\n",
      "  'precision', 'predicted', average, warn_for)\n",
      "/Users/youqiao/env/anaconda3/lib/python3.6/site-packages/sklearn/metrics/classification.py:1135: UndefinedMetricWarning: Precision and F-score are ill-defined and being set to 0.0 in labels with no predicted samples.\n",
      "  'precision', 'predicted', average, warn_for)\n",
      "/Users/youqiao/env/anaconda3/lib/python3.6/site-packages/sklearn/metrics/classification.py:1135: UndefinedMetricWarning: Precision and F-score are ill-defined and being set to 0.0 in labels with no predicted samples.\n",
      "  'precision', 'predicted', average, warn_for)\n",
      "/Users/youqiao/env/anaconda3/lib/python3.6/site-packages/sklearn/metrics/classification.py:1135: UndefinedMetricWarning: Precision and F-score are ill-defined and being set to 0.0 in labels with no predicted samples.\n",
      "  'precision', 'predicted', average, warn_for)\n",
      "/Users/youqiao/env/anaconda3/lib/python3.6/site-packages/sklearn/metrics/classification.py:1135: UndefinedMetricWarning: Precision and F-score are ill-defined and being set to 0.0 in labels with no predicted samples.\n",
      "  'precision', 'predicted', average, warn_for)\n",
      "/Users/youqiao/env/anaconda3/lib/python3.6/site-packages/sklearn/metrics/classification.py:1135: UndefinedMetricWarning: Precision and F-score are ill-defined and being set to 0.0 in labels with no predicted samples.\n",
      "  'precision', 'predicted', average, warn_for)\n",
      "/Users/youqiao/env/anaconda3/lib/python3.6/site-packages/sklearn/metrics/classification.py:1135: UndefinedMetricWarning: Precision and F-score are ill-defined and being set to 0.0 in labels with no predicted samples.\n",
      "  'precision', 'predicted', average, warn_for)\n",
      "/Users/youqiao/env/anaconda3/lib/python3.6/site-packages/sklearn/metrics/classification.py:1135: UndefinedMetricWarning: Precision and F-score are ill-defined and being set to 0.0 in labels with no predicted samples.\n",
      "  'precision', 'predicted', average, warn_for)\n",
      "/Users/youqiao/env/anaconda3/lib/python3.6/site-packages/sklearn/metrics/classification.py:1135: UndefinedMetricWarning: Precision and F-score are ill-defined and being set to 0.0 in labels with no predicted samples.\n",
      "  'precision', 'predicted', average, warn_for)\n",
      "/Users/youqiao/env/anaconda3/lib/python3.6/site-packages/sklearn/metrics/classification.py:1135: UndefinedMetricWarning: Precision and F-score are ill-defined and being set to 0.0 in labels with no predicted samples.\n",
      "  'precision', 'predicted', average, warn_for)\n",
      "/Users/youqiao/env/anaconda3/lib/python3.6/site-packages/sklearn/metrics/classification.py:1135: UndefinedMetricWarning: Precision and F-score are ill-defined and being set to 0.0 in labels with no predicted samples.\n",
      "  'precision', 'predicted', average, warn_for)\n",
      "/Users/youqiao/env/anaconda3/lib/python3.6/site-packages/sklearn/metrics/classification.py:1135: UndefinedMetricWarning: Precision and F-score are ill-defined and being set to 0.0 in labels with no predicted samples.\n",
      "  'precision', 'predicted', average, warn_for)\n",
      "/Users/youqiao/env/anaconda3/lib/python3.6/site-packages/sklearn/metrics/classification.py:1135: UndefinedMetricWarning: Precision and F-score are ill-defined and being set to 0.0 in labels with no predicted samples.\n",
      "  'precision', 'predicted', average, warn_for)\n",
      "/Users/youqiao/env/anaconda3/lib/python3.6/site-packages/sklearn/metrics/classification.py:1135: UndefinedMetricWarning: Precision and F-score are ill-defined and being set to 0.0 in labels with no predicted samples.\n",
      "  'precision', 'predicted', average, warn_for)\n",
      "/Users/youqiao/env/anaconda3/lib/python3.6/site-packages/sklearn/metrics/classification.py:1135: UndefinedMetricWarning: Precision and F-score are ill-defined and being set to 0.0 in labels with no predicted samples.\n",
      "  'precision', 'predicted', average, warn_for)\n",
      "/Users/youqiao/env/anaconda3/lib/python3.6/site-packages/sklearn/metrics/classification.py:1135: UndefinedMetricWarning: Precision and F-score are ill-defined and being set to 0.0 in labels with no predicted samples.\n",
      "  'precision', 'predicted', average, warn_for)\n"
     ]
    },
    {
     "name": "stderr",
     "output_type": "stream",
     "text": [
      "/Users/youqiao/env/anaconda3/lib/python3.6/site-packages/sklearn/metrics/classification.py:1135: UndefinedMetricWarning: Precision and F-score are ill-defined and being set to 0.0 in labels with no predicted samples.\n",
      "  'precision', 'predicted', average, warn_for)\n",
      "/Users/youqiao/env/anaconda3/lib/python3.6/site-packages/sklearn/metrics/classification.py:1135: UndefinedMetricWarning: Precision and F-score are ill-defined and being set to 0.0 in labels with no predicted samples.\n",
      "  'precision', 'predicted', average, warn_for)\n",
      "/Users/youqiao/env/anaconda3/lib/python3.6/site-packages/sklearn/metrics/classification.py:1135: UndefinedMetricWarning: Precision and F-score are ill-defined and being set to 0.0 in labels with no predicted samples.\n",
      "  'precision', 'predicted', average, warn_for)\n",
      "/Users/youqiao/env/anaconda3/lib/python3.6/site-packages/sklearn/metrics/classification.py:1135: UndefinedMetricWarning: Precision and F-score are ill-defined and being set to 0.0 in labels with no predicted samples.\n",
      "  'precision', 'predicted', average, warn_for)\n"
     ]
    }
   ],
   "source": [
    "clf.runKfold(RandomForestClassifier, {\"n_estimators\": [200], \n",
    "                                      'max_features': ['sqrt', 'log2', 0.2], \n",
    "                                      'max_depth': [None, 3, 4, 5]}, True)\n",
    "clf.runKfold(RandomForestClassifier, {\"n_estimators\": [200], \n",
    "                                      'max_features': ['sqrt', 'log2', 0.2], \n",
    "                                      'max_depth': [None, 3, 4, 5]}, False)"
   ]
  },
  {
   "cell_type": "code",
   "execution_count": 52,
   "metadata": {},
   "outputs": [
    {
     "name": "stderr",
     "output_type": "stream",
     "text": [
      "/Users/youqiao/env/anaconda3/lib/python3.6/site-packages/sklearn/metrics/classification.py:1135: UndefinedMetricWarning: Precision and F-score are ill-defined and being set to 0.0 in labels with no predicted samples.\n",
      "  'precision', 'predicted', average, warn_for)\n"
     ]
    }
   ],
   "source": [
    "clf.runKfold(LinearSVC, {\"dual\": [True], \"penalty\": ['l2'], 'C': [0.01, 0.1, 1, 10, 100]}, True)\n",
    "clf.runKfold(LinearSVC, {\"dual\": [True], \"penalty\": ['l2'], 'C': [0.01, 0.1, 1, 10, 100]}, False)"
   ]
  },
  {
   "cell_type": "code",
   "execution_count": 53,
   "metadata": {},
   "outputs": [
    {
     "name": "stderr",
     "output_type": "stream",
     "text": [
      "/Users/youqiao/env/anaconda3/lib/python3.6/site-packages/sklearn/metrics/classification.py:1135: UndefinedMetricWarning: Precision and F-score are ill-defined and being set to 0.0 in labels with no predicted samples.\n",
      "  'precision', 'predicted', average, warn_for)\n",
      "/Users/youqiao/env/anaconda3/lib/python3.6/site-packages/sklearn/metrics/classification.py:1135: UndefinedMetricWarning: Precision and F-score are ill-defined and being set to 0.0 in labels with no predicted samples.\n",
      "  'precision', 'predicted', average, warn_for)\n",
      "/Users/youqiao/env/anaconda3/lib/python3.6/site-packages/sklearn/metrics/classification.py:1135: UndefinedMetricWarning: Precision and F-score are ill-defined and being set to 0.0 in labels with no predicted samples.\n",
      "  'precision', 'predicted', average, warn_for)\n",
      "/Users/youqiao/env/anaconda3/lib/python3.6/site-packages/sklearn/metrics/classification.py:1135: UndefinedMetricWarning: Precision and F-score are ill-defined and being set to 0.0 in labels with no predicted samples.\n",
      "  'precision', 'predicted', average, warn_for)\n"
     ]
    }
   ],
   "source": [
    "clf.runKfold(LogisticRegression, {\"penalty\": ['l1', 'l2'], 'dual': [False], \"C\": [0.01, 0.1, 1, 10, 100]}, True)\n",
    "clf.runKfold(LogisticRegression, {\"penalty\": ['l1', 'l2'], 'dual': [False], \"C\": [0.01, 0.1, 1, 10, 100]}, False)"
   ]
  },
  {
   "cell_type": "code",
   "execution_count": null,
   "metadata": {
    "collapsed": true
   },
   "outputs": [],
   "source": [
    "clf.runKfold(NuSVC, {\"penalty\": ['l1', 'l2'], 'dual': [False], \"C\": [0.01, 0.1, 1, 10, 100]}, True)"
   ]
  },
  {
   "cell_type": "code",
   "execution_count": 109,
   "metadata": {},
   "outputs": [
    {
     "data": {
      "text/html": [
       "<div>\n",
       "<style>\n",
       "    .dataframe thead tr:only-child th {\n",
       "        text-align: right;\n",
       "    }\n",
       "\n",
       "    .dataframe thead th {\n",
       "        text-align: left;\n",
       "    }\n",
       "\n",
       "    .dataframe tbody tr th {\n",
       "        vertical-align: top;\n",
       "    }\n",
       "</style>\n",
       "<table border=\"1\" class=\"dataframe\">\n",
       "  <thead>\n",
       "    <tr style=\"text-align: right;\">\n",
       "      <th></th>\n",
       "      <th>clf</th>\n",
       "      <th>params</th>\n",
       "      <th>smote</th>\n",
       "      <th>Trecall</th>\n",
       "      <th>Tprecision</th>\n",
       "      <th>Tf1</th>\n",
       "      <th>Frecall</th>\n",
       "      <th>Fprecision</th>\n",
       "      <th>Ff1</th>\n",
       "    </tr>\n",
       "  </thead>\n",
       "  <tbody>\n",
       "    <tr>\n",
       "      <th>0</th>\n",
       "      <td>RandomForestClassifier</td>\n",
       "      <td>{'max_depth': None, 'max_features': 'sqrt', 'n...</td>\n",
       "      <td>True</td>\n",
       "      <td>0.248377</td>\n",
       "      <td>0.303108</td>\n",
       "      <td>0.272851</td>\n",
       "      <td>0.941775</td>\n",
       "      <td>0.924798</td>\n",
       "      <td>0.933205</td>\n",
       "    </tr>\n",
       "    <tr>\n",
       "      <th>1</th>\n",
       "      <td>RandomForestClassifier</td>\n",
       "      <td>{'max_depth': None, 'max_features': 'log2', 'n...</td>\n",
       "      <td>True</td>\n",
       "      <td>0.254058</td>\n",
       "      <td>0.310143</td>\n",
       "      <td>0.279175</td>\n",
       "      <td>0.942106</td>\n",
       "      <td>0.925341</td>\n",
       "      <td>0.933646</td>\n",
       "    </tr>\n",
       "    <tr>\n",
       "      <th>2</th>\n",
       "      <td>RandomForestClassifier</td>\n",
       "      <td>{'max_depth': None, 'max_features': 0.2, 'n_es...</td>\n",
       "      <td>True</td>\n",
       "      <td>0.254058</td>\n",
       "      <td>0.311201</td>\n",
       "      <td>0.279658</td>\n",
       "      <td>0.942437</td>\n",
       "      <td>0.925365</td>\n",
       "      <td>0.933821</td>\n",
       "    </tr>\n",
       "    <tr>\n",
       "      <th>3</th>\n",
       "      <td>RandomForestClassifier</td>\n",
       "      <td>{'max_depth': 3, 'max_features': 'sqrt', 'n_es...</td>\n",
       "      <td>True</td>\n",
       "      <td>0.754870</td>\n",
       "      <td>0.152559</td>\n",
       "      <td>0.253786</td>\n",
       "      <td>0.572410</td>\n",
       "      <td>0.958194</td>\n",
       "      <td>0.716572</td>\n",
       "    </tr>\n",
       "    <tr>\n",
       "      <th>4</th>\n",
       "      <td>RandomForestClassifier</td>\n",
       "      <td>{'max_depth': 3, 'max_features': 'log2', 'n_es...</td>\n",
       "      <td>True</td>\n",
       "      <td>0.742695</td>\n",
       "      <td>0.155780</td>\n",
       "      <td>0.257529</td>\n",
       "      <td>0.589860</td>\n",
       "      <td>0.957461</td>\n",
       "      <td>0.729961</td>\n",
       "    </tr>\n",
       "    <tr>\n",
       "      <th>5</th>\n",
       "      <td>RandomForestClassifier</td>\n",
       "      <td>{'max_depth': 3, 'max_features': 0.2, 'n_estim...</td>\n",
       "      <td>True</td>\n",
       "      <td>0.776786</td>\n",
       "      <td>0.153314</td>\n",
       "      <td>0.256053</td>\n",
       "      <td>0.562898</td>\n",
       "      <td>0.961247</td>\n",
       "      <td>0.709902</td>\n",
       "    </tr>\n",
       "    <tr>\n",
       "      <th>6</th>\n",
       "      <td>RandomForestClassifier</td>\n",
       "      <td>{'max_depth': 4, 'max_features': 'sqrt', 'n_es...</td>\n",
       "      <td>True</td>\n",
       "      <td>0.745942</td>\n",
       "      <td>0.155909</td>\n",
       "      <td>0.257899</td>\n",
       "      <td>0.588288</td>\n",
       "      <td>0.957832</td>\n",
       "      <td>0.728862</td>\n",
       "    </tr>\n",
       "    <tr>\n",
       "      <th>7</th>\n",
       "      <td>RandomForestClassifier</td>\n",
       "      <td>{'max_depth': 4, 'max_features': 'log2', 'n_es...</td>\n",
       "      <td>True</td>\n",
       "      <td>0.733766</td>\n",
       "      <td>0.158403</td>\n",
       "      <td>0.260511</td>\n",
       "      <td>0.602266</td>\n",
       "      <td>0.956884</td>\n",
       "      <td>0.739133</td>\n",
       "    </tr>\n",
       "    <tr>\n",
       "      <th>8</th>\n",
       "      <td>RandomForestClassifier</td>\n",
       "      <td>{'max_depth': 4, 'max_features': 0.2, 'n_estim...</td>\n",
       "      <td>True</td>\n",
       "      <td>0.697240</td>\n",
       "      <td>0.172321</td>\n",
       "      <td>0.276263</td>\n",
       "      <td>0.658588</td>\n",
       "      <td>0.955311</td>\n",
       "      <td>0.779553</td>\n",
       "    </tr>\n",
       "    <tr>\n",
       "      <th>9</th>\n",
       "      <td>RandomForestClassifier</td>\n",
       "      <td>{'max_depth': 5, 'max_features': 'sqrt', 'n_es...</td>\n",
       "      <td>True</td>\n",
       "      <td>0.714286</td>\n",
       "      <td>0.165504</td>\n",
       "      <td>0.268536</td>\n",
       "      <td>0.631542</td>\n",
       "      <td>0.955953</td>\n",
       "      <td>0.760206</td>\n",
       "    </tr>\n",
       "    <tr>\n",
       "      <th>10</th>\n",
       "      <td>RandomForestClassifier</td>\n",
       "      <td>{'max_depth': 5, 'max_features': 'log2', 'n_es...</td>\n",
       "      <td>True</td>\n",
       "      <td>0.715097</td>\n",
       "      <td>0.162328</td>\n",
       "      <td>0.264586</td>\n",
       "      <td>0.623935</td>\n",
       "      <td>0.955541</td>\n",
       "      <td>0.754913</td>\n",
       "    </tr>\n",
       "    <tr>\n",
       "      <th>11</th>\n",
       "      <td>RandomForestClassifier</td>\n",
       "      <td>{'max_depth': 5, 'max_features': 0.2, 'n_estim...</td>\n",
       "      <td>True</td>\n",
       "      <td>0.673701</td>\n",
       "      <td>0.181616</td>\n",
       "      <td>0.286072</td>\n",
       "      <td>0.690844</td>\n",
       "      <td>0.954132</td>\n",
       "      <td>0.801382</td>\n",
       "    </tr>\n",
       "    <tr>\n",
       "      <th>12</th>\n",
       "      <td>RandomForestClassifier</td>\n",
       "      <td>{'max_depth': None, 'max_features': 'sqrt', 'n...</td>\n",
       "      <td>False</td>\n",
       "      <td>0.150162</td>\n",
       "      <td>0.627855</td>\n",
       "      <td>0.242323</td>\n",
       "      <td>0.990903</td>\n",
       "      <td>0.919635</td>\n",
       "      <td>0.953939</td>\n",
       "    </tr>\n",
       "    <tr>\n",
       "      <th>13</th>\n",
       "      <td>RandomForestClassifier</td>\n",
       "      <td>{'max_depth': None, 'max_features': 'log2', 'n...</td>\n",
       "      <td>False</td>\n",
       "      <td>0.150162</td>\n",
       "      <td>0.639880</td>\n",
       "      <td>0.243051</td>\n",
       "      <td>0.991151</td>\n",
       "      <td>0.919652</td>\n",
       "      <td>0.954063</td>\n",
       "    </tr>\n",
       "    <tr>\n",
       "      <th>14</th>\n",
       "      <td>RandomForestClassifier</td>\n",
       "      <td>{'max_depth': None, 'max_features': 0.2, 'n_es...</td>\n",
       "      <td>False</td>\n",
       "      <td>0.163149</td>\n",
       "      <td>0.602861</td>\n",
       "      <td>0.256758</td>\n",
       "      <td>0.989000</td>\n",
       "      <td>0.920625</td>\n",
       "      <td>0.953588</td>\n",
       "    </tr>\n",
       "    <tr>\n",
       "      <th>15</th>\n",
       "      <td>RandomForestClassifier</td>\n",
       "      <td>{'max_depth': 3, 'max_features': 'sqrt', 'n_es...</td>\n",
       "      <td>False</td>\n",
       "      <td>0.000000</td>\n",
       "      <td>0.000000</td>\n",
       "      <td>0.000000</td>\n",
       "      <td>1.000000</td>\n",
       "      <td>0.907528</td>\n",
       "      <td>0.951523</td>\n",
       "    </tr>\n",
       "    <tr>\n",
       "      <th>16</th>\n",
       "      <td>RandomForestClassifier</td>\n",
       "      <td>{'max_depth': 3, 'max_features': 'log2', 'n_es...</td>\n",
       "      <td>False</td>\n",
       "      <td>0.000000</td>\n",
       "      <td>0.000000</td>\n",
       "      <td>0.000000</td>\n",
       "      <td>1.000000</td>\n",
       "      <td>0.907528</td>\n",
       "      <td>0.951523</td>\n",
       "    </tr>\n",
       "    <tr>\n",
       "      <th>17</th>\n",
       "      <td>RandomForestClassifier</td>\n",
       "      <td>{'max_depth': 3, 'max_features': 0.2, 'n_estim...</td>\n",
       "      <td>False</td>\n",
       "      <td>0.000000</td>\n",
       "      <td>0.000000</td>\n",
       "      <td>0.000000</td>\n",
       "      <td>1.000000</td>\n",
       "      <td>0.907528</td>\n",
       "      <td>0.951523</td>\n",
       "    </tr>\n",
       "    <tr>\n",
       "      <th>18</th>\n",
       "      <td>RandomForestClassifier</td>\n",
       "      <td>{'max_depth': 4, 'max_features': 'sqrt', 'n_es...</td>\n",
       "      <td>False</td>\n",
       "      <td>0.000000</td>\n",
       "      <td>0.000000</td>\n",
       "      <td>0.000000</td>\n",
       "      <td>1.000000</td>\n",
       "      <td>0.907528</td>\n",
       "      <td>0.951523</td>\n",
       "    </tr>\n",
       "    <tr>\n",
       "      <th>19</th>\n",
       "      <td>RandomForestClassifier</td>\n",
       "      <td>{'max_depth': 4, 'max_features': 'log2', 'n_es...</td>\n",
       "      <td>False</td>\n",
       "      <td>0.000000</td>\n",
       "      <td>0.000000</td>\n",
       "      <td>0.000000</td>\n",
       "      <td>1.000000</td>\n",
       "      <td>0.907528</td>\n",
       "      <td>0.951523</td>\n",
       "    </tr>\n",
       "    <tr>\n",
       "      <th>20</th>\n",
       "      <td>RandomForestClassifier</td>\n",
       "      <td>{'max_depth': 4, 'max_features': 0.2, 'n_estim...</td>\n",
       "      <td>False</td>\n",
       "      <td>0.000000</td>\n",
       "      <td>0.000000</td>\n",
       "      <td>0.000000</td>\n",
       "      <td>1.000000</td>\n",
       "      <td>0.907528</td>\n",
       "      <td>0.951523</td>\n",
       "    </tr>\n",
       "    <tr>\n",
       "      <th>21</th>\n",
       "      <td>RandomForestClassifier</td>\n",
       "      <td>{'max_depth': 5, 'max_features': 'sqrt', 'n_es...</td>\n",
       "      <td>False</td>\n",
       "      <td>0.000000</td>\n",
       "      <td>0.000000</td>\n",
       "      <td>0.000000</td>\n",
       "      <td>1.000000</td>\n",
       "      <td>0.907528</td>\n",
       "      <td>0.951523</td>\n",
       "    </tr>\n",
       "    <tr>\n",
       "      <th>22</th>\n",
       "      <td>RandomForestClassifier</td>\n",
       "      <td>{'max_depth': 5, 'max_features': 'log2', 'n_es...</td>\n",
       "      <td>False</td>\n",
       "      <td>0.000000</td>\n",
       "      <td>0.000000</td>\n",
       "      <td>0.000000</td>\n",
       "      <td>1.000000</td>\n",
       "      <td>0.907528</td>\n",
       "      <td>0.951523</td>\n",
       "    </tr>\n",
       "    <tr>\n",
       "      <th>23</th>\n",
       "      <td>RandomForestClassifier</td>\n",
       "      <td>{'max_depth': 5, 'max_features': 0.2, 'n_estim...</td>\n",
       "      <td>False</td>\n",
       "      <td>0.000000</td>\n",
       "      <td>0.000000</td>\n",
       "      <td>0.000000</td>\n",
       "      <td>1.000000</td>\n",
       "      <td>0.907528</td>\n",
       "      <td>0.951523</td>\n",
       "    </tr>\n",
       "  </tbody>\n",
       "</table>\n",
       "</div>"
      ],
      "text/plain": [
       "                       clf                                             params  \\\n",
       "0   RandomForestClassifier  {'max_depth': None, 'max_features': 'sqrt', 'n...   \n",
       "1   RandomForestClassifier  {'max_depth': None, 'max_features': 'log2', 'n...   \n",
       "2   RandomForestClassifier  {'max_depth': None, 'max_features': 0.2, 'n_es...   \n",
       "3   RandomForestClassifier  {'max_depth': 3, 'max_features': 'sqrt', 'n_es...   \n",
       "4   RandomForestClassifier  {'max_depth': 3, 'max_features': 'log2', 'n_es...   \n",
       "5   RandomForestClassifier  {'max_depth': 3, 'max_features': 0.2, 'n_estim...   \n",
       "6   RandomForestClassifier  {'max_depth': 4, 'max_features': 'sqrt', 'n_es...   \n",
       "7   RandomForestClassifier  {'max_depth': 4, 'max_features': 'log2', 'n_es...   \n",
       "8   RandomForestClassifier  {'max_depth': 4, 'max_features': 0.2, 'n_estim...   \n",
       "9   RandomForestClassifier  {'max_depth': 5, 'max_features': 'sqrt', 'n_es...   \n",
       "10  RandomForestClassifier  {'max_depth': 5, 'max_features': 'log2', 'n_es...   \n",
       "11  RandomForestClassifier  {'max_depth': 5, 'max_features': 0.2, 'n_estim...   \n",
       "12  RandomForestClassifier  {'max_depth': None, 'max_features': 'sqrt', 'n...   \n",
       "13  RandomForestClassifier  {'max_depth': None, 'max_features': 'log2', 'n...   \n",
       "14  RandomForestClassifier  {'max_depth': None, 'max_features': 0.2, 'n_es...   \n",
       "15  RandomForestClassifier  {'max_depth': 3, 'max_features': 'sqrt', 'n_es...   \n",
       "16  RandomForestClassifier  {'max_depth': 3, 'max_features': 'log2', 'n_es...   \n",
       "17  RandomForestClassifier  {'max_depth': 3, 'max_features': 0.2, 'n_estim...   \n",
       "18  RandomForestClassifier  {'max_depth': 4, 'max_features': 'sqrt', 'n_es...   \n",
       "19  RandomForestClassifier  {'max_depth': 4, 'max_features': 'log2', 'n_es...   \n",
       "20  RandomForestClassifier  {'max_depth': 4, 'max_features': 0.2, 'n_estim...   \n",
       "21  RandomForestClassifier  {'max_depth': 5, 'max_features': 'sqrt', 'n_es...   \n",
       "22  RandomForestClassifier  {'max_depth': 5, 'max_features': 'log2', 'n_es...   \n",
       "23  RandomForestClassifier  {'max_depth': 5, 'max_features': 0.2, 'n_estim...   \n",
       "\n",
       "    smote   Trecall  Tprecision       Tf1   Frecall  Fprecision       Ff1  \n",
       "0    True  0.248377    0.303108  0.272851  0.941775    0.924798  0.933205  \n",
       "1    True  0.254058    0.310143  0.279175  0.942106    0.925341  0.933646  \n",
       "2    True  0.254058    0.311201  0.279658  0.942437    0.925365  0.933821  \n",
       "3    True  0.754870    0.152559  0.253786  0.572410    0.958194  0.716572  \n",
       "4    True  0.742695    0.155780  0.257529  0.589860    0.957461  0.729961  \n",
       "5    True  0.776786    0.153314  0.256053  0.562898    0.961247  0.709902  \n",
       "6    True  0.745942    0.155909  0.257899  0.588288    0.957832  0.728862  \n",
       "7    True  0.733766    0.158403  0.260511  0.602266    0.956884  0.739133  \n",
       "8    True  0.697240    0.172321  0.276263  0.658588    0.955311  0.779553  \n",
       "9    True  0.714286    0.165504  0.268536  0.631542    0.955953  0.760206  \n",
       "10   True  0.715097    0.162328  0.264586  0.623935    0.955541  0.754913  \n",
       "11   True  0.673701    0.181616  0.286072  0.690844    0.954132  0.801382  \n",
       "12  False  0.150162    0.627855  0.242323  0.990903    0.919635  0.953939  \n",
       "13  False  0.150162    0.639880  0.243051  0.991151    0.919652  0.954063  \n",
       "14  False  0.163149    0.602861  0.256758  0.989000    0.920625  0.953588  \n",
       "15  False  0.000000    0.000000  0.000000  1.000000    0.907528  0.951523  \n",
       "16  False  0.000000    0.000000  0.000000  1.000000    0.907528  0.951523  \n",
       "17  False  0.000000    0.000000  0.000000  1.000000    0.907528  0.951523  \n",
       "18  False  0.000000    0.000000  0.000000  1.000000    0.907528  0.951523  \n",
       "19  False  0.000000    0.000000  0.000000  1.000000    0.907528  0.951523  \n",
       "20  False  0.000000    0.000000  0.000000  1.000000    0.907528  0.951523  \n",
       "21  False  0.000000    0.000000  0.000000  1.000000    0.907528  0.951523  \n",
       "22  False  0.000000    0.000000  0.000000  1.000000    0.907528  0.951523  \n",
       "23  False  0.000000    0.000000  0.000000  1.000000    0.907528  0.951523  "
      ]
     },
     "execution_count": 109,
     "metadata": {},
     "output_type": "execute_result"
    }
   ],
   "source": [
    "# RandomForestClassifier, LinearSVC, LogisticRegression\n",
    "clf.clf_eval[clf.clf_eval['clf'] == 'RandomForestClassifier']"
   ]
  },
  {
   "cell_type": "code",
   "execution_count": 79,
   "metadata": {},
   "outputs": [
    {
     "data": {
      "text/html": [
       "<div>\n",
       "<style>\n",
       "    .dataframe thead tr:only-child th {\n",
       "        text-align: right;\n",
       "    }\n",
       "\n",
       "    .dataframe thead th {\n",
       "        text-align: left;\n",
       "    }\n",
       "\n",
       "    .dataframe tbody tr th {\n",
       "        vertical-align: top;\n",
       "    }\n",
       "</style>\n",
       "<table border=\"1\" class=\"dataframe\">\n",
       "  <thead>\n",
       "    <tr style=\"text-align: right;\">\n",
       "      <th></th>\n",
       "      <th>clf</th>\n",
       "      <th>params</th>\n",
       "      <th>smote</th>\n",
       "      <th>Trecall</th>\n",
       "      <th>Tprecision</th>\n",
       "      <th>Tf1</th>\n",
       "      <th>Frecall</th>\n",
       "      <th>Fprecision</th>\n",
       "      <th>Ff1</th>\n",
       "    </tr>\n",
       "  </thead>\n",
       "  <tbody>\n",
       "    <tr>\n",
       "      <th>34</th>\n",
       "      <td>LogisticRegression</td>\n",
       "      <td>{'C': 0.01, 'dual': False, 'penalty': 'l1'}</td>\n",
       "      <td>True</td>\n",
       "      <td>0.737825</td>\n",
       "      <td>0.164888</td>\n",
       "      <td>0.269528</td>\n",
       "      <td>0.619222</td>\n",
       "      <td>0.958659</td>\n",
       "      <td>0.752402</td>\n",
       "    </tr>\n",
       "    <tr>\n",
       "      <th>35</th>\n",
       "      <td>LogisticRegression</td>\n",
       "      <td>{'C': 0.01, 'dual': False, 'penalty': 'l2'}</td>\n",
       "      <td>True</td>\n",
       "      <td>0.731331</td>\n",
       "      <td>0.175395</td>\n",
       "      <td>0.282895</td>\n",
       "      <td>0.649327</td>\n",
       "      <td>0.959537</td>\n",
       "      <td>0.774462</td>\n",
       "    </tr>\n",
       "    <tr>\n",
       "      <th>36</th>\n",
       "      <td>LogisticRegression</td>\n",
       "      <td>{'C': 0.1, 'dual': False, 'penalty': 'l1'}</td>\n",
       "      <td>True</td>\n",
       "      <td>0.719968</td>\n",
       "      <td>0.175689</td>\n",
       "      <td>0.282415</td>\n",
       "      <td>0.655612</td>\n",
       "      <td>0.958305</td>\n",
       "      <td>0.778515</td>\n",
       "    </tr>\n",
       "    <tr>\n",
       "      <th>37</th>\n",
       "      <td>LogisticRegression</td>\n",
       "      <td>{'C': 0.1, 'dual': False, 'penalty': 'l2'}</td>\n",
       "      <td>True</td>\n",
       "      <td>0.739448</td>\n",
       "      <td>0.164385</td>\n",
       "      <td>0.268532</td>\n",
       "      <td>0.613519</td>\n",
       "      <td>0.958580</td>\n",
       "      <td>0.747141</td>\n",
       "    </tr>\n",
       "    <tr>\n",
       "      <th>38</th>\n",
       "      <td>LogisticRegression</td>\n",
       "      <td>{'C': 1, 'dual': False, 'penalty': 'l1'}</td>\n",
       "      <td>True</td>\n",
       "      <td>0.707792</td>\n",
       "      <td>0.176973</td>\n",
       "      <td>0.283097</td>\n",
       "      <td>0.664462</td>\n",
       "      <td>0.957144</td>\n",
       "      <td>0.784314</td>\n",
       "    </tr>\n",
       "    <tr>\n",
       "      <th>39</th>\n",
       "      <td>LogisticRegression</td>\n",
       "      <td>{'C': 1, 'dual': False, 'penalty': 'l2'}</td>\n",
       "      <td>True</td>\n",
       "      <td>0.706169</td>\n",
       "      <td>0.175902</td>\n",
       "      <td>0.281594</td>\n",
       "      <td>0.662559</td>\n",
       "      <td>0.956770</td>\n",
       "      <td>0.782859</td>\n",
       "    </tr>\n",
       "    <tr>\n",
       "      <th>40</th>\n",
       "      <td>LogisticRegression</td>\n",
       "      <td>{'C': 10, 'dual': False, 'penalty': 'l1'}</td>\n",
       "      <td>True</td>\n",
       "      <td>0.697240</td>\n",
       "      <td>0.173694</td>\n",
       "      <td>0.278036</td>\n",
       "      <td>0.661567</td>\n",
       "      <td>0.955451</td>\n",
       "      <td>0.781698</td>\n",
       "    </tr>\n",
       "    <tr>\n",
       "      <th>41</th>\n",
       "      <td>LogisticRegression</td>\n",
       "      <td>{'C': 10, 'dual': False, 'penalty': 'l2'}</td>\n",
       "      <td>True</td>\n",
       "      <td>0.698052</td>\n",
       "      <td>0.174648</td>\n",
       "      <td>0.279334</td>\n",
       "      <td>0.663718</td>\n",
       "      <td>0.955736</td>\n",
       "      <td>0.783312</td>\n",
       "    </tr>\n",
       "    <tr>\n",
       "      <th>42</th>\n",
       "      <td>LogisticRegression</td>\n",
       "      <td>{'C': 100, 'dual': False, 'penalty': 'l1'}</td>\n",
       "      <td>True</td>\n",
       "      <td>0.709416</td>\n",
       "      <td>0.177000</td>\n",
       "      <td>0.283253</td>\n",
       "      <td>0.663635</td>\n",
       "      <td>0.957311</td>\n",
       "      <td>0.783784</td>\n",
       "    </tr>\n",
       "    <tr>\n",
       "      <th>43</th>\n",
       "      <td>LogisticRegression</td>\n",
       "      <td>{'C': 100, 'dual': False, 'penalty': 'l2'}</td>\n",
       "      <td>True</td>\n",
       "      <td>0.713474</td>\n",
       "      <td>0.175877</td>\n",
       "      <td>0.282172</td>\n",
       "      <td>0.659168</td>\n",
       "      <td>0.957581</td>\n",
       "      <td>0.780804</td>\n",
       "    </tr>\n",
       "    <tr>\n",
       "      <th>44</th>\n",
       "      <td>LogisticRegression</td>\n",
       "      <td>{'C': 0.01, 'dual': False, 'penalty': 'l1'}</td>\n",
       "      <td>False</td>\n",
       "      <td>0.000000</td>\n",
       "      <td>0.000000</td>\n",
       "      <td>0.000000</td>\n",
       "      <td>1.000000</td>\n",
       "      <td>0.907528</td>\n",
       "      <td>0.951523</td>\n",
       "    </tr>\n",
       "    <tr>\n",
       "      <th>45</th>\n",
       "      <td>LogisticRegression</td>\n",
       "      <td>{'C': 0.01, 'dual': False, 'penalty': 'l2'}</td>\n",
       "      <td>False</td>\n",
       "      <td>0.000000</td>\n",
       "      <td>0.000000</td>\n",
       "      <td>0.000000</td>\n",
       "      <td>1.000000</td>\n",
       "      <td>0.907528</td>\n",
       "      <td>0.951523</td>\n",
       "    </tr>\n",
       "    <tr>\n",
       "      <th>46</th>\n",
       "      <td>LogisticRegression</td>\n",
       "      <td>{'C': 0.1, 'dual': False, 'penalty': 'l1'}</td>\n",
       "      <td>False</td>\n",
       "      <td>0.000812</td>\n",
       "      <td>0.125000</td>\n",
       "      <td>0.001613</td>\n",
       "      <td>0.999835</td>\n",
       "      <td>0.907583</td>\n",
       "      <td>0.951478</td>\n",
       "    </tr>\n",
       "    <tr>\n",
       "      <th>47</th>\n",
       "      <td>LogisticRegression</td>\n",
       "      <td>{'C': 0.1, 'dual': False, 'penalty': 'l2'}</td>\n",
       "      <td>False</td>\n",
       "      <td>0.004870</td>\n",
       "      <td>0.415179</td>\n",
       "      <td>0.009540</td>\n",
       "      <td>0.998842</td>\n",
       "      <td>0.907840</td>\n",
       "      <td>0.951169</td>\n",
       "    </tr>\n",
       "    <tr>\n",
       "      <th>48</th>\n",
       "      <td>LogisticRegression</td>\n",
       "      <td>{'C': 1, 'dual': False, 'penalty': 'l1'}</td>\n",
       "      <td>False</td>\n",
       "      <td>0.011364</td>\n",
       "      <td>0.312698</td>\n",
       "      <td>0.021791</td>\n",
       "      <td>0.997271</td>\n",
       "      <td>0.908256</td>\n",
       "      <td>0.950684</td>\n",
       "    </tr>\n",
       "    <tr>\n",
       "      <th>49</th>\n",
       "      <td>LogisticRegression</td>\n",
       "      <td>{'C': 1, 'dual': False, 'penalty': 'l2'}</td>\n",
       "      <td>False</td>\n",
       "      <td>0.017857</td>\n",
       "      <td>0.419808</td>\n",
       "      <td>0.034059</td>\n",
       "      <td>0.996692</td>\n",
       "      <td>0.908755</td>\n",
       "      <td>0.950693</td>\n",
       "    </tr>\n",
       "    <tr>\n",
       "      <th>50</th>\n",
       "      <td>LogisticRegression</td>\n",
       "      <td>{'C': 10, 'dual': False, 'penalty': 'l1'}</td>\n",
       "      <td>False</td>\n",
       "      <td>0.021104</td>\n",
       "      <td>0.361627</td>\n",
       "      <td>0.039655</td>\n",
       "      <td>0.995534</td>\n",
       "      <td>0.908933</td>\n",
       "      <td>0.950264</td>\n",
       "    </tr>\n",
       "    <tr>\n",
       "      <th>51</th>\n",
       "      <td>LogisticRegression</td>\n",
       "      <td>{'C': 10, 'dual': False, 'penalty': 'l2'}</td>\n",
       "      <td>False</td>\n",
       "      <td>0.019481</td>\n",
       "      <td>0.314881</td>\n",
       "      <td>0.036609</td>\n",
       "      <td>0.995451</td>\n",
       "      <td>0.908789</td>\n",
       "      <td>0.950148</td>\n",
       "    </tr>\n",
       "    <tr>\n",
       "      <th>52</th>\n",
       "      <td>LogisticRegression</td>\n",
       "      <td>{'C': 100, 'dual': False, 'penalty': 'l1'}</td>\n",
       "      <td>False</td>\n",
       "      <td>0.020292</td>\n",
       "      <td>0.314835</td>\n",
       "      <td>0.038001</td>\n",
       "      <td>0.995037</td>\n",
       "      <td>0.908823</td>\n",
       "      <td>0.949978</td>\n",
       "    </tr>\n",
       "    <tr>\n",
       "      <th>53</th>\n",
       "      <td>LogisticRegression</td>\n",
       "      <td>{'C': 100, 'dual': False, 'penalty': 'l2'}</td>\n",
       "      <td>False</td>\n",
       "      <td>0.016234</td>\n",
       "      <td>0.266865</td>\n",
       "      <td>0.030470</td>\n",
       "      <td>0.996691</td>\n",
       "      <td>0.908620</td>\n",
       "      <td>0.950618</td>\n",
       "    </tr>\n",
       "  </tbody>\n",
       "</table>\n",
       "</div>"
      ],
      "text/plain": [
       "                   clf                                       params  smote  \\\n",
       "34  LogisticRegression  {'C': 0.01, 'dual': False, 'penalty': 'l1'}   True   \n",
       "35  LogisticRegression  {'C': 0.01, 'dual': False, 'penalty': 'l2'}   True   \n",
       "36  LogisticRegression   {'C': 0.1, 'dual': False, 'penalty': 'l1'}   True   \n",
       "37  LogisticRegression   {'C': 0.1, 'dual': False, 'penalty': 'l2'}   True   \n",
       "38  LogisticRegression     {'C': 1, 'dual': False, 'penalty': 'l1'}   True   \n",
       "39  LogisticRegression     {'C': 1, 'dual': False, 'penalty': 'l2'}   True   \n",
       "40  LogisticRegression    {'C': 10, 'dual': False, 'penalty': 'l1'}   True   \n",
       "41  LogisticRegression    {'C': 10, 'dual': False, 'penalty': 'l2'}   True   \n",
       "42  LogisticRegression   {'C': 100, 'dual': False, 'penalty': 'l1'}   True   \n",
       "43  LogisticRegression   {'C': 100, 'dual': False, 'penalty': 'l2'}   True   \n",
       "44  LogisticRegression  {'C': 0.01, 'dual': False, 'penalty': 'l1'}  False   \n",
       "45  LogisticRegression  {'C': 0.01, 'dual': False, 'penalty': 'l2'}  False   \n",
       "46  LogisticRegression   {'C': 0.1, 'dual': False, 'penalty': 'l1'}  False   \n",
       "47  LogisticRegression   {'C': 0.1, 'dual': False, 'penalty': 'l2'}  False   \n",
       "48  LogisticRegression     {'C': 1, 'dual': False, 'penalty': 'l1'}  False   \n",
       "49  LogisticRegression     {'C': 1, 'dual': False, 'penalty': 'l2'}  False   \n",
       "50  LogisticRegression    {'C': 10, 'dual': False, 'penalty': 'l1'}  False   \n",
       "51  LogisticRegression    {'C': 10, 'dual': False, 'penalty': 'l2'}  False   \n",
       "52  LogisticRegression   {'C': 100, 'dual': False, 'penalty': 'l1'}  False   \n",
       "53  LogisticRegression   {'C': 100, 'dual': False, 'penalty': 'l2'}  False   \n",
       "\n",
       "     Trecall  Tprecision       Tf1   Frecall  Fprecision       Ff1  \n",
       "34  0.737825    0.164888  0.269528  0.619222    0.958659  0.752402  \n",
       "35  0.731331    0.175395  0.282895  0.649327    0.959537  0.774462  \n",
       "36  0.719968    0.175689  0.282415  0.655612    0.958305  0.778515  \n",
       "37  0.739448    0.164385  0.268532  0.613519    0.958580  0.747141  \n",
       "38  0.707792    0.176973  0.283097  0.664462    0.957144  0.784314  \n",
       "39  0.706169    0.175902  0.281594  0.662559    0.956770  0.782859  \n",
       "40  0.697240    0.173694  0.278036  0.661567    0.955451  0.781698  \n",
       "41  0.698052    0.174648  0.279334  0.663718    0.955736  0.783312  \n",
       "42  0.709416    0.177000  0.283253  0.663635    0.957311  0.783784  \n",
       "43  0.713474    0.175877  0.282172  0.659168    0.957581  0.780804  \n",
       "44  0.000000    0.000000  0.000000  1.000000    0.907528  0.951523  \n",
       "45  0.000000    0.000000  0.000000  1.000000    0.907528  0.951523  \n",
       "46  0.000812    0.125000  0.001613  0.999835    0.907583  0.951478  \n",
       "47  0.004870    0.415179  0.009540  0.998842    0.907840  0.951169  \n",
       "48  0.011364    0.312698  0.021791  0.997271    0.908256  0.950684  \n",
       "49  0.017857    0.419808  0.034059  0.996692    0.908755  0.950693  \n",
       "50  0.021104    0.361627  0.039655  0.995534    0.908933  0.950264  \n",
       "51  0.019481    0.314881  0.036609  0.995451    0.908789  0.950148  \n",
       "52  0.020292    0.314835  0.038001  0.995037    0.908823  0.949978  \n",
       "53  0.016234    0.266865  0.030470  0.996691    0.908620  0.950618  "
      ]
     },
     "execution_count": 79,
     "metadata": {},
     "output_type": "execute_result"
    }
   ],
   "source": [
    "# RandomForestClassifier, LinearSVC, LogisticRegression\n",
    "clf.clf_eval[clf.clf_eval['clf'] == 'LogisticRegression']"
   ]
  },
  {
   "cell_type": "code",
   "execution_count": 76,
   "metadata": {},
   "outputs": [
    {
     "data": {
      "text/plain": [
       "[\"LogisticRegression{'C': 0.01, 'dual': False, 'penalty': 'l1'}\",\n",
       " \"LogisticRegression{'C': 0.01, 'dual': False, 'penalty': 'l2'}\",\n",
       " \"LogisticRegression{'C': 0.1, 'dual': False, 'penalty': 'l1'}\",\n",
       " \"LogisticRegression{'C': 0.1, 'dual': False, 'penalty': 'l2'}\",\n",
       " \"LogisticRegression{'C': 1, 'dual': False, 'penalty': 'l1'}\",\n",
       " \"LogisticRegression{'C': 1, 'dual': False, 'penalty': 'l2'}\",\n",
       " \"LogisticRegression{'C': 10, 'dual': False, 'penalty': 'l1'}\",\n",
       " \"LogisticRegression{'C': 10, 'dual': False, 'penalty': 'l2'}\",\n",
       " \"LogisticRegression{'C': 100, 'dual': False, 'penalty': 'l1'}\",\n",
       " \"LogisticRegression{'C': 100, 'dual': False, 'penalty': 'l2'}\",\n",
       " \"LogisticRegression{'C': 0.01, 'dual': False, 'penalty': 'l1'}\",\n",
       " \"LogisticRegression{'C': 0.01, 'dual': False, 'penalty': 'l2'}\",\n",
       " \"LogisticRegression{'C': 0.1, 'dual': False, 'penalty': 'l1'}\",\n",
       " \"LogisticRegression{'C': 0.1, 'dual': False, 'penalty': 'l2'}\",\n",
       " \"LogisticRegression{'C': 1, 'dual': False, 'penalty': 'l1'}\",\n",
       " \"LogisticRegression{'C': 1, 'dual': False, 'penalty': 'l2'}\",\n",
       " \"LogisticRegression{'C': 10, 'dual': False, 'penalty': 'l1'}\",\n",
       " \"LogisticRegression{'C': 10, 'dual': False, 'penalty': 'l2'}\",\n",
       " \"LogisticRegression{'C': 100, 'dual': False, 'penalty': 'l1'}\",\n",
       " \"LogisticRegression{'C': 100, 'dual': False, 'penalty': 'l2'}\"]"
      ]
     },
     "execution_count": 76,
     "metadata": {},
     "output_type": "execute_result"
    }
   ],
   "source": [
    "(report[\"clf\"] + report[\"params\"].astype(str)).tolist()"
   ]
  },
  {
   "cell_type": "code",
   "execution_count": 82,
   "metadata": {},
   "outputs": [
    {
     "data": {
      "image/png": "[encoded data removed]",
      "text/plain": [
       "<matplotlib.figure.Figure at 0x1a15e37d68>"
      ]
     },
     "metadata": {},
     "output_type": "display_data"
    }
   ],
   "source": [
    "indices2 = np.arange(report.shape[0])\n",
    "plt.figure(figsize=(12, 8))\n",
    "plt.title(\"Scores\")\n",
    "plt.barh(indices2, report['Trecall'], .2, label=\"Recall\", color='navy')\n",
    "plt.barh(indices2 + .3, report['Tprecision'], .2, label=\"Precision\",\n",
    "         color='c')\n",
    "plt.barh(indices2 + .6, report['Tf1'], .2, label=\"F1\", color='darkorange')\n",
    "plt.yticks(())\n",
    "plt.legend(loc='best')\n",
    "plt.subplots_adjust(left=.25)\n",
    "plt.subplots_adjust(top=.95)\n",
    "plt.subplots_adjust(bottom=.05)\n",
    "\n",
    "#  + report[\"params\"].astype(str)\n",
    "for i, c in zip(indices2, (report[\"clf\"]).tolist()):\n",
    "    plt.text(-.3, i, c)\n",
    "plt.show()"
   ]
  },
  {
   "cell_type": "code",
   "execution_count": 218,
   "metadata": {
    "collapsed": true
   },
   "outputs": [],
   "source": [
    "clf1 = func.Clf(X[features10], y)"
   ]
  },
  {
   "cell_type": "code",
   "execution_count": 219,
   "metadata": {
    "collapsed": true
   },
   "outputs": [],
   "source": [
    "clf1.runKfold(RandomForestClassifier, {\"n_estimators\": [200], \n",
    "                                      'max_features': ['sqrt', 'log2', 0.2], \n",
    "                                      'max_depth': [None, 3, 4, 5]}, True)\n",
    "clf1.runKfold(LinearSVC, {\"dual\": [True], \"penalty\": ['l2'], 'C': [0.01, 0.1, 1, 10, 100]}, True)\n",
    "clf1.runKfold(LogisticRegression, {\"penalty\": ['l1', 'l2'], 'dual': [False], \"C\": [0.01, 0.1, 1, 10, 100]}, True)\n",
    "clf1.runKfold(LinearSVC, {\"dual\": [False], \"penalty\": ['l2'], 'C': [0.01, 0.1, 1, 10, 100]}, True)\n",
    "clf1.runKfold(LinearSVC, {\"dual\": [False], \"penalty\": ['l1'], 'C': [0.01, 0.1, 1, 10, 100]}, True)"
   ]
  },
  {
   "cell_type": "code",
   "execution_count": 220,
   "metadata": {},
   "outputs": [
    {
     "data": {
      "text/html": [
       "<div>\n",
       "<style>\n",
       "    .dataframe thead tr:only-child th {\n",
       "        text-align: right;\n",
       "    }\n",
       "\n",
       "    .dataframe thead th {\n",
       "        text-align: left;\n",
       "    }\n",
       "\n",
       "    .dataframe tbody tr th {\n",
       "        vertical-align: top;\n",
       "    }\n",
       "</style>\n",
       "<table border=\"1\" class=\"dataframe\">\n",
       "  <thead>\n",
       "    <tr style=\"text-align: right;\">\n",
       "      <th></th>\n",
       "      <th>clf</th>\n",
       "      <th>params</th>\n",
       "      <th>smote</th>\n",
       "      <th>Trecall</th>\n",
       "      <th>Tprecision</th>\n",
       "      <th>Tf1</th>\n",
       "      <th>Frecall</th>\n",
       "      <th>Fprecision</th>\n",
       "      <th>Ff1</th>\n",
       "    </tr>\n",
       "  </thead>\n",
       "  <tbody>\n",
       "    <tr>\n",
       "      <th>0</th>\n",
       "      <td>RandomForestClassifier</td>\n",
       "      <td>{'max_depth': None, 'max_features': 'sqrt', 'n...</td>\n",
       "      <td>True</td>\n",
       "      <td>0.422078</td>\n",
       "      <td>0.164680</td>\n",
       "      <td>0.236812</td>\n",
       "      <td>0.782153</td>\n",
       "      <td>0.930023</td>\n",
       "      <td>0.849656</td>\n",
       "    </tr>\n",
       "    <tr>\n",
       "      <th>1</th>\n",
       "      <td>RandomForestClassifier</td>\n",
       "      <td>{'max_depth': None, 'max_features': 'log2', 'n...</td>\n",
       "      <td>True</td>\n",
       "      <td>0.429383</td>\n",
       "      <td>0.166203</td>\n",
       "      <td>0.239185</td>\n",
       "      <td>0.779673</td>\n",
       "      <td>0.930644</td>\n",
       "      <td>0.848278</td>\n",
       "    </tr>\n",
       "    <tr>\n",
       "      <th>2</th>\n",
       "      <td>RandomForestClassifier</td>\n",
       "      <td>{'max_depth': None, 'max_features': 0.2, 'n_es...</td>\n",
       "      <td>True</td>\n",
       "      <td>0.409091</td>\n",
       "      <td>0.165151</td>\n",
       "      <td>0.235074</td>\n",
       "      <td>0.789514</td>\n",
       "      <td>0.929196</td>\n",
       "      <td>0.853588</td>\n",
       "    </tr>\n",
       "    <tr>\n",
       "      <th>3</th>\n",
       "      <td>RandomForestClassifier</td>\n",
       "      <td>{'max_depth': 3, 'max_features': 'sqrt', 'n_es...</td>\n",
       "      <td>True</td>\n",
       "      <td>0.604708</td>\n",
       "      <td>0.141573</td>\n",
       "      <td>0.229405</td>\n",
       "      <td>0.626335</td>\n",
       "      <td>0.939596</td>\n",
       "      <td>0.751572</td>\n",
       "    </tr>\n",
       "    <tr>\n",
       "      <th>4</th>\n",
       "      <td>RandomForestClassifier</td>\n",
       "      <td>{'max_depth': 3, 'max_features': 'log2', 'n_es...</td>\n",
       "      <td>True</td>\n",
       "      <td>0.605519</td>\n",
       "      <td>0.141076</td>\n",
       "      <td>0.228789</td>\n",
       "      <td>0.624433</td>\n",
       "      <td>0.939577</td>\n",
       "      <td>0.750152</td>\n",
       "    </tr>\n",
       "    <tr>\n",
       "      <th>5</th>\n",
       "      <td>RandomForestClassifier</td>\n",
       "      <td>{'max_depth': 3, 'max_features': 0.2, 'n_estim...</td>\n",
       "      <td>True</td>\n",
       "      <td>0.594156</td>\n",
       "      <td>0.142395</td>\n",
       "      <td>0.229698</td>\n",
       "      <td>0.635432</td>\n",
       "      <td>0.938936</td>\n",
       "      <td>0.757858</td>\n",
       "    </tr>\n",
       "    <tr>\n",
       "      <th>6</th>\n",
       "      <td>RandomForestClassifier</td>\n",
       "      <td>{'max_depth': 4, 'max_features': 'sqrt', 'n_es...</td>\n",
       "      <td>True</td>\n",
       "      <td>0.581981</td>\n",
       "      <td>0.144967</td>\n",
       "      <td>0.232099</td>\n",
       "      <td>0.650402</td>\n",
       "      <td>0.938571</td>\n",
       "      <td>0.768325</td>\n",
       "    </tr>\n",
       "    <tr>\n",
       "      <th>7</th>\n",
       "      <td>RandomForestClassifier</td>\n",
       "      <td>{'max_depth': 4, 'max_features': 'log2', 'n_es...</td>\n",
       "      <td>True</td>\n",
       "      <td>0.579545</td>\n",
       "      <td>0.148070</td>\n",
       "      <td>0.235832</td>\n",
       "      <td>0.659913</td>\n",
       "      <td>0.939030</td>\n",
       "      <td>0.775042</td>\n",
       "    </tr>\n",
       "    <tr>\n",
       "      <th>8</th>\n",
       "      <td>RandomForestClassifier</td>\n",
       "      <td>{'max_depth': 4, 'max_features': 0.2, 'n_estim...</td>\n",
       "      <td>True</td>\n",
       "      <td>0.564123</td>\n",
       "      <td>0.147953</td>\n",
       "      <td>0.234355</td>\n",
       "      <td>0.668929</td>\n",
       "      <td>0.937776</td>\n",
       "      <td>0.780759</td>\n",
       "    </tr>\n",
       "    <tr>\n",
       "      <th>9</th>\n",
       "      <td>RandomForestClassifier</td>\n",
       "      <td>{'max_depth': 5, 'max_features': 'sqrt', 'n_es...</td>\n",
       "      <td>True</td>\n",
       "      <td>0.576299</td>\n",
       "      <td>0.150731</td>\n",
       "      <td>0.238860</td>\n",
       "      <td>0.669095</td>\n",
       "      <td>0.939445</td>\n",
       "      <td>0.781412</td>\n",
       "    </tr>\n",
       "    <tr>\n",
       "      <th>10</th>\n",
       "      <td>RandomForestClassifier</td>\n",
       "      <td>{'max_depth': 5, 'max_features': 'log2', 'n_es...</td>\n",
       "      <td>True</td>\n",
       "      <td>0.559253</td>\n",
       "      <td>0.154562</td>\n",
       "      <td>0.242060</td>\n",
       "      <td>0.688283</td>\n",
       "      <td>0.938813</td>\n",
       "      <td>0.794110</td>\n",
       "    </tr>\n",
       "    <tr>\n",
       "      <th>11</th>\n",
       "      <td>RandomForestClassifier</td>\n",
       "      <td>{'max_depth': 5, 'max_features': 0.2, 'n_estim...</td>\n",
       "      <td>True</td>\n",
       "      <td>0.564935</td>\n",
       "      <td>0.157246</td>\n",
       "      <td>0.245929</td>\n",
       "      <td>0.691011</td>\n",
       "      <td>0.939712</td>\n",
       "      <td>0.796295</td>\n",
       "    </tr>\n",
       "    <tr>\n",
       "      <th>12</th>\n",
       "      <td>LinearSVC</td>\n",
       "      <td>{'C': 0.01, 'dual': True, 'penalty': 'l2'}</td>\n",
       "      <td>True</td>\n",
       "      <td>0.604708</td>\n",
       "      <td>0.127173</td>\n",
       "      <td>0.210138</td>\n",
       "      <td>0.577124</td>\n",
       "      <td>0.934781</td>\n",
       "      <td>0.713606</td>\n",
       "    </tr>\n",
       "    <tr>\n",
       "      <th>13</th>\n",
       "      <td>LinearSVC</td>\n",
       "      <td>{'C': 0.1, 'dual': True, 'penalty': 'l2'}</td>\n",
       "      <td>True</td>\n",
       "      <td>0.619318</td>\n",
       "      <td>0.124275</td>\n",
       "      <td>0.206500</td>\n",
       "      <td>0.552635</td>\n",
       "      <td>0.934689</td>\n",
       "      <td>0.692317</td>\n",
       "    </tr>\n",
       "    <tr>\n",
       "      <th>14</th>\n",
       "      <td>LinearSVC</td>\n",
       "      <td>{'C': 1, 'dual': True, 'penalty': 'l2'}</td>\n",
       "      <td>True</td>\n",
       "      <td>0.603084</td>\n",
       "      <td>0.133165</td>\n",
       "      <td>0.216669</td>\n",
       "      <td>0.586142</td>\n",
       "      <td>0.934970</td>\n",
       "      <td>0.714219</td>\n",
       "    </tr>\n",
       "    <tr>\n",
       "      <th>15</th>\n",
       "      <td>LinearSVC</td>\n",
       "      <td>{'C': 10, 'dual': True, 'penalty': 'l2'}</td>\n",
       "      <td>True</td>\n",
       "      <td>0.672078</td>\n",
       "      <td>0.125748</td>\n",
       "      <td>0.209410</td>\n",
       "      <td>0.501187</td>\n",
       "      <td>0.937675</td>\n",
       "      <td>0.639264</td>\n",
       "    </tr>\n",
       "    <tr>\n",
       "      <th>16</th>\n",
       "      <td>LinearSVC</td>\n",
       "      <td>{'C': 100, 'dual': True, 'penalty': 'l2'}</td>\n",
       "      <td>True</td>\n",
       "      <td>0.567370</td>\n",
       "      <td>0.115549</td>\n",
       "      <td>0.187157</td>\n",
       "      <td>0.533957</td>\n",
       "      <td>0.927133</td>\n",
       "      <td>0.637590</td>\n",
       "    </tr>\n",
       "    <tr>\n",
       "      <th>17</th>\n",
       "      <td>LogisticRegression</td>\n",
       "      <td>{'C': 0.01, 'dual': False, 'penalty': 'l1'}</td>\n",
       "      <td>True</td>\n",
       "      <td>0.633929</td>\n",
       "      <td>0.125789</td>\n",
       "      <td>0.209897</td>\n",
       "      <td>0.551154</td>\n",
       "      <td>0.936668</td>\n",
       "      <td>0.693856</td>\n",
       "    </tr>\n",
       "    <tr>\n",
       "      <th>18</th>\n",
       "      <td>LogisticRegression</td>\n",
       "      <td>{'C': 0.01, 'dual': False, 'penalty': 'l2'}</td>\n",
       "      <td>True</td>\n",
       "      <td>0.615260</td>\n",
       "      <td>0.125747</td>\n",
       "      <td>0.208809</td>\n",
       "      <td>0.564222</td>\n",
       "      <td>0.935057</td>\n",
       "      <td>0.703748</td>\n",
       "    </tr>\n",
       "    <tr>\n",
       "      <th>19</th>\n",
       "      <td>LogisticRegression</td>\n",
       "      <td>{'C': 0.1, 'dual': False, 'penalty': 'l1'}</td>\n",
       "      <td>True</td>\n",
       "      <td>0.622565</td>\n",
       "      <td>0.127275</td>\n",
       "      <td>0.211312</td>\n",
       "      <td>0.564800</td>\n",
       "      <td>0.936258</td>\n",
       "      <td>0.704453</td>\n",
       "    </tr>\n",
       "    <tr>\n",
       "      <th>20</th>\n",
       "      <td>LogisticRegression</td>\n",
       "      <td>{'C': 0.1, 'dual': False, 'penalty': 'l2'}</td>\n",
       "      <td>True</td>\n",
       "      <td>0.624188</td>\n",
       "      <td>0.128551</td>\n",
       "      <td>0.213189</td>\n",
       "      <td>0.568853</td>\n",
       "      <td>0.936940</td>\n",
       "      <td>0.707883</td>\n",
       "    </tr>\n",
       "    <tr>\n",
       "      <th>21</th>\n",
       "      <td>LogisticRegression</td>\n",
       "      <td>{'C': 1, 'dual': False, 'penalty': 'l1'}</td>\n",
       "      <td>True</td>\n",
       "      <td>0.623377</td>\n",
       "      <td>0.126371</td>\n",
       "      <td>0.210140</td>\n",
       "      <td>0.560913</td>\n",
       "      <td>0.935972</td>\n",
       "      <td>0.701449</td>\n",
       "    </tr>\n",
       "    <tr>\n",
       "      <th>22</th>\n",
       "      <td>LogisticRegression</td>\n",
       "      <td>{'C': 1, 'dual': False, 'penalty': 'l2'}</td>\n",
       "      <td>True</td>\n",
       "      <td>0.617695</td>\n",
       "      <td>0.126870</td>\n",
       "      <td>0.210494</td>\n",
       "      <td>0.566702</td>\n",
       "      <td>0.935671</td>\n",
       "      <td>0.705844</td>\n",
       "    </tr>\n",
       "    <tr>\n",
       "      <th>23</th>\n",
       "      <td>LogisticRegression</td>\n",
       "      <td>{'C': 10, 'dual': False, 'penalty': 'l1'}</td>\n",
       "      <td>True</td>\n",
       "      <td>0.628247</td>\n",
       "      <td>0.127249</td>\n",
       "      <td>0.211613</td>\n",
       "      <td>0.560914</td>\n",
       "      <td>0.936763</td>\n",
       "      <td>0.701602</td>\n",
       "    </tr>\n",
       "    <tr>\n",
       "      <th>24</th>\n",
       "      <td>LogisticRegression</td>\n",
       "      <td>{'C': 10, 'dual': False, 'penalty': 'l2'}</td>\n",
       "      <td>True</td>\n",
       "      <td>0.616883</td>\n",
       "      <td>0.126633</td>\n",
       "      <td>0.210117</td>\n",
       "      <td>0.566290</td>\n",
       "      <td>0.935496</td>\n",
       "      <td>0.705453</td>\n",
       "    </tr>\n",
       "    <tr>\n",
       "      <th>25</th>\n",
       "      <td>LogisticRegression</td>\n",
       "      <td>{'C': 100, 'dual': False, 'penalty': 'l1'}</td>\n",
       "      <td>True</td>\n",
       "      <td>0.627435</td>\n",
       "      <td>0.127020</td>\n",
       "      <td>0.211255</td>\n",
       "      <td>0.560418</td>\n",
       "      <td>0.936545</td>\n",
       "      <td>0.701170</td>\n",
       "    </tr>\n",
       "    <tr>\n",
       "      <th>26</th>\n",
       "      <td>LogisticRegression</td>\n",
       "      <td>{'C': 100, 'dual': False, 'penalty': 'l2'}</td>\n",
       "      <td>True</td>\n",
       "      <td>0.629058</td>\n",
       "      <td>0.127275</td>\n",
       "      <td>0.211708</td>\n",
       "      <td>0.560417</td>\n",
       "      <td>0.936816</td>\n",
       "      <td>0.701277</td>\n",
       "    </tr>\n",
       "    <tr>\n",
       "      <th>27</th>\n",
       "      <td>LinearSVC</td>\n",
       "      <td>{'C': 0.01, 'dual': False, 'penalty': 'l2'}</td>\n",
       "      <td>True</td>\n",
       "      <td>0.621753</td>\n",
       "      <td>0.127393</td>\n",
       "      <td>0.211455</td>\n",
       "      <td>0.566124</td>\n",
       "      <td>0.936280</td>\n",
       "      <td>0.705586</td>\n",
       "    </tr>\n",
       "    <tr>\n",
       "      <th>28</th>\n",
       "      <td>LinearSVC</td>\n",
       "      <td>{'C': 0.1, 'dual': False, 'penalty': 'l2'}</td>\n",
       "      <td>True</td>\n",
       "      <td>0.621753</td>\n",
       "      <td>0.127198</td>\n",
       "      <td>0.211186</td>\n",
       "      <td>0.565297</td>\n",
       "      <td>0.936181</td>\n",
       "      <td>0.704916</td>\n",
       "    </tr>\n",
       "    <tr>\n",
       "      <th>29</th>\n",
       "      <td>LinearSVC</td>\n",
       "      <td>{'C': 1, 'dual': False, 'penalty': 'l2'}</td>\n",
       "      <td>True</td>\n",
       "      <td>0.627435</td>\n",
       "      <td>0.127208</td>\n",
       "      <td>0.211516</td>\n",
       "      <td>0.561327</td>\n",
       "      <td>0.936670</td>\n",
       "      <td>0.701922</td>\n",
       "    </tr>\n",
       "    <tr>\n",
       "      <th>30</th>\n",
       "      <td>LinearSVC</td>\n",
       "      <td>{'C': 10, 'dual': False, 'penalty': 'l2'}</td>\n",
       "      <td>True</td>\n",
       "      <td>0.626623</td>\n",
       "      <td>0.127421</td>\n",
       "      <td>0.211759</td>\n",
       "      <td>0.562651</td>\n",
       "      <td>0.936673</td>\n",
       "      <td>0.702942</td>\n",
       "    </tr>\n",
       "    <tr>\n",
       "      <th>31</th>\n",
       "      <td>LinearSVC</td>\n",
       "      <td>{'C': 100, 'dual': False, 'penalty': 'l2'}</td>\n",
       "      <td>True</td>\n",
       "      <td>0.624188</td>\n",
       "      <td>0.127374</td>\n",
       "      <td>0.211570</td>\n",
       "      <td>0.564304</td>\n",
       "      <td>0.936465</td>\n",
       "      <td>0.704223</td>\n",
       "    </tr>\n",
       "    <tr>\n",
       "      <th>32</th>\n",
       "      <td>LinearSVC</td>\n",
       "      <td>{'C': 0.01, 'dual': False, 'penalty': 'l1'}</td>\n",
       "      <td>True</td>\n",
       "      <td>0.625812</td>\n",
       "      <td>0.126846</td>\n",
       "      <td>0.210917</td>\n",
       "      <td>0.560914</td>\n",
       "      <td>0.936356</td>\n",
       "      <td>0.701485</td>\n",
       "    </tr>\n",
       "    <tr>\n",
       "      <th>33</th>\n",
       "      <td>LinearSVC</td>\n",
       "      <td>{'C': 0.1, 'dual': False, 'penalty': 'l1'}</td>\n",
       "      <td>True</td>\n",
       "      <td>0.618506</td>\n",
       "      <td>0.127301</td>\n",
       "      <td>0.211139</td>\n",
       "      <td>0.567860</td>\n",
       "      <td>0.935922</td>\n",
       "      <td>0.706830</td>\n",
       "    </tr>\n",
       "    <tr>\n",
       "      <th>34</th>\n",
       "      <td>LinearSVC</td>\n",
       "      <td>{'C': 1, 'dual': False, 'penalty': 'l1'}</td>\n",
       "      <td>True</td>\n",
       "      <td>0.627435</td>\n",
       "      <td>0.126751</td>\n",
       "      <td>0.210886</td>\n",
       "      <td>0.559342</td>\n",
       "      <td>0.936427</td>\n",
       "      <td>0.700305</td>\n",
       "    </tr>\n",
       "    <tr>\n",
       "      <th>35</th>\n",
       "      <td>LinearSVC</td>\n",
       "      <td>{'C': 10, 'dual': False, 'penalty': 'l1'}</td>\n",
       "      <td>True</td>\n",
       "      <td>0.619318</td>\n",
       "      <td>0.126086</td>\n",
       "      <td>0.209510</td>\n",
       "      <td>0.562568</td>\n",
       "      <td>0.935499</td>\n",
       "      <td>0.702587</td>\n",
       "    </tr>\n",
       "    <tr>\n",
       "      <th>36</th>\n",
       "      <td>LinearSVC</td>\n",
       "      <td>{'C': 100, 'dual': False, 'penalty': 'l1'}</td>\n",
       "      <td>True</td>\n",
       "      <td>0.612013</td>\n",
       "      <td>0.127290</td>\n",
       "      <td>0.210737</td>\n",
       "      <td>0.572658</td>\n",
       "      <td>0.935469</td>\n",
       "      <td>0.710389</td>\n",
       "    </tr>\n",
       "  </tbody>\n",
       "</table>\n",
       "</div>"
      ],
      "text/plain": [
       "                       clf                                             params  \\\n",
       "0   RandomForestClassifier  {'max_depth': None, 'max_features': 'sqrt', 'n...   \n",
       "1   RandomForestClassifier  {'max_depth': None, 'max_features': 'log2', 'n...   \n",
       "2   RandomForestClassifier  {'max_depth': None, 'max_features': 0.2, 'n_es...   \n",
       "3   RandomForestClassifier  {'max_depth': 3, 'max_features': 'sqrt', 'n_es...   \n",
       "4   RandomForestClassifier  {'max_depth': 3, 'max_features': 'log2', 'n_es...   \n",
       "5   RandomForestClassifier  {'max_depth': 3, 'max_features': 0.2, 'n_estim...   \n",
       "6   RandomForestClassifier  {'max_depth': 4, 'max_features': 'sqrt', 'n_es...   \n",
       "7   RandomForestClassifier  {'max_depth': 4, 'max_features': 'log2', 'n_es...   \n",
       "8   RandomForestClassifier  {'max_depth': 4, 'max_features': 0.2, 'n_estim...   \n",
       "9   RandomForestClassifier  {'max_depth': 5, 'max_features': 'sqrt', 'n_es...   \n",
       "10  RandomForestClassifier  {'max_depth': 5, 'max_features': 'log2', 'n_es...   \n",
       "11  RandomForestClassifier  {'max_depth': 5, 'max_features': 0.2, 'n_estim...   \n",
       "12               LinearSVC         {'C': 0.01, 'dual': True, 'penalty': 'l2'}   \n",
       "13               LinearSVC          {'C': 0.1, 'dual': True, 'penalty': 'l2'}   \n",
       "14               LinearSVC            {'C': 1, 'dual': True, 'penalty': 'l2'}   \n",
       "15               LinearSVC           {'C': 10, 'dual': True, 'penalty': 'l2'}   \n",
       "16               LinearSVC          {'C': 100, 'dual': True, 'penalty': 'l2'}   \n",
       "17      LogisticRegression        {'C': 0.01, 'dual': False, 'penalty': 'l1'}   \n",
       "18      LogisticRegression        {'C': 0.01, 'dual': False, 'penalty': 'l2'}   \n",
       "19      LogisticRegression         {'C': 0.1, 'dual': False, 'penalty': 'l1'}   \n",
       "20      LogisticRegression         {'C': 0.1, 'dual': False, 'penalty': 'l2'}   \n",
       "21      LogisticRegression           {'C': 1, 'dual': False, 'penalty': 'l1'}   \n",
       "22      LogisticRegression           {'C': 1, 'dual': False, 'penalty': 'l2'}   \n",
       "23      LogisticRegression          {'C': 10, 'dual': False, 'penalty': 'l1'}   \n",
       "24      LogisticRegression          {'C': 10, 'dual': False, 'penalty': 'l2'}   \n",
       "25      LogisticRegression         {'C': 100, 'dual': False, 'penalty': 'l1'}   \n",
       "26      LogisticRegression         {'C': 100, 'dual': False, 'penalty': 'l2'}   \n",
       "27               LinearSVC        {'C': 0.01, 'dual': False, 'penalty': 'l2'}   \n",
       "28               LinearSVC         {'C': 0.1, 'dual': False, 'penalty': 'l2'}   \n",
       "29               LinearSVC           {'C': 1, 'dual': False, 'penalty': 'l2'}   \n",
       "30               LinearSVC          {'C': 10, 'dual': False, 'penalty': 'l2'}   \n",
       "31               LinearSVC         {'C': 100, 'dual': False, 'penalty': 'l2'}   \n",
       "32               LinearSVC        {'C': 0.01, 'dual': False, 'penalty': 'l1'}   \n",
       "33               LinearSVC         {'C': 0.1, 'dual': False, 'penalty': 'l1'}   \n",
       "34               LinearSVC           {'C': 1, 'dual': False, 'penalty': 'l1'}   \n",
       "35               LinearSVC          {'C': 10, 'dual': False, 'penalty': 'l1'}   \n",
       "36               LinearSVC         {'C': 100, 'dual': False, 'penalty': 'l1'}   \n",
       "\n",
       "   smote   Trecall  Tprecision       Tf1   Frecall  Fprecision       Ff1  \n",
       "0   True  0.422078    0.164680  0.236812  0.782153    0.930023  0.849656  \n",
       "1   True  0.429383    0.166203  0.239185  0.779673    0.930644  0.848278  \n",
       "2   True  0.409091    0.165151  0.235074  0.789514    0.929196  0.853588  \n",
       "3   True  0.604708    0.141573  0.229405  0.626335    0.939596  0.751572  \n",
       "4   True  0.605519    0.141076  0.228789  0.624433    0.939577  0.750152  \n",
       "5   True  0.594156    0.142395  0.229698  0.635432    0.938936  0.757858  \n",
       "6   True  0.581981    0.144967  0.232099  0.650402    0.938571  0.768325  \n",
       "7   True  0.579545    0.148070  0.235832  0.659913    0.939030  0.775042  \n",
       "8   True  0.564123    0.147953  0.234355  0.668929    0.937776  0.780759  \n",
       "9   True  0.576299    0.150731  0.238860  0.669095    0.939445  0.781412  \n",
       "10  True  0.559253    0.154562  0.242060  0.688283    0.938813  0.794110  \n",
       "11  True  0.564935    0.157246  0.245929  0.691011    0.939712  0.796295  \n",
       "12  True  0.604708    0.127173  0.210138  0.577124    0.934781  0.713606  \n",
       "13  True  0.619318    0.124275  0.206500  0.552635    0.934689  0.692317  \n",
       "14  True  0.603084    0.133165  0.216669  0.586142    0.934970  0.714219  \n",
       "15  True  0.672078    0.125748  0.209410  0.501187    0.937675  0.639264  \n",
       "16  True  0.567370    0.115549  0.187157  0.533957    0.927133  0.637590  \n",
       "17  True  0.633929    0.125789  0.209897  0.551154    0.936668  0.693856  \n",
       "18  True  0.615260    0.125747  0.208809  0.564222    0.935057  0.703748  \n",
       "19  True  0.622565    0.127275  0.211312  0.564800    0.936258  0.704453  \n",
       "20  True  0.624188    0.128551  0.213189  0.568853    0.936940  0.707883  \n",
       "21  True  0.623377    0.126371  0.210140  0.560913    0.935972  0.701449  \n",
       "22  True  0.617695    0.126870  0.210494  0.566702    0.935671  0.705844  \n",
       "23  True  0.628247    0.127249  0.211613  0.560914    0.936763  0.701602  \n",
       "24  True  0.616883    0.126633  0.210117  0.566290    0.935496  0.705453  \n",
       "25  True  0.627435    0.127020  0.211255  0.560418    0.936545  0.701170  \n",
       "26  True  0.629058    0.127275  0.211708  0.560417    0.936816  0.701277  \n",
       "27  True  0.621753    0.127393  0.211455  0.566124    0.936280  0.705586  \n",
       "28  True  0.621753    0.127198  0.211186  0.565297    0.936181  0.704916  \n",
       "29  True  0.627435    0.127208  0.211516  0.561327    0.936670  0.701922  \n",
       "30  True  0.626623    0.127421  0.211759  0.562651    0.936673  0.702942  \n",
       "31  True  0.624188    0.127374  0.211570  0.564304    0.936465  0.704223  \n",
       "32  True  0.625812    0.126846  0.210917  0.560914    0.936356  0.701485  \n",
       "33  True  0.618506    0.127301  0.211139  0.567860    0.935922  0.706830  \n",
       "34  True  0.627435    0.126751  0.210886  0.559342    0.936427  0.700305  \n",
       "35  True  0.619318    0.126086  0.209510  0.562568    0.935499  0.702587  \n",
       "36  True  0.612013    0.127290  0.210737  0.572658    0.935469  0.710389  "
      ]
     },
     "execution_count": 220,
     "metadata": {},
     "output_type": "execute_result"
    }
   ],
   "source": [
    "clf1.clf_eval"
   ]
  },
  {
   "cell_type": "code",
   "execution_count": 210,
   "metadata": {
    "collapsed": true
   },
   "outputs": [],
   "source": [
    "clf2 = func.Clf(X[features20], y)"
   ]
  },
  {
   "cell_type": "code",
   "execution_count": 211,
   "metadata": {},
   "outputs": [],
   "source": [
    "clf2.runKfold(RandomForestClassifier, {\"n_estimators\": [200], \n",
    "                                      'max_features': ['sqrt', 'log2', 0.2], \n",
    "                                      'max_depth': [None, 3, 4, 5]}, True)\n",
    "clf2.runKfold(LinearSVC, {\"dual\": [True], \"penalty\": ['l2'], 'C': [0.01, 0.1, 1, 10, 100]}, True)\n",
    "clf2.runKfold(LogisticRegression, {\"penalty\": ['l1', 'l2'], 'dual': [False], \"C\": [0.01, 0.1, 1, 10, 100]}, True)"
   ]
  },
  {
   "cell_type": "code",
   "execution_count": 214,
   "metadata": {
    "collapsed": true
   },
   "outputs": [],
   "source": [
    "clf2.runKfold(LinearSVC, {\"dual\": [False], \"penalty\": ['l2'], 'C': [0.01, 0.1, 1, 10, 100]}, True)"
   ]
  },
  {
   "cell_type": "code",
   "execution_count": 216,
   "metadata": {
    "collapsed": true
   },
   "outputs": [],
   "source": [
    "clf2.runKfold(LinearSVC, {\"dual\": [False], \"penalty\": ['l1'], 'C': [0.01, 0.1, 1, 10, 100]}, True)"
   ]
  },
  {
   "cell_type": "code",
   "execution_count": 217,
   "metadata": {},
   "outputs": [
    {
     "data": {
      "text/html": [
       "<div>\n",
       "<style>\n",
       "    .dataframe thead tr:only-child th {\n",
       "        text-align: right;\n",
       "    }\n",
       "\n",
       "    .dataframe thead th {\n",
       "        text-align: left;\n",
       "    }\n",
       "\n",
       "    .dataframe tbody tr th {\n",
       "        vertical-align: top;\n",
       "    }\n",
       "</style>\n",
       "<table border=\"1\" class=\"dataframe\">\n",
       "  <thead>\n",
       "    <tr style=\"text-align: right;\">\n",
       "      <th></th>\n",
       "      <th>clf</th>\n",
       "      <th>params</th>\n",
       "      <th>smote</th>\n",
       "      <th>Trecall</th>\n",
       "      <th>Tprecision</th>\n",
       "      <th>Tf1</th>\n",
       "      <th>Frecall</th>\n",
       "      <th>Fprecision</th>\n",
       "      <th>Ff1</th>\n",
       "    </tr>\n",
       "  </thead>\n",
       "  <tbody>\n",
       "    <tr>\n",
       "      <th>0</th>\n",
       "      <td>RandomForestClassifier</td>\n",
       "      <td>{'max_depth': None, 'max_features': 'sqrt', 'n...</td>\n",
       "      <td>True</td>\n",
       "      <td>0.280032</td>\n",
       "      <td>0.226563</td>\n",
       "      <td>0.249924</td>\n",
       "      <td>0.901912</td>\n",
       "      <td>0.924782</td>\n",
       "      <td>0.913168</td>\n",
       "    </tr>\n",
       "    <tr>\n",
       "      <th>1</th>\n",
       "      <td>RandomForestClassifier</td>\n",
       "      <td>{'max_depth': None, 'max_features': 'log2', 'n...</td>\n",
       "      <td>True</td>\n",
       "      <td>0.291396</td>\n",
       "      <td>0.217317</td>\n",
       "      <td>0.248428</td>\n",
       "      <td>0.892565</td>\n",
       "      <td>0.925170</td>\n",
       "      <td>0.908534</td>\n",
       "    </tr>\n",
       "    <tr>\n",
       "      <th>2</th>\n",
       "      <td>RandomForestClassifier</td>\n",
       "      <td>{'max_depth': None, 'max_features': 0.2, 'n_es...</td>\n",
       "      <td>True</td>\n",
       "      <td>0.288149</td>\n",
       "      <td>0.222857</td>\n",
       "      <td>0.251120</td>\n",
       "      <td>0.897610</td>\n",
       "      <td>0.925243</td>\n",
       "      <td>0.911203</td>\n",
       "    </tr>\n",
       "    <tr>\n",
       "      <th>3</th>\n",
       "      <td>RandomForestClassifier</td>\n",
       "      <td>{'max_depth': 3, 'max_features': 'sqrt', 'n_es...</td>\n",
       "      <td>True</td>\n",
       "      <td>0.545455</td>\n",
       "      <td>0.177839</td>\n",
       "      <td>0.268184</td>\n",
       "      <td>0.743032</td>\n",
       "      <td>0.941338</td>\n",
       "      <td>0.830485</td>\n",
       "    </tr>\n",
       "    <tr>\n",
       "      <th>4</th>\n",
       "      <td>RandomForestClassifier</td>\n",
       "      <td>{'max_depth': 3, 'max_features': 'log2', 'n_es...</td>\n",
       "      <td>True</td>\n",
       "      <td>0.558442</td>\n",
       "      <td>0.184231</td>\n",
       "      <td>0.277036</td>\n",
       "      <td>0.748078</td>\n",
       "      <td>0.943280</td>\n",
       "      <td>0.834400</td>\n",
       "    </tr>\n",
       "    <tr>\n",
       "      <th>5</th>\n",
       "      <td>RandomForestClassifier</td>\n",
       "      <td>{'max_depth': 3, 'max_features': 0.2, 'n_estim...</td>\n",
       "      <td>True</td>\n",
       "      <td>0.556818</td>\n",
       "      <td>0.178743</td>\n",
       "      <td>0.270558</td>\n",
       "      <td>0.739061</td>\n",
       "      <td>0.942417</td>\n",
       "      <td>0.828403</td>\n",
       "    </tr>\n",
       "    <tr>\n",
       "      <th>6</th>\n",
       "      <td>RandomForestClassifier</td>\n",
       "      <td>{'max_depth': 4, 'max_features': 'sqrt', 'n_es...</td>\n",
       "      <td>True</td>\n",
       "      <td>0.530032</td>\n",
       "      <td>0.186013</td>\n",
       "      <td>0.275341</td>\n",
       "      <td>0.763625</td>\n",
       "      <td>0.940999</td>\n",
       "      <td>0.843064</td>\n",
       "    </tr>\n",
       "    <tr>\n",
       "      <th>7</th>\n",
       "      <td>RandomForestClassifier</td>\n",
       "      <td>{'max_depth': 4, 'max_features': 'log2', 'n_es...</td>\n",
       "      <td>True</td>\n",
       "      <td>0.534091</td>\n",
       "      <td>0.187467</td>\n",
       "      <td>0.277462</td>\n",
       "      <td>0.764039</td>\n",
       "      <td>0.941512</td>\n",
       "      <td>0.843512</td>\n",
       "    </tr>\n",
       "    <tr>\n",
       "      <th>8</th>\n",
       "      <td>RandomForestClassifier</td>\n",
       "      <td>{'max_depth': 4, 'max_features': 0.2, 'n_estim...</td>\n",
       "      <td>True</td>\n",
       "      <td>0.534903</td>\n",
       "      <td>0.187631</td>\n",
       "      <td>0.277733</td>\n",
       "      <td>0.763957</td>\n",
       "      <td>0.941609</td>\n",
       "      <td>0.843492</td>\n",
       "    </tr>\n",
       "    <tr>\n",
       "      <th>9</th>\n",
       "      <td>RandomForestClassifier</td>\n",
       "      <td>{'max_depth': 5, 'max_features': 'sqrt', 'n_es...</td>\n",
       "      <td>True</td>\n",
       "      <td>0.508929</td>\n",
       "      <td>0.194686</td>\n",
       "      <td>0.281538</td>\n",
       "      <td>0.785543</td>\n",
       "      <td>0.940143</td>\n",
       "      <td>0.855882</td>\n",
       "    </tr>\n",
       "    <tr>\n",
       "      <th>10</th>\n",
       "      <td>RandomForestClassifier</td>\n",
       "      <td>{'max_depth': 5, 'max_features': 'log2', 'n_es...</td>\n",
       "      <td>True</td>\n",
       "      <td>0.517045</td>\n",
       "      <td>0.197751</td>\n",
       "      <td>0.286049</td>\n",
       "      <td>0.786287</td>\n",
       "      <td>0.941111</td>\n",
       "      <td>0.856747</td>\n",
       "    </tr>\n",
       "    <tr>\n",
       "      <th>11</th>\n",
       "      <td>RandomForestClassifier</td>\n",
       "      <td>{'max_depth': 5, 'max_features': 0.2, 'n_estim...</td>\n",
       "      <td>True</td>\n",
       "      <td>0.511364</td>\n",
       "      <td>0.192865</td>\n",
       "      <td>0.280012</td>\n",
       "      <td>0.781738</td>\n",
       "      <td>0.940127</td>\n",
       "      <td>0.853617</td>\n",
       "    </tr>\n",
       "    <tr>\n",
       "      <th>12</th>\n",
       "      <td>LinearSVC</td>\n",
       "      <td>{'C': 0.01, 'dual': True, 'penalty': 'l2'}</td>\n",
       "      <td>True</td>\n",
       "      <td>0.601461</td>\n",
       "      <td>0.160544</td>\n",
       "      <td>0.253080</td>\n",
       "      <td>0.678525</td>\n",
       "      <td>0.943637</td>\n",
       "      <td>0.789015</td>\n",
       "    </tr>\n",
       "    <tr>\n",
       "      <th>13</th>\n",
       "      <td>LinearSVC</td>\n",
       "      <td>{'C': 0.1, 'dual': True, 'penalty': 'l2'}</td>\n",
       "      <td>True</td>\n",
       "      <td>0.583604</td>\n",
       "      <td>0.157993</td>\n",
       "      <td>0.247227</td>\n",
       "      <td>0.676542</td>\n",
       "      <td>0.941270</td>\n",
       "      <td>0.784933</td>\n",
       "    </tr>\n",
       "    <tr>\n",
       "      <th>14</th>\n",
       "      <td>LinearSVC</td>\n",
       "      <td>{'C': 1, 'dual': True, 'penalty': 'l2'}</td>\n",
       "      <td>True</td>\n",
       "      <td>0.587662</td>\n",
       "      <td>0.153347</td>\n",
       "      <td>0.241390</td>\n",
       "      <td>0.658758</td>\n",
       "      <td>0.940253</td>\n",
       "      <td>0.770659</td>\n",
       "    </tr>\n",
       "    <tr>\n",
       "      <th>15</th>\n",
       "      <td>LinearSVC</td>\n",
       "      <td>{'C': 10, 'dual': True, 'penalty': 'l2'}</td>\n",
       "      <td>True</td>\n",
       "      <td>0.565747</td>\n",
       "      <td>0.166183</td>\n",
       "      <td>0.254395</td>\n",
       "      <td>0.697796</td>\n",
       "      <td>0.940507</td>\n",
       "      <td>0.797317</td>\n",
       "    </tr>\n",
       "    <tr>\n",
       "      <th>16</th>\n",
       "      <td>LinearSVC</td>\n",
       "      <td>{'C': 100, 'dual': True, 'penalty': 'l2'}</td>\n",
       "      <td>True</td>\n",
       "      <td>0.635552</td>\n",
       "      <td>0.125295</td>\n",
       "      <td>0.205730</td>\n",
       "      <td>0.537440</td>\n",
       "      <td>0.939908</td>\n",
       "      <td>0.660839</td>\n",
       "    </tr>\n",
       "    <tr>\n",
       "      <th>17</th>\n",
       "      <td>LogisticRegression</td>\n",
       "      <td>{'C': 0.01, 'dual': False, 'penalty': 'l1'}</td>\n",
       "      <td>True</td>\n",
       "      <td>0.693994</td>\n",
       "      <td>0.146822</td>\n",
       "      <td>0.242346</td>\n",
       "      <td>0.588949</td>\n",
       "      <td>0.949733</td>\n",
       "      <td>0.726973</td>\n",
       "    </tr>\n",
       "    <tr>\n",
       "      <th>18</th>\n",
       "      <td>LogisticRegression</td>\n",
       "      <td>{'C': 0.01, 'dual': False, 'penalty': 'l2'}</td>\n",
       "      <td>True</td>\n",
       "      <td>0.616883</td>\n",
       "      <td>0.156554</td>\n",
       "      <td>0.249723</td>\n",
       "      <td>0.661319</td>\n",
       "      <td>0.944263</td>\n",
       "      <td>0.777847</td>\n",
       "    </tr>\n",
       "    <tr>\n",
       "      <th>19</th>\n",
       "      <td>LogisticRegression</td>\n",
       "      <td>{'C': 0.1, 'dual': False, 'penalty': 'l1'}</td>\n",
       "      <td>True</td>\n",
       "      <td>0.608766</td>\n",
       "      <td>0.156711</td>\n",
       "      <td>0.249247</td>\n",
       "      <td>0.666198</td>\n",
       "      <td>0.943546</td>\n",
       "      <td>0.780965</td>\n",
       "    </tr>\n",
       "    <tr>\n",
       "      <th>20</th>\n",
       "      <td>LogisticRegression</td>\n",
       "      <td>{'C': 0.1, 'dual': False, 'penalty': 'l2'}</td>\n",
       "      <td>True</td>\n",
       "      <td>0.617695</td>\n",
       "      <td>0.157168</td>\n",
       "      <td>0.250571</td>\n",
       "      <td>0.662394</td>\n",
       "      <td>0.944452</td>\n",
       "      <td>0.778657</td>\n",
       "    </tr>\n",
       "    <tr>\n",
       "      <th>21</th>\n",
       "      <td>LogisticRegression</td>\n",
       "      <td>{'C': 1, 'dual': False, 'penalty': 'l1'}</td>\n",
       "      <td>True</td>\n",
       "      <td>0.616071</td>\n",
       "      <td>0.157630</td>\n",
       "      <td>0.251024</td>\n",
       "      <td>0.664462</td>\n",
       "      <td>0.944394</td>\n",
       "      <td>0.780064</td>\n",
       "    </tr>\n",
       "    <tr>\n",
       "      <th>22</th>\n",
       "      <td>LogisticRegression</td>\n",
       "      <td>{'C': 1, 'dual': False, 'penalty': 'l2'}</td>\n",
       "      <td>True</td>\n",
       "      <td>0.602273</td>\n",
       "      <td>0.155457</td>\n",
       "      <td>0.247104</td>\n",
       "      <td>0.666529</td>\n",
       "      <td>0.942691</td>\n",
       "      <td>0.780880</td>\n",
       "    </tr>\n",
       "    <tr>\n",
       "      <th>23</th>\n",
       "      <td>LogisticRegression</td>\n",
       "      <td>{'C': 10, 'dual': False, 'penalty': 'l1'}</td>\n",
       "      <td>True</td>\n",
       "      <td>0.599026</td>\n",
       "      <td>0.156439</td>\n",
       "      <td>0.248042</td>\n",
       "      <td>0.670831</td>\n",
       "      <td>0.942619</td>\n",
       "      <td>0.783770</td>\n",
       "    </tr>\n",
       "    <tr>\n",
       "      <th>24</th>\n",
       "      <td>LogisticRegression</td>\n",
       "      <td>{'C': 10, 'dual': False, 'penalty': 'l2'}</td>\n",
       "      <td>True</td>\n",
       "      <td>0.604708</td>\n",
       "      <td>0.156691</td>\n",
       "      <td>0.248876</td>\n",
       "      <td>0.668349</td>\n",
       "      <td>0.943167</td>\n",
       "      <td>0.782305</td>\n",
       "    </tr>\n",
       "    <tr>\n",
       "      <th>25</th>\n",
       "      <td>LogisticRegression</td>\n",
       "      <td>{'C': 100, 'dual': False, 'penalty': 'l1'}</td>\n",
       "      <td>True</td>\n",
       "      <td>0.605519</td>\n",
       "      <td>0.157530</td>\n",
       "      <td>0.250008</td>\n",
       "      <td>0.670086</td>\n",
       "      <td>0.943421</td>\n",
       "      <td>0.783591</td>\n",
       "    </tr>\n",
       "    <tr>\n",
       "      <th>26</th>\n",
       "      <td>LogisticRegression</td>\n",
       "      <td>{'C': 100, 'dual': False, 'penalty': 'l2'}</td>\n",
       "      <td>True</td>\n",
       "      <td>0.603896</td>\n",
       "      <td>0.157757</td>\n",
       "      <td>0.250109</td>\n",
       "      <td>0.671493</td>\n",
       "      <td>0.943341</td>\n",
       "      <td>0.784462</td>\n",
       "    </tr>\n",
       "    <tr>\n",
       "      <th>27</th>\n",
       "      <td>LinearSVC</td>\n",
       "      <td>{'C': 0.01, 'dual': False, 'penalty': 'l2'}</td>\n",
       "      <td>True</td>\n",
       "      <td>0.609578</td>\n",
       "      <td>0.157607</td>\n",
       "      <td>0.250442</td>\n",
       "      <td>0.668018</td>\n",
       "      <td>0.943807</td>\n",
       "      <td>0.782297</td>\n",
       "    </tr>\n",
       "    <tr>\n",
       "      <th>28</th>\n",
       "      <td>LinearSVC</td>\n",
       "      <td>{'C': 0.1, 'dual': False, 'penalty': 'l2'}</td>\n",
       "      <td>True</td>\n",
       "      <td>0.606331</td>\n",
       "      <td>0.158338</td>\n",
       "      <td>0.251091</td>\n",
       "      <td>0.671574</td>\n",
       "      <td>0.943644</td>\n",
       "      <td>0.784678</td>\n",
       "    </tr>\n",
       "    <tr>\n",
       "      <th>29</th>\n",
       "      <td>LinearSVC</td>\n",
       "      <td>{'C': 1, 'dual': False, 'penalty': 'l2'}</td>\n",
       "      <td>True</td>\n",
       "      <td>0.599026</td>\n",
       "      <td>0.155422</td>\n",
       "      <td>0.246792</td>\n",
       "      <td>0.668266</td>\n",
       "      <td>0.942389</td>\n",
       "      <td>0.781978</td>\n",
       "    </tr>\n",
       "    <tr>\n",
       "      <th>30</th>\n",
       "      <td>LinearSVC</td>\n",
       "      <td>{'C': 10, 'dual': False, 'penalty': 'l2'}</td>\n",
       "      <td>True</td>\n",
       "      <td>0.607955</td>\n",
       "      <td>0.156704</td>\n",
       "      <td>0.249173</td>\n",
       "      <td>0.666612</td>\n",
       "      <td>0.943465</td>\n",
       "      <td>0.781226</td>\n",
       "    </tr>\n",
       "    <tr>\n",
       "      <th>31</th>\n",
       "      <td>LinearSVC</td>\n",
       "      <td>{'C': 100, 'dual': False, 'penalty': 'l2'}</td>\n",
       "      <td>True</td>\n",
       "      <td>0.607143</td>\n",
       "      <td>0.157215</td>\n",
       "      <td>0.249736</td>\n",
       "      <td>0.668349</td>\n",
       "      <td>0.943504</td>\n",
       "      <td>0.782411</td>\n",
       "    </tr>\n",
       "    <tr>\n",
       "      <th>32</th>\n",
       "      <td>LinearSVC</td>\n",
       "      <td>{'C': 0.01, 'dual': False, 'penalty': 'l1'}</td>\n",
       "      <td>True</td>\n",
       "      <td>0.612013</td>\n",
       "      <td>0.156864</td>\n",
       "      <td>0.249709</td>\n",
       "      <td>0.664793</td>\n",
       "      <td>0.943878</td>\n",
       "      <td>0.780106</td>\n",
       "    </tr>\n",
       "    <tr>\n",
       "      <th>33</th>\n",
       "      <td>LinearSVC</td>\n",
       "      <td>{'C': 0.1, 'dual': False, 'penalty': 'l1'}</td>\n",
       "      <td>True</td>\n",
       "      <td>0.602273</td>\n",
       "      <td>0.156703</td>\n",
       "      <td>0.248688</td>\n",
       "      <td>0.669755</td>\n",
       "      <td>0.942952</td>\n",
       "      <td>0.783198</td>\n",
       "    </tr>\n",
       "    <tr>\n",
       "      <th>34</th>\n",
       "      <td>LinearSVC</td>\n",
       "      <td>{'C': 1, 'dual': False, 'penalty': 'l1'}</td>\n",
       "      <td>True</td>\n",
       "      <td>0.609578</td>\n",
       "      <td>0.157536</td>\n",
       "      <td>0.250357</td>\n",
       "      <td>0.667852</td>\n",
       "      <td>0.943792</td>\n",
       "      <td>0.782183</td>\n",
       "    </tr>\n",
       "    <tr>\n",
       "      <th>35</th>\n",
       "      <td>LinearSVC</td>\n",
       "      <td>{'C': 10, 'dual': False, 'penalty': 'l1'}</td>\n",
       "      <td>True</td>\n",
       "      <td>0.606331</td>\n",
       "      <td>0.157362</td>\n",
       "      <td>0.249871</td>\n",
       "      <td>0.669176</td>\n",
       "      <td>0.943449</td>\n",
       "      <td>0.782984</td>\n",
       "    </tr>\n",
       "    <tr>\n",
       "      <th>36</th>\n",
       "      <td>LinearSVC</td>\n",
       "      <td>{'C': 100, 'dual': False, 'penalty': 'l1'}</td>\n",
       "      <td>True</td>\n",
       "      <td>0.602273</td>\n",
       "      <td>0.155148</td>\n",
       "      <td>0.246721</td>\n",
       "      <td>0.665785</td>\n",
       "      <td>0.942630</td>\n",
       "      <td>0.780359</td>\n",
       "    </tr>\n",
       "  </tbody>\n",
       "</table>\n",
       "</div>"
      ],
      "text/plain": [
       "                       clf                                             params  \\\n",
       "0   RandomForestClassifier  {'max_depth': None, 'max_features': 'sqrt', 'n...   \n",
       "1   RandomForestClassifier  {'max_depth': None, 'max_features': 'log2', 'n...   \n",
       "2   RandomForestClassifier  {'max_depth': None, 'max_features': 0.2, 'n_es...   \n",
       "3   RandomForestClassifier  {'max_depth': 3, 'max_features': 'sqrt', 'n_es...   \n",
       "4   RandomForestClassifier  {'max_depth': 3, 'max_features': 'log2', 'n_es...   \n",
       "5   RandomForestClassifier  {'max_depth': 3, 'max_features': 0.2, 'n_estim...   \n",
       "6   RandomForestClassifier  {'max_depth': 4, 'max_features': 'sqrt', 'n_es...   \n",
       "7   RandomForestClassifier  {'max_depth': 4, 'max_features': 'log2', 'n_es...   \n",
       "8   RandomForestClassifier  {'max_depth': 4, 'max_features': 0.2, 'n_estim...   \n",
       "9   RandomForestClassifier  {'max_depth': 5, 'max_features': 'sqrt', 'n_es...   \n",
       "10  RandomForestClassifier  {'max_depth': 5, 'max_features': 'log2', 'n_es...   \n",
       "11  RandomForestClassifier  {'max_depth': 5, 'max_features': 0.2, 'n_estim...   \n",
       "12               LinearSVC         {'C': 0.01, 'dual': True, 'penalty': 'l2'}   \n",
       "13               LinearSVC          {'C': 0.1, 'dual': True, 'penalty': 'l2'}   \n",
       "14               LinearSVC            {'C': 1, 'dual': True, 'penalty': 'l2'}   \n",
       "15               LinearSVC           {'C': 10, 'dual': True, 'penalty': 'l2'}   \n",
       "16               LinearSVC          {'C': 100, 'dual': True, 'penalty': 'l2'}   \n",
       "17      LogisticRegression        {'C': 0.01, 'dual': False, 'penalty': 'l1'}   \n",
       "18      LogisticRegression        {'C': 0.01, 'dual': False, 'penalty': 'l2'}   \n",
       "19      LogisticRegression         {'C': 0.1, 'dual': False, 'penalty': 'l1'}   \n",
       "20      LogisticRegression         {'C': 0.1, 'dual': False, 'penalty': 'l2'}   \n",
       "21      LogisticRegression           {'C': 1, 'dual': False, 'penalty': 'l1'}   \n",
       "22      LogisticRegression           {'C': 1, 'dual': False, 'penalty': 'l2'}   \n",
       "23      LogisticRegression          {'C': 10, 'dual': False, 'penalty': 'l1'}   \n",
       "24      LogisticRegression          {'C': 10, 'dual': False, 'penalty': 'l2'}   \n",
       "25      LogisticRegression         {'C': 100, 'dual': False, 'penalty': 'l1'}   \n",
       "26      LogisticRegression         {'C': 100, 'dual': False, 'penalty': 'l2'}   \n",
       "27               LinearSVC        {'C': 0.01, 'dual': False, 'penalty': 'l2'}   \n",
       "28               LinearSVC         {'C': 0.1, 'dual': False, 'penalty': 'l2'}   \n",
       "29               LinearSVC           {'C': 1, 'dual': False, 'penalty': 'l2'}   \n",
       "30               LinearSVC          {'C': 10, 'dual': False, 'penalty': 'l2'}   \n",
       "31               LinearSVC         {'C': 100, 'dual': False, 'penalty': 'l2'}   \n",
       "32               LinearSVC        {'C': 0.01, 'dual': False, 'penalty': 'l1'}   \n",
       "33               LinearSVC         {'C': 0.1, 'dual': False, 'penalty': 'l1'}   \n",
       "34               LinearSVC           {'C': 1, 'dual': False, 'penalty': 'l1'}   \n",
       "35               LinearSVC          {'C': 10, 'dual': False, 'penalty': 'l1'}   \n",
       "36               LinearSVC         {'C': 100, 'dual': False, 'penalty': 'l1'}   \n",
       "\n",
       "   smote   Trecall  Tprecision       Tf1   Frecall  Fprecision       Ff1  \n",
       "0   True  0.280032    0.226563  0.249924  0.901912    0.924782  0.913168  \n",
       "1   True  0.291396    0.217317  0.248428  0.892565    0.925170  0.908534  \n",
       "2   True  0.288149    0.222857  0.251120  0.897610    0.925243  0.911203  \n",
       "3   True  0.545455    0.177839  0.268184  0.743032    0.941338  0.830485  \n",
       "4   True  0.558442    0.184231  0.277036  0.748078    0.943280  0.834400  \n",
       "5   True  0.556818    0.178743  0.270558  0.739061    0.942417  0.828403  \n",
       "6   True  0.530032    0.186013  0.275341  0.763625    0.940999  0.843064  \n",
       "7   True  0.534091    0.187467  0.277462  0.764039    0.941512  0.843512  \n",
       "8   True  0.534903    0.187631  0.277733  0.763957    0.941609  0.843492  \n",
       "9   True  0.508929    0.194686  0.281538  0.785543    0.940143  0.855882  \n",
       "10  True  0.517045    0.197751  0.286049  0.786287    0.941111  0.856747  \n",
       "11  True  0.511364    0.192865  0.280012  0.781738    0.940127  0.853617  \n",
       "12  True  0.601461    0.160544  0.253080  0.678525    0.943637  0.789015  \n",
       "13  True  0.583604    0.157993  0.247227  0.676542    0.941270  0.784933  \n",
       "14  True  0.587662    0.153347  0.241390  0.658758    0.940253  0.770659  \n",
       "15  True  0.565747    0.166183  0.254395  0.697796    0.940507  0.797317  \n",
       "16  True  0.635552    0.125295  0.205730  0.537440    0.939908  0.660839  \n",
       "17  True  0.693994    0.146822  0.242346  0.588949    0.949733  0.726973  \n",
       "18  True  0.616883    0.156554  0.249723  0.661319    0.944263  0.777847  \n",
       "19  True  0.608766    0.156711  0.249247  0.666198    0.943546  0.780965  \n",
       "20  True  0.617695    0.157168  0.250571  0.662394    0.944452  0.778657  \n",
       "21  True  0.616071    0.157630  0.251024  0.664462    0.944394  0.780064  \n",
       "22  True  0.602273    0.155457  0.247104  0.666529    0.942691  0.780880  \n",
       "23  True  0.599026    0.156439  0.248042  0.670831    0.942619  0.783770  \n",
       "24  True  0.604708    0.156691  0.248876  0.668349    0.943167  0.782305  \n",
       "25  True  0.605519    0.157530  0.250008  0.670086    0.943421  0.783591  \n",
       "26  True  0.603896    0.157757  0.250109  0.671493    0.943341  0.784462  \n",
       "27  True  0.609578    0.157607  0.250442  0.668018    0.943807  0.782297  \n",
       "28  True  0.606331    0.158338  0.251091  0.671574    0.943644  0.784678  \n",
       "29  True  0.599026    0.155422  0.246792  0.668266    0.942389  0.781978  \n",
       "30  True  0.607955    0.156704  0.249173  0.666612    0.943465  0.781226  \n",
       "31  True  0.607143    0.157215  0.249736  0.668349    0.943504  0.782411  \n",
       "32  True  0.612013    0.156864  0.249709  0.664793    0.943878  0.780106  \n",
       "33  True  0.602273    0.156703  0.248688  0.669755    0.942952  0.783198  \n",
       "34  True  0.609578    0.157536  0.250357  0.667852    0.943792  0.782183  \n",
       "35  True  0.606331    0.157362  0.249871  0.669176    0.943449  0.782984  \n",
       "36  True  0.602273    0.155148  0.246721  0.665785    0.942630  0.780359  "
      ]
     },
     "execution_count": 217,
     "metadata": {},
     "output_type": "execute_result"
    }
   ],
   "source": [
    "clf2.clf_eval"
   ]
  },
  {
   "cell_type": "code",
   "execution_count": null,
   "metadata": {
    "collapsed": true
   },
   "outputs": [],
   "source": []
  },
  {
   "cell_type": "code",
   "execution_count": null,
   "metadata": {
    "collapsed": true
   },
   "outputs": [],
   "source": []
  },
  {
   "cell_type": "markdown",
   "metadata": {},
   "source": [
    "## 2.3 Downsampling"
   ]
  },
  {
   "cell_type": "code",
   "execution_count": 232,
   "metadata": {},
   "outputs": [
    {
     "name": "stdout",
     "output_type": "stream",
     "text": [
      "(1848, 143)\n",
      "dict_items([(1, 1232), (0, 12091)])\n",
      "dict_items([(0, 924), (1, 924)])\n"
     ]
    }
   ],
   "source": [
    "rus = RandomUnderSampler(random_state=1989)\n",
    "X_res, y_res = rus.fit_sample(X_train, y_train)\n",
    "print(X_res.shape)\n",
    "print(Counter(y).items())\n",
    "print(Counter(y_res).items())"
   ]
  },
  {
   "cell_type": "markdown",
   "metadata": {},
   "source": [
    "## NB"
   ]
  },
  {
   "cell_type": "code",
   "execution_count": 233,
   "metadata": {},
   "outputs": [
    {
     "name": "stdout",
     "output_type": "stream",
     "text": [
      "Confusion matrix, without normalization\n",
      "[[ 235   73]\n",
      " [1402 1621]]\n",
      "             precision    recall  f1-score   support\n",
      "\n",
      "    Tier 1D       0.14      0.76      0.24       308\n",
      "      other       0.96      0.54      0.69      3023\n",
      "\n",
      "avg / total       0.88      0.56      0.65      3331\n",
      "\n"
     ]
    },
    {
     "data": {
      "image/png": "[encoded data removed]",
      "text/plain": [
       "<matplotlib.figure.Figure at 0x1a170fc668>"
      ]
     },
     "metadata": {},
     "output_type": "display_data"
    }
   ],
   "source": [
    "gnb = GaussianNB()\n",
    "gnb.fit(X_res, y_res)\n",
    "y_predict = gnb.predict(X_test)\n",
    "func.plot_confusion_matrix(confusion_matrix(y_test, y_predict, labels=[True, False]), classes=['Tier 1D','other'])\n",
    "print(classification_report(y_test, y_predict, labels=[True, False], target_names=['Tier 1D','other']))"
   ]
  },
  {
   "cell_type": "code",
   "execution_count": 234,
   "metadata": {},
   "outputs": [
    {
     "name": "stdout",
     "output_type": "stream",
     "text": [
      "Confusion matrix, without normalization\n",
      "[[ 215   93]\n",
      " [1199 1824]]\n",
      "             precision    recall  f1-score   support\n",
      "\n",
      "    Tier 1D       0.15      0.70      0.25       308\n",
      "      other       0.95      0.60      0.74      3023\n",
      "\n",
      "avg / total       0.88      0.61      0.69      3331\n",
      "\n"
     ]
    },
    {
     "data": {
      "image/png": "[encoded data removed]",
      "text/plain": [
       "<matplotlib.figure.Figure at 0x1a15b74be0>"
      ]
     },
     "metadata": {},
     "output_type": "display_data"
    }
   ],
   "source": [
    "bnb = BernoulliNB()\n",
    "bnb.fit(X_res, y_res)\n",
    "y_predict = bnb.predict(X_test)\n",
    "func.plot_confusion_matrix(confusion_matrix(y_test, y_predict, labels=[True, False]), classes=['Tier 1D','other'])\n",
    "print(classification_report(y_test, y_predict, labels=[True, False], target_names=['Tier 1D','other']))"
   ]
  },
  {
   "cell_type": "markdown",
   "metadata": {},
   "source": [
    "### SVM"
   ]
  },
  {
   "cell_type": "code",
   "execution_count": 235,
   "metadata": {},
   "outputs": [
    {
     "name": "stdout",
     "output_type": "stream",
     "text": [
      "Confusion matrix, without normalization\n",
      "[[ 187  121]\n",
      " [ 830 2193]]\n",
      "             precision    recall  f1-score   support\n",
      "\n",
      "    Tier 1D       0.18      0.61      0.28       308\n",
      "      other       0.95      0.73      0.82      3023\n",
      "\n",
      "avg / total       0.88      0.71      0.77      3331\n",
      "\n"
     ]
    },
    {
     "data": {
      "image/png": "[encoded data removed]",
      "text/plain": [
       "<matplotlib.figure.Figure at 0x1a182267b8>"
      ]
     },
     "metadata": {},
     "output_type": "display_data"
    }
   ],
   "source": [
    "svc = LinearSVC(dual=True)\n",
    "svc.fit(X_res, y_res)\n",
    "y_predict = svc.predict(X_test)\n",
    "func.plot_confusion_matrix(confusion_matrix(y_test, y_predict, labels=[True, False]), classes=['Tier 1D','other'])\n",
    "print(classification_report(y_test, y_predict, labels=[True, False], target_names=['Tier 1D','other']))"
   ]
  },
  {
   "cell_type": "code",
   "execution_count": 236,
   "metadata": {},
   "outputs": [
    {
     "name": "stdout",
     "output_type": "stream",
     "text": [
      "Confusion matrix, without normalization\n",
      "[[ 255   53]\n",
      " [1456 1567]]\n",
      "             precision    recall  f1-score   support\n",
      "\n",
      "    Tier 1D       0.15      0.83      0.25       308\n",
      "      other       0.97      0.52      0.67      3023\n",
      "\n",
      "avg / total       0.89      0.55      0.64      3331\n",
      "\n"
     ]
    },
    {
     "data": {
      "image/png": "[encoded data removed]",
      "text/plain": [
       "<matplotlib.figure.Figure at 0x1a15783470>"
      ]
     },
     "metadata": {},
     "output_type": "display_data"
    }
   ],
   "source": [
    "svc = SVC(kernel='rbf')\n",
    "svc.fit(X_res, y_res)\n",
    "y_predict = svc.predict(X_test)\n",
    "func.plot_confusion_matrix(confusion_matrix(y_test, y_predict, labels=[True, False]), classes=['Tier 1D','other'])\n",
    "print(classification_report(y_test, y_predict, labels=[True, False], target_names=['Tier 1D','other']))"
   ]
  },
  {
   "cell_type": "markdown",
   "metadata": {},
   "source": [
    "### Random Forest"
   ]
  },
  {
   "cell_type": "code",
   "execution_count": 237,
   "metadata": {},
   "outputs": [
    {
     "name": "stdout",
     "output_type": "stream",
     "text": [
      "Confusion matrix, without normalization\n",
      "[[ 219   89]\n",
      " [ 986 2037]]\n",
      "             precision    recall  f1-score   support\n",
      "\n",
      "    Tier 1D       0.18      0.71      0.29       308\n",
      "      other       0.96      0.67      0.79      3023\n",
      "\n",
      "avg / total       0.89      0.68      0.74      3331\n",
      "\n"
     ]
    },
    {
     "data": {
      "image/png": "[encoded data removed]",
      "text/plain": [
       "<matplotlib.figure.Figure at 0x1a15db1e80>"
      ]
     },
     "metadata": {},
     "output_type": "display_data"
    }
   ],
   "source": [
    "rf = RandomForestClassifier(n_estimators=200, n_jobs=-1)\n",
    "rf.fit(X_res, y_res)\n",
    "y_predict = rf.predict(X_test)\n",
    "func.plot_confusion_matrix(confusion_matrix(y_test, y_predict, labels=[True, False]), classes=['Tier 1D','other'])\n",
    "print(classification_report(y_test, y_predict, labels=[True, False], target_names=['Tier 1D','other']))"
   ]
  },
  {
   "cell_type": "markdown",
   "metadata": {},
   "source": [
    "### Adaboost"
   ]
  },
  {
   "cell_type": "code",
   "execution_count": 238,
   "metadata": {},
   "outputs": [
    {
     "name": "stdout",
     "output_type": "stream",
     "text": [
      "Confusion matrix, without normalization\n",
      "[[ 216   92]\n",
      " [1118 1905]]\n",
      "             precision    recall  f1-score   support\n",
      "\n",
      "    Tier 1D       0.16      0.70      0.26       308\n",
      "      other       0.95      0.63      0.76      3023\n",
      "\n",
      "avg / total       0.88      0.64      0.71      3331\n",
      "\n"
     ]
    },
    {
     "data": {
      "image/png": "[encoded data removed]",
      "text/plain": [
       "<matplotlib.figure.Figure at 0x1a1bc82748>"
      ]
     },
     "metadata": {},
     "output_type": "display_data"
    }
   ],
   "source": [
    "ab = AdaBoostClassifier()\n",
    "ab.fit(X_res, y_res)\n",
    "y_predict = ab.predict(X_test)\n",
    "func.plot_confusion_matrix(confusion_matrix(y_test, y_predict, labels=[True, False]), classes=['Tier 1D','other'])\n",
    "print(classification_report(y_test, y_predict, labels=[True, False], target_names=['Tier 1D','other']))"
   ]
  },
  {
   "cell_type": "markdown",
   "metadata": {},
   "source": [
    "## Other Downsampling"
   ]
  },
  {
   "cell_type": "code",
   "execution_count": 242,
   "metadata": {},
   "outputs": [
    {
     "name": "stdout",
     "output_type": "stream",
     "text": [
      "(1848, 143)\n",
      "dict_items([(1, 1232), (0, 12091)])\n",
      "dict_items([(0, 924), (1, 924)])\n"
     ]
    }
   ],
   "source": [
    "cc = ClusterCentroids(random_state=1223)\n",
    "X_res, y_res = cc.fit_sample(X_train, y_train)\n",
    "print(X_res.shape)\n",
    "print(Counter(y).items())\n",
    "print(Counter(y_res).items())"
   ]
  },
  {
   "cell_type": "code",
   "execution_count": 243,
   "metadata": {},
   "outputs": [
    {
     "name": "stdout",
     "output_type": "stream",
     "text": [
      "Confusion matrix, without normalization\n",
      "[[ 248   60]\n",
      " [1533 1490]]\n",
      "             precision    recall  f1-score   support\n",
      "\n",
      "    Tier 1D       0.14      0.81      0.24       308\n",
      "      other       0.96      0.49      0.65      3023\n",
      "\n",
      "avg / total       0.89      0.52      0.61      3331\n",
      "\n"
     ]
    },
    {
     "data": {
      "image/png": "[encoded data removed]",
      "text/plain": [
       "<matplotlib.figure.Figure at 0x1a1bc86588>"
      ]
     },
     "metadata": {},
     "output_type": "display_data"
    }
   ],
   "source": [
    "gnb = GaussianNB()\n",
    "gnb.fit(X_res, y_res)\n",
    "y_predict = gnb.predict(X_test)\n",
    "func.plot_confusion_matrix(confusion_matrix(y_test, y_predict, labels=[True, False]), classes=['Tier 1D','other'])\n",
    "print(classification_report(y_test, y_predict, labels=[True, False], target_names=['Tier 1D','other']))"
   ]
  },
  {
   "cell_type": "code",
   "execution_count": 244,
   "metadata": {},
   "outputs": [
    {
     "name": "stdout",
     "output_type": "stream",
     "text": [
      "Confusion matrix, without normalization\n",
      "[[ 308    0]\n",
      " [3003   20]]\n",
      "             precision    recall  f1-score   support\n",
      "\n",
      "    Tier 1D       0.09      1.00      0.17       308\n",
      "      other       1.00      0.01      0.01      3023\n",
      "\n",
      "avg / total       0.92      0.10      0.03      3331\n",
      "\n"
     ]
    },
    {
     "data": {
      "image/png": "[encoded data removed]",
      "text/plain": [
       "<matplotlib.figure.Figure at 0x1a15ebd470>"
      ]
     },
     "metadata": {},
     "output_type": "display_data"
    }
   ],
   "source": [
    "bnb = BernoulliNB()\n",
    "bnb.fit(X_res, y_res)\n",
    "y_predict = bnb.predict(X_test)\n",
    "func.plot_confusion_matrix(confusion_matrix(y_test, y_predict, labels=[True, False]), classes=['Tier 1D','other'])\n",
    "print(classification_report(y_test, y_predict, labels=[True, False], target_names=['Tier 1D','other']))"
   ]
  },
  {
   "cell_type": "code",
   "execution_count": 245,
   "metadata": {},
   "outputs": [
    {
     "name": "stdout",
     "output_type": "stream",
     "text": [
      "Confusion matrix, without normalization\n",
      "[[ 238   70]\n",
      " [1408 1615]]\n",
      "             precision    recall  f1-score   support\n",
      "\n",
      "    Tier 1D       0.14      0.77      0.24       308\n",
      "      other       0.96      0.53      0.69      3023\n",
      "\n",
      "avg / total       0.88      0.56      0.65      3331\n",
      "\n"
     ]
    },
    {
     "data": {
      "image/png": "[encoded data removed]",
      "text/plain": [
       "<matplotlib.figure.Figure at 0x1a170fc438>"
      ]
     },
     "metadata": {},
     "output_type": "display_data"
    }
   ],
   "source": [
    "svc = LinearSVC(dual=True)\n",
    "svc.fit(X_res, y_res)\n",
    "y_predict = svc.predict(X_test)\n",
    "func.plot_confusion_matrix(confusion_matrix(y_test, y_predict, labels=[True, False]), classes=['Tier 1D','other'])\n",
    "print(classification_report(y_test, y_predict, labels=[True, False], target_names=['Tier 1D','other']))"
   ]
  },
  {
   "cell_type": "code",
   "execution_count": 246,
   "metadata": {},
   "outputs": [
    {
     "name": "stdout",
     "output_type": "stream",
     "text": [
      "Confusion matrix, without normalization\n",
      "[[ 242   66]\n",
      " [1391 1632]]\n",
      "             precision    recall  f1-score   support\n",
      "\n",
      "    Tier 1D       0.15      0.79      0.25       308\n",
      "      other       0.96      0.54      0.69      3023\n",
      "\n",
      "avg / total       0.89      0.56      0.65      3331\n",
      "\n"
     ]
    },
    {
     "data": {
      "image/png": "[encoded data removed]",
      "text/plain": [
       "<matplotlib.figure.Figure at 0x1a16d50588>"
      ]
     },
     "metadata": {},
     "output_type": "display_data"
    }
   ],
   "source": [
    "svc = SVC(kernel='rbf')\n",
    "svc.fit(X_res, y_res)\n",
    "y_predict = svc.predict(X_test)\n",
    "func.plot_confusion_matrix(confusion_matrix(y_test, y_predict, labels=[True, False]), classes=['Tier 1D','other'])\n",
    "print(classification_report(y_test, y_predict, labels=[True, False], target_names=['Tier 1D','other']))"
   ]
  },
  {
   "cell_type": "code",
   "execution_count": 247,
   "metadata": {},
   "outputs": [
    {
     "name": "stdout",
     "output_type": "stream",
     "text": [
      "Confusion matrix, without normalization\n",
      "[[ 296   12]\n",
      " [2544  479]]\n",
      "             precision    recall  f1-score   support\n",
      "\n",
      "    Tier 1D       0.10      0.96      0.19       308\n",
      "      other       0.98      0.16      0.27      3023\n",
      "\n",
      "avg / total       0.89      0.23      0.26      3331\n",
      "\n"
     ]
    },
    {
     "data": {
      "image/png": "[encoded data removed]",
      "text/plain": [
       "<matplotlib.figure.Figure at 0x1a1584ec18>"
      ]
     },
     "metadata": {},
     "output_type": "display_data"
    }
   ],
   "source": [
    "rf = RandomForestClassifier(n_estimators=200, n_jobs=-1)\n",
    "rf.fit(X_res, y_res)\n",
    "y_predict = rf.predict(X_test)\n",
    "func.plot_confusion_matrix(confusion_matrix(y_test, y_predict, labels=[True, False]), classes=['Tier 1D','other'])\n",
    "print(classification_report(y_test, y_predict, labels=[True, False], target_names=['Tier 1D','other']))"
   ]
  },
  {
   "cell_type": "code",
   "execution_count": 248,
   "metadata": {},
   "outputs": [
    {
     "name": "stdout",
     "output_type": "stream",
     "text": [
      "Confusion matrix, without normalization\n",
      "[[ 296   12]\n",
      " [2741  282]]\n",
      "             precision    recall  f1-score   support\n",
      "\n",
      "    Tier 1D       0.10      0.96      0.18       308\n",
      "      other       0.96      0.09      0.17      3023\n",
      "\n",
      "avg / total       0.88      0.17      0.17      3331\n",
      "\n"
     ]
    },
    {
     "data": {
      "image/png": "[encoded data removed]",
      "text/plain": [
       "<matplotlib.figure.Figure at 0x1a15a4c4e0>"
      ]
     },
     "metadata": {},
     "output_type": "display_data"
    }
   ],
   "source": [
    "ab = AdaBoostClassifier()\n",
    "ab.fit(X_res, y_res)\n",
    "y_predict = ab.predict(X_test)\n",
    "func.plot_confusion_matrix(confusion_matrix(y_test, y_predict, labels=[True, False]), classes=['Tier 1D','other'])\n",
    "print(classification_report(y_test, y_predict, labels=[True, False], target_names=['Tier 1D','other']))"
   ]
  },
  {
   "cell_type": "code",
   "execution_count": null,
   "metadata": {
    "collapsed": true
   },
   "outputs": [],
   "source": []
  },
  {
   "cell_type": "code",
   "execution_count": null,
   "metadata": {
    "collapsed": true
   },
   "outputs": [],
   "source": []
  },
  {
   "cell_type": "code",
   "execution_count": null,
   "metadata": {
    "collapsed": true
   },
   "outputs": [],
   "source": []
  },
  {
   "cell_type": "markdown",
   "metadata": {
    "collapsed": true
   },
   "source": [
    "## SGD"
   ]
  },
  {
   "cell_type": "code",
   "execution_count": 239,
   "metadata": {},
   "outputs": [
    {
     "name": "stderr",
     "output_type": "stream",
     "text": [
      "/Users/youqiao/env/anaconda3/lib/python3.6/site-packages/sklearn/linear_model/stochastic_gradient.py:84: FutureWarning: max_iter and tol parameters have been added in <class 'sklearn.linear_model.stochastic_gradient.SGDClassifier'> in 0.19. If both are left unset, they default to max_iter=5 and tol=None. If tol is not None, max_iter defaults to max_iter=1000. From 0.21, default max_iter will be 1000, and default tol will be 1e-3.\n",
      "  \"and default tol will be 1e-3.\" % type(self), FutureWarning)\n"
     ]
    },
    {
     "name": "stdout",
     "output_type": "stream",
     "text": [
      "Confusion matrix, without normalization\n",
      "[[ 136  172]\n",
      " [ 547 2476]]\n",
      "             precision    recall  f1-score   support\n",
      "\n",
      "    Tier 1D       0.20      0.44      0.27       308\n",
      "      other       0.94      0.82      0.87      3023\n",
      "\n",
      "avg / total       0.87      0.78      0.82      3331\n",
      "\n"
     ]
    },
    {
     "data": {
      "image/png": "[encoded data removed]",
      "text/plain": [
       "<matplotlib.figure.Figure at 0x1a15ebbcc0>"
      ]
     },
     "metadata": {},
     "output_type": "display_data"
    }
   ],
   "source": [
    "sgd = SGDClassifier(loss=\"hinge\", penalty=\"l1\", n_jobs=-1)\n",
    "sgd.fit(X_res, y_res)\n",
    "y_predict = sgd.predict(X_test)\n",
    "func.plot_confusion_matrix(confusion_matrix(y_test, y_predict, labels=[True, False]), classes=['Tier 1D','other'])\n",
    "print(classification_report(y_test, y_predict, labels=[True, False], target_names=['Tier 1D','other']))"
   ]
  },
  {
   "cell_type": "markdown",
   "metadata": {},
   "source": [
    "## PCA"
   ]
  },
  {
   "cell_type": "code",
   "execution_count": 156,
   "metadata": {
    "collapsed": true
   },
   "outputs": [],
   "source": [
    "# PCA processing\n",
    "pca = PCA(n_components=10)\n",
    "X_train_pca = pca.fit_transform(X_train)\n",
    "X_test_pca = pca.transform(X_test)"
   ]
  },
  {
   "cell_type": "code",
   "execution_count": 157,
   "metadata": {},
   "outputs": [
    {
     "data": {
      "text/plain": [
       "array([  1.22339112e+05,   2.76924514e+04,   1.19543319e+03,\n",
       "         1.63085830e+02,   1.12216082e+02,   1.01497880e+02,\n",
       "         9.33276711e+01,   7.47824937e+01,   7.26171898e+01,\n",
       "         7.20028023e+01])"
      ]
     },
     "execution_count": 157,
     "metadata": {},
     "output_type": "execute_result"
    }
   ],
   "source": [
    "pca.singular_values_"
   ]
  },
  {
   "cell_type": "code",
   "execution_count": 158,
   "metadata": {},
   "outputs": [
    {
     "data": {
      "text/plain": [
       "array([  9.51163777e-01,   4.87357279e-02,   9.08186981e-05,\n",
       "         1.69027400e-06,   8.00266910e-07,   6.54694357e-07,\n",
       "         5.53535540e-07,   3.55405823e-07,   3.35122456e-07,\n",
       "         3.29475747e-07])"
      ]
     },
     "execution_count": 158,
     "metadata": {},
     "output_type": "execute_result"
    }
   ],
   "source": [
    "pca.explained_variance_ratio_"
   ]
  },
  {
   "cell_type": "code",
   "execution_count": 159,
   "metadata": {},
   "outputs": [
    {
     "data": {
      "text/plain": [
       "array([ 0.95116378,  0.9998995 ,  0.99999032,  0.99999201,  0.99999281,\n",
       "        0.99999347,  0.99999402,  0.99999438,  0.99999471,  0.99999504])"
      ]
     },
     "execution_count": 159,
     "metadata": {},
     "output_type": "execute_result"
    }
   ],
   "source": [
    "np.cumsum(pca.explained_variance_ratio_)"
   ]
  },
  {
   "cell_type": "code",
   "execution_count": 160,
   "metadata": {},
   "outputs": [
    {
     "name": "stdout",
     "output_type": "stream",
     "text": [
      "Confusion matrix, without normalization\n",
      "[[ 142  166]\n",
      " [ 474 2549]]\n",
      "             precision    recall  f1-score   support\n",
      "\n",
      "    Tier 1D       0.23      0.46      0.31       308\n",
      "      other       0.94      0.84      0.89      3023\n",
      "\n",
      "avg / total       0.87      0.81      0.83      3331\n",
      "\n"
     ]
    },
    {
     "data": {
      "image/png": "[encoded data removed]",
      "text/plain": [
       "<matplotlib.figure.Figure at 0x1a15c3d668>"
      ]
     },
     "metadata": {},
     "output_type": "display_data"
    }
   ],
   "source": [
    "rf = RandomForestClassifier(n_estimators=200, n_jobs=-1)\n",
    "rf.fit(X_train_pca, y_train)\n",
    "y_predict = rf.predict(X_test_pca)\n",
    "func.plot_confusion_matrix(confusion_matrix(y_test, y_predict, labels=[True, False]), classes=['Tier 1D','other'])\n",
    "print(classification_report(y_test, y_predict, labels=[True, False], target_names=['Tier 1D','other']))"
   ]
  },
  {
   "cell_type": "code",
   "execution_count": 161,
   "metadata": {},
   "outputs": [
    {
     "name": "stdout",
     "output_type": "stream",
     "text": [
      "Confusion matrix, without normalization\n",
      "[[ 197  111]\n",
      " [1126 1897]]\n",
      "             precision    recall  f1-score   support\n",
      "\n",
      "    Tier 1D       0.15      0.64      0.24       308\n",
      "      other       0.94      0.63      0.75      3023\n",
      "\n",
      "avg / total       0.87      0.63      0.71      3331\n",
      "\n"
     ]
    },
    {
     "data": {
      "image/png": "[encoded data removed]",
      "text/plain": [
       "<matplotlib.figure.Figure at 0x1a15a5ce10>"
      ]
     },
     "metadata": {},
     "output_type": "display_data"
    }
   ],
   "source": [
    "ab = AdaBoostClassifier()\n",
    "ab.fit(X_train_pca, y_train)\n",
    "y_predict = ab.predict(X_test_pca)\n",
    "func.plot_confusion_matrix(confusion_matrix(y_test, y_predict, labels=[True, False]), classes=['Tier 1D','other'])\n",
    "print(classification_report(y_test, y_predict, labels=[True, False], target_names=['Tier 1D','other']))"
   ]
  },
  {
   "cell_type": "code",
   "execution_count": 162,
   "metadata": {},
   "outputs": [
    {
     "name": "stderr",
     "output_type": "stream",
     "text": [
      "/Users/youqiao/env/anaconda3/lib/python3.6/site-packages/sklearn/linear_model/stochastic_gradient.py:84: FutureWarning: max_iter and tol parameters have been added in <class 'sklearn.linear_model.stochastic_gradient.SGDClassifier'> in 0.19. If both are left unset, they default to max_iter=5 and tol=None. If tol is not None, max_iter defaults to max_iter=1000. From 0.21, default max_iter will be 1000, and default tol will be 1e-3.\n",
      "  \"and default tol will be 1e-3.\" % type(self), FutureWarning)\n"
     ]
    },
    {
     "name": "stdout",
     "output_type": "stream",
     "text": [
      "Confusion matrix, without normalization\n",
      "[[ 308    0]\n",
      " [3012   11]]\n",
      "             precision    recall  f1-score   support\n",
      "\n",
      "    Tier 1D       0.09      1.00      0.17       308\n",
      "      other       1.00      0.00      0.01      3023\n",
      "\n",
      "avg / total       0.92      0.10      0.02      3331\n",
      "\n"
     ]
    },
    {
     "data": {
      "image/png": "[encoded data removed]",
      "text/plain": [
       "<matplotlib.figure.Figure at 0x1a18414630>"
      ]
     },
     "metadata": {},
     "output_type": "display_data"
    }
   ],
   "source": [
    "sgd = SGDClassifier(loss=\"hinge\", penalty=\"l1\", n_jobs=-1)\n",
    "sgd.fit(X_train_pca, y_train)\n",
    "y_predict = sgd.predict(X_test_pca)\n",
    "func.plot_confusion_matrix(confusion_matrix(y_test, y_predict, labels=[True, False]), classes=['Tier 1D','other'])\n",
    "print(classification_report(y_test, y_predict, labels=[True, False], target_names=['Tier 1D','other']))"
   ]
  },
  {
   "cell_type": "markdown",
   "metadata": {},
   "source": [
    "## Try feature selection and SMOTE"
   ]
  },
  {
   "cell_type": "code",
   "execution_count": 183,
   "metadata": {},
   "outputs": [],
   "source": [
    "sf = features10"
   ]
  },
  {
   "cell_type": "code",
   "execution_count": 186,
   "metadata": {},
   "outputs": [],
   "source": [
    "X_trainsf = X_train[sf]\n",
    "X_testsf = X_test[sf]"
   ]
  },
  {
   "cell_type": "code",
   "execution_count": 191,
   "metadata": {},
   "outputs": [
    {
     "name": "stdout",
     "output_type": "stream",
     "text": [
      "(18136, 10)\n",
      "dict_items([(1, 1232), (0, 12091)])\n",
      "dict_items([(0, 9068), (1, 9068)])\n",
      "dict_items([(0, 3023), (1, 308)])\n",
      "(9992, 143)\n",
      "Training size: 18136\n",
      "Test size: 3331\n",
      "dict_items([(1, 1232), (0, 12091)])\n"
     ]
    }
   ],
   "source": [
    "X_trains, y_trains = SMOTE().fit_sample(X_trainsf, y_train)\n",
    "print(X_trains.shape)\n",
    "print(Counter(y).items())\n",
    "print(Counter(y_trains).items())\n",
    "print(Counter(y_test).items())\n",
    "print(X_train.shape)\n",
    "print(\"Training size: %r\" %X_trains.shape[0])\n",
    "print(\"Test size: %r\" %X_test.shape[0])\n",
    "print(Counter(y).items())"
   ]
  },
  {
   "cell_type": "code",
   "execution_count": 192,
   "metadata": {},
   "outputs": [
    {
     "name": "stdout",
     "output_type": "stream",
     "text": [
      "Confusion matrix, without normalization\n",
      "[[ 286   22]\n",
      " [2616  407]]\n",
      "             precision    recall  f1-score   support\n",
      "\n",
      "    Tier 1D       0.10      0.93      0.18       308\n",
      "      other       0.95      0.13      0.24      3023\n",
      "\n",
      "avg / total       0.87      0.21      0.23      3331\n",
      "\n"
     ]
    },
    {
     "data": {
      "image/png": "[encoded data removed]",
      "text/plain": [
       "<matplotlib.figure.Figure at 0x1a158fe780>"
      ]
     },
     "metadata": {},
     "output_type": "display_data"
    }
   ],
   "source": [
    "gnb = GaussianNB()\n",
    "gnb.fit(X_trains, y_trains)\n",
    "y_predict = gnb.predict(X_testsf)\n",
    "func.plot_confusion_matrix(confusion_matrix(y_test, y_predict, labels=[True, False]), classes=['Tier 1D','other'])\n",
    "print(classification_report(y_test, y_predict, labels=[True, False], target_names=['Tier 1D','other']))"
   ]
  },
  {
   "cell_type": "code",
   "execution_count": 193,
   "metadata": {},
   "outputs": [
    {
     "name": "stdout",
     "output_type": "stream",
     "text": [
      "Confusion matrix, without normalization\n",
      "[[ 175  133]\n",
      " [1278 1745]]\n",
      "             precision    recall  f1-score   support\n",
      "\n",
      "    Tier 1D       0.12      0.57      0.20       308\n",
      "      other       0.93      0.58      0.71      3023\n",
      "\n",
      "avg / total       0.85      0.58      0.66      3331\n",
      "\n"
     ]
    },
    {
     "data": {
      "image/png": "[encoded data removed]",
      "text/plain": [
       "<matplotlib.figure.Figure at 0x1a15c7f400>"
      ]
     },
     "metadata": {},
     "output_type": "display_data"
    }
   ],
   "source": [
    "bnb = BernoulliNB()\n",
    "bnb.fit(X_trains, y_trains)\n",
    "y_predict = bnb.predict(X_testsf)\n",
    "func.plot_confusion_matrix(confusion_matrix(y_test, y_predict, labels=[True, False]), classes=['Tier 1D','other'])\n",
    "print(classification_report(y_test, y_predict, labels=[True, False], target_names=['Tier 1D','other']))"
   ]
  },
  {
   "cell_type": "code",
   "execution_count": 194,
   "metadata": {},
   "outputs": [
    {
     "name": "stdout",
     "output_type": "stream",
     "text": [
      "Confusion matrix, without normalization\n",
      "[[ 139  169]\n",
      " [ 737 2286]]\n",
      "             precision    recall  f1-score   support\n",
      "\n",
      "    Tier 1D       0.16      0.45      0.23       308\n",
      "      other       0.93      0.76      0.83      3023\n",
      "\n",
      "avg / total       0.86      0.73      0.78      3331\n",
      "\n"
     ]
    },
    {
     "data": {
      "image/png": "[encoded data removed]",
      "text/plain": [
       "<matplotlib.figure.Figure at 0x1a15d18cf8>"
      ]
     },
     "metadata": {},
     "output_type": "display_data"
    }
   ],
   "source": [
    "rf = RandomForestClassifier(n_estimators=200, n_jobs=-1)\n",
    "rf.fit(X_trains, y_trains)\n",
    "y_predict = rf.predict(X_testsf)\n",
    "func.plot_confusion_matrix(confusion_matrix(y_test, y_predict, labels=[True, False]), classes=['Tier 1D','other'])\n",
    "print(classification_report(y_test, y_predict, labels=[True, False], target_names=['Tier 1D','other']))"
   ]
  },
  {
   "cell_type": "code",
   "execution_count": 195,
   "metadata": {},
   "outputs": [
    {
     "name": "stdout",
     "output_type": "stream",
     "text": [
      "Confusion matrix, without normalization\n",
      "[[ 174  134]\n",
      " [1180 1843]]\n",
      "             precision    recall  f1-score   support\n",
      "\n",
      "    Tier 1D       0.13      0.56      0.21       308\n",
      "      other       0.93      0.61      0.74      3023\n",
      "\n",
      "avg / total       0.86      0.61      0.69      3331\n",
      "\n"
     ]
    },
    {
     "data": {
      "image/png": "[encoded data removed]",
      "text/plain": [
       "<matplotlib.figure.Figure at 0x1a15d87b70>"
      ]
     },
     "metadata": {},
     "output_type": "display_data"
    }
   ],
   "source": [
    "svc = LinearSVC(dual=True)\n",
    "svc.fit(X_trains, y_trains)\n",
    "y_predict = svc.predict(X_testsf)\n",
    "func.plot_confusion_matrix(confusion_matrix(y_test, y_predict, labels=[True, False]), classes=['Tier 1D','other'])\n",
    "print(classification_report(y_test, y_predict, labels=[True, False], target_names=['Tier 1D','other']))"
   ]
  },
  {
   "cell_type": "code",
   "execution_count": 196,
   "metadata": {},
   "outputs": [
    {
     "name": "stdout",
     "output_type": "stream",
     "text": [
      "Confusion matrix, without normalization\n",
      "[[ 173  135]\n",
      " [ 967 2056]]\n",
      "             precision    recall  f1-score   support\n",
      "\n",
      "    Tier 1D       0.15      0.56      0.24       308\n",
      "      other       0.94      0.68      0.79      3023\n",
      "\n",
      "avg / total       0.87      0.67      0.74      3331\n",
      "\n"
     ]
    },
    {
     "data": {
      "image/png": "[encoded data removed]",
      "text/plain": [
       "<matplotlib.figure.Figure at 0x1a19dd3128>"
      ]
     },
     "metadata": {},
     "output_type": "display_data"
    }
   ],
   "source": [
    "svc = SVC(kernel='rbf')\n",
    "svc.fit(X_trains, y_trains)\n",
    "y_predict = svc.predict(X_testsf)\n",
    "func.plot_confusion_matrix(confusion_matrix(y_test, y_predict, labels=[True, False]), classes=['Tier 1D','other'])\n",
    "print(classification_report(y_test, y_predict, labels=[True, False], target_names=['Tier 1D','other']))"
   ]
  },
  {
   "cell_type": "code",
   "execution_count": null,
   "metadata": {
    "collapsed": true
   },
   "outputs": [],
   "source": []
  },
  {
   "cell_type": "code",
   "execution_count": null,
   "metadata": {
    "collapsed": true
   },
   "outputs": [],
   "source": []
  },
  {
   "cell_type": "code",
   "execution_count": null,
   "metadata": {
    "collapsed": true
   },
   "outputs": [],
   "source": []
  },
  {
   "cell_type": "code",
   "execution_count": null,
   "metadata": {
    "collapsed": true
   },
   "outputs": [],
   "source": []
  },
  {
   "cell_type": "markdown",
   "metadata": {},
   "source": [
    "## Try SMOTE first and PCA"
   ]
  },
  {
   "cell_type": "code",
   "execution_count": 163,
   "metadata": {},
   "outputs": [
    {
     "name": "stdout",
     "output_type": "stream",
     "text": [
      "(18136, 143)\n",
      "dict_items([(1, 1232), (0, 12091)])\n",
      "dict_items([(0, 9068), (1, 9068)])\n",
      "dict_items([(0, 3023), (1, 308)])\n",
      "(18136, 143)\n",
      "Training size: 18136\n",
      "Test size: 3331\n",
      "dict_items([(1, 1232), (0, 12091)])\n"
     ]
    }
   ],
   "source": [
    "X_trains, y_trains = SMOTE().fit_sample(X_train, y_train)\n",
    "print(X_trains.shape)\n",
    "print(Counter(y).items())\n",
    "print(Counter(y_trains).items())\n",
    "print(Counter(y_test).items())\n",
    "print(X_trains.shape)\n",
    "print(\"Training size: %r\" %X_trains.shape[0])\n",
    "print(\"Test size: %r\" %X_test.shape[0])\n",
    "print(Counter(y).items())"
   ]
  },
  {
   "cell_type": "code",
   "execution_count": null,
   "metadata": {
    "collapsed": true
   },
   "outputs": [],
   "source": [
    "pca = PCA(n_components=10)\n",
    "X_train_pca = pca.fit_transform(X_trains)\n",
    "X_test_pca = pca.transform(X_test)"
   ]
  },
  {
   "cell_type": "code",
   "execution_count": 164,
   "metadata": {},
   "outputs": [
    {
     "name": "stdout",
     "output_type": "stream",
     "text": [
      "Confusion matrix, without normalization\n",
      "[[  82  226]\n",
      " [ 206 2817]]\n",
      "             precision    recall  f1-score   support\n",
      "\n",
      "    Tier 1D       0.28      0.27      0.28       308\n",
      "      other       0.93      0.93      0.93      3023\n",
      "\n",
      "avg / total       0.87      0.87      0.87      3331\n",
      "\n"
     ]
    },
    {
     "data": {
      "image/png": "[encoded data removed]",
      "text/plain": [
       "<matplotlib.figure.Figure at 0x1a15ad1668>"
      ]
     },
     "metadata": {},
     "output_type": "display_data"
    }
   ],
   "source": [
    "rf = RandomForestClassifier(n_estimators=200, n_jobs=-1)\n",
    "rf.fit(X_trains, y_trains)\n",
    "y_predict = rf.predict(X_test)\n",
    "func.plot_confusion_matrix(confusion_matrix(y_test, y_predict, labels=[True, False]), classes=['Tier 1D','other'])\n",
    "print(classification_report(y_test, y_predict, labels=[True, False], target_names=['Tier 1D','other']))"
   ]
  },
  {
   "cell_type": "code",
   "execution_count": 165,
   "metadata": {},
   "outputs": [
    {
     "name": "stdout",
     "output_type": "stream",
     "text": [
      "Confusion matrix, without normalization\n",
      "[[ 211   97]\n",
      " [1115 1908]]\n",
      "             precision    recall  f1-score   support\n",
      "\n",
      "    Tier 1D       0.16      0.69      0.26       308\n",
      "      other       0.95      0.63      0.76      3023\n",
      "\n",
      "avg / total       0.88      0.64      0.71      3331\n",
      "\n"
     ]
    },
    {
     "data": {
      "image/png": "[encoded data removed]",
      "text/plain": [
       "<matplotlib.figure.Figure at 0x1a15a20ba8>"
      ]
     },
     "metadata": {},
     "output_type": "display_data"
    }
   ],
   "source": [
    "svc = LinearSVC(dual=True)\n",
    "svc.fit(X_trains, y_trains)\n",
    "y_predict = svc.predict(X_test)\n",
    "func.plot_confusion_matrix(confusion_matrix(y_test, y_predict, labels=[True, False]), classes=['Tier 1D','other'])\n",
    "print(classification_report(y_test, y_predict, labels=[True, False], target_names=['Tier 1D','other']))"
   ]
  },
  {
   "cell_type": "code",
   "execution_count": null,
   "metadata": {
    "collapsed": true
   },
   "outputs": [],
   "source": []
  },
  {
   "cell_type": "code",
   "execution_count": null,
   "metadata": {
    "collapsed": true
   },
   "outputs": [],
   "source": []
  },
  {
   "cell_type": "code",
   "execution_count": null,
   "metadata": {
    "collapsed": true
   },
   "outputs": [],
   "source": []
  },
  {
   "cell_type": "markdown",
   "metadata": {
    "collapsed": true
   },
   "source": [
    "### deep learning"
   ]
  },
  {
   "cell_type": "code",
   "execution_count": 94,
   "metadata": {
    "collapsed": true
   },
   "outputs": [],
   "source": [
    "import torch\n",
    "import torchvision\n",
    "import torchvision.transforms as transforms\n",
    "from torch.autograd import Variable\n",
    "import matplotlib.pyplot as plt\n",
    "import numpy as np\n",
    "from torch.autograd import Variable\n",
    "import torch.nn as nn\n",
    "import torch.nn.functional as F\n",
    "import torch.optim as optim\n",
    "importlib.reload(func)\n",
    "%matplotlib inline"
   ]
  },
  {
   "cell_type": "code",
   "execution_count": 101,
   "metadata": {
    "collapsed": true
   },
   "outputs": [],
   "source": [
    "train = torch.utils.data.TensorDataset(torch.Tensor(X_train).unsqueeze(1), \n",
    "                                       torch.LongTensor(y_train.astype(int)))\n",
    "train_loader = torch.utils.data.DataLoader(train, batch_size=143, shuffle=True)\n",
    "\n",
    "test = torch.utils.data.TensorDataset(torch.Tensor(X_test.astype(float).as_matrix()).unsqueeze(1), \n",
    "                                       torch.LongTensor(y_test.astype(int).as_matrix()))\n",
    "test_loader = torch.utils.data.DataLoader(test, batch_size=4, shuffle=False)"
   ]
  },
  {
   "cell_type": "code",
   "execution_count": 102,
   "metadata": {
    "collapsed": true
   },
   "outputs": [],
   "source": [
    "net = func.ANet()\n",
    "criterion = nn.CrossEntropyLoss()\n",
    "optimizer = optim.SGD(net.parameters(), lr=0.0001, momentum=0.9)"
   ]
  },
  {
   "cell_type": "code",
   "execution_count": 103,
   "metadata": {},
   "outputs": [
    {
     "name": "stdout",
     "output_type": "stream",
     "text": [
      "0\n",
      "1\n",
      "2\n",
      "3\n",
      "4\n",
      "5\n",
      "6\n",
      "7\n",
      "8\n",
      "9\n",
      "10\n",
      "11\n",
      "12\n",
      "13\n",
      "14\n",
      "15\n",
      "16\n",
      "17\n",
      "18\n",
      "19\n",
      "Finished Training\n"
     ]
    }
   ],
   "source": [
    "for epoch in range(20):\n",
    "    running_loss = 0.0\n",
    "    for i, data in enumerate(train_loader, 0):\n",
    "        inputs, labels = data\n",
    "        inputs, labels = Variable(inputs), Variable(labels)\n",
    "        \n",
    "        optimizer.zero_grad()\n",
    "        \n",
    "        outputs = net(inputs)\n",
    "        \n",
    "        loss = criterion(outputs, labels)\n",
    "        loss.backward()\n",
    "        optimizer.step()\n",
    "        \n",
    "        running_loss += loss.data[0]\n",
    "#         if i % 2000 == 1999:\n",
    "#             print('[%d, %5d] loss: %.5f' %(epoch + 1, i + 1, running_loss / 2000))\n",
    "#             running_loss = 0.0\n",
    "    print(epoch)\n",
    "print('Finished Training')"
   ]
  },
  {
   "cell_type": "code",
   "execution_count": 99,
   "metadata": {},
   "outputs": [
    {
     "name": "stdout",
     "output_type": "stream",
     "text": [
      "Accuracy of Other: 100 %\n",
      "Accuracy of Tier 1D:  0 %\n"
     ]
    }
   ],
   "source": [
    "classes = ['Other', 'Tier 1D']\n",
    "class_correct = list(0. for i in range(2))\n",
    "class_total = list(0. for i in range(2))\n",
    "for data in test_loader:\n",
    "    images, labels = data\n",
    "    # print(labels)\n",
    "    outputs = net(Variable(images))\n",
    "    _, predicted = torch.max(outputs.data, 1)\n",
    "    c = (predicted == labels).squeeze()\n",
    "    for i in range(4):\n",
    "        try:\n",
    "            label = labels[i]\n",
    "            class_correct[label] += c[i]\n",
    "            class_total[label] += 1\n",
    "        except:\n",
    "            pass\n",
    "\n",
    "for i in range(2):\n",
    "    print('Accuracy of %5s: %2d %%' % (classes[i], 100 * class_correct[i] / class_total[i]))"
   ]
  },
  {
   "cell_type": "code",
   "execution_count": 100,
   "metadata": {},
   "outputs": [
    {
     "name": "stdout",
     "output_type": "stream",
     "text": [
      "Accuracy of Other: 100 %\n",
      "Accuracy of Tier 1D:  0 %\n"
     ]
    }
   ],
   "source": [
    "classes = ['Other', 'Tier 1D']\n",
    "class_correct = list(0. for i in range(2))\n",
    "class_total = list(0. for i in range(2))\n",
    "for data in train_loader:\n",
    "    images, labels = data\n",
    "    # print(labels)\n",
    "    outputs = net(Variable(images))\n",
    "    _, predicted = torch.max(outputs.data, 1)\n",
    "    c = (predicted == labels).squeeze()\n",
    "    for i in range(4):\n",
    "        label = labels[i]\n",
    "        class_correct[label] += c[i]\n",
    "        class_total[label] += 1\n",
    "\n",
    "for i in range(2):\n",
    "    print('Accuracy of %5s: %2d %%' % (classes[i], 100 * class_correct[i] / class_total[i]))"
   ]
  },
  {
   "cell_type": "markdown",
   "metadata": {
    "collapsed": true
   },
   "source": [
    "## Try Clustering and Anomaly detection before classification\n",
    "* DBSCAN and K-Means to find the clusters in the data.\n",
    "* Building classifiers within each cluster."
   ]
  },
  {
   "cell_type": "code",
   "execution_count": 132,
   "metadata": {},
   "outputs": [
    {
     "data": {
      "text/plain": [
       "<module 'func' from '/Users/youqiao/workspace/Python/DS598/func.py'>"
      ]
     },
     "execution_count": 132,
     "metadata": {},
     "output_type": "execute_result"
    }
   ],
   "source": [
    "from sklearn.cluster import KMeans, AffinityPropagation, AgglomerativeClustering, DBSCAN\n",
    "from sklearn.neighbors import NearestNeighbors\n",
    "from sklearn.neighbors import LocalOutlierFactor\n",
    "importlib.reload(func)"
   ]
  },
  {
   "cell_type": "code",
   "execution_count": 115,
   "metadata": {},
   "outputs": [
    {
     "name": "stdout",
     "output_type": "stream",
     "text": [
      "Labels distribution: \n",
      "Tier1D\n",
      "0    12091\n",
      "1     1232\n",
      "Name: Tier1D, dtype: int64\n"
     ]
    }
   ],
   "source": [
    "cluster = func.Clustering(df_101_tier, X, \"Tier1D\", len(df_101_tier.columns) - 1, 1)"
   ]
  },
  {
   "cell_type": "code",
   "execution_count": 121,
   "metadata": {},
   "outputs": [
    {
     "name": "stdout",
     "output_type": "stream",
     "text": [
      "Summary: \n",
      "KMeans, k=8 \n",
      "SSE: 380928315.07235682 \n",
      "Cluster 0: Counter({0.0: 12044, 1.0: 1229})\n",
      "Cluster 1: Counter({0.0: 5, 1.0: 1})\n",
      "Cluster 2: Counter({0.0: 1})\n",
      "Cluster 3: Counter({0.0: 7, 1.0: 1})\n",
      "Cluster 4: Counter({0.0: 2})\n",
      "Cluster 5: Counter({0.0: 1})\n",
      "Cluster 6: Counter({0.0: 28, 1.0: 1})\n",
      "Cluster 7: Counter({0.0: 3})\n",
      "\n"
     ]
    }
   ],
   "source": [
    "categories, y_pred, cluster_centers_, sse, summary = cluster.KMeans_fit_predict(8, preproc=0)\n",
    "print(summary)"
   ]
  },
  {
   "cell_type": "code",
   "execution_count": 130,
   "metadata": {},
   "outputs": [
    {
     "data": {
      "text/plain": [
       "[<matplotlib.lines.Line2D at 0x1a16cfe5c0>]"
      ]
     },
     "execution_count": 130,
     "metadata": {},
     "output_type": "execute_result"
    },
    {
     "data": {
      "image/png": "[encoded data removed]",
      "text/plain": [
       "<matplotlib.figure.Figure at 0x1a15ca27f0>"
      ]
     },
     "metadata": {},
     "output_type": "display_data"
    }
   ],
   "source": [
    "plt.title(\"K-dist when K=%r\" % k)\n",
    "plt.xlabel(\"Points sorted according to distance of %rth nearest neighbor\" %k)\n",
    "plt.ylabel(\"%rth nearest neighbor distance\" %k)\n",
    "plt.ylim((0, 10))\n",
    "plt.plot(np.arange(0, len(dist)), dist)"
   ]
  },
  {
   "cell_type": "code",
   "execution_count": 133,
   "metadata": {},
   "outputs": [],
   "source": [
    "categories, y_pred, cluster_centers_, sse, summary = \\\n",
    "cluster.DBSCAN_fit_predict(eps=4, min_s=10, preproc=0)"
   ]
  },
  {
   "cell_type": "code",
   "execution_count": 134,
   "metadata": {},
   "outputs": [
    {
     "name": "stdout",
     "output_type": "stream",
     "text": [
      "Summary: \n",
      "DBSCAN \n",
      "SSE: 12621325623.653902 \n",
      "Cluster -1: Counter({0.0: 227, 1.0: 12})\n",
      "Cluster 0: Counter({0.0: 8816, 1.0: 997})\n",
      "Cluster 1: Counter({0.0: 664, 1.0: 41})\n",
      "Cluster 2: Counter({0.0: 874, 1.0: 27})\n",
      "Cluster 3: Counter({0.0: 867, 1.0: 95})\n",
      "Cluster 4: Counter({0.0: 26, 1.0: 5})\n",
      "Cluster 5: Counter({0.0: 167, 1.0: 24})\n",
      "Cluster 6: Counter({0.0: 67, 1.0: 3})\n",
      "Cluster 7: Counter({0.0: 80, 1.0: 6})\n",
      "Cluster 8: Counter({0.0: 128, 1.0: 11})\n",
      "Cluster 9: Counter({0.0: 32, 1.0: 1})\n",
      "Cluster 10: Counter({0.0: 39, 1.0: 1})\n",
      "Cluster 11: Counter({0.0: 45, 1.0: 2})\n",
      "Cluster 12: Counter({0.0: 13, 1.0: 1})\n",
      "Cluster 13: Counter({0.0: 20, 1.0: 3})\n",
      "Cluster 14: Counter({0.0: 18})\n",
      "Cluster 15: Counter({0.0: 8, 1.0: 3})\n",
      "\n"
     ]
    }
   ],
   "source": [
    "print(summary)"
   ]
  },
  {
   "cell_type": "code",
   "execution_count": null,
   "metadata": {
    "collapsed": true
   },
   "outputs": [],
   "source": []
  }
 ],
 "metadata": {
  "kernelspec": {
   "display_name": "Python 3",
   "language": "python",
   "name": "python3"
  },
  "language_info": {
   "codemirror_mode": {
    "name": "ipython",
    "version": 3
   },
   "file_extension": ".py",
   "mimetype": "text/x-python",
   "name": "python",
   "nbconvert_exporter": "python",
   "pygments_lexer": "ipython3",
   "version": "3.6.4"
  }
 },
 "nbformat": 4,
 "nbformat_minor": 2
}
