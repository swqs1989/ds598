{
 "cells": [
  {
   "cell_type": "markdown",
   "metadata": {},
   "source": [
    "## Data Preprocessing"
   ]
  },
  {
   "cell_type": "code",
   "execution_count": 1,
   "metadata": {
    "collapsed": true
   },
   "outputs": [],
   "source": [
    "import numpy as np\n",
    "import pandas as pd\n",
    "from matplotlib import pyplot as plt\n",
    "%matplotlib inline"
   ]
  },
  {
   "cell_type": "code",
   "execution_count": 2,
   "metadata": {
    "collapsed": true
   },
   "outputs": [],
   "source": [
    "def completeRTN(row):\n",
    "    tr = str(int(row[\"TRACKING_REGION_NUMBER\"]))\n",
    "    tn = str(int(row[\"TRACKING_NUMBER\"]))\n",
    "    if len(tn) < 7:\n",
    "        tn = (\"0\" * (7 - len(tn))) + tn\n",
    "    return tr + \"-\" + tn\n",
    "\n",
    "def preprocess(df, coldef):\n",
    "    columndef = pd.read_excel(coldef)\n",
    "    \n",
    "    # process extraction\n",
    "    for col in df.columns:\n",
    "        proc = columndef[columndef[\"feature\"] == col][\"proc\"].values[0]\n",
    "        if proc == \"A1\":\n",
    "            df[\"A1\"] = (df[\"A1AM\"] == \"Y\").astype(int)\n",
    "        elif proc == \"B6\":\n",
    "            df[\"B6\"] = (df[\"B6OTHER\"] == \"Y\").astype(int)\n",
    "        elif proc == \"D1TIME\":\n",
    "            df[\"D1TIME\"] = (df[\"D1AM\"] == \"Y\").astype(int)\n",
    "        elif proc == \"D2TIME\":\n",
    "            df[\"D2TIME\"] = (df[\"D2AM\"] == \"Y\").astype(int)\n",
    "        elif proc == \"D3TIME\":\n",
    "            df[\"D3TIME\"] = (df[\"D3AM\"] == \"Y\").astype(int)\n",
    "        elif proc == \"F12\":\n",
    "            df[\"F12\"] = (df[\"F12OTHER\"] == \"Y\").astype(int)\n",
    "    \n",
    "    for col in df.columns:\n",
    "        proc = columndef[columndef[\"feature\"] == col][\"proc\"].values[0]\n",
    "        \n",
    "        # deal with Y/N\n",
    "        if proc == \"translate10\":\n",
    "            df[col].replace(to_replace={\"Y\": 1, \"N\": 0}, inplace=True)\n",
    "            df[col] = df[col].astype(int)\n",
    "        # drop column\n",
    "        elif proc == \"drop\":\n",
    "            df.drop(col, axis=1, inplace=True)\n",
    "        # to be discussed\n",
    "        elif proc == \"?\":\n",
    "            df.drop(col, axis=1, inplace=True)\n",
    "        # mostly float, and some str\n",
    "        elif proc == \"floatandstr\":\n",
    "            df.drop(col, axis=1, inplace=True)\n",
    "        # change the type to float\n",
    "        elif proc == \"float\":\n",
    "            df[col] = df[col].astype(float)\n",
    "        else:\n",
    "            df.drop(col, axis=1, inplace=True)\n",
    "\n",
    "def prepmissing(df):\n",
    "    attributes = df.columns\n",
    "    nominalvalues = {}\n",
    "\n",
    "    df = df.replace('N/A', np.NaN)\n",
    "    # df = df.replace('?', np.NaN)\n",
    "    for col in df.columns:\n",
    "        # deal with missing values\n",
    "        if sum(pd.isnull(df[col])) != 0 or sum(df[col].isin([\"?\"])) > 0:\n",
    "            print(\"%r column (type: %r): %r null\" %(col, df[col].dtype, sum(pd.isnull(df[col]))))\n",
    "#             if df[col].dtype == \"object\":\n",
    "#                 md = df[df[col] != np.NaN][col].mode()[0]\n",
    "#                 df[col] = df[col].replace(np.NaN, md)\n",
    "#             else:\n",
    "#                 mn = df[col].astype(float).mean()\n",
    "#                 df[col] = df[col].replace(np.NaN, mn)"
   ]
  },
  {
   "cell_type": "code",
   "execution_count": 3,
   "metadata": {
    "collapsed": true
   },
   "outputs": [],
   "source": [
    "df_101191 = pd.read_excel(\"data/191_BWSC101 Release Log Form.xlsx\")\n",
    "df_101592 = pd.read_excel(\"data/592_BWSC101 Release Log Form.xlsx\")\n",
    "df_101607 = pd.read_excel(\"data/607_BWSC101 Release Log Form.xlsx\")"
   ]
  },
  {
   "cell_type": "code",
   "execution_count": 4,
   "metadata": {
    "collapsed": true
   },
   "outputs": [],
   "source": [
    "df_107124 = pd.read_excel(\"data/124_BWSC107 Tier Classification Transmittal Form.xlsx\")\n",
    "df_107621 = pd.read_excel(\"data/621_BWSC107 Tier Classification Transmittal Form.xlsx\")"
   ]
  },
  {
   "cell_type": "code",
   "execution_count": 5,
   "metadata": {
    "collapsed": true
   },
   "outputs": [],
   "source": [
    "# df_101191.dtypes.to_csv(\"101191.csv\")\n",
    "# df_101592.dtypes.to_csv(\"101592.csv\")\n",
    "# df_101607.dtypes.to_csv(\"101607.csv\")"
   ]
  },
  {
   "cell_type": "code",
   "execution_count": null,
   "metadata": {
    "collapsed": true
   },
   "outputs": [],
   "source": [
    "df_107124.ix[:, ['B1', 'B1A', 'B1B', '']]"
   ]
  },
  {
   "cell_type": "code",
   "execution_count": 6,
   "metadata": {
    "collapsed": true
   },
   "outputs": [],
   "source": [
    "df_101191[\"RTN\"] = df_101191.apply(completeRTN, axis=1)\n",
    "df_101592[\"RTN\"] = df_101592.apply(completeRTN, axis=1)\n",
    "df_101607[\"RTN\"] = df_101607.apply(completeRTN, axis=1)\n",
    "df_107124[\"RTN\"] = df_107124.apply(completeRTN, axis=1)\n",
    "df_107621[\"RTN\"] = df_107621.apply(completeRTN, axis=1)"
   ]
  },
  {
   "cell_type": "code",
   "execution_count": 7,
   "metadata": {},
   "outputs": [
    {
     "name": "stdout",
     "output_type": "stream",
     "text": [
      "(3558, 96)\n",
      "(1880, 129)\n"
     ]
    }
   ],
   "source": [
    "print(df_107124.shape)\n",
    "print(df_107621.shape)"
   ]
  },
  {
   "cell_type": "code",
   "execution_count": 8,
   "metadata": {
    "collapsed": true
   },
   "outputs": [],
   "source": [
    "df_101191 = df_101191.set_index(\"RTN\")\n",
    "df_101592 = df_101592.set_index(\"RTN\")\n",
    "df_101607 = df_101607.set_index(\"RTN\")\n",
    "df_107124 = df_107124.set_index(\"RTN\")\n",
    "df_107621 = df_107621.set_index(\"RTN\")"
   ]
  },
  {
   "cell_type": "code",
   "execution_count": 9,
   "metadata": {
    "collapsed": true
   },
   "outputs": [],
   "source": [
    "# df_101607 = pd.read_excel(\"data/607_BWSC101 Release Log Form.xlsx\")"
   ]
  },
  {
   "cell_type": "code",
   "execution_count": 10,
   "metadata": {},
   "outputs": [
    {
     "data": {
      "text/plain": [
       "(7125, 250)"
      ]
     },
     "execution_count": 10,
     "metadata": {},
     "output_type": "execute_result"
    }
   ],
   "source": [
    "df_101607.shape"
   ]
  },
  {
   "cell_type": "code",
   "execution_count": 11,
   "metadata": {
    "collapsed": true
   },
   "outputs": [],
   "source": [
    "# df_107621 = pd.read_excel(\"data/621_BWSC107 Tier Classification Transmittal Form.xlsx\")"
   ]
  },
  {
   "cell_type": "code",
   "execution_count": 18,
   "metadata": {},
   "outputs": [
    {
     "data": {
      "text/plain": [
       "(1880, 128)"
      ]
     },
     "execution_count": 18,
     "metadata": {},
     "output_type": "execute_result"
    }
   ],
   "source": [
    "df_107621.shape"
   ]
  },
  {
   "cell_type": "code",
   "execution_count": 26,
   "metadata": {},
   "outputs": [],
   "source": [
    "# select those B1 checked, which means the form is used to identified tier classification\n",
    "count107 = df_107621['B1A'].groupby(df_107621.index).count()"
   ]
  },
  {
   "cell_type": "code",
   "execution_count": 34,
   "metadata": {},
   "outputs": [
    {
     "data": {
      "text/html": [
       "<div>\n",
       "<style>\n",
       "    .dataframe thead tr:only-child th {\n",
       "        text-align: right;\n",
       "    }\n",
       "\n",
       "    .dataframe thead th {\n",
       "        text-align: left;\n",
       "    }\n",
       "\n",
       "    .dataframe tbody tr th {\n",
       "        vertical-align: top;\n",
       "    }\n",
       "</style>\n",
       "<table border=\"1\" class=\"dataframe\">\n",
       "  <thead>\n",
       "    <tr style=\"text-align: right;\">\n",
       "      <th></th>\n",
       "      <th>FORM_DATA_ID</th>\n",
       "      <th>DEP_TRACKING_ID</th>\n",
       "      <th>TR_SUBMIT_DATE</th>\n",
       "      <th>TR_RECEIVED_DATE</th>\n",
       "      <th>TR_SIGN_DATE</th>\n",
       "      <th>TR_CREATE_DATE</th>\n",
       "      <th>TR_PROCESS_DATE</th>\n",
       "      <th>TR_PROCESS_STATUS</th>\n",
       "      <th>A5A_GISLAT</th>\n",
       "      <th>A5B_GISLNG</th>\n",
       "      <th>...</th>\n",
       "      <th>PRP_PERSON_LAST_1</th>\n",
       "      <th>PRP_POSITION</th>\n",
       "      <th>PRP_POSITION_1</th>\n",
       "      <th>PRP_POSITION_2</th>\n",
       "      <th>REG_OBJ_NAME</th>\n",
       "      <th>REG_OBJ_STREET_ADDR</th>\n",
       "      <th>TOWN_NAME</th>\n",
       "      <th>TRACKING_NUMBER</th>\n",
       "      <th>TRACKING_REGION_NUMBER</th>\n",
       "      <th>ZIP_CODE</th>\n",
       "    </tr>\n",
       "    <tr>\n",
       "      <th>RTN</th>\n",
       "      <th></th>\n",
       "      <th></th>\n",
       "      <th></th>\n",
       "      <th></th>\n",
       "      <th></th>\n",
       "      <th></th>\n",
       "      <th></th>\n",
       "      <th></th>\n",
       "      <th></th>\n",
       "      <th></th>\n",
       "      <th></th>\n",
       "      <th></th>\n",
       "      <th></th>\n",
       "      <th></th>\n",
       "      <th></th>\n",
       "      <th></th>\n",
       "      <th></th>\n",
       "      <th></th>\n",
       "      <th></th>\n",
       "      <th></th>\n",
       "      <th></th>\n",
       "    </tr>\n",
       "  </thead>\n",
       "  <tbody>\n",
       "    <tr>\n",
       "      <th>1-0000047</th>\n",
       "      <td>4586774</td>\n",
       "      <td>674203</td>\n",
       "      <td>2014-08-04 16:34:37</td>\n",
       "      <td>2014-08-04 17:02:15</td>\n",
       "      <td>2014-08-04 16:28:36</td>\n",
       "      <td>2014-08-04 16:08:21</td>\n",
       "      <td>2014-08-04 17:07:08</td>\n",
       "      <td>EPICS_EXP</td>\n",
       "      <td>42.17712</td>\n",
       "      <td>72.61135</td>\n",
       "      <td>...</td>\n",
       "      <td>PALKOVIC</td>\n",
       "      <td>NaN</td>\n",
       "      <td>NaN</td>\n",
       "      <td>NaN</td>\n",
       "      <td>CALLAWAY FACILITY FMR SPAULDING QUESTOR</td>\n",
       "      <td>425 MEADOW ST</td>\n",
       "      <td>CHICOPEE</td>\n",
       "      <td>47</td>\n",
       "      <td>1</td>\n",
       "      <td>NaN</td>\n",
       "    </tr>\n",
       "    <tr>\n",
       "      <th>1-0000047</th>\n",
       "      <td>5906335</td>\n",
       "      <td>854707</td>\n",
       "      <td>2016-08-08 10:58:31</td>\n",
       "      <td>2016-08-08 11:22:17</td>\n",
       "      <td>2016-08-08 10:51:08</td>\n",
       "      <td>2016-08-05 15:24:59</td>\n",
       "      <td>2016-08-08 11:35:09</td>\n",
       "      <td>EPICS_EXP</td>\n",
       "      <td>42.17712</td>\n",
       "      <td>72.61135</td>\n",
       "      <td>...</td>\n",
       "      <td>PALKOVIC</td>\n",
       "      <td>NaN</td>\n",
       "      <td>NaN</td>\n",
       "      <td>NaN</td>\n",
       "      <td>CALLAWAY FACILITY FMR SPAULDING QUESTOR</td>\n",
       "      <td>425 MEADOW ST</td>\n",
       "      <td>CHICOPEE</td>\n",
       "      <td>47</td>\n",
       "      <td>1</td>\n",
       "      <td>NaN</td>\n",
       "    </tr>\n",
       "  </tbody>\n",
       "</table>\n",
       "<p>2 rows × 128 columns</p>\n",
       "</div>"
      ],
      "text/plain": [
       "           FORM_DATA_ID  DEP_TRACKING_ID      TR_SUBMIT_DATE  \\\n",
       "RTN                                                            \n",
       "1-0000047       4586774           674203 2014-08-04 16:34:37   \n",
       "1-0000047       5906335           854707 2016-08-08 10:58:31   \n",
       "\n",
       "             TR_RECEIVED_DATE        TR_SIGN_DATE      TR_CREATE_DATE  \\\n",
       "RTN                                                                     \n",
       "1-0000047 2014-08-04 17:02:15 2014-08-04 16:28:36 2014-08-04 16:08:21   \n",
       "1-0000047 2016-08-08 11:22:17 2016-08-08 10:51:08 2016-08-05 15:24:59   \n",
       "\n",
       "              TR_PROCESS_DATE TR_PROCESS_STATUS A5A_GISLAT A5B_GISLNG  \\\n",
       "RTN                                                                     \n",
       "1-0000047 2014-08-04 17:07:08         EPICS_EXP   42.17712   72.61135   \n",
       "1-0000047 2016-08-08 11:35:09         EPICS_EXP   42.17712   72.61135   \n",
       "\n",
       "            ...    PRP_PERSON_LAST_1  PRP_POSITION  PRP_POSITION_1  \\\n",
       "RTN         ...                                                      \n",
       "1-0000047   ...             PALKOVIC           NaN             NaN   \n",
       "1-0000047   ...             PALKOVIC           NaN             NaN   \n",
       "\n",
       "          PRP_POSITION_2                             REG_OBJ_NAME  \\\n",
       "RTN                                                                 \n",
       "1-0000047            NaN  CALLAWAY FACILITY FMR SPAULDING QUESTOR   \n",
       "1-0000047            NaN  CALLAWAY FACILITY FMR SPAULDING QUESTOR   \n",
       "\n",
       "           REG_OBJ_STREET_ADDR TOWN_NAME TRACKING_NUMBER  \\\n",
       "RTN                                                        \n",
       "1-0000047        425 MEADOW ST  CHICOPEE              47   \n",
       "1-0000047        425 MEADOW ST  CHICOPEE              47   \n",
       "\n",
       "          TRACKING_REGION_NUMBER ZIP_CODE  \n",
       "RTN                                        \n",
       "1-0000047                      1      NaN  \n",
       "1-0000047                      1      NaN  \n",
       "\n",
       "[2 rows x 128 columns]"
      ]
     },
     "execution_count": 34,
     "metadata": {},
     "output_type": "execute_result"
    }
   ],
   "source": [
    "df_107621.ix['1-0000047', ]"
   ]
  },
  {
   "cell_type": "code",
   "execution_count": 29,
   "metadata": {},
   "outputs": [
    {
     "data": {
      "text/plain": [
       "2"
      ]
     },
     "execution_count": 29,
     "metadata": {},
     "output_type": "execute_result"
    }
   ],
   "source": [
    "df_107621target = {}\n",
    "for index in count107:\n",
    "    if count107[index] > 1:\n",
    "        \n",
    "    else:\n",
    "        if df_107621.ix[index, 'B1'] == 'Y'\n",
    "            df_107621target[index] = df_107621.ix[index, 'B1A']\n",
    "        else:\n",
    "            print(\"No record.\")"
   ]
  },
  {
   "cell_type": "code",
   "execution_count": 141,
   "metadata": {
    "collapsed": true
   },
   "outputs": [],
   "source": [
    "df_tier = df_101607.join(df_107621[[\"B1A\"]], how=\"inner\")"
   ]
  },
  {
   "cell_type": "code",
   "execution_count": 142,
   "metadata": {},
   "outputs": [
    {
     "data": {
      "text/plain": [
       "(598, 251)"
      ]
     },
     "execution_count": 142,
     "metadata": {},
     "output_type": "execute_result"
    }
   ],
   "source": [
    "df_tier.shape"
   ]
  },
  {
   "cell_type": "code",
   "execution_count": 37,
   "metadata": {
    "collapsed": true
   },
   "outputs": [],
   "source": [
    "comparison = pd.read_excel(\"101607proc.xlsx\")"
   ]
  },
  {
   "cell_type": "code",
   "execution_count": 99,
   "metadata": {
    "collapsed": true
   },
   "outputs": [],
   "source": [
    "preprocess(df_101607, \"101607proc.xlsx\")"
   ]
  },
  {
   "cell_type": "code",
   "execution_count": 114,
   "metadata": {},
   "outputs": [
    {
     "name": "stdout",
     "output_type": "stream",
     "text": [
      "'H13BVOLUME' column (type: dtype('float64')): 598 null\n",
      "'H13CVOLUME' column (type: dtype('float64')): 598 null\n"
     ]
    }
   ],
   "source": [
    "prepmissing(df_tier)"
   ]
  },
  {
   "cell_type": "code",
   "execution_count": 115,
   "metadata": {
    "collapsed": true
   },
   "outputs": [],
   "source": [
    "df_tier.drop(\"H13BVOLUME\", axis=1, inplace=True)\n",
    "df_tier.drop(\"H13CVOLUME\", axis=1, inplace=True)"
   ]
  },
  {
   "cell_type": "code",
   "execution_count": 126,
   "metadata": {},
   "outputs": [
    {
     "data": {
      "text/plain": [
       "Index(['1-0000047', '1-0000888', '1-0015788', '1-0016126', '1-0017208',\n",
       "       '1-0017724', '1-0018869', '1-0019309', '1-0019388', '1-0019404',\n",
       "       ...\n",
       "       '4-0026406', '4-0026407', '4-0026426', '4-0026438', '4-0026450',\n",
       "       '4-0026473', '4-0026492', '4-0026510', '4-0026522', '4-0026525'],\n",
       "      dtype='object', name='RTN', length=553)"
      ]
     },
     "execution_count": 126,
     "metadata": {},
     "output_type": "execute_result"
    }
   ],
   "source": [
    "df_tier.index.unique()"
   ]
  },
  {
   "cell_type": "code",
   "execution_count": null,
   "metadata": {
    "collapsed": true
   },
   "outputs": [],
   "source": [
    "df_tier"
   ]
  },
  {
   "cell_type": "markdown",
   "metadata": {},
   "source": [
    "## Modeling"
   ]
  },
  {
   "cell_type": "code",
   "execution_count": 116,
   "metadata": {
    "collapsed": true
   },
   "outputs": [],
   "source": [
    "from sklearn.ensemble import RandomForestClassifier\n",
    "from sklearn.tree import DecisionTreeClassifier\n",
    "from sklearn.cluster import KMeans\n",
    "from sklearn.cluster import DBSCAN\n",
    "from sklearn.cluster import AgglomerativeClustering\n",
    "from sklearn.model_selection import train_test_split\n",
    "from sklearn.svm import SVC"
   ]
  },
  {
   "cell_type": "code",
   "execution_count": 117,
   "metadata": {
    "collapsed": true
   },
   "outputs": [],
   "source": [
    "rf = RandomForestClassifier()"
   ]
  },
  {
   "cell_type": "code",
   "execution_count": 127,
   "metadata": {
    "collapsed": true
   },
   "outputs": [],
   "source": [
    "X_train, X_test, y_train, y_test = train_test_split(df_tier.iloc[:, :-1], \n",
    "                                                    df_tier.iloc[:, -1], \n",
    "                                                    test_size=0.33, \n",
    "                                                    random_state=36)"
   ]
  },
  {
   "cell_type": "code",
   "execution_count": 128,
   "metadata": {},
   "outputs": [
    {
     "data": {
      "text/plain": [
       "RandomForestClassifier(bootstrap=True, class_weight=None, criterion='gini',\n",
       "            max_depth=None, max_features='auto', max_leaf_nodes=None,\n",
       "            min_impurity_decrease=0.0, min_impurity_split=None,\n",
       "            min_samples_leaf=1, min_samples_split=2,\n",
       "            min_weight_fraction_leaf=0.0, n_estimators=10, n_jobs=1,\n",
       "            oob_score=False, random_state=None, verbose=0,\n",
       "            warm_start=False)"
      ]
     },
     "execution_count": 128,
     "metadata": {},
     "output_type": "execute_result"
    }
   ],
   "source": [
    "rf.fit(X_train, y_train)"
   ]
  },
  {
   "cell_type": "code",
   "execution_count": 129,
   "metadata": {},
   "outputs": [
    {
     "data": {
      "text/plain": [
       "0.81313131313131315"
      ]
     },
     "execution_count": 129,
     "metadata": {},
     "output_type": "execute_result"
    }
   ],
   "source": [
    "np.mean(y_test == rf.predict(X_test))"
   ]
  },
  {
   "cell_type": "code",
   "execution_count": null,
   "metadata": {
    "collapsed": true
   },
   "outputs": [],
   "source": []
  }
 ],
 "metadata": {
  "kernelspec": {
   "display_name": "Python 3",
   "language": "python",
   "name": "python3"
  },
  "language_info": {
   "codemirror_mode": {
    "name": "ipython",
    "version": 3
   },
   "file_extension": ".py",
   "mimetype": "text/x-python",
   "name": "python",
   "nbconvert_exporter": "python",
   "pygments_lexer": "ipython3",
   "version": "3.6.4"
  }
 },
 "nbformat": 4,
 "nbformat_minor": 2
}
