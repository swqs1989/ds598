{
 "cells": [
  {
   "cell_type": "markdown",
   "metadata": {},
   "source": [
    "# 1. Data Preprocessing"
   ]
  },
  {
   "cell_type": "code",
   "execution_count": 12,
   "metadata": {
    "collapsed": true
   },
   "outputs": [],
   "source": [
    "import importlib\n",
    "import func\n",
    "importlib.reload(func)\n",
    "import numpy as np\n",
    "import pandas as pd\n",
    "from matplotlib import pyplot as plt\n",
    "%matplotlib inline"
   ]
  },
  {
   "cell_type": "code",
   "execution_count": 21,
   "metadata": {
    "collapsed": true
   },
   "outputs": [],
   "source": [
    "df_101191 = pd.read_excel(\"data/191_BWSC101 Release Log Form.xlsx\")\n",
    "df_101592 = pd.read_excel(\"data/592_BWSC101 Release Log Form.xlsx\")\n",
    "df_101607 = pd.read_excel(\"data/607_BWSC101 Release Log Form.xlsx\")"
   ]
  },
  {
   "cell_type": "code",
   "execution_count": 3,
   "metadata": {},
   "outputs": [
    {
     "name": "stdout",
     "output_type": "stream",
     "text": [
      "(10943, 215)\n",
      "(1535, 223)\n",
      "(7125, 250)\n"
     ]
    }
   ],
   "source": [
    "print(df_101191.shape)\n",
    "print(df_101592.shape)\n",
    "print(df_101607.shape)"
   ]
  },
  {
   "cell_type": "markdown",
   "metadata": {},
   "source": [
    "## 1.1 Process BWSC107"
   ]
  },
  {
   "cell_type": "markdown",
   "metadata": {
    "collapsed": true
   },
   "source": [
    "df_107124 = pd.read_excel(\"data/124_BWSC107 Tier Classification Transmittal Form.xlsx\")\n",
    "df_107621 = pd.read_excel(\"data/621_BWSC107 Tier Classification Transmittal Form.xlsx\")"
   ]
  },
  {
   "cell_type": "markdown",
   "metadata": {
    "collapsed": true
   },
   "source": [
    "df_107124[\"RTN\"] = df_107124.apply(completeRTN, axis=1)\n",
    "df_107621[\"RTN\"] = df_107621.apply(completeRTN, axis=1)"
   ]
  },
  {
   "cell_type": "markdown",
   "metadata": {},
   "source": [
    "df_107621revised = df_107621.loc[:, ['B1', 'B1A', 'B1B', 'B7', 'B7A', 'B7B', 'RTN']]\n",
    "df_107621revised = df_107621revised[(df_107621revised['B1'] == 'Y') | (df_107621revised['B7'] == 'Y')]"
   ]
  },
  {
   "cell_type": "markdown",
   "metadata": {},
   "source": [
    "df_107621revised['new'] = (df_107621revised['B1'] == 'Y').astype(object)\n",
    "df_107621revised['newtc'] = (df_107621revised['B1A'] == 'Y').astype(object)\n",
    "df_107621revised['revised'] = (df_107621revised['B7'] == 'Y').astype(object)\n",
    "df_107621revised['revisedtc'] = (df_107621revised['B7A'] == 'Y').astype(object)"
   ]
  },
  {
   "cell_type": "markdown",
   "metadata": {},
   "source": [
    "df_107621revised = df_107621revised.loc[:, ['RTN', 'new', 'newtc', 'revised', 'revisedtc']]"
   ]
  },
  {
   "cell_type": "markdown",
   "metadata": {},
   "source": [
    "df_107621revised.shape"
   ]
  },
  {
   "cell_type": "markdown",
   "metadata": {},
   "source": [
    "df_107124revised = df_107124.loc[:, ['B1', 'B2', 'B1B', 'B8', 'B8A', 'B8B', 'B8C', 'B8D', 'RTN']]\n",
    "df_107124revised = df_107124revised[(df_107124revised['B1'] == 'Y') \n",
    "                                    | (df_107124revised['B2'] == 'Y') \n",
    "                                    | (df_107124revised['B8'] == 'Y')]\n",
    "df_107124revised['new'] = ((df_107124revised['B1'] == 'Y') | (df_107124revised['B2'] == 'Y')).astype(object)\n",
    "df_107124revised['newtc'] = (df_107124revised['B1'] == 'Y').astype(object)\n",
    "df_107124revised['revised'] = (df_107124revised['B8'] == 'Y').astype(object)\n",
    "df_107124revised['revisedtc'] = (df_107124revised['B8D'] != 'Y').astype(object)"
   ]
  },
  {
   "cell_type": "markdown",
   "metadata": {},
   "source": [
    "df_107124revised = df_107124revised.loc[:, ['RTN', 'new', 'newtc', 'revised', 'revisedtc']]"
   ]
  },
  {
   "cell_type": "markdown",
   "metadata": {},
   "source": [
    "df_107124revised.shape"
   ]
  },
  {
   "cell_type": "markdown",
   "metadata": {},
   "source": [
    "print(df_107124.shape)\n",
    "print(df_107124revised.shape)\n",
    "print(df_107621.shape)\n",
    "print(df_107621revised.shape)"
   ]
  },
  {
   "cell_type": "markdown",
   "metadata": {
    "collapsed": true
   },
   "source": [
    "df_107 = df_107124revised.append(df_107621revised)"
   ]
  },
  {
   "cell_type": "markdown",
   "metadata": {},
   "source": [
    "df_107.shape"
   ]
  },
  {
   "cell_type": "markdown",
   "metadata": {},
   "source": [
    "df_107.head()"
   ]
  },
  {
   "cell_type": "markdown",
   "metadata": {},
   "source": [
    "df_tier = func.processtiers(df_107)"
   ]
  },
  {
   "cell_type": "markdown",
   "metadata": {},
   "source": [
    "df_tier.shape"
   ]
  },
  {
   "cell_type": "markdown",
   "metadata": {},
   "source": [
    "df_tier[df_tier[\"Tier\"] == 1].shape"
   ]
  },
  {
   "cell_type": "markdown",
   "metadata": {},
   "source": [
    "df_tier[df_tier[\"Tier\"] == 2].shape"
   ]
  },
  {
   "cell_type": "markdown",
   "metadata": {},
   "source": [
    "## 1.2 Process BWSC101"
   ]
  },
  {
   "cell_type": "code",
   "execution_count": 22,
   "metadata": {
    "collapsed": true
   },
   "outputs": [],
   "source": [
    "df_101191[\"RTN\"] = df_101191.apply(func.completeRTN, axis=1)\n",
    "df_101592[\"RTN\"] = df_101592.apply(func.completeRTN, axis=1)\n",
    "df_101607[\"RTN\"] = df_101607.apply(func.completeRTN, axis=1)"
   ]
  },
  {
   "cell_type": "code",
   "execution_count": 23,
   "metadata": {},
   "outputs": [
    {
     "name": "stdout",
     "output_type": "stream",
     "text": [
      "(7125, 144)\n",
      "(1535, 144)\n",
      "(10943, 144)\n"
     ]
    }
   ],
   "source": [
    "func.preprocess(df_101607, \"101607proc.xlsx\", \"101607\")\n",
    "print(df_101607.shape)\n",
    "func.preprocess(df_101592, \"101592proc.xlsx\", \"101592\")\n",
    "print(df_101592.shape)\n",
    "func.preprocess(df_101191, \"101191proc.xlsx\", \"101191\")\n",
    "print(df_101191.shape)"
   ]
  },
  {
   "cell_type": "code",
   "execution_count": 24,
   "metadata": {
    "collapsed": true
   },
   "outputs": [],
   "source": [
    "df_101 = df_101191.append(df_101592)\n",
    "df_101 = df_101.append(df_101607)"
   ]
  },
  {
   "cell_type": "code",
   "execution_count": 25,
   "metadata": {},
   "outputs": [
    {
     "data": {
      "text/plain": [
       "(19603, 144)"
      ]
     },
     "execution_count": 25,
     "metadata": {},
     "output_type": "execute_result"
    }
   ],
   "source": [
    "df_101.shape"
   ]
  },
  {
   "cell_type": "code",
   "execution_count": 26,
   "metadata": {},
   "outputs": [
    {
     "data": {
      "text/plain": [
       "18958"
      ]
     },
     "execution_count": 26,
     "metadata": {},
     "output_type": "execute_result"
    }
   ],
   "source": [
    "len(df_101['RTN'].unique())"
   ]
  },
  {
   "cell_type": "code",
   "execution_count": 27,
   "metadata": {
    "collapsed": true
   },
   "outputs": [],
   "source": [
    "func.prepmissing(df_101191) # it is not processing\n",
    "func.prepmissing(df_101592) # it is not processing\n",
    "func.prepmissing(df_101607) # it is not processing"
   ]
  },
  {
   "cell_type": "code",
   "execution_count": 28,
   "metadata": {},
   "outputs": [
    {
     "data": {
      "text/html": [
       "<div>\n",
       "<style>\n",
       "    .dataframe thead tr:only-child th {\n",
       "        text-align: right;\n",
       "    }\n",
       "\n",
       "    .dataframe thead th {\n",
       "        text-align: left;\n",
       "    }\n",
       "\n",
       "    .dataframe tbody tr th {\n",
       "        vertical-align: top;\n",
       "    }\n",
       "</style>\n",
       "<table border=\"1\" class=\"dataframe\">\n",
       "  <thead>\n",
       "    <tr style=\"text-align: right;\">\n",
       "      <th></th>\n",
       "      <th>A1</th>\n",
       "      <th>A2</th>\n",
       "      <th>A2A</th>\n",
       "      <th>A2B</th>\n",
       "      <th>A3</th>\n",
       "      <th>A3A</th>\n",
       "      <th>A3B</th>\n",
       "      <th>A3C</th>\n",
       "      <th>A3D</th>\n",
       "      <th>B6</th>\n",
       "      <th>...</th>\n",
       "      <th>H5</th>\n",
       "      <th>H6</th>\n",
       "      <th>H7</th>\n",
       "      <th>H8</th>\n",
       "      <th>H9</th>\n",
       "      <th>LUST_ELIGIBLE_NO</th>\n",
       "      <th>LUST_ELIGIBLE_UNKNOWN</th>\n",
       "      <th>LUST_ELIGIBLE_YES</th>\n",
       "      <th>RTN</th>\n",
       "      <th>STAFF_UNASSIGNED</th>\n",
       "    </tr>\n",
       "  </thead>\n",
       "  <tbody>\n",
       "    <tr>\n",
       "      <th>0</th>\n",
       "      <td>0</td>\n",
       "      <td>1</td>\n",
       "      <td>1</td>\n",
       "      <td>0</td>\n",
       "      <td>0</td>\n",
       "      <td>0</td>\n",
       "      <td>0</td>\n",
       "      <td>0</td>\n",
       "      <td>0</td>\n",
       "      <td>1</td>\n",
       "      <td>...</td>\n",
       "      <td>0</td>\n",
       "      <td>0</td>\n",
       "      <td>0</td>\n",
       "      <td>0</td>\n",
       "      <td>0</td>\n",
       "      <td>1</td>\n",
       "      <td>0</td>\n",
       "      <td>0</td>\n",
       "      <td>2-0016262</td>\n",
       "      <td>0</td>\n",
       "    </tr>\n",
       "    <tr>\n",
       "      <th>1</th>\n",
       "      <td>1</td>\n",
       "      <td>1</td>\n",
       "      <td>1</td>\n",
       "      <td>0</td>\n",
       "      <td>0</td>\n",
       "      <td>0</td>\n",
       "      <td>0</td>\n",
       "      <td>0</td>\n",
       "      <td>0</td>\n",
       "      <td>0</td>\n",
       "      <td>...</td>\n",
       "      <td>0</td>\n",
       "      <td>0</td>\n",
       "      <td>0</td>\n",
       "      <td>0</td>\n",
       "      <td>0</td>\n",
       "      <td>1</td>\n",
       "      <td>0</td>\n",
       "      <td>0</td>\n",
       "      <td>2-0016234</td>\n",
       "      <td>0</td>\n",
       "    </tr>\n",
       "    <tr>\n",
       "      <th>2</th>\n",
       "      <td>0</td>\n",
       "      <td>1</td>\n",
       "      <td>1</td>\n",
       "      <td>0</td>\n",
       "      <td>0</td>\n",
       "      <td>0</td>\n",
       "      <td>0</td>\n",
       "      <td>0</td>\n",
       "      <td>0</td>\n",
       "      <td>1</td>\n",
       "      <td>...</td>\n",
       "      <td>0</td>\n",
       "      <td>0</td>\n",
       "      <td>0</td>\n",
       "      <td>0</td>\n",
       "      <td>0</td>\n",
       "      <td>1</td>\n",
       "      <td>0</td>\n",
       "      <td>0</td>\n",
       "      <td>2-0016265</td>\n",
       "      <td>0</td>\n",
       "    </tr>\n",
       "    <tr>\n",
       "      <th>3</th>\n",
       "      <td>0</td>\n",
       "      <td>1</td>\n",
       "      <td>1</td>\n",
       "      <td>0</td>\n",
       "      <td>0</td>\n",
       "      <td>0</td>\n",
       "      <td>0</td>\n",
       "      <td>0</td>\n",
       "      <td>0</td>\n",
       "      <td>0</td>\n",
       "      <td>...</td>\n",
       "      <td>0</td>\n",
       "      <td>0</td>\n",
       "      <td>1</td>\n",
       "      <td>0</td>\n",
       "      <td>0</td>\n",
       "      <td>1</td>\n",
       "      <td>0</td>\n",
       "      <td>0</td>\n",
       "      <td>2-0016260</td>\n",
       "      <td>0</td>\n",
       "    </tr>\n",
       "    <tr>\n",
       "      <th>4</th>\n",
       "      <td>1</td>\n",
       "      <td>1</td>\n",
       "      <td>1</td>\n",
       "      <td>0</td>\n",
       "      <td>0</td>\n",
       "      <td>0</td>\n",
       "      <td>0</td>\n",
       "      <td>0</td>\n",
       "      <td>0</td>\n",
       "      <td>0</td>\n",
       "      <td>...</td>\n",
       "      <td>0</td>\n",
       "      <td>0</td>\n",
       "      <td>0</td>\n",
       "      <td>0</td>\n",
       "      <td>0</td>\n",
       "      <td>1</td>\n",
       "      <td>0</td>\n",
       "      <td>0</td>\n",
       "      <td>2-0016240</td>\n",
       "      <td>0</td>\n",
       "    </tr>\n",
       "  </tbody>\n",
       "</table>\n",
       "<p>5 rows × 144 columns</p>\n",
       "</div>"
      ],
      "text/plain": [
       "   A1  A2  A2A  A2B  A3  A3A  A3B  A3C  A3D  B6        ...         H5  H6  H7  \\\n",
       "0   0   1    1    0   0    0    0    0    0   1        ...          0   0   0   \n",
       "1   1   1    1    0   0    0    0    0    0   0        ...          0   0   0   \n",
       "2   0   1    1    0   0    0    0    0    0   1        ...          0   0   0   \n",
       "3   0   1    1    0   0    0    0    0    0   0        ...          0   0   1   \n",
       "4   1   1    1    0   0    0    0    0    0   0        ...          0   0   0   \n",
       "\n",
       "   H8  H9  LUST_ELIGIBLE_NO  LUST_ELIGIBLE_UNKNOWN  LUST_ELIGIBLE_YES  \\\n",
       "0   0   0                 1                      0                  0   \n",
       "1   0   0                 1                      0                  0   \n",
       "2   0   0                 1                      0                  0   \n",
       "3   0   0                 1                      0                  0   \n",
       "4   0   0                 1                      0                  0   \n",
       "\n",
       "         RTN  STAFF_UNASSIGNED  \n",
       "0  2-0016262                 0  \n",
       "1  2-0016234                 0  \n",
       "2  2-0016265                 0  \n",
       "3  2-0016260                 0  \n",
       "4  2-0016240                 0  \n",
       "\n",
       "[5 rows x 144 columns]"
      ]
     },
     "execution_count": 28,
     "metadata": {},
     "output_type": "execute_result"
    }
   ],
   "source": [
    "df_101."
   ]
  },
  {
   "cell_type": "markdown",
   "metadata": {},
   "source": [
    "## 1.3 Combine BWSC101 and BWSC107"
   ]
  },
  {
   "cell_type": "markdown",
   "metadata": {},
   "source": [
    "df_tiers = df_101.join(df_tier.set_index(\"RTN\"), how='inner', on=\"RTN\", rsuffix='_')"
   ]
  },
  {
   "cell_type": "markdown",
   "metadata": {},
   "source": [
    "df_tiers.shape"
   ]
  },
  {
   "cell_type": "markdown",
   "metadata": {},
   "source": [
    "len(df_tiers['RTN'].unique())"
   ]
  },
  {
   "cell_type": "markdown",
   "metadata": {
    "collapsed": true
   },
   "source": [
    "df_tiers.drop('RTN', axis=1, inplace=True)"
   ]
  },
  {
   "cell_type": "markdown",
   "metadata": {},
   "source": [
    "df_tiers.head()"
   ]
  },
  {
   "cell_type": "markdown",
   "metadata": {},
   "source": [
    "df_tiers[\"Tier\"] = df_tiers[\"Tier\"].astype(int)"
   ]
  },
  {
   "cell_type": "markdown",
   "metadata": {},
   "source": [
    "## 1.4 Process Tier 1D"
   ]
  },
  {
   "cell_type": "code",
   "execution_count": 13,
   "metadata": {},
   "outputs": [],
   "source": [
    "df_tclass = pd.read_excel('data/TClass Phase Action Dates All RTNs 2-12-2018.xlsx', sheetname=\"All\")"
   ]
  },
  {
   "cell_type": "code",
   "execution_count": 42,
   "metadata": {},
   "outputs": [
    {
     "data": {
      "text/plain": [
       "(52847, 31)"
      ]
     },
     "execution_count": 42,
     "metadata": {},
     "output_type": "execute_result"
    }
   ],
   "source": [
    "df_tclass.shape"
   ]
  },
  {
   "cell_type": "code",
   "execution_count": 14,
   "metadata": {},
   "outputs": [],
   "source": [
    "df_tclass[\"length\"] = df_tclass.apply(func.daylength, axis=1)"
   ]
  },
  {
   "cell_type": "code",
   "execution_count": 15,
   "metadata": {},
   "outputs": [
    {
     "data": {
      "text/plain": [
       "(array([  4866.,  11937.,   1970.,   3861.,    933.,    914.,    989.,\n",
       "           945.,   1344.,   1292.,  10412.,    560.,    410.,    368.,\n",
       "           288.,    232.,    208.,    250.,    177.,    147.]),\n",
       " array([   0.,   35.,   70.,  105.,  140.,  175.,  210.,  245.,  280.,\n",
       "         315.,  350.,  385.,  420.,  455.,  490.,  525.,  560.,  595.,\n",
       "         630.,  665.,  700.]),\n",
       " <a list of 20 Patch objects>)"
      ]
     },
     "execution_count": 15,
     "metadata": {},
     "output_type": "execute_result"
    },
    {
     "data": {
      "image/png": "[encoded data removed]",
      "text/plain": [
       "<matplotlib.figure.Figure at 0x1a16b7beb8>"
      ]
     },
     "metadata": {},
     "output_type": "display_data"
    }
   ],
   "source": [
    "plt.figure(figsize=(20,10))\n",
    "plt.title(\"Histogram of Length\")\n",
    "plt.hist(df_tclass[\"length\"], bins=20, range=(0, 700))"
   ]
  },
  {
   "cell_type": "code",
   "execution_count": 41,
   "metadata": {},
   "outputs": [
    {
     "data": {
      "text/plain": [
       "(array([ 2074.,  4344.,   499.,  1121.,   214.,   221.,   258.,   214.,\n",
       "          376.,   293.,  2572.,   106.,    70.,    65.,    47.,    38.,\n",
       "           34.,    57.,    19.,    28.]),\n",
       " array([   0.,   35.,   70.,  105.,  140.,  175.,  210.,  245.,  280.,\n",
       "         315.,  350.,  385.,  420.,  455.,  490.,  525.,  560.,  595.,\n",
       "         630.,  665.,  700.]),\n",
       " <a list of 20 Patch objects>)"
      ]
     },
     "execution_count": 41,
     "metadata": {},
     "output_type": "execute_result"
    },
    {
     "data": {
      "image/png": "[encoded data removed]",
      "text/plain": [
       "<matplotlib.figure.Figure at 0x1118f0da0>"
      ]
     },
     "metadata": {},
     "output_type": "display_data"
    }
   ],
   "source": [
    "plt.figure(figsize=(20,10))\n",
    "plt.title(\"Histogram of Length\")\n",
    "plt.hist(length, bins=20, range=(0, 700))"
   ]
  },
  {
   "cell_type": "code",
   "execution_count": 31,
   "metadata": {},
   "outputs": [],
   "source": [
    "length = df_tclass.set_index(\"RTN\")[\"length\"]"
   ]
  },
  {
   "cell_type": "code",
   "execution_count": 33,
   "metadata": {},
   "outputs": [
    {
     "data": {
      "text/plain": [
       "Index(['1-0000001', '1-0000003', '1-0000004', '1-0000005', '1-0000006',\n",
       "       '1-0000007', '1-0000008', '1-0000009', '1-0000010', '1-0000011',\n",
       "       ...\n",
       "       '4-3025693', '4-3025699', '4-3025700', '4-3025719', '4-3025744',\n",
       "       '4-3025746', '4-3025762', '4-3025803', '4-3025837', '4-3025844'],\n",
       "      dtype='object', name='RTN', length=52847)"
      ]
     },
     "execution_count": 33,
     "metadata": {},
     "output_type": "execute_result"
    }
   ],
   "source": [
    "length.index.isin"
   ]
  },
  {
   "cell_type": "code",
   "execution_count": 35,
   "metadata": {},
   "outputs": [],
   "source": [
    "length = length[length.index.isin(df_101[\"RTN\"])]"
   ]
  },
  {
   "cell_type": "code",
   "execution_count": 36,
   "metadata": {},
   "outputs": [
    {
     "data": {
      "text/plain": [
       "length\n",
       "False    13042\n",
       "Name: length, dtype: int64"
      ]
     },
     "execution_count": 36,
     "metadata": {},
     "output_type": "execute_result"
    }
   ],
   "source": [
    "(length == 999).groupby((length == 999)).count()"
   ]
  },
  {
   "cell_type": "code",
   "execution_count": 37,
   "metadata": {},
   "outputs": [
    {
     "data": {
      "text/plain": [
       "length\n",
       "False    12710\n",
       "True       332\n",
       "Name: length, dtype: int64"
      ]
     },
     "execution_count": 37,
     "metadata": {},
     "output_type": "execute_result"
    }
   ],
   "source": [
    "(length > 730).groupby((length > 730)).count()"
   ]
  },
  {
   "cell_type": "code",
   "execution_count": 39,
   "metadata": {},
   "outputs": [
    {
     "data": {
      "image/png": "[encoded data removed]",
      "text/plain": [
       "<matplotlib.figure.Figure at 0x110e52f98>"
      ]
     },
     "metadata": {},
     "output_type": "display_data"
    }
   ],
   "source": [
    "plt.pie((length > 730).groupby((length > 730)).count(), labels=[\"Non-Tier1D\", \"Tier1D\"], autopct='%1.1f%%', shadow=True, startangle=140)\n",
    "plt.axis('equal')\n",
    "plt.show()"
   ]
  },
  {
   "cell_type": "code",
   "execution_count": 40,
   "metadata": {},
   "outputs": [
    {
     "data": {
      "image/png": "[encoded data removed]",
      "text/plain": [
       "<matplotlib.figure.Figure at 0x10ffc02b0>"
      ]
     },
     "metadata": {},
     "output_type": "display_data"
    }
   ],
   "source": [
    "plt.pie((length > 400).groupby((length > 400)).count(), labels=[\"Non-Tier1D\", \"Tier1D\"], autopct='%1.1f%%', shadow=True, startangle=140)\n",
    "plt.axis('equal')\n",
    "plt.show()"
   ]
  },
  {
   "cell_type": "code",
   "execution_count": null,
   "metadata": {
    "collapsed": true
   },
   "outputs": [],
   "source": []
  },
  {
   "cell_type": "code",
   "execution_count": null,
   "metadata": {
    "collapsed": true
   },
   "outputs": [],
   "source": []
  },
  {
   "cell_type": "code",
   "execution_count": 15,
   "metadata": {
    "collapsed": true
   },
   "outputs": [],
   "source": [
    "df_tclass[\"Tier1D\"] = df_tclass.apply(func.isTier1D, axis=1)"
   ]
  },
  {
   "cell_type": "code",
   "execution_count": 16,
   "metadata": {},
   "outputs": [
    {
     "data": {
      "text/plain": [
       "Tier1D\n",
       "False    38019\n",
       "True     14828\n",
       "Name: RTN, dtype: int64"
      ]
     },
     "execution_count": 16,
     "metadata": {},
     "output_type": "execute_result"
    }
   ],
   "source": [
    "df_tclass['RTN'].groupby(df_tclass[\"Tier1D\"]).count()"
   ]
  },
  {
   "cell_type": "code",
   "execution_count": 17,
   "metadata": {},
   "outputs": [
    {
     "data": {
      "text/html": [
       "<div>\n",
       "<style>\n",
       "    .dataframe thead tr:only-child th {\n",
       "        text-align: right;\n",
       "    }\n",
       "\n",
       "    .dataframe thead th {\n",
       "        text-align: left;\n",
       "    }\n",
       "\n",
       "    .dataframe tbody tr th {\n",
       "        vertical-align: top;\n",
       "    }\n",
       "</style>\n",
       "<table border=\"1\" class=\"dataframe\">\n",
       "  <thead>\n",
       "    <tr style=\"text-align: right;\">\n",
       "      <th></th>\n",
       "      <th>RTN</th>\n",
       "      <th>Notification</th>\n",
       "      <th>Phase1Cs</th>\n",
       "      <th>End Date</th>\n",
       "      <th>Tier1D</th>\n",
       "    </tr>\n",
       "  </thead>\n",
       "  <tbody>\n",
       "    <tr>\n",
       "      <th>0</th>\n",
       "      <td>1-0000001</td>\n",
       "      <td>2002-02-02</td>\n",
       "      <td>NaT</td>\n",
       "      <td>1995-10-11</td>\n",
       "      <td>False</td>\n",
       "    </tr>\n",
       "    <tr>\n",
       "      <th>1</th>\n",
       "      <td>1-0000003</td>\n",
       "      <td>1987-01-15</td>\n",
       "      <td>NaT</td>\n",
       "      <td>1996-08-08</td>\n",
       "      <td>True</td>\n",
       "    </tr>\n",
       "    <tr>\n",
       "      <th>2</th>\n",
       "      <td>1-0000004</td>\n",
       "      <td>1986-11-17</td>\n",
       "      <td>NaT</td>\n",
       "      <td>1986-12-31</td>\n",
       "      <td>False</td>\n",
       "    </tr>\n",
       "    <tr>\n",
       "      <th>3</th>\n",
       "      <td>1-0000005</td>\n",
       "      <td>1987-01-15</td>\n",
       "      <td>NaT</td>\n",
       "      <td>1993-07-23</td>\n",
       "      <td>True</td>\n",
       "    </tr>\n",
       "    <tr>\n",
       "      <th>4</th>\n",
       "      <td>1-0000006</td>\n",
       "      <td>1987-04-15</td>\n",
       "      <td>1998-07-31</td>\n",
       "      <td>2005-09-27</td>\n",
       "      <td>True</td>\n",
       "    </tr>\n",
       "  </tbody>\n",
       "</table>\n",
       "</div>"
      ],
      "text/plain": [
       "         RTN Notification   Phase1Cs   End Date  Tier1D\n",
       "0  1-0000001   2002-02-02        NaT 1995-10-11   False\n",
       "1  1-0000003   1987-01-15        NaT 1996-08-08    True\n",
       "2  1-0000004   1986-11-17        NaT 1986-12-31   False\n",
       "3  1-0000005   1987-01-15        NaT 1993-07-23    True\n",
       "4  1-0000006   1987-04-15 1998-07-31 2005-09-27    True"
      ]
     },
     "execution_count": 17,
     "metadata": {},
     "output_type": "execute_result"
    }
   ],
   "source": [
    "df_tclass_tier1D = df_tclass.loc[:,['RTN',\"Notification\",\"Phase1Cs\",\"End Date\",\"Tier1D\"]]\n",
    "df_tclass_tier1D.head()"
   ]
  },
  {
   "cell_type": "code",
   "execution_count": 18,
   "metadata": {
    "collapsed": true
   },
   "outputs": [],
   "source": [
    "df_101_tier = df_101.set_index(\"RTN\").join(df_tclass_tier1D.set_index(\"RTN\"), how=\"inner\")"
   ]
  },
  {
   "cell_type": "code",
   "execution_count": 20,
   "metadata": {
    "collapsed": true
   },
   "outputs": [],
   "source": [
    "df_101_tier = df_101_tier.drop([\"Notification\",\"Phase1Cs\",\"End Date\"], axis = 1 )"
   ]
  },
  {
   "cell_type": "markdown",
   "metadata": {
    "collapsed": true
   },
   "source": [
    "indices107 = df_107124['RTN'].tolist()\n",
    "indices107.append(df_107621['RTN'].tolist())"
   ]
  },
  {
   "cell_type": "markdown",
   "metadata": {},
   "source": [
    "len(indices101)"
   ]
  },
  {
   "cell_type": "markdown",
   "metadata": {
    "collapsed": true
   },
   "source": [
    "df_tclassrao = df_tclass[(df_tclass['Status'] == 'RAO') & (df_tclass['Phase1Cs'].isnull())]"
   ]
  },
  {
   "cell_type": "markdown",
   "metadata": {},
   "source": [
    "indicesrao = df_tclassrao.join(df_101[['RTN']].set_index('RTN'), how='inner', on=\"RTN\", rsuffix='_')['RTN'].tolist()"
   ]
  },
  {
   "cell_type": "markdown",
   "metadata": {},
   "source": [
    "len(indicesrao)"
   ]
  },
  {
   "cell_type": "markdown",
   "metadata": {
    "collapsed": true
   },
   "source": [
    "len(set(indicesrao))"
   ]
  },
  {
   "cell_type": "markdown",
   "metadata": {},
   "source": [
    "print(set(indicesrao) & set(df_101.join(df_tier.set_index(\"RTN\"), how='inner', on=\"RTN\", rsuffix='_')['RTN'].tolist()))\n",
    "print(len(set(indicesrao)))\n",
    "print(len(set(df_101.join(df_tier.set_index(\"RTN\"), how='inner', on=\"RTN\", rsuffix='_')['RTN'].tolist())))"
   ]
  },
  {
   "cell_type": "markdown",
   "metadata": {
    "collapsed": true
   },
   "source": [
    "df_rao = df_101[df_101['RTN'].isin(indicesrao)]"
   ]
  },
  {
   "cell_type": "markdown",
   "metadata": {},
   "source": [
    "df_rao.head()"
   ]
  },
  {
   "cell_type": "markdown",
   "metadata": {},
   "source": [
    "df_rao['Tier'] = 3"
   ]
  },
  {
   "cell_type": "markdown",
   "metadata": {},
   "source": [
    "df_class = df_tiers.append(df_rao.drop('RTN', axis=1))"
   ]
  },
  {
   "cell_type": "markdown",
   "metadata": {},
   "source": [
    "df_class.shape"
   ]
  },
  {
   "cell_type": "markdown",
   "metadata": {},
   "source": [
    "(df_class['Tier'].groupby(df_class['Tier']).count() / len(df_class[['Tier']])).tolist()"
   ]
  },
  {
   "cell_type": "markdown",
   "metadata": {},
   "source": [
    "labels = ['Tier I', 'Tier II', 'Others']\n",
    "sizes = (df_class['Tier'].groupby(df_class['Tier']).count() / len(df_class[['Tier']])).tolist()\n",
    "colors = ['yellowgreen', 'lightcoral', 'lightskyblue']\n",
    "explode = (0, 0, 0)  # explode 1st slice\n",
    " \n",
    "# Plot\n",
    "plt.pie(sizes, explode=explode, labels=labels, colors=colors,\n",
    "        autopct='%1.1f%%', shadow=True, startangle=140)\n",
    " \n",
    "plt.axis('equal')\n",
    "plt.show()"
   ]
  },
  {
   "cell_type": "markdown",
   "metadata": {},
   "source": [
    "df_class.shape"
   ]
  },
  {
   "cell_type": "code",
   "execution_count": 319,
   "metadata": {
    "collapsed": true
   },
   "outputs": [],
   "source": [
    "X = df_101_tier.iloc[:, :-1]\n",
    "y = df_101_tier.iloc[:, -1]"
   ]
  },
  {
   "cell_type": "markdown",
   "metadata": {},
   "source": [
    "## Feature Selection"
   ]
  },
  {
   "cell_type": "code",
   "execution_count": 318,
   "metadata": {
    "collapsed": true
   },
   "outputs": [],
   "source": [
    "from sklearn.ensemble import RandomForestClassifier"
   ]
  },
  {
   "cell_type": "code",
   "execution_count": 328,
   "metadata": {
    "collapsed": true
   },
   "outputs": [],
   "source": [
    "# Use random forest to extract useful features\n",
    "# Use all the data\n",
    "rfmodel = RandomForestClassifier(n_estimators=200, n_jobs=-1)\n",
    "rfmodel.fit(X, y)\n",
    "feat_import = pd.DataFrame({\"Feature\": X.columns, \"Importance\": rfmodel.feature_importances_})\\\n",
    "        .sort_values(\"Importance\", ascending=False)[:30]"
   ]
  },
  {
   "cell_type": "code",
   "execution_count": 329,
   "metadata": {
    "collapsed": true
   },
   "outputs": [],
   "source": [
    "features = feat_import['Feature'].tolist()"
   ]
  },
  {
   "cell_type": "markdown",
   "metadata": {},
   "source": [
    "## Modeling"
   ]
  },
  {
   "cell_type": "code",
   "execution_count": 357,
   "metadata": {
    "collapsed": true
   },
   "outputs": [],
   "source": [
    "from collections import Counter\n",
    "from sklearn.ensemble import RandomForestClassifier\n",
    "from sklearn.tree import DecisionTreeClassifier\n",
    "from sklearn.ensemble import AdaBoostClassifier\n",
    "from sklearn.svm import LinearSVC\n",
    "from sklearn.cluster import KMeans\n",
    "from sklearn.cluster import DBSCAN\n",
    "from sklearn.cluster import AgglomerativeClustering\n",
    "from sklearn.model_selection import train_test_split\n",
    "from sklearn.svm import SVC\n",
    "from sklearn.metrics import confusion_matrix\n",
    "from sklearn.metrics import classification_report\n",
    "from sklearn import svm"
   ]
  },
  {
   "cell_type": "code",
   "execution_count": 337,
   "metadata": {
    "collapsed": true
   },
   "outputs": [],
   "source": [
    "X_train, X_test, y_train, y_test = train_test_split(X.loc[:, features], \n",
    "                                                    y, \n",
    "                                                    test_size=0.25,\n",
    "                                                    stratify=y,\n",
    "                                                    random_state=46)"
   ]
  },
  {
   "cell_type": "code",
   "execution_count": 343,
   "metadata": {},
   "outputs": [
    {
     "name": "stdout",
     "output_type": "stream",
     "text": [
      "(18136, 30)\n",
      "dict_items([(True, 9068), (False, 9068)])\n",
      "(18136, 30)\n",
      "Training size: 18136\n",
      "Test size: 3331\n"
     ]
    }
   ],
   "source": [
    "from imblearn.over_sampling import SMOTE\n",
    "X_train, y_train = SMOTE().fit_sample(X_train, y_train)\n",
    "print(X_train.shape)\n",
    "print(Counter(y_train).items())\n",
    "print(X_train.shape)\n",
    "print(\"Training size: %r\" %X_train.shape[0])\n",
    "print(\"Test size: %r\" %X_test.shape[0])"
   ]
  },
  {
   "cell_type": "markdown",
   "metadata": {},
   "source": [
    "### Random Forest"
   ]
  },
  {
   "cell_type": "code",
   "execution_count": 344,
   "metadata": {
    "collapsed": true
   },
   "outputs": [],
   "source": [
    "rf = RandomForestClassifier(n_estimators=200, n_jobs=-1)"
   ]
  },
  {
   "cell_type": "code",
   "execution_count": 345,
   "metadata": {},
   "outputs": [
    {
     "data": {
      "text/plain": [
       "RandomForestClassifier(bootstrap=True, class_weight=None, criterion='gini',\n",
       "            max_depth=None, max_features='auto', max_leaf_nodes=None,\n",
       "            min_impurity_decrease=0.0, min_impurity_split=None,\n",
       "            min_samples_leaf=1, min_samples_split=2,\n",
       "            min_weight_fraction_leaf=0.0, n_estimators=200, n_jobs=-1,\n",
       "            oob_score=False, random_state=None, verbose=0,\n",
       "            warm_start=False)"
      ]
     },
     "execution_count": 345,
     "metadata": {},
     "output_type": "execute_result"
    }
   ],
   "source": [
    "rf.fit(X_train, y_train)"
   ]
  },
  {
   "cell_type": "code",
   "execution_count": 346,
   "metadata": {},
   "outputs": [
    {
     "name": "stdout",
     "output_type": "stream",
     "text": [
      "             precision    recall  f1-score   support\n",
      "\n",
      "    Tier 1D       0.95      0.95      0.95      9068\n",
      "      other       0.95      0.95      0.95      9068\n",
      "\n",
      "avg / total       0.95      0.95      0.95     18136\n",
      "\n"
     ]
    }
   ],
   "source": [
    "t_predicted = rf.predict(X_train)\n",
    "print(classification_report(y_train, t_predicted, target_names=['Tier 1D','other']))"
   ]
  },
  {
   "cell_type": "code",
   "execution_count": 347,
   "metadata": {
    "collapsed": true
   },
   "outputs": [],
   "source": [
    "y_predict = rf.predict(X_test)"
   ]
  },
  {
   "cell_type": "code",
   "execution_count": 348,
   "metadata": {},
   "outputs": [
    {
     "name": "stdout",
     "output_type": "stream",
     "text": [
      "Confusion matrix, without normalization\n",
      "[[  79  229]\n",
      " [ 212 2811]]\n",
      "             precision    recall  f1-score   support\n",
      "\n",
      "    Tier 1D       0.92      0.93      0.93      3023\n",
      "      other       0.27      0.26      0.26       308\n",
      "\n",
      "avg / total       0.86      0.87      0.87      3331\n",
      "\n"
     ]
    },
    {
     "data": {
      "image/png": "[encoded data removed]",
      "text/plain": [
       "<matplotlib.figure.Figure at 0x1a13b168d0>"
      ]
     },
     "metadata": {},
     "output_type": "display_data"
    }
   ],
   "source": [
    "func.plot_confusion_matrix(confusion_matrix(y_test, y_predict, labels=[True, False]), classes=['Tier 1D','other'])\n",
    "print(classification_report(y_test, y_predict, target_names=['Tier 1D','other']))"
   ]
  },
  {
   "cell_type": "markdown",
   "metadata": {},
   "source": [
    "### Adaboost"
   ]
  },
  {
   "cell_type": "code",
   "execution_count": 349,
   "metadata": {
    "collapsed": true
   },
   "outputs": [],
   "source": [
    "ab = AdaBoostClassifier()"
   ]
  },
  {
   "cell_type": "code",
   "execution_count": 350,
   "metadata": {},
   "outputs": [
    {
     "data": {
      "text/plain": [
       "AdaBoostClassifier(algorithm='SAMME.R', base_estimator=None,\n",
       "          learning_rate=1.0, n_estimators=50, random_state=None)"
      ]
     },
     "execution_count": 350,
     "metadata": {},
     "output_type": "execute_result"
    }
   ],
   "source": [
    "ab.fit(X_train, y_train)"
   ]
  },
  {
   "cell_type": "code",
   "execution_count": 351,
   "metadata": {
    "collapsed": true
   },
   "outputs": [],
   "source": [
    "y_predict = ab.predict(X_test)"
   ]
  },
  {
   "cell_type": "code",
   "execution_count": 352,
   "metadata": {},
   "outputs": [
    {
     "name": "stdout",
     "output_type": "stream",
     "text": [
      "Confusion matrix, without normalization\n",
      "[[ 141  167]\n",
      " [ 594 2429]]\n",
      "             precision    recall  f1-score   support\n",
      "\n",
      "    Tier 1D       0.94      0.80      0.86      3023\n",
      "      other       0.19      0.46      0.27       308\n",
      "\n",
      "avg / total       0.87      0.77      0.81      3331\n",
      "\n"
     ]
    },
    {
     "data": {
      "image/png": "[encoded data removed]",
      "text/plain": [
       "<matplotlib.figure.Figure at 0x1a129e62b0>"
      ]
     },
     "metadata": {},
     "output_type": "display_data"
    }
   ],
   "source": [
    "func.plot_confusion_matrix(confusion_matrix(y_test, y_predict, labels=[True, False]), classes=['Tier 1D','other'])\n",
    "print(classification_report(y_test, y_predict, target_names=['Tier 1D','other']))"
   ]
  },
  {
   "cell_type": "markdown",
   "metadata": {},
   "source": [
    "### SVM"
   ]
  },
  {
   "cell_type": "code",
   "execution_count": 356,
   "metadata": {},
   "outputs": [
    {
     "name": "stdout",
     "output_type": "stream",
     "text": [
      "Confusion matrix, without normalization\n",
      "[[ 259   49]\n",
      " [1621 1402]]\n",
      "             precision    recall  f1-score   support\n",
      "\n",
      "    Tier 1D       0.97      0.46      0.63      3023\n",
      "      other       0.14      0.84      0.24       308\n",
      "\n",
      "avg / total       0.89      0.50      0.59      3331\n",
      "\n"
     ]
    },
    {
     "data": {
      "image/png": "[encoded data removed]",
      "text/plain": [
       "<matplotlib.figure.Figure at 0x1a1303f0f0>"
      ]
     },
     "metadata": {},
     "output_type": "display_data"
    }
   ],
   "source": [
    "svc = LinearSVC()\n",
    "svc.fit(X_train, y_train)\n",
    "y_predict = svc.predict(X_test)\n",
    "func.plot_confusion_matrix(confusion_matrix(y_test, y_predict, labels=[True, False]), classes=['Tier 1D','other'])\n",
    "print(classification_report(y_test, y_predict, target_names=['Tier 1D','other']))"
   ]
  },
  {
   "cell_type": "code",
   "execution_count": 358,
   "metadata": {},
   "outputs": [
    {
     "name": "stdout",
     "output_type": "stream",
     "text": [
      "Confusion matrix, without normalization\n",
      "[[ 168  140]\n",
      " [ 671 2352]]\n",
      "             precision    recall  f1-score   support\n",
      "\n",
      "    Tier 1D       0.94      0.78      0.85      3023\n",
      "      other       0.20      0.55      0.29       308\n",
      "\n",
      "avg / total       0.88      0.76      0.80      3331\n",
      "\n"
     ]
    },
    {
     "data": {
      "image/png": "[encoded data removed]",
      "text/plain": [
       "<matplotlib.figure.Figure at 0x1a1301df28>"
      ]
     },
     "metadata": {},
     "output_type": "display_data"
    }
   ],
   "source": [
    "svm = svm.NuSVC()\n",
    "svm.fit(X_train, y_train)\n",
    "y_predict = svm.predict(X_test)\n",
    "func.plot_confusion_matrix(confusion_matrix(y_test, y_predict, labels=[True, False]), classes=['Tier 1D','other'])\n",
    "print(classification_report(y_test, y_predict, target_names=['Tier 1D','other']))"
   ]
  },
  {
   "cell_type": "code",
   "execution_count": null,
   "metadata": {},
   "outputs": [
    {
     "name": "stdout",
     "output_type": "stream",
     "text": [
      "Confusion matrix, without normalization\n",
      "[[ 213   95]\n",
      " [ 908 2115]]\n",
      "             precision    recall  f1-score   support\n",
      "\n",
      "    Tier 1D       0.96      0.70      0.81      3023\n",
      "      other       0.19      0.69      0.30       308\n",
      "\n",
      "avg / total       0.89      0.70      0.76      3331\n",
      "\n"
     ]
    },
    {
     "data": {
      "image/png": "[encoded data removed]",
      "text/plain": [
       "<matplotlib.figure.Figure at 0x10eb68d30>"
      ]
     },
     "metadata": {},
     "output_type": "display_data"
    }
   ],
   "source": [
    "svc = SVC(kernel='rbf')\n",
    "svc.fit(X_train, y_train)\n",
    "y_predict = svc.predict(X_test)\n",
    "func.plot_confusion_matrix(confusion_matrix(y_test, y_predict, labels=[True, False]), classes=['Tier 1D','other'])\n",
    "print(classification_report(y_test, y_predict, target_names=['Tier 1D','other']))"
   ]
  },
  {
   "cell_type": "code",
   "execution_count": null,
   "metadata": {
    "collapsed": true
   },
   "outputs": [],
   "source": [
    "svc = SVC(kernel='poly')\n",
    "svc.fit(X_train, y_train)\n",
    "y_predict = svc.predict(X_test)\n",
    "func.plot_confusion_matrix(confusion_matrix(y_test, y_predict, labels=[True, False]), classes=['Tier 1D','other'])\n",
    "print(classification_report(y_test, y_predict, target_names=['Tier 1D','other']))"
   ]
  },
  {
   "cell_type": "code",
   "execution_count": null,
   "metadata": {
    "collapsed": true
   },
   "outputs": [],
   "source": []
  },
  {
   "cell_type": "markdown",
   "metadata": {
    "collapsed": true
   },
   "source": [
    "### deep learning"
   ]
  },
  {
   "cell_type": "code",
   "execution_count": 245,
   "metadata": {
    "collapsed": true
   },
   "outputs": [],
   "source": [
    "import torch\n",
    "import torchvision\n",
    "import torchvision.transforms as transforms\n",
    "from torch.autograd import Variable\n",
    "import matplotlib.pyplot as plt\n",
    "import numpy as np\n",
    "from torch.autograd import Variable\n",
    "import torch.nn as nn\n",
    "import torch.nn.functional as F\n",
    "import torch.optim as optim\n",
    "importlib.reload(func)\n",
    "%matplotlib inline"
   ]
  },
  {
   "cell_type": "code",
   "execution_count": 275,
   "metadata": {},
   "outputs": [
    {
     "data": {
      "text/plain": [
       "\n",
       "     1.0000      1.0000      1.0000  ...       1.0000      0.0000      0.0000\n",
       "     0.0000      1.0000      1.0000  ...       0.0000      0.0000      0.0000\n",
       "     1.0000      1.0000      1.0000  ...       0.0000      0.0000      0.0000\n",
       "                ...                   ⋱                   ...                \n",
       "     1.0000      1.0000      1.0000  ...       1.0000      0.0000      1.0000\n",
       "     1.0000      1.0000      1.0000  ...       1.0000      0.0000      0.0000\n",
       "     0.0000      1.0000      1.0000  ...       0.0000      0.0000      0.0000\n",
       "[torch.FloatTensor of size 3997x143]"
      ]
     },
     "execution_count": 275,
     "metadata": {},
     "output_type": "execute_result"
    }
   ],
   "source": [
    "torch.Tensor(X_test.astype(float).as_matrix())"
   ]
  },
  {
   "cell_type": "code",
   "execution_count": 296,
   "metadata": {
    "collapsed": true
   },
   "outputs": [],
   "source": [
    "train = torch.utils.data.TensorDataset(torch.Tensor(X_train).unsqueeze(1), \n",
    "                                       torch.LongTensor(y_train.astype(int)))\n",
    "train_loader = torch.utils.data.DataLoader(train, batch_size=4, shuffle=True)\n",
    "\n",
    "test = torch.utils.data.TensorDataset(torch.Tensor(X_test.astype(float).as_matrix()).unsqueeze(1), \n",
    "                                       torch.LongTensor(y_test.astype(int).as_matrix()))\n",
    "test_loader = torch.utils.data.DataLoader(test, batch_size=4, shuffle=False)"
   ]
  },
  {
   "cell_type": "code",
   "execution_count": 297,
   "metadata": {
    "collapsed": true
   },
   "outputs": [],
   "source": [
    "net = func.Net()\n",
    "criterion = nn.CrossEntropyLoss()\n",
    "optimizer = optim.SGD(net.parameters(), lr=0.0008, momentum=0.9)"
   ]
  },
  {
   "cell_type": "code",
   "execution_count": 298,
   "metadata": {},
   "outputs": [
    {
     "name": "stdout",
     "output_type": "stream",
     "text": [
      "[1,  2000] loss: 0.69585\n",
      "[1,  4000] loss: 0.69260\n",
      "[2,  2000] loss: 0.69265\n",
      "[2,  4000] loss: 0.69101\n",
      "[3,  2000] loss: 0.68524\n",
      "[3,  4000] loss: 0.66635\n",
      "[4,  2000] loss: 0.62708\n",
      "[4,  4000] loss: 0.60513\n",
      "[5,  2000] loss: 0.58910\n",
      "[5,  4000] loss: 0.58221\n",
      "[6,  2000] loss: 0.57219\n",
      "[6,  4000] loss: 0.57097\n",
      "[7,  2000] loss: 0.56748\n",
      "[7,  4000] loss: 0.54806\n",
      "[8,  2000] loss: 0.53600\n",
      "[8,  4000] loss: 0.50920\n",
      "[9,  2000] loss: 0.50743\n",
      "[9,  4000] loss: 0.49194\n",
      "[10,  2000] loss: 0.47247\n",
      "[10,  4000] loss: 0.48075\n",
      "[11,  2000] loss: 0.46068\n",
      "[11,  4000] loss: 0.45857\n",
      "[12,  2000] loss: 0.45816\n",
      "[12,  4000] loss: 0.44388\n",
      "[13,  2000] loss: 0.44391\n",
      "[13,  4000] loss: 0.43968\n",
      "[14,  2000] loss: 0.43036\n",
      "[14,  4000] loss: 0.42795\n",
      "[15,  2000] loss: 0.41985\n",
      "[15,  4000] loss: 0.42315\n",
      "[16,  2000] loss: 0.41674\n",
      "[16,  4000] loss: 0.41704\n",
      "[17,  2000] loss: 0.41786\n",
      "[17,  4000] loss: 0.40281\n",
      "[18,  2000] loss: 0.40359\n",
      "[18,  4000] loss: 0.40020\n",
      "[19,  2000] loss: 0.39750\n",
      "[19,  4000] loss: 0.40045\n",
      "[20,  2000] loss: 0.39508\n",
      "[20,  4000] loss: 0.39277\n",
      "Finished Training\n"
     ]
    }
   ],
   "source": [
    "for epoch in range(20):\n",
    "    running_loss = 0.0\n",
    "    for i, data in enumerate(train_loader, 0):\n",
    "        inputs, labels = data\n",
    "        inputs, labels = Variable(inputs), Variable(labels)\n",
    "        \n",
    "        optimizer.zero_grad()\n",
    "        \n",
    "        outputs = net(inputs)\n",
    "        \n",
    "        loss = criterion(outputs, labels)\n",
    "        loss.backward()\n",
    "        optimizer.step()\n",
    "        \n",
    "        running_loss += loss.data[0]\n",
    "        if i % 2000 == 1999:\n",
    "            print('[%d, %5d] loss: %.5f' %(epoch + 1, i + 1, running_loss / 2000))\n",
    "            running_loss = 0.0\n",
    "print('Finished Training')"
   ]
  },
  {
   "cell_type": "code",
   "execution_count": 299,
   "metadata": {},
   "outputs": [
    {
     "name": "stdout",
     "output_type": "stream",
     "text": [
      "Accuracy of Other: 92 %\n",
      "Accuracy of Tier 1D: 21 %\n"
     ]
    }
   ],
   "source": [
    "classes = ['Other', 'Tier 1D']\n",
    "class_correct = list(0. for i in range(2))\n",
    "class_total = list(0. for i in range(2))\n",
    "for data in test_loader:\n",
    "    images, labels = data\n",
    "    # print(labels)\n",
    "    outputs = net(Variable(images))\n",
    "    _, predicted = torch.max(outputs.data, 1)\n",
    "    c = (predicted == labels).squeeze()\n",
    "    for i in range(4):\n",
    "        try:\n",
    "            label = labels[i]\n",
    "            class_correct[label] += c[i]\n",
    "            class_total[label] += 1\n",
    "        except:\n",
    "            pass\n",
    "\n",
    "for i in range(2):\n",
    "    print('Accuracy of %5s: %2d %%' % (classes[i], 100 * class_correct[i] / class_total[i]))"
   ]
  },
  {
   "cell_type": "code",
   "execution_count": 286,
   "metadata": {},
   "outputs": [
    {
     "name": "stdout",
     "output_type": "stream",
     "text": [
      "Accuracy of Other: 85 %\n",
      "Accuracy of Tier 1D: 84 %\n"
     ]
    }
   ],
   "source": [
    "classes = ['Other', 'Tier 1D']\n",
    "class_correct = list(0. for i in range(2))\n",
    "class_total = list(0. for i in range(2))\n",
    "for data in train_loader:\n",
    "    images, labels = data\n",
    "    # print(labels)\n",
    "    outputs = net(Variable(images))\n",
    "    _, predicted = torch.max(outputs.data, 1)\n",
    "    c = (predicted == labels).squeeze()\n",
    "    for i in range(4):\n",
    "        label = labels[i]\n",
    "        class_correct[label] += c[i]\n",
    "        class_total[label] += 1\n",
    "\n",
    "for i in range(2):\n",
    "    print('Accuracy of %5s: %2d %%' % (classes[i], 100 * class_correct[i] / class_total[i]))"
   ]
  },
  {
   "cell_type": "code",
   "execution_count": null,
   "metadata": {
    "collapsed": true
   },
   "outputs": [],
   "source": []
  }
 ],
 "metadata": {
  "kernelspec": {
   "display_name": "Python 3",
   "language": "python",
   "name": "python3"
  },
  "language_info": {
   "codemirror_mode": {
    "name": "ipython",
    "version": 3
   },
   "file_extension": ".py",
   "mimetype": "text/x-python",
   "name": "python",
   "nbconvert_exporter": "python",
   "pygments_lexer": "ipython3",
   "version": "3.6.4"
  }
 },
 "nbformat": 4,
 "nbformat_minor": 2
}
