{
 "cells": [
  {
   "cell_type": "code",
   "execution_count": 18,
   "metadata": {
    "collapsed": true
   },
   "outputs": [],
   "source": [
    "import importlib\n",
    "import func\n",
    "importlib.reload(func)\n",
    "import numpy as np\n",
    "import pandas as pd\n",
    "from matplotlib import pyplot as plt\n",
    "from sklearn.feature_selection import VarianceThreshold\n",
    "pd.options.display.max_rows = 100\n",
    "%matplotlib inline\n",
    "importlib.reload(func)\n",
    "from sklearn.ensemble import RandomForestClassifier\n",
    "from collections import Counter\n",
    "from sklearn.linear_model import LogisticRegression\n",
    "from sklearn.linear_model import Lasso\n",
    "from sklearn.linear_model import RidgeClassifier\n",
    "from sklearn.ensemble import RandomForestClassifier\n",
    "from sklearn.tree import DecisionTreeClassifier\n",
    "from sklearn.ensemble import AdaBoostClassifier, GradientBoostingClassifier\n",
    "from sklearn.svm import LinearSVC\n",
    "from sklearn.cluster import KMeans\n",
    "from sklearn.cluster import DBSCAN\n",
    "from sklearn.cluster import AgglomerativeClustering\n",
    "from sklearn.model_selection import train_test_split\n",
    "from sklearn.svm import SVC\n",
    "from sklearn.metrics import confusion_matrix\n",
    "from sklearn.linear_model import SGDClassifier\n",
    "from sklearn.metrics import classification_report\n",
    "from sklearn.metrics import precision_score, recall_score\n",
    "from sklearn.neighbors import KNeighborsClassifier\n",
    "from sklearn.naive_bayes import GaussianNB, BernoulliNB\n",
    "from sklearn import svm\n",
    "from sklearn.svm import NuSVC\n",
    "from sklearn.metrics import roc_auc_score\n",
    "from sklearn.decomposition import PCA\n",
    "from sklearn.metrics import precision_recall_fscore_support\n",
    "from imblearn.over_sampling import SMOTE\n",
    "from imblearn.under_sampling import RandomUnderSampler, ClusterCentroids"
   ]
  },
  {
   "cell_type": "code",
   "execution_count": 19,
   "metadata": {
    "collapsed": true
   },
   "outputs": [],
   "source": [
    "df_101_tier = pd.read_excel(\"data/df_tierc700.xlsx\")\n",
    "# df_101_tier = df_101_tier.set_index(\"RTN\")"
   ]
  },
  {
   "cell_type": "code",
   "execution_count": 20,
   "metadata": {},
   "outputs": [
    {
     "data": {
      "text/plain": [
       "(8599, 397)"
      ]
     },
     "execution_count": 20,
     "metadata": {},
     "output_type": "execute_result"
    }
   ],
   "source": [
    "df_101_tier.shape"
   ]
  },
  {
   "cell_type": "code",
   "execution_count": 21,
   "metadata": {},
   "outputs": [
    {
     "data": {
      "text/html": [
       "<div>\n",
       "<style>\n",
       "    .dataframe thead tr:only-child th {\n",
       "        text-align: right;\n",
       "    }\n",
       "\n",
       "    .dataframe thead th {\n",
       "        text-align: left;\n",
       "    }\n",
       "\n",
       "    .dataframe tbody tr th {\n",
       "        vertical-align: top;\n",
       "    }\n",
       "</style>\n",
       "<table border=\"1\" class=\"dataframe\">\n",
       "  <thead>\n",
       "    <tr style=\"text-align: right;\">\n",
       "      <th></th>\n",
       "      <th>A1</th>\n",
       "      <th>A2</th>\n",
       "      <th>A2A</th>\n",
       "      <th>A2B</th>\n",
       "      <th>A3</th>\n",
       "      <th>A3A</th>\n",
       "      <th>A3B</th>\n",
       "      <th>A3C</th>\n",
       "      <th>A3D</th>\n",
       "      <th>B6</th>\n",
       "      <th>...</th>\n",
       "      <th>CVOC</th>\n",
       "      <th>ERROR</th>\n",
       "      <th>METAL</th>\n",
       "      <th>O/HM</th>\n",
       "      <th>OTHER</th>\n",
       "      <th>PAH</th>\n",
       "      <th>PCB</th>\n",
       "      <th>PETROLEUM</th>\n",
       "      <th>UNKNOWN</th>\n",
       "      <th>VOC</th>\n",
       "    </tr>\n",
       "  </thead>\n",
       "  <tbody>\n",
       "    <tr>\n",
       "      <th>1-0017194</th>\n",
       "      <td>1</td>\n",
       "      <td>0</td>\n",
       "      <td>0</td>\n",
       "      <td>0</td>\n",
       "      <td>1</td>\n",
       "      <td>1</td>\n",
       "      <td>0</td>\n",
       "      <td>0</td>\n",
       "      <td>0</td>\n",
       "      <td>0</td>\n",
       "      <td>...</td>\n",
       "      <td>0</td>\n",
       "      <td>0</td>\n",
       "      <td>0</td>\n",
       "      <td>0</td>\n",
       "      <td>0</td>\n",
       "      <td>0</td>\n",
       "      <td>0</td>\n",
       "      <td>1</td>\n",
       "      <td>0</td>\n",
       "      <td>0</td>\n",
       "    </tr>\n",
       "    <tr>\n",
       "      <th>1-0017315</th>\n",
       "      <td>1</td>\n",
       "      <td>1</td>\n",
       "      <td>1</td>\n",
       "      <td>0</td>\n",
       "      <td>0</td>\n",
       "      <td>0</td>\n",
       "      <td>0</td>\n",
       "      <td>0</td>\n",
       "      <td>0</td>\n",
       "      <td>0</td>\n",
       "      <td>...</td>\n",
       "      <td>0</td>\n",
       "      <td>0</td>\n",
       "      <td>0</td>\n",
       "      <td>0</td>\n",
       "      <td>0</td>\n",
       "      <td>0</td>\n",
       "      <td>0</td>\n",
       "      <td>1</td>\n",
       "      <td>0</td>\n",
       "      <td>0</td>\n",
       "    </tr>\n",
       "    <tr>\n",
       "      <th>1-0017321</th>\n",
       "      <td>1</td>\n",
       "      <td>1</td>\n",
       "      <td>1</td>\n",
       "      <td>0</td>\n",
       "      <td>0</td>\n",
       "      <td>0</td>\n",
       "      <td>0</td>\n",
       "      <td>0</td>\n",
       "      <td>0</td>\n",
       "      <td>0</td>\n",
       "      <td>...</td>\n",
       "      <td>0</td>\n",
       "      <td>0</td>\n",
       "      <td>0</td>\n",
       "      <td>0</td>\n",
       "      <td>0</td>\n",
       "      <td>0</td>\n",
       "      <td>0</td>\n",
       "      <td>1</td>\n",
       "      <td>0</td>\n",
       "      <td>0</td>\n",
       "    </tr>\n",
       "    <tr>\n",
       "      <th>1-0017322</th>\n",
       "      <td>1</td>\n",
       "      <td>0</td>\n",
       "      <td>0</td>\n",
       "      <td>0</td>\n",
       "      <td>1</td>\n",
       "      <td>1</td>\n",
       "      <td>0</td>\n",
       "      <td>0</td>\n",
       "      <td>0</td>\n",
       "      <td>0</td>\n",
       "      <td>...</td>\n",
       "      <td>0</td>\n",
       "      <td>0</td>\n",
       "      <td>1</td>\n",
       "      <td>0</td>\n",
       "      <td>0</td>\n",
       "      <td>0</td>\n",
       "      <td>0</td>\n",
       "      <td>0</td>\n",
       "      <td>0</td>\n",
       "      <td>0</td>\n",
       "    </tr>\n",
       "    <tr>\n",
       "      <th>1-0017326</th>\n",
       "      <td>1</td>\n",
       "      <td>1</td>\n",
       "      <td>1</td>\n",
       "      <td>0</td>\n",
       "      <td>0</td>\n",
       "      <td>0</td>\n",
       "      <td>0</td>\n",
       "      <td>0</td>\n",
       "      <td>0</td>\n",
       "      <td>1</td>\n",
       "      <td>...</td>\n",
       "      <td>0</td>\n",
       "      <td>0</td>\n",
       "      <td>0</td>\n",
       "      <td>0</td>\n",
       "      <td>0</td>\n",
       "      <td>0</td>\n",
       "      <td>0</td>\n",
       "      <td>1</td>\n",
       "      <td>0</td>\n",
       "      <td>0</td>\n",
       "    </tr>\n",
       "  </tbody>\n",
       "</table>\n",
       "<p>5 rows × 397 columns</p>\n",
       "</div>"
      ],
      "text/plain": [
       "           A1  A2  A2A  A2B  A3  A3A  A3B  A3C  A3D  B6 ...   CVOC  ERROR  \\\n",
       "1-0017194   1   0    0    0   1    1    0    0    0   0 ...      0      0   \n",
       "1-0017315   1   1    1    0   0    0    0    0    0   0 ...      0      0   \n",
       "1-0017321   1   1    1    0   0    0    0    0    0   0 ...      0      0   \n",
       "1-0017322   1   0    0    0   1    1    0    0    0   0 ...      0      0   \n",
       "1-0017326   1   1    1    0   0    0    0    0    0   1 ...      0      0   \n",
       "\n",
       "           METAL  O/HM  OTHER  PAH  PCB  PETROLEUM  UNKNOWN  VOC  \n",
       "1-0017194      0     0      0    0    0          1        0    0  \n",
       "1-0017315      0     0      0    0    0          1        0    0  \n",
       "1-0017321      0     0      0    0    0          1        0    0  \n",
       "1-0017322      1     0      0    0    0          0        0    0  \n",
       "1-0017326      0     0      0    0    0          1        0    0  \n",
       "\n",
       "[5 rows x 397 columns]"
      ]
     },
     "execution_count": 21,
     "metadata": {},
     "output_type": "execute_result"
    }
   ],
   "source": [
    "df_101_tier.head()"
   ]
  },
  {
   "cell_type": "markdown",
   "metadata": {},
   "source": [
    "## 1. Use all features and Oversampling"
   ]
  },
  {
   "cell_type": "code",
   "execution_count": 22,
   "metadata": {
    "collapsed": true
   },
   "outputs": [],
   "source": [
    "X = df_101_tier.drop(\"Tier1D\", axis=1)\n",
    "y = df_101_tier[\"Tier1D\"]\n",
    "# y = df_101_tier[\"IRA\"]"
   ]
  },
  {
   "cell_type": "code",
   "execution_count": 23,
   "metadata": {},
   "outputs": [
    {
     "data": {
      "text/plain": [
       "Tier1D\n",
       "Non-Tier1D        7565\n",
       "Persist-Tier1D    1034\n",
       "Name: Tier1D, dtype: int64"
      ]
     },
     "execution_count": 23,
     "metadata": {},
     "output_type": "execute_result"
    }
   ],
   "source": [
    "y.groupby(y).count()"
   ]
  },
  {
   "cell_type": "markdown",
   "metadata": {},
   "source": [
    "### 1.1 Use Random Forest to extract features"
   ]
  },
  {
   "cell_type": "code",
   "execution_count": 24,
   "metadata": {
    "collapsed": true
   },
   "outputs": [],
   "source": [
    "# Use random forest to extract useful features\n",
    "# Use all the data\n",
    "rfmodel = RandomForestClassifier(n_estimators=500, n_jobs=-1, class_weight='balanced')\n",
    "rfmodel.fit(X, y)\n",
    "feat_import = pd.DataFrame({\"Feature\": X.columns, \"Importance\": rfmodel.feature_importances_})\\\n",
    "        .sort_values(\"Importance\", ascending=False)\n",
    "feat20 = feat_import.iloc[:20, 0].tolist()"
   ]
  },
  {
   "cell_type": "code",
   "execution_count": 25,
   "metadata": {},
   "outputs": [
    {
     "data": {
      "text/plain": [
       "['D10A',\n",
       " 'H3',\n",
       " 'D6A',\n",
       " 'G4',\n",
       " 'D9E',\n",
       " 'D10J',\n",
       " 'H13AVOLUME',\n",
       " 'C6E',\n",
       " 'F12',\n",
       " 'A1',\n",
       " 'METAL',\n",
       " 'D8A',\n",
       " 'D9L',\n",
       " 'CVOC',\n",
       " 'PETROLEUM',\n",
       " 'D4M',\n",
       " 'H16',\n",
       " 'B6',\n",
       " 'D8B',\n",
       " 'D10I']"
      ]
     },
     "execution_count": 25,
     "metadata": {},
     "output_type": "execute_result"
    }
   ],
   "source": [
    "feat20"
   ]
  },
  {
   "cell_type": "markdown",
   "metadata": {},
   "source": [
    "### 1.2 Use all features to model"
   ]
  },
  {
   "cell_type": "code",
   "execution_count": 27,
   "metadata": {
    "collapsed": true
   },
   "outputs": [],
   "source": [
    "X_train, X_test, y_train, y_test = train_test_split(X.loc[:, feat20[:20]], \n",
    "                                                    y, \n",
    "                                                    test_size=0.25,\n",
    "                                                    stratify=y,\n",
    "                                                    random_state=1634)\n",
    "labels = [\"Persist-Tier1D\", \"Non-Tier1D\"]"
   ]
  },
  {
   "cell_type": "code",
   "execution_count": 28,
   "metadata": {},
   "outputs": [
    {
     "name": "stdout",
     "output_type": "stream",
     "text": [
      "(11348, 20)\n",
      "dict_items([('Non-Tier1D', 5674), ('Persist-Tier1D', 5674)])\n",
      "(11348, 20)\n",
      "Training size: 11348\n",
      "Test size: 2150\n"
     ]
    }
   ],
   "source": [
    "X_train, y_train = SMOTE().fit_sample(X_train, y_train)\n",
    "print(X_train.shape)\n",
    "print(Counter(y_train).items())\n",
    "print(X_train.shape)\n",
    "print(\"Training size: %r\" %X_train.shape[0])\n",
    "print(\"Test size: %r\" %X_test.shape[0])"
   ]
  },
  {
   "cell_type": "code",
   "execution_count": 11,
   "metadata": {},
   "outputs": [
    {
     "name": "stdout",
     "output_type": "stream",
     "text": [
      "Confusion matrix, without normalization\n",
      "[[ 293   91]\n",
      " [ 702 1086]]\n",
      "             precision    recall  f1-score   support\n",
      "\n",
      "     Tier1D       0.29      0.76      0.42       384\n",
      " Non-Tier1D       0.92      0.61      0.73      1788\n",
      "\n",
      "avg / total       0.81      0.63      0.68      2172\n",
      "\n"
     ]
    },
    {
     "data": {
      "image/png": "[encoded data removed]",
      "text/plain": [
       "<matplotlib.figure.Figure at 0x1a2f87ccf8>"
      ]
     },
     "metadata": {},
     "output_type": "display_data"
    }
   ],
   "source": [
    "ab = AdaBoostClassifier(learning_rate=0.05, n_estimators=500)\n",
    "ab.fit(X_train, y_train)\n",
    "y_predict = ab.predict(X_test)\n",
    "func.plot_confusion_matrix(confusion_matrix(y_test, y_predict, labels=labels), classes=labels)\n",
    "print(classification_report(y_test, y_predict, labels=labels, target_names=labels))"
   ]
  },
  {
   "cell_type": "code",
   "execution_count": 12,
   "metadata": {},
   "outputs": [
    {
     "name": "stdout",
     "output_type": "stream",
     "text": [
      "Confusion matrix, without normalization\n",
      "[[ 286   98]\n",
      " [ 735 1053]]\n",
      "             precision    recall  f1-score   support\n",
      "\n",
      "     Tier1D       0.28      0.74      0.41       384\n",
      " Non-Tier1D       0.91      0.59      0.72      1788\n",
      "\n",
      "avg / total       0.80      0.62      0.66      2172\n",
      "\n"
     ]
    },
    {
     "data": {
      "image/png": "[encoded data removed]",
      "text/plain": [
       "<matplotlib.figure.Figure at 0x1a37bc0a20>"
      ]
     },
     "metadata": {},
     "output_type": "display_data"
    }
   ],
   "source": [
    "rf = RandomForestClassifier(max_depth=3, n_estimators=500, max_features=0.2, n_jobs=-1)\n",
    "rf.fit(X_train, y_train)\n",
    "y_predict = rf.predict(X_test)\n",
    "func.plot_confusion_matrix(confusion_matrix(y_test, y_predict, labels=labels), classes=labels)\n",
    "print(classification_report(y_test, y_predict, labels=labels, target_names=labels))"
   ]
  },
  {
   "cell_type": "code",
   "execution_count": 29,
   "metadata": {},
   "outputs": [
    {
     "name": "stdout",
     "output_type": "stream",
     "text": [
      "Confusion matrix, without normalization\n",
      "[[ 222   37]\n",
      " [1103  788]]\n",
      "                precision    recall  f1-score   support\n",
      "\n",
      "Persist-Tier1D       0.17      0.86      0.28       259\n",
      "    Non-Tier1D       0.96      0.42      0.58      1891\n",
      "\n",
      "   avg / total       0.86      0.47      0.54      2150\n",
      "\n"
     ]
    },
    {
     "data": {
      "image/png": "[encoded data removed]",
      "text/plain": [
       "<matplotlib.figure.Figure at 0x1a1ddd4940>"
      ]
     },
     "metadata": {},
     "output_type": "display_data"
    }
   ],
   "source": [
    "# {'C': 10, 'dual': True, 'penalty': 'l2'}\n",
    "svc = LinearSVC(dual=True, C=10, penalty='l2')\n",
    "svc.fit(X_train, y_train)\n",
    "y_predict = svc.predict(X_test)\n",
    "func.plot_confusion_matrix(confusion_matrix(y_test, y_predict, labels=labels), classes=labels)\n",
    "print(classification_report(y_test, y_predict, labels=labels, target_names=labels))"
   ]
  },
  {
   "cell_type": "code",
   "execution_count": null,
   "metadata": {},
   "outputs": [
    {
     "name": "stdout",
     "output_type": "stream",
     "text": [
      "Confusion matrix, without normalization\n",
      "[[ 233  166]\n",
      " [ 508 1491]]\n",
      "             precision    recall  f1-score   support\n",
      "\n",
      "     Tier1D       0.31      0.58      0.41       399\n",
      " Non-Tier1D       0.90      0.75      0.82      1999\n",
      "\n",
      "avg / total       0.80      0.72      0.75      2398\n",
      "\n"
     ]
    },
    {
     "data": {
      "image/png": "[encoded data removed]",
      "text/plain": [
       "<matplotlib.figure.Figure at 0x10d555438>"
      ]
     },
     "metadata": {},
     "output_type": "display_data"
    }
   ],
   "source": [
    "# {'C': 0.1, 'dual': False, 'penalty': 'l2'}\n",
    "lg = LogisticRegression(C=0.1, dual=False, )\n",
    "rf.fit(X_train, y_train)\n",
    "y_predict = rf.predict(X_test)\n",
    "func.plot_confusion_matrix(confusion_matrix(y_test, y_predict, labels=labels), classes=labels)\n",
    "print(classification_report(y_test, y_predict, labels=labels, target_names=labels))"
   ]
  },
  {
   "cell_type": "code",
   "execution_count": 27,
   "metadata": {
    "collapsed": true
   },
   "outputs": [],
   "source": [
    "sel = VarianceThreshold(threshold=(.8 * (1 - .8)))\n",
    "Xs = sel.fit_transform(X)\n",
    "Xsf = X.columns[sel.variances_ > .8 * (1 - .8)].tolist()\n",
    "Xs = pd.DataFrame(Xs, columns=Xsf)"
   ]
  },
  {
   "cell_type": "code",
   "execution_count": 29,
   "metadata": {},
   "outputs": [
    {
     "data": {
      "text/plain": [
       "(10888, 154)"
      ]
     },
     "execution_count": 29,
     "metadata": {},
     "output_type": "execute_result"
    }
   ],
   "source": [
    "X.shape"
   ]
  },
  {
   "cell_type": "code",
   "execution_count": 30,
   "metadata": {},
   "outputs": [
    {
     "data": {
      "text/html": [
       "<div>\n",
       "<style>\n",
       "    .dataframe thead tr:only-child th {\n",
       "        text-align: right;\n",
       "    }\n",
       "\n",
       "    .dataframe thead th {\n",
       "        text-align: left;\n",
       "    }\n",
       "\n",
       "    .dataframe tbody tr th {\n",
       "        vertical-align: top;\n",
       "    }\n",
       "</style>\n",
       "<table border=\"1\" class=\"dataframe\">\n",
       "  <thead>\n",
       "    <tr style=\"text-align: right;\">\n",
       "      <th></th>\n",
       "      <th>A1</th>\n",
       "      <th>B6</th>\n",
       "      <th>C6H</th>\n",
       "      <th>C6L</th>\n",
       "      <th>D10A</th>\n",
       "      <th>D10I</th>\n",
       "      <th>D4M</th>\n",
       "      <th>D6A</th>\n",
       "      <th>D9G</th>\n",
       "      <th>D9L</th>\n",
       "      <th>...</th>\n",
       "      <th>H13AOFFSITE</th>\n",
       "      <th>H13AVOLUME</th>\n",
       "      <th>H13BVOLUME</th>\n",
       "      <th>H13CVOLUME</th>\n",
       "      <th>H16</th>\n",
       "      <th>H3</th>\n",
       "      <th>LUST_ELIGIBLE_NO</th>\n",
       "      <th>LUST_ELIGIBLE_UNKNOWN</th>\n",
       "      <th>STAFF_UNASSIGNED</th>\n",
       "      <th>PETROLEUM</th>\n",
       "    </tr>\n",
       "  </thead>\n",
       "  <tbody>\n",
       "    <tr>\n",
       "      <th>0</th>\n",
       "      <td>1.0</td>\n",
       "      <td>0.0</td>\n",
       "      <td>1.0</td>\n",
       "      <td>1.0</td>\n",
       "      <td>0.0</td>\n",
       "      <td>1.0</td>\n",
       "      <td>0.0</td>\n",
       "      <td>0.0</td>\n",
       "      <td>0.0</td>\n",
       "      <td>0.0</td>\n",
       "      <td>...</td>\n",
       "      <td>1.0</td>\n",
       "      <td>25.0</td>\n",
       "      <td>0.0</td>\n",
       "      <td>0.0</td>\n",
       "      <td>0.0</td>\n",
       "      <td>0.0</td>\n",
       "      <td>1.0</td>\n",
       "      <td>0.0</td>\n",
       "      <td>0.0</td>\n",
       "      <td>1.0</td>\n",
       "    </tr>\n",
       "    <tr>\n",
       "      <th>1</th>\n",
       "      <td>1.0</td>\n",
       "      <td>0.0</td>\n",
       "      <td>0.0</td>\n",
       "      <td>0.0</td>\n",
       "      <td>0.0</td>\n",
       "      <td>1.0</td>\n",
       "      <td>0.0</td>\n",
       "      <td>0.0</td>\n",
       "      <td>1.0</td>\n",
       "      <td>0.0</td>\n",
       "      <td>...</td>\n",
       "      <td>1.0</td>\n",
       "      <td>100.0</td>\n",
       "      <td>0.0</td>\n",
       "      <td>0.0</td>\n",
       "      <td>0.0</td>\n",
       "      <td>0.0</td>\n",
       "      <td>0.0</td>\n",
       "      <td>1.0</td>\n",
       "      <td>0.0</td>\n",
       "      <td>1.0</td>\n",
       "    </tr>\n",
       "    <tr>\n",
       "      <th>2</th>\n",
       "      <td>0.0</td>\n",
       "      <td>0.0</td>\n",
       "      <td>0.0</td>\n",
       "      <td>1.0</td>\n",
       "      <td>0.0</td>\n",
       "      <td>0.0</td>\n",
       "      <td>0.0</td>\n",
       "      <td>0.0</td>\n",
       "      <td>0.0</td>\n",
       "      <td>0.0</td>\n",
       "      <td>...</td>\n",
       "      <td>0.0</td>\n",
       "      <td>0.0</td>\n",
       "      <td>0.0</td>\n",
       "      <td>0.0</td>\n",
       "      <td>0.0</td>\n",
       "      <td>0.0</td>\n",
       "      <td>1.0</td>\n",
       "      <td>0.0</td>\n",
       "      <td>0.0</td>\n",
       "      <td>1.0</td>\n",
       "    </tr>\n",
       "    <tr>\n",
       "      <th>3</th>\n",
       "      <td>0.0</td>\n",
       "      <td>1.0</td>\n",
       "      <td>0.0</td>\n",
       "      <td>1.0</td>\n",
       "      <td>0.0</td>\n",
       "      <td>1.0</td>\n",
       "      <td>0.0</td>\n",
       "      <td>0.0</td>\n",
       "      <td>0.0</td>\n",
       "      <td>0.0</td>\n",
       "      <td>...</td>\n",
       "      <td>1.0</td>\n",
       "      <td>250.0</td>\n",
       "      <td>0.0</td>\n",
       "      <td>0.0</td>\n",
       "      <td>0.0</td>\n",
       "      <td>0.0</td>\n",
       "      <td>0.0</td>\n",
       "      <td>0.0</td>\n",
       "      <td>0.0</td>\n",
       "      <td>1.0</td>\n",
       "    </tr>\n",
       "    <tr>\n",
       "      <th>4</th>\n",
       "      <td>1.0</td>\n",
       "      <td>0.0</td>\n",
       "      <td>0.0</td>\n",
       "      <td>1.0</td>\n",
       "      <td>0.0</td>\n",
       "      <td>1.0</td>\n",
       "      <td>0.0</td>\n",
       "      <td>0.0</td>\n",
       "      <td>0.0</td>\n",
       "      <td>0.0</td>\n",
       "      <td>...</td>\n",
       "      <td>1.0</td>\n",
       "      <td>250.0</td>\n",
       "      <td>0.0</td>\n",
       "      <td>0.0</td>\n",
       "      <td>0.0</td>\n",
       "      <td>0.0</td>\n",
       "      <td>0.0</td>\n",
       "      <td>1.0</td>\n",
       "      <td>0.0</td>\n",
       "      <td>1.0</td>\n",
       "    </tr>\n",
       "  </tbody>\n",
       "</table>\n",
       "<p>5 rows × 26 columns</p>\n",
       "</div>"
      ],
      "text/plain": [
       "    A1   B6  C6H  C6L  D10A  D10I  D4M  D6A  D9G  D9L    ...      H13AOFFSITE  \\\n",
       "0  1.0  0.0  1.0  1.0   0.0   1.0  0.0  0.0  0.0  0.0    ...              1.0   \n",
       "1  1.0  0.0  0.0  0.0   0.0   1.0  0.0  0.0  1.0  0.0    ...              1.0   \n",
       "2  0.0  0.0  0.0  1.0   0.0   0.0  0.0  0.0  0.0  0.0    ...              0.0   \n",
       "3  0.0  1.0  0.0  1.0   0.0   1.0  0.0  0.0  0.0  0.0    ...              1.0   \n",
       "4  1.0  0.0  0.0  1.0   0.0   1.0  0.0  0.0  0.0  0.0    ...              1.0   \n",
       "\n",
       "   H13AVOLUME  H13BVOLUME  H13CVOLUME  H16   H3  LUST_ELIGIBLE_NO  \\\n",
       "0        25.0         0.0         0.0  0.0  0.0               1.0   \n",
       "1       100.0         0.0         0.0  0.0  0.0               0.0   \n",
       "2         0.0         0.0         0.0  0.0  0.0               1.0   \n",
       "3       250.0         0.0         0.0  0.0  0.0               0.0   \n",
       "4       250.0         0.0         0.0  0.0  0.0               0.0   \n",
       "\n",
       "   LUST_ELIGIBLE_UNKNOWN  STAFF_UNASSIGNED  PETROLEUM  \n",
       "0                    0.0               0.0        1.0  \n",
       "1                    1.0               0.0        1.0  \n",
       "2                    0.0               0.0        1.0  \n",
       "3                    0.0               0.0        1.0  \n",
       "4                    1.0               0.0        1.0  \n",
       "\n",
       "[5 rows x 26 columns]"
      ]
     },
     "execution_count": 30,
     "metadata": {},
     "output_type": "execute_result"
    }
   ],
   "source": [
    "Xs.head()"
   ]
  },
  {
   "cell_type": "markdown",
   "metadata": {
    "collapsed": true
   },
   "source": [
    "### PCA"
   ]
  },
  {
   "cell_type": "code",
   "execution_count": 17,
   "metadata": {
    "collapsed": true
   },
   "outputs": [],
   "source": [
    "pca = PCA(n_components=10)\n",
    "Xpca = pca.fit_transform(X)"
   ]
  },
  {
   "cell_type": "code",
   "execution_count": 18,
   "metadata": {},
   "outputs": [
    {
     "data": {
      "text/plain": [
       "array([ 0.76038212,  0.85041021,  0.90658705,  0.93995279,  0.96008573,\n",
       "        0.97190767,  0.98024974,  0.98487089,  0.98822489,  0.99101516])"
      ]
     },
     "execution_count": 18,
     "metadata": {},
     "output_type": "execute_result"
    }
   ],
   "source": [
    "np.cumsum(pca.explained_variance_ratio_)"
   ]
  },
  {
   "cell_type": "code",
   "execution_count": null,
   "metadata": {
    "collapsed": true
   },
   "outputs": [],
   "source": []
  }
 ],
 "metadata": {
  "kernelspec": {
   "display_name": "Python 3",
   "language": "python",
   "name": "python3"
  },
  "language_info": {
   "codemirror_mode": {
    "name": "ipython",
    "version": 3
   },
   "file_extension": ".py",
   "mimetype": "text/x-python",
   "name": "python",
   "nbconvert_exporter": "python",
   "pygments_lexer": "ipython3",
   "version": "3.6.4"
  }
 },
 "nbformat": 4,
 "nbformat_minor": 2
}
