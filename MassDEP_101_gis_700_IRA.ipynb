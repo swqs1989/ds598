{
 "cells": [
  {
   "cell_type": "code",
   "execution_count": 17,
   "metadata": {
    "collapsed": true
   },
   "outputs": [],
   "source": [
    "import importlib\n",
    "import func\n",
    "importlib.reload(func)\n",
    "import numpy as np\n",
    "import pandas as pd\n",
    "from matplotlib import pyplot as plt\n",
    "from sklearn.feature_selection import VarianceThreshold\n",
    "pd.options.display.max_rows = 100\n",
    "%matplotlib inline\n",
    "importlib.reload(func)\n",
    "from sklearn.ensemble import RandomForestClassifier\n",
    "from collections import Counter\n",
    "from sklearn.linear_model import LogisticRegression\n",
    "from sklearn.linear_model import Lasso\n",
    "from sklearn.linear_model import RidgeClassifier\n",
    "from sklearn.ensemble import RandomForestClassifier\n",
    "from sklearn.tree import DecisionTreeClassifier\n",
    "from sklearn.ensemble import AdaBoostClassifier, GradientBoostingClassifier\n",
    "from sklearn.svm import LinearSVC\n",
    "from sklearn.cluster import KMeans\n",
    "from sklearn.cluster import DBSCAN\n",
    "from sklearn.cluster import AgglomerativeClustering\n",
    "from sklearn.model_selection import train_test_split\n",
    "from sklearn.svm import SVC\n",
    "from sklearn.metrics import confusion_matrix\n",
    "from sklearn.linear_model import SGDClassifier\n",
    "from sklearn.metrics import classification_report\n",
    "from sklearn.metrics import precision_score, recall_score\n",
    "from sklearn.neighbors import KNeighborsClassifier\n",
    "from sklearn.naive_bayes import GaussianNB, BernoulliNB\n",
    "from sklearn import svm\n",
    "from sklearn.svm import NuSVC\n",
    "from sklearn.metrics import roc_auc_score\n",
    "from sklearn.decomposition import PCA\n",
    "from sklearn.metrics import precision_recall_fscore_support\n",
    "from imblearn.over_sampling import SMOTE\n",
    "from imblearn.under_sampling import RandomUnderSampler, ClusterCentroids"
   ]
  },
  {
   "cell_type": "code",
   "execution_count": 2,
   "metadata": {
    "collapsed": true
   },
   "outputs": [],
   "source": [
    "df_101_tier = pd.read_excel(\"data/df_ira_gis.xlsx\")\n",
    "# df_101_tier = df_101_tier.set_index(\"RTN\")"
   ]
  },
  {
   "cell_type": "code",
   "execution_count": 5,
   "metadata": {},
   "outputs": [
    {
     "data": {
      "text/plain": [
       "(10898, 386)"
      ]
     },
     "execution_count": 5,
     "metadata": {},
     "output_type": "execute_result"
    }
   ],
   "source": [
    "df_101_tier.shape"
   ]
  },
  {
   "cell_type": "code",
   "execution_count": 6,
   "metadata": {},
   "outputs": [
    {
     "data": {
      "text/html": [
       "<div>\n",
       "<style>\n",
       "    .dataframe thead tr:only-child th {\n",
       "        text-align: right;\n",
       "    }\n",
       "\n",
       "    .dataframe thead th {\n",
       "        text-align: left;\n",
       "    }\n",
       "\n",
       "    .dataframe tbody tr th {\n",
       "        vertical-align: top;\n",
       "    }\n",
       "</style>\n",
       "<table border=\"1\" class=\"dataframe\">\n",
       "  <thead>\n",
       "    <tr style=\"text-align: right;\">\n",
       "      <th></th>\n",
       "      <th>A1</th>\n",
       "      <th>A2</th>\n",
       "      <th>A2A</th>\n",
       "      <th>A2B</th>\n",
       "      <th>A3</th>\n",
       "      <th>A3A</th>\n",
       "      <th>A3B</th>\n",
       "      <th>A3C</th>\n",
       "      <th>A3D</th>\n",
       "      <th>B6</th>\n",
       "      <th>...</th>\n",
       "      <th>NH_OTHER</th>\n",
       "      <th>NH_MULTI</th>\n",
       "      <th>HISP</th>\n",
       "      <th>H_WHITE</th>\n",
       "      <th>H_BLACK</th>\n",
       "      <th>H_NATV</th>\n",
       "      <th>H_ASN</th>\n",
       "      <th>H_ISLND</th>\n",
       "      <th>H_OTHER</th>\n",
       "      <th>H_MULTI</th>\n",
       "    </tr>\n",
       "  </thead>\n",
       "  <tbody>\n",
       "    <tr>\n",
       "      <th>1-0017194</th>\n",
       "      <td>1</td>\n",
       "      <td>0</td>\n",
       "      <td>0</td>\n",
       "      <td>0</td>\n",
       "      <td>1</td>\n",
       "      <td>1</td>\n",
       "      <td>0</td>\n",
       "      <td>0</td>\n",
       "      <td>0</td>\n",
       "      <td>0</td>\n",
       "      <td>...</td>\n",
       "      <td>2</td>\n",
       "      <td>30</td>\n",
       "      <td>105</td>\n",
       "      <td>51</td>\n",
       "      <td>2</td>\n",
       "      <td>2</td>\n",
       "      <td>0</td>\n",
       "      <td>0</td>\n",
       "      <td>39</td>\n",
       "      <td>11</td>\n",
       "    </tr>\n",
       "    <tr>\n",
       "      <th>1-0017315</th>\n",
       "      <td>1</td>\n",
       "      <td>1</td>\n",
       "      <td>1</td>\n",
       "      <td>0</td>\n",
       "      <td>0</td>\n",
       "      <td>0</td>\n",
       "      <td>0</td>\n",
       "      <td>0</td>\n",
       "      <td>0</td>\n",
       "      <td>0</td>\n",
       "      <td>...</td>\n",
       "      <td>4</td>\n",
       "      <td>19</td>\n",
       "      <td>47</td>\n",
       "      <td>28</td>\n",
       "      <td>0</td>\n",
       "      <td>0</td>\n",
       "      <td>1</td>\n",
       "      <td>0</td>\n",
       "      <td>13</td>\n",
       "      <td>5</td>\n",
       "    </tr>\n",
       "    <tr>\n",
       "      <th>1-0017321</th>\n",
       "      <td>1</td>\n",
       "      <td>1</td>\n",
       "      <td>1</td>\n",
       "      <td>0</td>\n",
       "      <td>0</td>\n",
       "      <td>0</td>\n",
       "      <td>0</td>\n",
       "      <td>0</td>\n",
       "      <td>0</td>\n",
       "      <td>0</td>\n",
       "      <td>...</td>\n",
       "      <td>6</td>\n",
       "      <td>60</td>\n",
       "      <td>723</td>\n",
       "      <td>593</td>\n",
       "      <td>13</td>\n",
       "      <td>7</td>\n",
       "      <td>1</td>\n",
       "      <td>0</td>\n",
       "      <td>93</td>\n",
       "      <td>16</td>\n",
       "    </tr>\n",
       "    <tr>\n",
       "      <th>1-0017322</th>\n",
       "      <td>1</td>\n",
       "      <td>0</td>\n",
       "      <td>0</td>\n",
       "      <td>0</td>\n",
       "      <td>1</td>\n",
       "      <td>1</td>\n",
       "      <td>0</td>\n",
       "      <td>0</td>\n",
       "      <td>0</td>\n",
       "      <td>0</td>\n",
       "      <td>...</td>\n",
       "      <td>16</td>\n",
       "      <td>130</td>\n",
       "      <td>316</td>\n",
       "      <td>125</td>\n",
       "      <td>19</td>\n",
       "      <td>7</td>\n",
       "      <td>0</td>\n",
       "      <td>0</td>\n",
       "      <td>130</td>\n",
       "      <td>35</td>\n",
       "    </tr>\n",
       "    <tr>\n",
       "      <th>1-0017326</th>\n",
       "      <td>1</td>\n",
       "      <td>1</td>\n",
       "      <td>1</td>\n",
       "      <td>0</td>\n",
       "      <td>0</td>\n",
       "      <td>0</td>\n",
       "      <td>0</td>\n",
       "      <td>0</td>\n",
       "      <td>0</td>\n",
       "      <td>1</td>\n",
       "      <td>...</td>\n",
       "      <td>0</td>\n",
       "      <td>27</td>\n",
       "      <td>359</td>\n",
       "      <td>184</td>\n",
       "      <td>26</td>\n",
       "      <td>1</td>\n",
       "      <td>1</td>\n",
       "      <td>0</td>\n",
       "      <td>123</td>\n",
       "      <td>24</td>\n",
       "    </tr>\n",
       "  </tbody>\n",
       "</table>\n",
       "<p>5 rows × 386 columns</p>\n",
       "</div>"
      ],
      "text/plain": [
       "           A1  A2  A2A  A2B  A3  A3A  A3B  A3C  A3D  B6   ...     NH_OTHER  \\\n",
       "1-0017194   1   0    0    0   1    1    0    0    0   0   ...            2   \n",
       "1-0017315   1   1    1    0   0    0    0    0    0   0   ...            4   \n",
       "1-0017321   1   1    1    0   0    0    0    0    0   0   ...            6   \n",
       "1-0017322   1   0    0    0   1    1    0    0    0   0   ...           16   \n",
       "1-0017326   1   1    1    0   0    0    0    0    0   1   ...            0   \n",
       "\n",
       "           NH_MULTI  HISP  H_WHITE  H_BLACK  H_NATV  H_ASN  H_ISLND  H_OTHER  \\\n",
       "1-0017194        30   105       51        2       2      0        0       39   \n",
       "1-0017315        19    47       28        0       0      1        0       13   \n",
       "1-0017321        60   723      593       13       7      1        0       93   \n",
       "1-0017322       130   316      125       19       7      0        0      130   \n",
       "1-0017326        27   359      184       26       1      1        0      123   \n",
       "\n",
       "           H_MULTI  \n",
       "1-0017194       11  \n",
       "1-0017315        5  \n",
       "1-0017321       16  \n",
       "1-0017322       35  \n",
       "1-0017326       24  \n",
       "\n",
       "[5 rows x 386 columns]"
      ]
     },
     "execution_count": 6,
     "metadata": {},
     "output_type": "execute_result"
    }
   ],
   "source": [
    "df_101_tier.head()"
   ]
  },
  {
   "cell_type": "code",
   "execution_count": 7,
   "metadata": {},
   "outputs": [
    {
     "data": {
      "text/plain": [
       "1-0017194    IRA_Not_Present\n",
       "1-0017315        IRA_Present\n",
       "1-0017321        IRA_Present\n",
       "1-0017322        IRA_Present\n",
       "1-0017326        IRA_Present\n",
       "1-0017327    IRA_Not_Present\n",
       "1-0017329        IRA_Present\n",
       "1-0017330    IRA_Not_Present\n",
       "1-0017331    IRA_Not_Present\n",
       "1-0017334        IRA_Present\n",
       "1-0017336        IRA_Present\n",
       "1-0017342    IRA_Not_Present\n",
       "1-0017343    IRA_Not_Present\n",
       "1-0017343    IRA_Not_Present\n",
       "1-0017346    IRA_Not_Present\n",
       "1-0017348        IRA_Present\n",
       "1-0017350    IRA_Not_Present\n",
       "1-0017351    IRA_Not_Present\n",
       "1-0017352    IRA_Not_Present\n",
       "1-0017354        IRA_Present\n",
       "1-0017355    IRA_Not_Present\n",
       "1-0017360    IRA_Not_Present\n",
       "1-0017364        IRA_Present\n",
       "1-0017367    IRA_Not_Present\n",
       "1-0017368    IRA_Not_Present\n",
       "1-0017370    IRA_Not_Present\n",
       "1-0017371    IRA_Not_Present\n",
       "1-0017373        IRA_Present\n",
       "1-0017378    IRA_Not_Present\n",
       "1-0017381        IRA_Present\n",
       "1-0017382        IRA_Present\n",
       "1-0017383        IRA_Present\n",
       "1-0017391    IRA_Not_Present\n",
       "1-0017393    IRA_Not_Present\n",
       "1-0017394    IRA_Not_Present\n",
       "1-0017397    IRA_Not_Present\n",
       "1-0017400    IRA_Not_Present\n",
       "1-0017401        IRA_Present\n",
       "1-0017403    IRA_Not_Present\n",
       "1-0017404        IRA_Present\n",
       "1-0017407        IRA_Present\n",
       "1-0017408    IRA_Not_Present\n",
       "1-0017409        IRA_Present\n",
       "1-0017411        IRA_Present\n",
       "1-0017414        IRA_Present\n",
       "1-0017416        IRA_Present\n",
       "1-0017424    IRA_Not_Present\n",
       "1-0017425    IRA_Not_Present\n",
       "1-0017427        IRA_Present\n",
       "1-0017429    IRA_Not_Present\n",
       "                  ...       \n",
       "4-0026863    IRA_Not_Present\n",
       "4-0026866    IRA_Not_Present\n",
       "4-0026867    IRA_Not_Present\n",
       "4-0026869        IRA_Present\n",
       "4-0026870    IRA_Not_Present\n",
       "4-0026871    IRA_Not_Present\n",
       "4-0026876    IRA_Not_Present\n",
       "4-0026879    IRA_Not_Present\n",
       "4-0026880        IRA_Present\n",
       "4-0026890        IRA_Present\n",
       "4-0026891    IRA_Not_Present\n",
       "4-0026892    IRA_Not_Present\n",
       "4-0026896    IRA_Not_Present\n",
       "4-0026906    IRA_Not_Present\n",
       "4-0026907    IRA_Not_Present\n",
       "4-0026908        IRA_Present\n",
       "4-0026910    IRA_Not_Present\n",
       "4-0026911    IRA_Not_Present\n",
       "4-0026915    IRA_Not_Present\n",
       "4-0026917    IRA_Not_Present\n",
       "4-0026919    IRA_Not_Present\n",
       "4-0026921    IRA_Not_Present\n",
       "4-0026922    IRA_Not_Present\n",
       "4-0026923    IRA_Not_Present\n",
       "4-0026925    IRA_Not_Present\n",
       "4-0026926        IRA_Present\n",
       "4-0026927    IRA_Not_Present\n",
       "4-0026932        IRA_Present\n",
       "4-0026938    IRA_Not_Present\n",
       "4-0026942    IRA_Not_Present\n",
       "4-0026950        IRA_Present\n",
       "4-0026951        IRA_Present\n",
       "4-0026953        IRA_Present\n",
       "4-0026957    IRA_Not_Present\n",
       "4-0026960        IRA_Present\n",
       "4-0026961    IRA_Not_Present\n",
       "4-0026962    IRA_Not_Present\n",
       "4-0026963        IRA_Present\n",
       "4-0026967        IRA_Present\n",
       "4-0026968    IRA_Not_Present\n",
       "4-0026969        IRA_Present\n",
       "4-0026971    IRA_Not_Present\n",
       "4-0026972    IRA_Not_Present\n",
       "4-0026973    IRA_Not_Present\n",
       "4-0026975        IRA_Present\n",
       "4-0026982    IRA_Not_Present\n",
       "4-0026985    IRA_Not_Present\n",
       "4-0026989    IRA_Not_Present\n",
       "4-0026994    IRA_Not_Present\n",
       "4-0026996    IRA_Not_Present\n",
       "Name: IRA, Length: 10898, dtype: object"
      ]
     },
     "execution_count": 7,
     "metadata": {},
     "output_type": "execute_result"
    }
   ],
   "source": [
    "df_101_tier[\"IRA\"]"
   ]
  },
  {
   "cell_type": "markdown",
   "metadata": {},
   "source": [
    "## 1. Use all features and Oversampling"
   ]
  },
  {
   "cell_type": "code",
   "execution_count": 8,
   "metadata": {
    "collapsed": true
   },
   "outputs": [],
   "source": [
    "X = df_101_tier.drop(\"IRA\", axis=1)\n",
    "y = df_101_tier[\"IRA\"]\n",
    "# y = df_101_tier[\"IRA\"]"
   ]
  },
  {
   "cell_type": "code",
   "execution_count": 9,
   "metadata": {},
   "outputs": [
    {
     "data": {
      "text/plain": [
       "IRA\n",
       "IRA_Not_Present    6930\n",
       "IRA_Present        3968\n",
       "Name: IRA, dtype: int64"
      ]
     },
     "execution_count": 9,
     "metadata": {},
     "output_type": "execute_result"
    }
   ],
   "source": [
    "y.groupby(y).count()"
   ]
  },
  {
   "cell_type": "markdown",
   "metadata": {},
   "source": [
    "### 1.1 Use Random Forest to extract features"
   ]
  },
  {
   "cell_type": "code",
   "execution_count": 10,
   "metadata": {
    "collapsed": true
   },
   "outputs": [],
   "source": [
    "# Use random forest to extract useful features\n",
    "# Use all the data\n",
    "rfmodel = RandomForestClassifier(n_estimators=500, n_jobs=-1, class_weight='balanced')\n",
    "rfmodel.fit(X, y)\n",
    "feat_import = pd.DataFrame({\"Feature\": X.columns, \"Importance\": rfmodel.feature_importances_})\\\n",
    "        .sort_values(\"Importance\", ascending=False)\n",
    "feat20 = feat_import.iloc[:20, 0].tolist()"
   ]
  },
  {
   "cell_type": "code",
   "execution_count": 11,
   "metadata": {},
   "outputs": [
    {
     "data": {
      "text/plain": [
       "['D8A',\n",
       " 'D4J',\n",
       " 'D8B',\n",
       " 'G4',\n",
       " 'D10I',\n",
       " 'C6H',\n",
       " 'H13AVOLUME',\n",
       " 'D10A',\n",
       " 'H1',\n",
       " 'D7B',\n",
       " 'D4E',\n",
       " 'STAFF_UNASSIGNED',\n",
       " 'LUST_ELIGIBLE_UNKNOWN',\n",
       " 'F14',\n",
       " 'C6E',\n",
       " 'D6A',\n",
       " 'D4M',\n",
       " 'D10J',\n",
       " 'G3',\n",
       " 'C6L']"
      ]
     },
     "execution_count": 11,
     "metadata": {},
     "output_type": "execute_result"
    }
   ],
   "source": [
    "feat20"
   ]
  },
  {
   "cell_type": "markdown",
   "metadata": {},
   "source": [
    "### 1.2 Use all features to model"
   ]
  },
  {
   "cell_type": "code",
   "execution_count": 12,
   "metadata": {
    "collapsed": true
   },
   "outputs": [],
   "source": [
    "X_train, X_test, y_train, y_test = train_test_split(X.loc[:, feat20[:15]], \n",
    "                                                    y, \n",
    "                                                    test_size=0.25,\n",
    "                                                    stratify=y,\n",
    "                                                    random_state=1634)\n",
    "labels = [\"IRA_Present\", \"IRA_Not_Present\"]"
   ]
  },
  {
   "cell_type": "code",
   "execution_count": 13,
   "metadata": {},
   "outputs": [
    {
     "name": "stdout",
     "output_type": "stream",
     "text": [
      "(10394, 15)\n",
      "dict_items([('IRA_Present', 5197), ('IRA_Not_Present', 5197)])\n",
      "(10394, 15)\n",
      "Training size: 10394\n",
      "Test size: 2725\n"
     ]
    }
   ],
   "source": [
    "X_train, y_train = SMOTE().fit_sample(X_train, y_train)\n",
    "print(X_train.shape)\n",
    "print(Counter(y_train).items())\n",
    "print(X_train.shape)\n",
    "print(\"Training size: %r\" %X_train.shape[0])\n",
    "print(\"Test size: %r\" %X_test.shape[0])"
   ]
  },
  {
   "cell_type": "code",
   "execution_count": 18,
   "metadata": {},
   "outputs": [
    {
     "name": "stdout",
     "output_type": "stream",
     "text": [
      "Normalized confusion matrix\n",
      "[[ 0.83568548  0.16431452]\n",
      " [ 0.22388921  0.77611079]]\n",
      "                 precision    recall  f1-score   support\n",
      "\n",
      "    IRA_Present       0.68      0.84      0.75       992\n",
      "IRA_Not_Present       0.89      0.78      0.83      1733\n",
      "\n",
      "    avg / total       0.82      0.80      0.80      2725\n",
      "\n"
     ]
    },
    {
     "data": {
      "image/png": "[encoded data removed]",
      "text/plain": [
       "<matplotlib.figure.Figure at 0x1a16846080>"
      ]
     },
     "metadata": {},
     "output_type": "display_data"
    }
   ],
   "source": [
    "ab = AdaBoostClassifier(learning_rate=0.05, n_estimators=500)\n",
    "ab.fit(X_train, y_train)\n",
    "y_predict = ab.predict(X_test)\n",
    "func.plot_confusion_matrix(confusion_matrix(y_test, y_predict, labels=labels), classes=labels)\n",
    "print(classification_report(y_test, y_predict, labels=labels, target_names=labels))"
   ]
  },
  {
   "cell_type": "code",
   "execution_count": 15,
   "metadata": {},
   "outputs": [
    {
     "name": "stdout",
     "output_type": "stream",
     "text": [
      "Confusion matrix, without normalization\n",
      "[[ 804  188]\n",
      " [ 384 1349]]\n",
      "                 precision    recall  f1-score   support\n",
      "\n",
      "    IRA_Present       0.68      0.81      0.74       992\n",
      "IRA_Not_Present       0.88      0.78      0.83      1733\n",
      "\n",
      "    avg / total       0.80      0.79      0.79      2725\n",
      "\n"
     ]
    },
    {
     "data": {
      "image/png": "[encoded data removed]",
      "text/plain": [
       "<matplotlib.figure.Figure at 0x1a1882f2e8>"
      ]
     },
     "metadata": {},
     "output_type": "display_data"
    }
   ],
   "source": [
    "rf = RandomForestClassifier(max_depth=3, n_estimators=500, max_features=0.2, n_jobs=-1)\n",
    "rf.fit(X_train, y_train)\n",
    "y_predict = rf.predict(X_test)\n",
    "func.plot_confusion_matrix(confusion_matrix(y_test, y_predict, labels=labels), classes=labels)\n",
    "print(classification_report(y_test, y_predict, labels=labels, target_names=labels))"
   ]
  },
  {
   "cell_type": "code",
   "execution_count": 16,
   "metadata": {},
   "outputs": [
    {
     "name": "stdout",
     "output_type": "stream",
     "text": [
      "Confusion matrix, without normalization\n",
      "[[ 819  173]\n",
      " [ 389 1344]]\n",
      "                 precision    recall  f1-score   support\n",
      "\n",
      "    IRA_Present       0.68      0.83      0.74       992\n",
      "IRA_Not_Present       0.89      0.78      0.83      1733\n",
      "\n",
      "    avg / total       0.81      0.79      0.80      2725\n",
      "\n"
     ]
    },
    {
     "data": {
      "image/png": "[encoded data removed]",
      "text/plain": [
       "<matplotlib.figure.Figure at 0x1a164fb5c0>"
      ]
     },
     "metadata": {},
     "output_type": "display_data"
    }
   ],
   "source": [
    "svc = LinearSVC(dual=False, C=0.01, penalty='l1')\n",
    "svc.fit(X_train, y_train)\n",
    "y_predict = svc.predict(X_test)\n",
    "func.plot_confusion_matrix(confusion_matrix(y_test, y_predict, labels=labels), classes=labels)\n",
    "print(classification_report(y_test, y_predict, labels=labels, target_names=labels))"
   ]
  },
  {
   "cell_type": "code",
   "execution_count": null,
   "metadata": {},
   "outputs": [
    {
     "name": "stdout",
     "output_type": "stream",
     "text": [
      "Confusion matrix, without normalization\n",
      "[[ 233  166]\n",
      " [ 508 1491]]\n",
      "             precision    recall  f1-score   support\n",
      "\n",
      "     Tier1D       0.31      0.58      0.41       399\n",
      " Non-Tier1D       0.90      0.75      0.82      1999\n",
      "\n",
      "avg / total       0.80      0.72      0.75      2398\n",
      "\n"
     ]
    },
    {
     "data": {
      "image/png": "[encoded data removed]",
      "text/plain": [
       "<matplotlib.figure.Figure at 0x10d555438>"
      ]
     },
     "metadata": {},
     "output_type": "display_data"
    }
   ],
   "source": [
    "# {'C': 0.1, 'dual': False, 'penalty': 'l2'}\n",
    "lg = LogisticRegression(C=0.1, dual=False, )\n",
    "rf.fit(X_train, y_train)\n",
    "y_predict = rf.predict(X_test)\n",
    "func.plot_confusion_matrix(confusion_matrix(y_test, y_predict, labels=labels), classes=labels)\n",
    "print(classification_report(y_test, y_predict, labels=labels, target_names=labels))"
   ]
  },
  {
   "cell_type": "code",
   "execution_count": 27,
   "metadata": {
    "collapsed": true
   },
   "outputs": [],
   "source": [
    "sel = VarianceThreshold(threshold=(.8 * (1 - .8)))\n",
    "Xs = sel.fit_transform(X)\n",
    "Xsf = X.columns[sel.variances_ > .8 * (1 - .8)].tolist()\n",
    "Xs = pd.DataFrame(Xs, columns=Xsf)"
   ]
  },
  {
   "cell_type": "code",
   "execution_count": 29,
   "metadata": {},
   "outputs": [
    {
     "data": {
      "text/plain": [
       "(10888, 154)"
      ]
     },
     "execution_count": 29,
     "metadata": {},
     "output_type": "execute_result"
    }
   ],
   "source": [
    "X.shape"
   ]
  },
  {
   "cell_type": "code",
   "execution_count": 30,
   "metadata": {},
   "outputs": [
    {
     "data": {
      "text/html": [
       "<div>\n",
       "<style>\n",
       "    .dataframe thead tr:only-child th {\n",
       "        text-align: right;\n",
       "    }\n",
       "\n",
       "    .dataframe thead th {\n",
       "        text-align: left;\n",
       "    }\n",
       "\n",
       "    .dataframe tbody tr th {\n",
       "        vertical-align: top;\n",
       "    }\n",
       "</style>\n",
       "<table border=\"1\" class=\"dataframe\">\n",
       "  <thead>\n",
       "    <tr style=\"text-align: right;\">\n",
       "      <th></th>\n",
       "      <th>A1</th>\n",
       "      <th>B6</th>\n",
       "      <th>C6H</th>\n",
       "      <th>C6L</th>\n",
       "      <th>D10A</th>\n",
       "      <th>D10I</th>\n",
       "      <th>D4M</th>\n",
       "      <th>D6A</th>\n",
       "      <th>D9G</th>\n",
       "      <th>D9L</th>\n",
       "      <th>...</th>\n",
       "      <th>H13AOFFSITE</th>\n",
       "      <th>H13AVOLUME</th>\n",
       "      <th>H13BVOLUME</th>\n",
       "      <th>H13CVOLUME</th>\n",
       "      <th>H16</th>\n",
       "      <th>H3</th>\n",
       "      <th>LUST_ELIGIBLE_NO</th>\n",
       "      <th>LUST_ELIGIBLE_UNKNOWN</th>\n",
       "      <th>STAFF_UNASSIGNED</th>\n",
       "      <th>PETROLEUM</th>\n",
       "    </tr>\n",
       "  </thead>\n",
       "  <tbody>\n",
       "    <tr>\n",
       "      <th>0</th>\n",
       "      <td>1.0</td>\n",
       "      <td>0.0</td>\n",
       "      <td>1.0</td>\n",
       "      <td>1.0</td>\n",
       "      <td>0.0</td>\n",
       "      <td>1.0</td>\n",
       "      <td>0.0</td>\n",
       "      <td>0.0</td>\n",
       "      <td>0.0</td>\n",
       "      <td>0.0</td>\n",
       "      <td>...</td>\n",
       "      <td>1.0</td>\n",
       "      <td>25.0</td>\n",
       "      <td>0.0</td>\n",
       "      <td>0.0</td>\n",
       "      <td>0.0</td>\n",
       "      <td>0.0</td>\n",
       "      <td>1.0</td>\n",
       "      <td>0.0</td>\n",
       "      <td>0.0</td>\n",
       "      <td>1.0</td>\n",
       "    </tr>\n",
       "    <tr>\n",
       "      <th>1</th>\n",
       "      <td>1.0</td>\n",
       "      <td>0.0</td>\n",
       "      <td>0.0</td>\n",
       "      <td>0.0</td>\n",
       "      <td>0.0</td>\n",
       "      <td>1.0</td>\n",
       "      <td>0.0</td>\n",
       "      <td>0.0</td>\n",
       "      <td>1.0</td>\n",
       "      <td>0.0</td>\n",
       "      <td>...</td>\n",
       "      <td>1.0</td>\n",
       "      <td>100.0</td>\n",
       "      <td>0.0</td>\n",
       "      <td>0.0</td>\n",
       "      <td>0.0</td>\n",
       "      <td>0.0</td>\n",
       "      <td>0.0</td>\n",
       "      <td>1.0</td>\n",
       "      <td>0.0</td>\n",
       "      <td>1.0</td>\n",
       "    </tr>\n",
       "    <tr>\n",
       "      <th>2</th>\n",
       "      <td>0.0</td>\n",
       "      <td>0.0</td>\n",
       "      <td>0.0</td>\n",
       "      <td>1.0</td>\n",
       "      <td>0.0</td>\n",
       "      <td>0.0</td>\n",
       "      <td>0.0</td>\n",
       "      <td>0.0</td>\n",
       "      <td>0.0</td>\n",
       "      <td>0.0</td>\n",
       "      <td>...</td>\n",
       "      <td>0.0</td>\n",
       "      <td>0.0</td>\n",
       "      <td>0.0</td>\n",
       "      <td>0.0</td>\n",
       "      <td>0.0</td>\n",
       "      <td>0.0</td>\n",
       "      <td>1.0</td>\n",
       "      <td>0.0</td>\n",
       "      <td>0.0</td>\n",
       "      <td>1.0</td>\n",
       "    </tr>\n",
       "    <tr>\n",
       "      <th>3</th>\n",
       "      <td>0.0</td>\n",
       "      <td>1.0</td>\n",
       "      <td>0.0</td>\n",
       "      <td>1.0</td>\n",
       "      <td>0.0</td>\n",
       "      <td>1.0</td>\n",
       "      <td>0.0</td>\n",
       "      <td>0.0</td>\n",
       "      <td>0.0</td>\n",
       "      <td>0.0</td>\n",
       "      <td>...</td>\n",
       "      <td>1.0</td>\n",
       "      <td>250.0</td>\n",
       "      <td>0.0</td>\n",
       "      <td>0.0</td>\n",
       "      <td>0.0</td>\n",
       "      <td>0.0</td>\n",
       "      <td>0.0</td>\n",
       "      <td>0.0</td>\n",
       "      <td>0.0</td>\n",
       "      <td>1.0</td>\n",
       "    </tr>\n",
       "    <tr>\n",
       "      <th>4</th>\n",
       "      <td>1.0</td>\n",
       "      <td>0.0</td>\n",
       "      <td>0.0</td>\n",
       "      <td>1.0</td>\n",
       "      <td>0.0</td>\n",
       "      <td>1.0</td>\n",
       "      <td>0.0</td>\n",
       "      <td>0.0</td>\n",
       "      <td>0.0</td>\n",
       "      <td>0.0</td>\n",
       "      <td>...</td>\n",
       "      <td>1.0</td>\n",
       "      <td>250.0</td>\n",
       "      <td>0.0</td>\n",
       "      <td>0.0</td>\n",
       "      <td>0.0</td>\n",
       "      <td>0.0</td>\n",
       "      <td>0.0</td>\n",
       "      <td>1.0</td>\n",
       "      <td>0.0</td>\n",
       "      <td>1.0</td>\n",
       "    </tr>\n",
       "  </tbody>\n",
       "</table>\n",
       "<p>5 rows × 26 columns</p>\n",
       "</div>"
      ],
      "text/plain": [
       "    A1   B6  C6H  C6L  D10A  D10I  D4M  D6A  D9G  D9L    ...      H13AOFFSITE  \\\n",
       "0  1.0  0.0  1.0  1.0   0.0   1.0  0.0  0.0  0.0  0.0    ...              1.0   \n",
       "1  1.0  0.0  0.0  0.0   0.0   1.0  0.0  0.0  1.0  0.0    ...              1.0   \n",
       "2  0.0  0.0  0.0  1.0   0.0   0.0  0.0  0.0  0.0  0.0    ...              0.0   \n",
       "3  0.0  1.0  0.0  1.0   0.0   1.0  0.0  0.0  0.0  0.0    ...              1.0   \n",
       "4  1.0  0.0  0.0  1.0   0.0   1.0  0.0  0.0  0.0  0.0    ...              1.0   \n",
       "\n",
       "   H13AVOLUME  H13BVOLUME  H13CVOLUME  H16   H3  LUST_ELIGIBLE_NO  \\\n",
       "0        25.0         0.0         0.0  0.0  0.0               1.0   \n",
       "1       100.0         0.0         0.0  0.0  0.0               0.0   \n",
       "2         0.0         0.0         0.0  0.0  0.0               1.0   \n",
       "3       250.0         0.0         0.0  0.0  0.0               0.0   \n",
       "4       250.0         0.0         0.0  0.0  0.0               0.0   \n",
       "\n",
       "   LUST_ELIGIBLE_UNKNOWN  STAFF_UNASSIGNED  PETROLEUM  \n",
       "0                    0.0               0.0        1.0  \n",
       "1                    1.0               0.0        1.0  \n",
       "2                    0.0               0.0        1.0  \n",
       "3                    0.0               0.0        1.0  \n",
       "4                    1.0               0.0        1.0  \n",
       "\n",
       "[5 rows x 26 columns]"
      ]
     },
     "execution_count": 30,
     "metadata": {},
     "output_type": "execute_result"
    }
   ],
   "source": [
    "Xs.head()"
   ]
  },
  {
   "cell_type": "markdown",
   "metadata": {
    "collapsed": true
   },
   "source": [
    "### PCA"
   ]
  },
  {
   "cell_type": "code",
   "execution_count": 17,
   "metadata": {
    "collapsed": true
   },
   "outputs": [],
   "source": [
    "pca = PCA(n_components=10)\n",
    "Xpca = pca.fit_transform(X)"
   ]
  },
  {
   "cell_type": "code",
   "execution_count": 18,
   "metadata": {},
   "outputs": [
    {
     "data": {
      "text/plain": [
       "array([ 0.76038212,  0.85041021,  0.90658705,  0.93995279,  0.96008573,\n",
       "        0.97190767,  0.98024974,  0.98487089,  0.98822489,  0.99101516])"
      ]
     },
     "execution_count": 18,
     "metadata": {},
     "output_type": "execute_result"
    }
   ],
   "source": [
    "np.cumsum(pca.explained_variance_ratio_)"
   ]
  },
  {
   "cell_type": "code",
   "execution_count": null,
   "metadata": {
    "collapsed": true
   },
   "outputs": [],
   "source": []
  }
 ],
 "metadata": {
  "kernelspec": {
   "display_name": "Python 3",
   "language": "python",
   "name": "python3"
  },
  "language_info": {
   "codemirror_mode": {
    "name": "ipython",
    "version": 3
   },
   "file_extension": ".py",
   "mimetype": "text/x-python",
   "name": "python",
   "nbconvert_exporter": "python",
   "pygments_lexer": "ipython3",
   "version": "3.6.4"
  }
 },
 "nbformat": 4,
 "nbformat_minor": 2
}
